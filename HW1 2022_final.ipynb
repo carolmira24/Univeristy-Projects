{
 "cells": [
  {
   "cell_type": "markdown",
   "metadata": {
    "tags": []
   },
   "source": [
    "# Programming for Data Science 2022\n",
    "## Homework Assigment One\n",
    "\n",
    "Homework activities aim, not only, at testing your ability to put into practice the concepts you have learned during the Lectures and Labs, but also your ability to explore the Python documentation as a resource. \n",
    "\n",
    "Above all, it is an opportunity for you to challenge yourself and practice. If you are having difficulties with the assignment reach out for support.\n",
    "\n",
    "The Homework Assigment One is divided into **three parts**:\n",
    "1. Explore the core building blocks of programming, focusing in variables, data structures, and their manipulation;\n",
    "2. Explore data loading and analysis using the core elements of Python, without fancy third-party libraries;\n",
    "3. Explore functional programming by defining different functions and operating with the map() and filter().\n",
    "\n",
    "Your submission will be graded according to the following guidelines:\n",
    "1. Execution (does your program does what is asked from the exercise?\n",
    "2. Objectivity (are you using the adequate libraries? are you using a library ... );\n",
    "3. Readibility of your code (that includes comments, naming of variables, supporting text, etc ...).\n",
    "\n",
    "This assignment is to be done in groups of two, groups that are caught cheating will obtain a score of 0 points. \\\n",
    "\n",
    "The Homeworking Assignment One is worth **20%** of your final grade.\n",
    "\n",
    "The submission package should correspond to a .zip archive (.rar files are not acceptable) with the following files:\n",
    "1. Jupyter Notebook with the output of all the cells;\n",
    "2. PDF/HTML of your Jupyter Notebook;\n",
    "3. All text or .csv files exported as part of the exercises.\n",
    "\n",
    "#### Important Notes: \n",
    "- **You are ONLY allowed to use any library from the Python STL (see here https://docs.python.org/3/library/).**\n",
    "- **Comment your code properly, which includes naming your variables in a meaningful manner. Badly documented code will be penalized.**</b>\n",
    "- **Submissions in non .zip format will be penalize with 2 points.**\n",
    "\n",
    "Submission is done through the respective Moodle activity.\\\n",
    "Deadline is **2022-10-02**, a Sunday, at 23:59.\\\n",
    "A penality of 1 point per day late will be applied to late deliveries."
   ]
  },
  {
   "cell_type": "markdown",
   "metadata": {},
   "source": [
    "## Group Registration\n",
    "\n",
    "Edit this cell with the information of the authors of this submission.\n",
    "\n",
    "|      |     Student Name     |     Student ID     | \n",
    "|---   |         ---          |           ---          |\n",
    "| 1    |      Carolina Mira   |       20220553         | \n",
    "| 2    |      Mariana Almeida |       20220381         | "
   ]
  },
  {
   "cell_type": "markdown",
   "metadata": {},
   "source": [
    "# <span style=\"color:brown\"> Part 1 -  Variable Declaration and Manipulation </span> \n",
    "\n",
    "## Exercise I - of Lists and Random numbers\n",
    "\n",
    "**Q**: Declare a variable X that stores a list of 100 integers randomly sampled between -25 and 25.<br>\n",
    "Note: You are not allowed to use Numpy or Scipy."
   ]
  },
  {
   "cell_type": "code",
   "execution_count": 8,
   "metadata": {},
   "outputs": [
    {
     "name": "stdout",
     "output_type": "stream",
     "text": [
      "[-24, 23, -15, 13, -11, 0, 6, -18, -7, -22, 3, 10, -24, 13, -25, 4, 11, -23, -21, -11, -9, -1, -13, -22, -1, 19, -24, -5, -21, 24, -9, 11, 10, 2, 18, -4, -18, -10, 16, 17, 11, 5, 25, -17, -3, -12, -23, 18, -11, 5, -17, -5, -6, 0, 22, -11, -2, 12, 21, -2, 20, -16, -2, 16, -8, 5, -25, -19, 0, 16, -11, 0, 10, 1, -12, 5, 25, 24, -18, -23, -20, -14, 10, -8, 1, -25, 17, -25, -8, -24, 22, 22, -25, 17, -19, 9, 22, -5, -17, -12]\n"
     ]
    }
   ],
   "source": [
    "import random\n",
    "\n",
    "X = []\n",
    "for i in range(100):\n",
    "    X.append(random.randint(-25, 25)) # In this method, both number are included\n",
    "print(X)"
   ]
  },
  {
   "cell_type": "code",
   "execution_count": 9,
   "metadata": {},
   "outputs": [
    {
     "name": "stdout",
     "output_type": "stream",
     "text": [
      "How many numbers are in this list?  100\n",
      "The maximum value is:  25\n",
      "The minumum value is:  -25\n"
     ]
    }
   ],
   "source": [
    "# Let's check if its correct\n",
    "\n",
    "print('How many numbers are in this list? ', len(X))\n",
    "print('The maximum value is: ', max(X))\n",
    "print('The minumum value is: ', min(X))"
   ]
  },
  {
   "cell_type": "markdown",
   "metadata": {},
   "source": [
    "**Q**: How many odd numbers are in the list X? Check if the numbers that are even are exactly the same as the number of odd numbers, else discard the list and generate a new one.<br>\n",
    "Extra: Can you automatize this pipeline to avoid having to run multiple cells multiple times by hand?"
   ]
  },
  {
   "cell_type": "code",
   "execution_count": 10,
   "metadata": {
    "scrolled": false
   },
   "outputs": [
    {
     "name": "stdout",
     "output_type": "stream",
     "text": [
      "[-1, 2, 5, 0, -2, -9, -20, -3, -10, -10, 11, 15, -23, 14, -14, -24, -25, -24, 1, -13, -25, 1, -8, 17, -24, -15, -4, -11, -13, 3, -12, 13, 6, -18, 4, -20, 9, -22, -12, -25, -18, -9, 12, -16, 14, 1, -23, 20, -24, -4, -14, -5, 16, -8, 10, -15, 17, 9, 15, -8, -12, 3, -4, -11, 4, -7, -9, 4, -2, -1, -18, -5, -1, 1, -25, 9, -16, 3, -17, -23, 2, -19, -21, 25, 15, 24, 20, 18, 2, -3, -13, 10, 6, 0, 23, -10, 6, 6, 23, -9]\n",
      "How many numbers are in this list?  100\n",
      "How many odd numbers exist in X?  50\n",
      "How many even numbers exist in X?  50\n"
     ]
    }
   ],
   "source": [
    "# r = []\n",
    "# for i in range(len(X)):\n",
    "   #  if i % 2 == 1:\n",
    "     #    r.append(i)\n",
    "        \n",
    "# print(len(r))\n",
    "\n",
    "# To automatize this pipeline we have to create functions to avoid running cells multiple times by hand, so we create a \n",
    "# function to calculate de number of odd and another to generate a list with the conditions asked previously. \n",
    "# We want to have half of odd numbers and half even numbers, so if the number of odd numbers is 50, then the number of \n",
    "# even numbers is 50 as well\n",
    "\n",
    "# the function to generate the list with the conditions asked\n",
    "def create_list(rand_list):\n",
    "    for i in range(100):\n",
    "        rand_list.append(random.randint(-25, 25))\n",
    "\n",
    "\n",
    "\n",
    "# the function to count the number of odd numbers\n",
    "def odd_numbers(rand_list):\n",
    "    odds = 0\n",
    "    for i in rand_list:\n",
    "        if i % 2 == 1:\n",
    "            odds = odds + 1\n",
    "    return odds\n",
    "\n",
    "\n",
    "# Now we want to automatize the pipeline. For this we can make a while loop that only stops if the number of odd numbers is 50\n",
    "# While the number of odd numbers in the list isn't equal to 50, the current list is discarded and a new one is generated\n",
    "\n",
    "while odd_numbers(X) != 50:\n",
    "        X.clear()\n",
    "        create_list(X)\n",
    "\n",
    "    \n",
    "# checking if the pipeline is right\n",
    "print(X)\n",
    "print('How many numbers are in this list? ', len(X))\n",
    "print('How many odd numbers exist in X? ', odd_numbers(X))\n",
    "print('How many even numbers exist in X? ', len(X) - odd_numbers(X))"
   ]
  },
  {
   "cell_type": "markdown",
   "metadata": {},
   "source": [
    "**Q**: Print the number of digits on the 5th and 100th element of the list. <br>\n",
    "Note: For instance, the number 1 contains one digit, the number 10 contains two digits, the number -2 contains one digit."
   ]
  },
  {
   "cell_type": "code",
   "execution_count": 11,
   "metadata": {},
   "outputs": [
    {
     "name": "stdout",
     "output_type": "stream",
     "text": [
      "The 5th element is:  -2\n",
      "The 100th element is:  -9\n",
      "How many digits does de 5th elemnt has?  1\n",
      "How many digits does de 100th elemnt has?  1\n"
     ]
    }
   ],
   "source": [
    "print('The 5th element is: ', X[4])\n",
    "print('The 100th element is: ', X[-1])\n",
    "\n",
    "# To count the number of digits in a number, fist we have to check if the number is positive or negtive.\n",
    "# If it's negative then the number of digits is the lenght of the string of the value - 1. \n",
    "# If it's positive, the number of digits is the lenght of the string of the value\n",
    "    \n",
    "# For the 5th element    \n",
    "if X[4] > 0:\n",
    "    print('How many digits does de 5th elemnt has? ', len(str(X[i])))\n",
    "else:\n",
    "    print('How many digits does de 5th elemnt has? ', len(str(X[i])) - 1)\n",
    "    \n",
    "    \n",
    "    \n",
    "# For the 100th element    \n",
    "if X[-1] > 0:\n",
    "    print('How many digits does de 100th elemnt has? ', len(str(X[i])))\n",
    "else:\n",
    "    print('How many digits does de 100th elemnt has? ', len(str(X[i])) - 1)"
   ]
  },
  {
   "cell_type": "markdown",
   "metadata": {},
   "source": [
    "**Q:** Is the sum of all the numbers in the list even or odd?"
   ]
  },
  {
   "cell_type": "code",
   "execution_count": 12,
   "metadata": {},
   "outputs": [
    {
     "name": "stdout",
     "output_type": "stream",
     "text": [
      "The sum of all the numbers in the list is even! \n",
      " Result:  -338\n"
     ]
    }
   ],
   "source": [
    "# to sum all the numbers in the list we use the function sum()\n",
    "\n",
    "if sum(X) % 2 == 0:\n",
    "    print('The sum of all the numbers in the list is even!', '\\n', 'Result: ', sum(X))\n",
    "else: \n",
    "    print('The sum of all the numbers in the list is odd!', '\\n', 'Result: ', sum(X))"
   ]
  },
  {
   "cell_type": "markdown",
   "metadata": {},
   "source": [
    "**Q**: What is the average of all the numbers in the list? What is the standard deviation? <br>"
   ]
  },
  {
   "cell_type": "code",
   "execution_count": 13,
   "metadata": {},
   "outputs": [
    {
     "name": "stdout",
     "output_type": "stream",
     "text": [
      "The average of all the numbers in te list is:  -3.38\n",
      "The standard deviation of the list is:  13.69\n"
     ]
    }
   ],
   "source": [
    "# Average\n",
    "avg = sum(X)/len(X)\n",
    "print('The average of all the numbers in te list is: ', avg)\n",
    "\n",
    "# standard deviation\n",
    "sum_ = 0\n",
    "for i in range(0,len(X)):\n",
    "    sum_ = sum_ + (X[i]-avg)**2\n",
    "print('The standard deviation of the list is: ',round((sum_/(len(X)-1))**(1/2),2))"
   ]
  },
  {
   "cell_type": "markdown",
   "metadata": {},
   "source": [
    "**Q**: Sort list X in descending order and store the result in variable Xsort. <br>\n",
    "Then replace each value in Xsort with index i as the sum of the values with index i-1 and i. <br> *Per definition Xsort[-1] = 0.*"
   ]
  },
  {
   "cell_type": "code",
   "execution_count": 14,
   "metadata": {},
   "outputs": [
    {
     "name": "stdout",
     "output_type": "stream",
     "text": [
      "[25, 24, 23, 23, 20, 20, 18, 17, 17, 16, 15, 15, 15, 14, 14, 13, 12, 11, 10, 10, 9, 9, 9, 6, 6, 6, 6, 5, 4, 4, 4, 3, 3, 3, 2, 2, 2, 1, 1, 1, 1, 0, 0, -1, -1, -1, -2, -2, -3, -3, -4, -4, -4, -5, -5, -7, -8, -8, -8, -9, -9, -9, -9, -10, -10, -10, -11, -11, -12, -12, -12, -13, -13, -13, -14, -14, -15, -15, -16, -16, -17, -18, -18, -18, -19, -20, -20, -21, -22, -23, -23, -23, -24, -24, -24, -24, -25, -25, -25, -25]\n",
      "[25, 49, 72, 95, 115, 135, 153, 170, 187, 203, 218, 233, 248, 262, 276, 289, 301, 312, 322, 332, 341, 350, 359, 365, 371, 377, 383, 388, 392, 396, 400, 403, 406, 409, 411, 413, 415, 416, 417, 418, 419, 419, 419, 418, 417, 416, 414, 412, 409, 406, 402, 398, 394, 389, 384, 377, 369, 361, 353, 344, 335, 326, 317, 307, 297, 287, 276, 265, 253, 241, 229, 216, 203, 190, 176, 162, 147, 132, 116, 100, 83, 65, 47, 29, 10, -10, -30, -51, -73, -96, -119, -142, -166, -190, -214, -238, -263, -288, -313, -338]\n"
     ]
    }
   ],
   "source": [
    "X.sort(reverse = True)\n",
    "Xsort = X\n",
    "print(Xsort)\n",
    "\n",
    "\n",
    "# replacing the values with the sum of the values with index i - 1 and i\n",
    "for i in range(len(Xsort)):\n",
    "    if i != 0: \n",
    "        X[i] = X[i] + X[i-1]\n",
    "    else:\n",
    "        X[i] = X[i]  \n",
    "    \n",
    "print(Xsort)"
   ]
  },
  {
   "cell_type": "markdown",
   "metadata": {},
   "source": [
    "## Exercise II - We have a gamer in the room\n",
    "\n",
    "**Q**: Consider the dictionaries  *purchases* and *clients* that are declared in the cells below. <br>\n",
    "1. Create a list with the names of the clients who bought more than one videogame. \n",
    "2. Print the List. <br>\n",
    "3. What is the name of the client that bought more videogames?\n",
    "\n",
    "TIP: You will want to check the methods associated with string manipulation. See the link: <br>\n",
    "https://python-reference.readthedocs.io/en/latest/docs/unicode/index.html"
   ]
  },
  {
   "cell_type": "code",
   "execution_count": 15,
   "metadata": {},
   "outputs": [],
   "source": [
    "# (Notice There are different games associated to each key)\n",
    "\n",
    "purchases = {\n",
    "    \n",
    "    \"1539\":\"Red dead redemption II\",\n",
    "    \"9843\":\"GTA V,FarCry 5\",\n",
    "    \"8472\":\"Canis Canem Edit\",\n",
    "    \"3874\":\"Watchdogs II,South Park: The Stick of Truth\",\n",
    "    \"5783\":\"AC: The Ezio Collection\",\n",
    "    \"9823\":\"For Honor,The Forest,South Park: The Fractured but whole\"\n",
    "    \n",
    "}"
   ]
  },
  {
   "cell_type": "code",
   "execution_count": 16,
   "metadata": {},
   "outputs": [],
   "source": [
    "clients = {\n",
    "    \n",
    "    \"1539\":\"Rick Sanchez\",\n",
    "    \"9843\":\"Morty Smith\",\n",
    "    \"8472\":\"Eve Polastri\",\n",
    "    \"3874\":\"Mildred Ratched\",\n",
    "    \"5783\":\"Alex Vause\",\n",
    "    \"9823\":\"Sheldon Cooper\"\n",
    "    \n",
    "}"
   ]
  },
  {
   "cell_type": "code",
   "execution_count": 17,
   "metadata": {},
   "outputs": [
    {
     "name": "stdout",
     "output_type": "stream",
     "text": [
      "['1539', '9843', '8472', '3874', '5783', '9823']\n",
      "['Red dead redemption II', 'GTA V,FarCry 5', 'Canis Canem Edit', 'Watchdogs II,South Park: The Stick of Truth', 'AC: The Ezio Collection', 'For Honor,The Forest,South Park: The Fractured but whole']\n"
     ]
    }
   ],
   "source": [
    "# We have to acess the dictionary, run through all the keys and find the keys that have more than a movie. However, acess\n",
    "# a dictionary is harder than acess a list or a tuple. So, we can \"transform\" the dictionary purchases into a list and work \n",
    "# from there. To do that, we create a tuple for the keys (clients id) and another tuple for the values (movies purchased) and use \n",
    "# the function zip to merge the two tuples.\n",
    "# use the method split, associated with string manipulation, that returns a list with all the words separated by a ','. Then\n",
    "# we can use the len() to know the number of movies associated with every key. If the repective list has more than a movie,\n",
    "# we append the respetive name to a new list\n",
    "#  So, we can create a list for \n",
    "\n",
    "# A tuple list with the clients ids\n",
    "clients_id = list(purchases.keys())\n",
    "print(clients_id)\n",
    "\n",
    "# A tuple with the respective movies purchased\n",
    "movies_purchased = list(purchases.values())\n",
    "print(movies_purchased)\n",
    "\n"
   ]
  },
  {
   "cell_type": "code",
   "execution_count": 18,
   "metadata": {},
   "outputs": [
    {
     "name": "stdout",
     "output_type": "stream",
     "text": [
      "[('1539', 'Red dead redemption II'), ('9843', 'GTA V,FarCry 5'), ('8472', 'Canis Canem Edit'), ('3874', 'Watchdogs II,South Park: The Stick of Truth'), ('5783', 'AC: The Ezio Collection'), ('9823', 'For Honor,The Forest,South Park: The Fractured but whole')]\n"
     ]
    }
   ],
   "source": [
    "# Join the two tuples\n",
    "purchases_ = zip(clients_id, movies_purchased)\n",
    "\n",
    "purchases_2 = list(purchases_)\n",
    "print(purchases_2)\n"
   ]
  },
  {
   "cell_type": "code",
   "execution_count": 19,
   "metadata": {},
   "outputs": [
    {
     "name": "stdout",
     "output_type": "stream",
     "text": [
      "[['1539', 'Red dead redemption II'], ['9843', 'GTA V,FarCry 5'], ['8472', 'Canis Canem Edit'], ['3874', 'Watchdogs II,South Park: The Stick of Truth'], ['5783', 'AC: The Ezio Collection'], ['9823', 'For Honor,The Forest,South Park: The Fractured but whole']]\n"
     ]
    }
   ],
   "source": [
    "# Since tuples are immutable, we have to transform them into lists first\n",
    "\n",
    "for i in range(len(purchases_2)):\n",
    "    purchases_2[i] = list(purchases_2[i])\n",
    "    \n",
    "print(purchases_2)"
   ]
  },
  {
   "cell_type": "code",
   "execution_count": 20,
   "metadata": {},
   "outputs": [
    {
     "name": "stdout",
     "output_type": "stream",
     "text": [
      "[['1539', ['Red dead redemption II']], ['9843', ['GTA V', 'FarCry 5']], ['8472', ['Canis Canem Edit']], ['3874', ['Watchdogs II', 'South Park: The Stick of Truth']], ['5783', ['AC: The Ezio Collection']], ['9823', ['For Honor', 'The Forest', 'South Park: The Fractured but whole']]]\n"
     ]
    }
   ],
   "source": [
    "# Use the split method to create a list with the movies purchased for each client. \n",
    "for i in range(len(purchases_2)):\n",
    "    purchases_2[i][1] = str(purchases_2[i][1]).split(',')\n",
    "    \n",
    "print(purchases_2)"
   ]
  },
  {
   "cell_type": "code",
   "execution_count": 21,
   "metadata": {
    "scrolled": true
   },
   "outputs": [
    {
     "name": "stdout",
     "output_type": "stream",
     "text": [
      "[['1539', 1], ['9843', 2], ['8472', 1], ['3874', 2], ['5783', 1], ['9823', 3]]\n"
     ]
    }
   ],
   "source": [
    "# count the number of movies each client bought\n",
    "\n",
    "count_ = purchases_2\n",
    "\n",
    "for i in range(len(count_)):\n",
    "     count_[i][1] = len(count_[i][1])\n",
    "\n",
    "print(count_)"
   ]
  },
  {
   "cell_type": "code",
   "execution_count": 22,
   "metadata": {},
   "outputs": [
    {
     "data": {
      "text/plain": [
       "[['1539', 1], ['8472', 1], ['5783', 1], ['9843', 2], ['3874', 2], ['9823', 3]]"
      ]
     },
     "execution_count": 22,
     "metadata": {},
     "output_type": "execute_result"
    }
   ],
   "source": [
    "# sorting the list so the highest value od movies purchased is in the end. So, sorting the values in descending order\n",
    "count_.sort(key=lambda x: x[1])\n",
    "count_"
   ]
  },
  {
   "cell_type": "code",
   "execution_count": 23,
   "metadata": {},
   "outputs": [
    {
     "name": "stdout",
     "output_type": "stream",
     "text": [
      "['Mildred Ratched', 'Alex Vause', 'Sheldon Cooper']\n"
     ]
    }
   ],
   "source": [
    "# create a list with the clients that bought more than a movie\n",
    "\n",
    "two_movies_more = []\n",
    "for i in range(len(count_)):\n",
    "    if count_[i][1] > 1:\n",
    "        two_movies_more.append(clients[clients_id[i]])\n",
    "        \n",
    "print(two_movies_more)"
   ]
  },
  {
   "cell_type": "code",
   "execution_count": 24,
   "metadata": {},
   "outputs": [
    {
     "name": "stdout",
     "output_type": "stream",
     "text": [
      "The client who bought more films was:  Sheldon Cooper\n"
     ]
    }
   ],
   "source": [
    "print('The client who bought more films was: ', clients[count_[-1][0]])"
   ]
  },
  {
   "cell_type": "markdown",
   "metadata": {},
   "source": [
    "# <span style=\"color:brown\"> Part 2 -  Data loading and analysis  </span>\n",
    "\n",
    "## Exercise I - Alice what do you have to say?\n",
    "\n",
    "Download the file alice.txt to the filepath (i.e., same folder) where you have your notebook."
   ]
  },
  {
   "cell_type": "markdown",
   "metadata": {},
   "source": [
    "**Q**: Load the Alice text file into a variable called Alice. Use a relative filepath in relation to the location of your notebook. <br>\n",
    "Note: You are not allowed to use third-party libraries like Pandas."
   ]
  },
  {
   "cell_type": "code",
   "execution_count": 25,
   "metadata": {},
   "outputs": [
    {
     "name": "stdout",
     "output_type": "stream",
     "text": [
      "paths:  ['C:\\\\Users\\\\carol\\\\NOVA IMS\\\\1 semestre\\\\Programação\\\\hw_assiment1', 'C:\\\\Users\\\\carol\\\\anaconda3\\\\python38.zip', 'C:\\\\Users\\\\carol\\\\anaconda3\\\\DLLs', 'C:\\\\Users\\\\carol\\\\anaconda3\\\\lib', 'C:\\\\Users\\\\carol\\\\anaconda3', '', 'C:\\\\Users\\\\carol\\\\anaconda3\\\\lib\\\\site-packages', 'C:\\\\Users\\\\carol\\\\anaconda3\\\\lib\\\\site-packages\\\\win32', 'C:\\\\Users\\\\carol\\\\anaconda3\\\\lib\\\\site-packages\\\\win32\\\\lib', 'C:\\\\Users\\\\carol\\\\anaconda3\\\\lib\\\\site-packages\\\\Pythonwin', 'C:\\\\Users\\\\carol\\\\anaconda3\\\\lib\\\\site-packages\\\\IPython\\\\extensions', 'C:\\\\Users\\\\carol\\\\.ipython']\n"
     ]
    }
   ],
   "source": [
    "import sys\n",
    "print(\"paths: \",sys.path)"
   ]
  },
  {
   "cell_type": "code",
   "execution_count": 26,
   "metadata": {},
   "outputs": [
    {
     "name": "stdout",
     "output_type": "stream",
     "text": [
      "Line1: Alice was beginning to get very tired of sitting by her sister on the bank, and of having nothing to do: once or twice she had peeped into the book her sister was reading, but it had no pictures or conversations in it, <<and what is the use of a book>>. thought Alice <<without pictures or conversation?>>.\n"
     ]
    }
   ],
   "source": [
    "# Using readlines() to read de file\n",
    "file = open('alice.txt', 'r')\n",
    "Alice = file.readlines()\n",
    "  \n",
    "count = 0\n",
    "for line in Alice:\n",
    "    count += 1\n",
    "    print(\"Line{}: {}\".format(count, line.strip()))"
   ]
  },
  {
   "cell_type": "code",
   "execution_count": 27,
   "metadata": {},
   "outputs": [
    {
     "name": "stdout",
     "output_type": "stream",
     "text": [
      "['Alice was beginning to get very tired of sitting by her sister on the bank, and of having nothing to do: once or twice she had peeped into the book her sister was reading, but it had no pictures or conversations in it, <<and what is the use of a book>>. thought Alice <<without pictures or conversation?>>.']\n"
     ]
    }
   ],
   "source": [
    "print(Alice)"
   ]
  },
  {
   "cell_type": "markdown",
   "metadata": {},
   "source": [
    "**Q**: Create a list in which each element is a word from the file Alice. Store that list in a variable called wAlice. <br>\n",
    "Note: You will need to do some text parsing here. In particular to **split the sentences into words**. It is also a good practice to **normalize words** so that words \"Hello\" and \"hello\" become identical, by making all letters lower case. <br>\n",
    "Tip: check the following links for a discussion on regular expressions. Also consult the methods available for string manipulation.\n",
    "\n",
    "https://docs.python.org/3/library/re.html\n",
    "\n",
    "https://stackoverflow.com/questions/1276764/stripping-everything-but-alphanumeric-chars-from-a-string-in-python"
   ]
  },
  {
   "cell_type": "code",
   "execution_count": 28,
   "metadata": {},
   "outputs": [
    {
     "name": "stdout",
     "output_type": "stream",
     "text": [
      "['alice', 'was', 'beginning', 'to', 'get', 'very', 'tired', 'of', 'sitting', 'by', 'her', 'sister', 'on', 'the', 'bank', 'and', 'of', 'having', 'nothing', 'to', 'do', 'once', 'or', 'twice', 'she', 'had', 'peeped', 'into', 'the', 'book', 'her', 'sister', 'was', 'reading', 'but', 'it', 'had', 'no', 'pictures', 'or', 'conversations', 'in', 'it', 'and', 'what', 'is', 'the', 'use', 'of', 'a', 'book', 'thought', 'alice', 'without', 'pictures', 'or', 'conversation']\n"
     ]
    }
   ],
   "source": [
    "#we have to creat a list to put each word\n",
    "wAlice = []\n",
    "\n",
    "#first we have to normalize words\n",
    "lower_alice = str(Alice).lower()\n",
    "\n",
    "#then remove some different characters\n",
    "remove_characters = \"!()@:.,><''[]?\"\n",
    "\n",
    "for character in remove_characters:\n",
    "    lower_alice = lower_alice.replace(character,'')\n",
    "\n",
    "\n",
    "#in the end, we need to split all words in the list\n",
    "wAlice=lower_alice.split(' ')\n",
    "print(wAlice)"
   ]
  },
  {
   "cell_type": "markdown",
   "metadata": {},
   "source": [
    "#### Using the list wAlice answer the following questions:<br>\n",
    "**Q**: How many words contains the text file Alice.txt? <br>"
   ]
  },
  {
   "cell_type": "code",
   "execution_count": 29,
   "metadata": {},
   "outputs": [
    {
     "name": "stdout",
     "output_type": "stream",
     "text": [
      "The file contains 57 words\n"
     ]
    }
   ],
   "source": [
    "len(wAlice)\n",
    "print(\"The file contains\",len(wAlice),\"words\")"
   ]
  },
  {
   "cell_type": "markdown",
   "metadata": {},
   "source": [
    "**Q**: What is the longest and smallest word in the text file? (Length here is measured in terms of the number of characters)<br>"
   ]
  },
  {
   "cell_type": "code",
   "execution_count": 30,
   "metadata": {},
   "outputs": [
    {
     "name": "stdout",
     "output_type": "stream",
     "text": [
      "The smallest word in the file is -  a\n",
      "The longest word in the file is -  conversations\n"
     ]
    }
   ],
   "source": [
    "#to find the longest and the smallest word in alice.txt we can order the list and find the first and the last word at that list.\n",
    "wAlice_sorted = sorted(wAlice, key=len)\n",
    "\n",
    "print(\"The smallest word in the file is - \",wAlice_sorted[0])\n",
    "print(\"The longest word in the file is - \",wAlice_sorted[-1])"
   ]
  },
  {
   "cell_type": "markdown",
   "metadata": {},
   "source": [
    "**Q**: Delete all the repeated words from wAlice. How many different words does the text contain?"
   ]
  },
  {
   "cell_type": "code",
   "execution_count": 31,
   "metadata": {},
   "outputs": [
    {
     "name": "stdout",
     "output_type": "stream",
     "text": [
      "Exist 41 unique words on the list\n"
     ]
    }
   ],
   "source": [
    "#to solve this problem we can creat a new list that starts empty. Then it saves the words of the wAlice list if it still doesn't exist yet.\n",
    "wAlice_unique = []\n",
    "for i in wAlice: \n",
    "    if i not in wAlice_unique: \n",
    "        wAlice_unique.append(i) \n",
    "        \n",
    "print(\"Exist\", len(wAlice_unique), \"unique words on the list\")"
   ]
  },
  {
   "cell_type": "markdown",
   "metadata": {},
   "source": [
    "## Exercise II - I Love Economics\n",
    "\n",
    "Consider the list *countries* in the cell below. <br>\n",
    "It consists of a list of the 3-digit ISO codes of a set of countries of interest."
   ]
  },
  {
   "cell_type": "code",
   "execution_count": 32,
   "metadata": {},
   "outputs": [],
   "source": [
    "countries = [\n",
    "\n",
    "('PRT','Portugal','Europe'),\n",
    "('ISL','Israel','Asia'),\n",
    "('COL','Colombia','South America'),\n",
    "('NEV','Nevada','North America'),\n",
    "('JPN','Japan','Asia'),\n",
    "('RUS','Russia','well... which part?'),\n",
    "('DEN','Denmark','Europe'),\n",
    "('NOR','Norway','Europe')\n",
    "    \n",
    "]"
   ]
  },
  {
   "cell_type": "markdown",
   "metadata": {},
   "source": [
    "**Now consider the file cdata.csv that you should download.** <br>\n",
    "The file contains several information about countries, and is organized as follows:\n",
    "1. Column 1 is the 3-digit ISO Code\n",
    "2. Column 2 is the Full name of the country\n",
    "3. Column 3 is the Continent in which the continent\n",
    "4. Column 4 is the population size in 2010\n",
    "5. Column 5 is the gdp per capita in 2010"
   ]
  },
  {
   "cell_type": "markdown",
   "metadata": {},
   "source": [
    "**Q**: Load the file cdata.csv into an object called RAW. <br> Create a dictionary called cData in which the key is the 3-digit ISO Code and the value is a tuple with the information contained in the 2nd to the 5th of column of the cdata file."
   ]
  },
  {
   "cell_type": "code",
   "execution_count": 33,
   "metadata": {},
   "outputs": [],
   "source": [
    "# Load the file\n",
    "import csv\n",
    "\n",
    "with open('cdata.csv', 'r') as file:\n",
    "    RAW = csv.reader(file, delimiter=',')\n",
    "    next(RAW)                                # the first row of the file is the header so we have to skip it\n",
    " #   for row in RAW:\n",
    "   #    print(row)\n",
    "    cData = dict((row[0],tuple(row[1:5])) for row in RAW)"
   ]
  },
  {
   "cell_type": "code",
   "execution_count": 34,
   "metadata": {
    "scrolled": true
   },
   "outputs": [
    {
     "data": {
      "text/plain": [
       "{'ago': ('Angola', 'Africa', '23.369131088256836', '5988.534997149481'),\n",
       " 'bdi': ('Burundi', 'Africa', '8.766929626464844', '731.4232803265862'),\n",
       " 'ben': ('Benin', 'Africa', '9.199258804321289', '1919.9969479963038'),\n",
       " 'bfa': ('Burkina Faso', 'Africa', '15.605216979980469', '1327.2165314775982'),\n",
       " 'bwa': ('Botswana', 'Africa', '2.0148661136627197', '12256.14159052444'),\n",
       " 'caf': ('Central African Republic',\n",
       "  'Africa',\n",
       "  '4.4485249519348145',\n",
       "  '865.4421867263901'),\n",
       " 'cmr': ('Cameroon', 'Africa', '19.970495223999023', '2684.972890247272'),\n",
       " 'cod': ('Democratic Republic of the Congo',\n",
       "  'Africa',\n",
       "  '64.52326202392578',\n",
       "  '634.9713963013496'),\n",
       " 'cog': ('Republic of the Congo',\n",
       "  'Africa',\n",
       "  '4.386693000793457',\n",
       "  '4979.990496069269'),\n",
       " 'com': ('Comoros', 'Africa', '0.6896920204162598', '2292.997969425929'),\n",
       " 'cpv': ('Cape Verde', 'Africa', '0.5023840069770813', '5644.821253339075'),\n",
       " 'dji': ('Djibouti', 'Africa', '0.8511459827423096', '2124.4420625972525'),\n",
       " 'dza': ('Algeria', 'Africa', '36.117637634277344', '12590.224223813591'),\n",
       " 'egy': ('Egypt', 'Africa', '84.10760498046875', '9148.839753298033'),\n",
       " 'eth': ('Ethiopia', 'Africa', '87.70266723632812', '1100.1831875876223'),\n",
       " 'gab': ('Gabon', 'Africa', '1.6402100324630737', '11961.168226448879'),\n",
       " 'gha': ('Ghana', 'Africa', '24.512104034423828', '3931.2918319728856'),\n",
       " 'gin': ('Guinea', 'Africa', '10.794170379638672', '1742.7346742167783'),\n",
       " 'gmb': ('Gambia', 'Africa', '1.692149043083191', '2681.8586168502143'),\n",
       " 'gnb': ('Guinea-Bissau',\n",
       "  'Africa',\n",
       "  '1.5558799505233765',\n",
       "  '1387.2497310879905'),\n",
       " 'gnq': ('Equatorial Guinea',\n",
       "  'Africa',\n",
       "  '0.9511039853096008',\n",
       "  '31416.887137501908'),\n",
       " 'ken': ('Kenya', 'Africa', '41.35015106201172', '2484.0349094725366'),\n",
       " 'lbr': ('Liberia', 'Africa', '3.948124885559082', '786.6702306741524'),\n",
       " 'lso': ('Lesotho', 'Africa', '2.040550947189331', '2432.7976546880823'),\n",
       " 'mar': ('Morocco', 'Africa', '32.409637451171875', '6421.937677907418'),\n",
       " 'mdg': ('Madagascar', 'Africa', '21.151639938354492', '1459.9156124535612'),\n",
       " 'mli': ('Mali', 'Africa', '15.075084686279297', '1873.2809618195865'),\n",
       " 'moz': ('Mozambique', 'Africa', '24.221405029296875', '969.2307622526259'),\n",
       " 'mrt': ('Mauritania', 'Africa', '3.6095430850982666', '3082.647028528842'),\n",
       " 'mus': ('Mauritius', 'Africa', '1.2479549646377563', '15178.325920597827'),\n",
       " 'mwi': ('Malawi', 'Africa', '15.167095184326172', '972.0456815116237'),\n",
       " 'nam': ('Namibia', 'Africa', '2.1731700897216797', '7689.171239820006'),\n",
       " 'ner': ('Niger', 'Africa', '16.42557716369629', '845.8693682212395'),\n",
       " 'nga': ('Nigeria', 'Africa', '158.57826232910156', '5186.304307542348'),\n",
       " 'rwa': ('Rwanda', 'Africa', '10.246842384338379', '1379.6993252327009'),\n",
       " 'sdn': ('Sudan', 'Africa', '34.385963439941406', '3608.7856176907358'),\n",
       " 'sen': ('Senegal', 'Africa', '12.916229248046875', '2741.121456198507'),\n",
       " 'sle': ('Sierra Leone', 'Africa', '6.4587202072143555', '1161.8796942144647'),\n",
       " 'swz': ('Swaziland', 'Africa', '1.2028429508209229', '7042.524359035093'),\n",
       " 'syc': ('Seychelles', 'Africa', '0.0914049968123436', '17960.353075613308'),\n",
       " 'tcd': ('Chad', 'Africa', '11.887202262878418', '1880.3748762799714'),\n",
       " 'tgo': ('Togo', 'Africa', '6.5029520988464355', '1222.8150529133295'),\n",
       " 'tun': ('Tunisia', 'Africa', '10.639930725097656', '10647.834980284626'),\n",
       " 'tza': ('Tanzania', 'Africa', '44.82893753051758', '1979.1718644815185'),\n",
       " 'uga': ('Uganda', 'Africa', '33.91513442993164', '1723.5943355766267'),\n",
       " 'zaf': ('South Africa', 'Africa', '51.58466339111328', '11388.640515995063'),\n",
       " 'zmb': ('Zambia', 'Africa', '13.850032806396484', '2870.8872656342314'),\n",
       " 'zwe': ('Zimbabwe', 'Africa', '14.08631706237793', '1479.0305839163732'),\n",
       " 'are': ('United Arab Emirates',\n",
       "  'Asia',\n",
       "  '8.270684242248535',\n",
       "  '59707.412565389604'),\n",
       " 'arm': ('Armenia', 'Asia', '2.8773109912872314', '8222.945234202914'),\n",
       " 'aze': ('Azerbaijan', 'Asia', '9.03245735168457', '12947.102198682365'),\n",
       " 'bgd': ('Bangladesh', 'Asia', '152.14910888671875', '2411.1020691099325'),\n",
       " 'bhr': ('Bahrain', 'Asia', '1.2408620119094849', '37045.81310919623'),\n",
       " 'brn': ('Brunei', 'Asia', '0.3886620104312897', '67320.89957245934'),\n",
       " 'btn': ('Bhutan', 'Asia', '0.7276409864425659', '7235.18974818538'),\n",
       " 'chn': ('China', 'Asia', '1359.755126953125', '9337.290772677254'),\n",
       " 'cyp': ('Cyprus', 'Asia', '0.829446017742157', '28046.373877741087'),\n",
       " 'geo': ('Georgia', 'Asia', '4.231660842895508', '7966.602756952667'),\n",
       " 'hkg': ('Hong Kong', 'Asia', '7.02522087097168', '41687.946418899235'),\n",
       " 'ind': ('India', 'Asia', '1230.980712890625', '4357.0597360582315'),\n",
       " 'irn': ('Iran', 'Asia', '74.56751251220703', '17328.457882894658'),\n",
       " 'irq': ('Iraq', 'Asia', '30.7627010345459', '9344.543768350652'),\n",
       " 'isr': ('Israel', 'Asia', '7.42595911026001', '28638.9037385305'),\n",
       " 'jor': ('Jordan', 'Asia', '7.182390213012695', '9351.387283068141'),\n",
       " 'jpn': ('Japan', 'Asia', '128.5518798828125', '36595.63364058582'),\n",
       " 'kaz': ('Kazakhstan', 'Asia', '16.398975372314453', '17908.83993251286'),\n",
       " 'kgz': ('Kyrgyzstan', 'Asia', '5.422337055206299', '3382.4639059259293'),\n",
       " 'khm': ('Cambodia', 'Asia', '14.30873966217041', '2330.127207632253'),\n",
       " 'kor': ('South Korea', 'Asia', '49.5528564453125', '31589.705161145695'),\n",
       " 'kwt': ('Kuwait', 'Asia', '2.9980831146240234', '67029.51680017101'),\n",
       " 'lao': ('Laos', 'Asia', '6.246273994445801', '4316.969858587265'),\n",
       " 'lbn': ('Lebanon', 'Asia', '4.337141036987305', '18025.24893894264'),\n",
       " 'lka': ('Sri Lanka', 'Asia', '20.198352813720703', '8390.429701766443'),\n",
       " 'mac': ('Macau', 'Asia', '0.536969006061554', '91982.39517540816'),\n",
       " 'mdv': ('Maldives', 'Asia', '0.36451101303100586', '12140.803390739566'),\n",
       " 'mmr': ('Burma', 'Asia', '50.1558952331543', '3422.241340266976'),\n",
       " 'mng': ('Mongolia', 'Asia', '2.7126500606536865', '7670.714034382584'),\n",
       " 'mys': ('Malaysia', 'Asia', '28.112289428710938', '17913.164410782432'),\n",
       " 'npl': ('Nepal', 'Asia', '27.023136138916016', '1996.1961554516242'),\n",
       " 'omn': ('Oman', 'Asia', '3.0414600372314453', '40472.674942509126'),\n",
       " 'pak': ('Pakistan', 'Asia', '170.5601806640625', '4171.416562353057'),\n",
       " 'phl': ('Philippines', 'Asia', '93.72662353515625', '5391.233965240031'),\n",
       " 'qat': ('Qatar', 'Asia', '1.7796759605407715', '123128.40152283433'),\n",
       " 'sau': ('Saudi Arabia', 'Asia', '27.425676345825195', '42331.65885721999'),\n",
       " 'sgp': ('Singapore', 'Asia', '5.074252128601074', '58618.43503468222'),\n",
       " 'syr': ('Syria', 'Asia', '21.01883316040039', '5700.329438992399'),\n",
       " 'tha': ('Thailand', 'Asia', '67.20880889892578', '12496.244186726299'),\n",
       " 'tjk': ('Tajikistan', 'Asia', '7.641630172729492', '2784.5145587763627'),\n",
       " 'tkm': ('Turkmenistan', 'Asia', '5.087210178375244', '16061.429412691556'),\n",
       " 'tur': ('Turkey', 'Asia', '72.32691192626953', '17930.678781392427'),\n",
       " 'twn': ('Taiwan', 'Asia', '23.140947341918945', '37188.89452901009'),\n",
       " 'uzb': ('Uzbekistan', 'Asia', '28.606294631958008', '6574.51672506692'),\n",
       " 'vnm': ('Vietnam', 'Asia', '88.4725112915039', '4428.42140209062'),\n",
       " 'yem': ('Yemen', 'Asia', '23.606779098510742', '4553.557258443674'),\n",
       " 'alb': ('Albania', 'Europe', '2.9405250549316406', '9544.73991912729'),\n",
       " 'aut': ('Austria', 'Europe', '8.40994930267334', '40489.80635849457'),\n",
       " 'bel': ('Belgium', 'Europe', '10.938738822937012', '38177.94724875522'),\n",
       " 'bgr': ('Bulgaria', 'Europe', '7.404590129852295', '14906.784964031736'),\n",
       " 'bih': ('Bosnia and Herzegovina',\n",
       "  'Europe',\n",
       "  '3.7220840454101562',\n",
       "  '9049.364732987471'),\n",
       " 'blr': ('Belarus', 'Europe', '9.473071098327637', '16457.02937904922'),\n",
       " 'che': ('Switzerland', 'Europe', '7.831971168518066', '55688.020214268225'),\n",
       " 'cze': ('Czech Republic',\n",
       "  'Europe',\n",
       "  '10.536286354064941',\n",
       "  '26129.56935189834'),\n",
       " 'deu': ('Germany', 'Europe', '80.89478302001953', '40627.23054942445'),\n",
       " 'dnk': ('Denmark', 'Europe', '5.554843902587891', '43416.22338615916'),\n",
       " 'esp': ('Spain', 'Europe', '46.788631439208984', '31610.980157042286'),\n",
       " 'est': ('Estonia', 'Europe', '1.3321019411087036', '20265.572596704937'),\n",
       " 'fin': ('Finland', 'Europe', '5.365781784057617', '38394.06158150017'),\n",
       " 'fra': ('France', 'Europe', '65.14578247070312', '35786.16161450548'),\n",
       " 'gbr': ('United Kingdom', 'Europe', '63.30684280395508', '34810.28120173958'),\n",
       " 'grc': ('Greece', 'Europe', '11.446004867553711', '25815.80076797162'),\n",
       " 'hrv': ('Croatia', 'Europe', '4.328153133392334', '19305.008088868373'),\n",
       " 'hun': ('Hungary', 'Europe', '9.927840232849121', '20477.79856764035'),\n",
       " 'irl': ('Ireland', 'Europe', '4.626927852630615', '47823.50815113634'),\n",
       " 'isl': ('Iceland', 'Europe', '0.3203279972076416', '37729.01607603124'),\n",
       " 'ita': ('Italy', 'Europe', '59.72980880737305', '34727.67268834705'),\n",
       " 'ltu': ('Lithuania', 'Europe', '3.123802900314331', '18475.371145517096'),\n",
       " 'lux': ('Luxembourg', 'Europe', '0.5078889727592468', '57882.81020537233'),\n",
       " 'lva': ('Latvia', 'Europe', '2.1188480854034424', '16943.688322829523'),\n",
       " 'mda': ('Moldova', 'Europe', '4.0844807624816895', '4173.634753274572'),\n",
       " 'mkd': ('Macedonia', 'Europe', '2.0707390308380127', '11265.643175619889'),\n",
       " 'mlt': ('Malta', 'Europe', '0.41611000895500183', '22983.44992639125'),\n",
       " 'mne': ('Montenegro', 'Europe', '0.6242849826812744', '14960.94855221103'),\n",
       " 'nld': ('Netherlands', 'Europe', '16.68291664123535', '44004.146024770846'),\n",
       " 'nor': ('Norway', 'Europe', '4.885878086090088', '73262.68174170727'),\n",
       " 'pol': ('Poland', 'Europe', '38.323402404785156', '21006.027309294514'),\n",
       " 'prt': ('Portugal', 'Europe', '10.652320861816406', '25788.2739652247'),\n",
       " 'rou': ('Romania', 'Europe', '20.44034767150879', '16775.609043478133'),\n",
       " 'rus': ('Russia', 'Asia', '143.15386962890625', '21754.067899615977'),\n",
       " 'srb': ('Serbia', 'Europe', '7.291436195373535', '12453.482551916944'),\n",
       " 'svk': ('Slovakia', 'Europe', '5.404294013977051', '23061.12099058148'),\n",
       " 'svn': ('Slovenia', 'Europe', '2.045167922973633', '25831.33128718208'),\n",
       " 'swe': ('Sweden', 'Europe', '9.390168190002441', '40421.906436576974'),\n",
       " 'ukr': ('Ukraine', 'Europe', '45.79249954223633', '8713.259627419637'),\n",
       " 'abw': ('Aruba', 'NorthAmerica', '0.10166899859905243', '37059.34143869512'),\n",
       " 'aia': ('Anguilla',\n",
       "  'NorthAmerica',\n",
       "  '0.013768999837338924',\n",
       "  '21098.057152999143'),\n",
       " 'atg': ('Antigua and Barbuda',\n",
       "  'NorthAmerica',\n",
       "  '0.09466099739074707',\n",
       "  '17162.16102781353'),\n",
       " 'bhs': ('Bahamas',\n",
       "  'NorthAmerica',\n",
       "  '0.36083200573921204',\n",
       "  '29504.581346144332'),\n",
       " 'blz': ('Belize', 'NorthAmerica', '0.3216080069541931', '7145.952547655193'),\n",
       " 'bmu': ('Bermuda',\n",
       "  'NorthAmerica',\n",
       "  '0.06395599991083145',\n",
       "  '51447.147481910884'),\n",
       " 'brb': ('Barbados',\n",
       "  'NorthAmerica',\n",
       "  '0.27956900000572205',\n",
       "  '13995.612896540895'),\n",
       " 'can': ('Canada', 'NorthAmerica', '34.16866683959961', '40269.03526728651'),\n",
       " 'cri': ('Costa Rica',\n",
       "  'NorthAmerica',\n",
       "  '4.5452799797058105',\n",
       "  '12106.99191566891'),\n",
       " 'cuw': ('CuraÃ§ao',\n",
       "  'NorthAmerica',\n",
       "  '0.14760799705982208',\n",
       "  '24337.816177887613'),\n",
       " 'cym': ('Cayman Islands',\n",
       "  'NorthAmerica',\n",
       "  '0.05550700053572655',\n",
       "  '36670.678481483985'),\n",
       " 'dma': ('Dominica',\n",
       "  'NorthAmerica',\n",
       "  '0.07143999636173248',\n",
       "  '9101.993729581038'),\n",
       " 'dom': ('Dominican Republic',\n",
       "  'NorthAmerica',\n",
       "  '9.897985458374023',\n",
       "  '11500.13134401987'),\n",
       " 'grd': ('Grenada', 'NorthAmerica', '0.1046769991517067', '9791.291133092265'),\n",
       " 'gtm': ('Guatemala',\n",
       "  'NorthAmerica',\n",
       "  '14.630416870117188',\n",
       "  '6359.262684615136'),\n",
       " 'hnd': ('Honduras',\n",
       "  'NorthAmerica',\n",
       "  '8.194778442382812',\n",
       "  '3789.9102248753848'),\n",
       " 'hti': ('Haiti', 'NorthAmerica', '9.999616622924805', '1650.2697128700804'),\n",
       " 'jam': ('Jamaica', 'NorthAmerica', '2.8172099590301514', '6675.176956450172'),\n",
       " 'kna': ('Saint Kitts and Nevis',\n",
       "  'NorthAmerica',\n",
       "  '0.05144499987363815',\n",
       "  '17837.349758162076'),\n",
       " 'lca': ('Saint Lucia',\n",
       "  'NorthAmerica',\n",
       "  '0.17258000373840332',\n",
       "  '9178.266990673521'),\n",
       " 'mex': ('Mexico', 'NorthAmerica', '117.31893920898438', '14507.011923865603'),\n",
       " 'msr': ('Montserrat',\n",
       "  'NorthAmerica',\n",
       "  '0.00494399992749095',\n",
       "  '15385.002991478228'),\n",
       " 'nic': ('Nicaragua',\n",
       "  'NorthAmerica',\n",
       "  '5.737722873687744',\n",
       "  '3992.7619078961748'),\n",
       " 'pan': ('Panama', 'NorthAmerica', '3.6432220935821533', '15055.237591848218'),\n",
       " 'slv': ('El Salvador',\n",
       "  'NorthAmerica',\n",
       "  '6.164626121520996',\n",
       "  '6096.958357099287'),\n",
       " 'tca': ('Turks and Caicos Islands',\n",
       "  'NorthAmerica',\n",
       "  '0.030993999913334846',\n",
       "  '7230.966074605446'),\n",
       " 'tto': ('Trinidad and Tobago',\n",
       "  'NorthAmerica',\n",
       "  '1.3280999660491943',\n",
       "  '27510.236190041924'),\n",
       " 'usa': ('United States',\n",
       "  'NorthAmerica',\n",
       "  '308.6413879394531',\n",
       "  '49500.62628346238'),\n",
       " 'vct': ('Saint Vincent and the Grenadines',\n",
       "  'NorthAmerica',\n",
       "  '0.10931500047445297',\n",
       "  '8095.21923068351'),\n",
       " 'vgb': ('British Virgin Islands',\n",
       "  'NorthAmerica',\n",
       "  '0.027224000543355942',\n",
       "  '21183.279165646647'),\n",
       " 'aus': ('Australia', 'Oceania', '22.12006378173828', '44854.90004866657'),\n",
       " 'fji': ('Fiji', 'Oceania', '0.8599500060081482', '6902.0687720944225'),\n",
       " 'nzl': ('New Zealand', 'Oceania', '4.370061874389648', '30867.05437525178'),\n",
       " 'arg': ('Argentina',\n",
       "  'SouthAmerica',\n",
       "  '41.2238883972168',\n",
       "  '15841.658208158999'),\n",
       " 'bol': ('Bolivia', 'SouthAmerica', '9.918242454528809', '4806.608983377068'),\n",
       " 'bra': ('Brazil', 'SouthAmerica', '196.7962646484375', '13541.462561602328'),\n",
       " 'chl': ('Chile', 'SouthAmerica', '16.99335479736328', '18092.94007371081')}"
      ]
     },
     "execution_count": 34,
     "metadata": {},
     "output_type": "execute_result"
    }
   ],
   "source": [
    "cData"
   ]
  },
  {
   "cell_type": "markdown",
   "metadata": {},
   "source": [
    "**Q**: Using cData, identify what is the most common Continent among the Nations in the list countries."
   ]
  },
  {
   "cell_type": "code",
   "execution_count": 35,
   "metadata": {},
   "outputs": [
    {
     "name": "stdout",
     "output_type": "stream",
     "text": [
      "{'Africa': 48, 'Asia': 47, 'Europe': 38, 'NorthAmerica': 30, 'Oceania': 3, 'SouthAmerica': 4}\n",
      "The most common Continent is Africa\n"
     ]
    }
   ],
   "source": [
    "# create a list with the info about the countries\n",
    "info = list(cData.values())\n",
    "\n",
    "\n",
    "continents = []\n",
    "for i in range(len(info)):\n",
    "        continents.append(info[i][1])\n",
    "# print(continents)\n",
    "\n",
    "\n",
    "most_common = {}\n",
    "for n in continents:\n",
    "    if n in most_common: \n",
    "        most_common[n] +=1\n",
    "    else: \n",
    "        most_common[n] = 1     \n",
    "        \n",
    "print(most_common)\n",
    "\n",
    "print(\"The most common Continent is\", list(most_common.keys())[0])"
   ]
  },
  {
   "cell_type": "markdown",
   "metadata": {},
   "source": [
    "**Q**: Using cData, identify the most populated nation among the countries list."
   ]
  },
  {
   "cell_type": "code",
   "execution_count": 36,
   "metadata": {},
   "outputs": [
    {
     "data": {
      "text/plain": [
       "[('Angola', 'Africa', '23.369131088256836', '5988.534997149481'),\n",
       " ('Burundi', 'Africa', '8.766929626464844', '731.4232803265862'),\n",
       " ('Benin', 'Africa', '9.199258804321289', '1919.9969479963038'),\n",
       " ('Burkina Faso', 'Africa', '15.605216979980469', '1327.2165314775982'),\n",
       " ('Botswana', 'Africa', '2.0148661136627197', '12256.14159052444'),\n",
       " ('Central African Republic',\n",
       "  'Africa',\n",
       "  '4.4485249519348145',\n",
       "  '865.4421867263901'),\n",
       " ('Cameroon', 'Africa', '19.970495223999023', '2684.972890247272'),\n",
       " ('Democratic Republic of the Congo',\n",
       "  'Africa',\n",
       "  '64.52326202392578',\n",
       "  '634.9713963013496'),\n",
       " ('Republic of the Congo', 'Africa', '4.386693000793457', '4979.990496069269'),\n",
       " ('Comoros', 'Africa', '0.6896920204162598', '2292.997969425929'),\n",
       " ('Cape Verde', 'Africa', '0.5023840069770813', '5644.821253339075'),\n",
       " ('Djibouti', 'Africa', '0.8511459827423096', '2124.4420625972525'),\n",
       " ('Algeria', 'Africa', '36.117637634277344', '12590.224223813591'),\n",
       " ('Egypt', 'Africa', '84.10760498046875', '9148.839753298033'),\n",
       " ('Ethiopia', 'Africa', '87.70266723632812', '1100.1831875876223'),\n",
       " ('Gabon', 'Africa', '1.6402100324630737', '11961.168226448879'),\n",
       " ('Ghana', 'Africa', '24.512104034423828', '3931.2918319728856'),\n",
       " ('Guinea', 'Africa', '10.794170379638672', '1742.7346742167783'),\n",
       " ('Gambia', 'Africa', '1.692149043083191', '2681.8586168502143'),\n",
       " ('Guinea-Bissau', 'Africa', '1.5558799505233765', '1387.2497310879905'),\n",
       " ('Equatorial Guinea', 'Africa', '0.9511039853096008', '31416.887137501908'),\n",
       " ('Kenya', 'Africa', '41.35015106201172', '2484.0349094725366'),\n",
       " ('Liberia', 'Africa', '3.948124885559082', '786.6702306741524'),\n",
       " ('Lesotho', 'Africa', '2.040550947189331', '2432.7976546880823'),\n",
       " ('Morocco', 'Africa', '32.409637451171875', '6421.937677907418'),\n",
       " ('Madagascar', 'Africa', '21.151639938354492', '1459.9156124535612'),\n",
       " ('Mali', 'Africa', '15.075084686279297', '1873.2809618195865'),\n",
       " ('Mozambique', 'Africa', '24.221405029296875', '969.2307622526259'),\n",
       " ('Mauritania', 'Africa', '3.6095430850982666', '3082.647028528842'),\n",
       " ('Mauritius', 'Africa', '1.2479549646377563', '15178.325920597827'),\n",
       " ('Malawi', 'Africa', '15.167095184326172', '972.0456815116237'),\n",
       " ('Namibia', 'Africa', '2.1731700897216797', '7689.171239820006'),\n",
       " ('Niger', 'Africa', '16.42557716369629', '845.8693682212395'),\n",
       " ('Nigeria', 'Africa', '158.57826232910156', '5186.304307542348'),\n",
       " ('Rwanda', 'Africa', '10.246842384338379', '1379.6993252327009'),\n",
       " ('Sudan', 'Africa', '34.385963439941406', '3608.7856176907358'),\n",
       " ('Senegal', 'Africa', '12.916229248046875', '2741.121456198507'),\n",
       " ('Sierra Leone', 'Africa', '6.4587202072143555', '1161.8796942144647'),\n",
       " ('Swaziland', 'Africa', '1.2028429508209229', '7042.524359035093'),\n",
       " ('Seychelles', 'Africa', '0.0914049968123436', '17960.353075613308'),\n",
       " ('Chad', 'Africa', '11.887202262878418', '1880.3748762799714'),\n",
       " ('Togo', 'Africa', '6.5029520988464355', '1222.8150529133295'),\n",
       " ('Tunisia', 'Africa', '10.639930725097656', '10647.834980284626'),\n",
       " ('Tanzania', 'Africa', '44.82893753051758', '1979.1718644815185'),\n",
       " ('Uganda', 'Africa', '33.91513442993164', '1723.5943355766267'),\n",
       " ('South Africa', 'Africa', '51.58466339111328', '11388.640515995063'),\n",
       " ('Zambia', 'Africa', '13.850032806396484', '2870.8872656342314'),\n",
       " ('Zimbabwe', 'Africa', '14.08631706237793', '1479.0305839163732'),\n",
       " ('United Arab Emirates', 'Asia', '8.270684242248535', '59707.412565389604'),\n",
       " ('Armenia', 'Asia', '2.8773109912872314', '8222.945234202914'),\n",
       " ('Azerbaijan', 'Asia', '9.03245735168457', '12947.102198682365'),\n",
       " ('Bangladesh', 'Asia', '152.14910888671875', '2411.1020691099325'),\n",
       " ('Bahrain', 'Asia', '1.2408620119094849', '37045.81310919623'),\n",
       " ('Brunei', 'Asia', '0.3886620104312897', '67320.89957245934'),\n",
       " ('Bhutan', 'Asia', '0.7276409864425659', '7235.18974818538'),\n",
       " ('China', 'Asia', '1359.755126953125', '9337.290772677254'),\n",
       " ('Cyprus', 'Asia', '0.829446017742157', '28046.373877741087'),\n",
       " ('Georgia', 'Asia', '4.231660842895508', '7966.602756952667'),\n",
       " ('Hong Kong', 'Asia', '7.02522087097168', '41687.946418899235'),\n",
       " ('India', 'Asia', '1230.980712890625', '4357.0597360582315'),\n",
       " ('Iran', 'Asia', '74.56751251220703', '17328.457882894658'),\n",
       " ('Iraq', 'Asia', '30.7627010345459', '9344.543768350652'),\n",
       " ('Israel', 'Asia', '7.42595911026001', '28638.9037385305'),\n",
       " ('Jordan', 'Asia', '7.182390213012695', '9351.387283068141'),\n",
       " ('Japan', 'Asia', '128.5518798828125', '36595.63364058582'),\n",
       " ('Kazakhstan', 'Asia', '16.398975372314453', '17908.83993251286'),\n",
       " ('Kyrgyzstan', 'Asia', '5.422337055206299', '3382.4639059259293'),\n",
       " ('Cambodia', 'Asia', '14.30873966217041', '2330.127207632253'),\n",
       " ('South Korea', 'Asia', '49.5528564453125', '31589.705161145695'),\n",
       " ('Kuwait', 'Asia', '2.9980831146240234', '67029.51680017101'),\n",
       " ('Laos', 'Asia', '6.246273994445801', '4316.969858587265'),\n",
       " ('Lebanon', 'Asia', '4.337141036987305', '18025.24893894264'),\n",
       " ('Sri Lanka', 'Asia', '20.198352813720703', '8390.429701766443'),\n",
       " ('Macau', 'Asia', '0.536969006061554', '91982.39517540816'),\n",
       " ('Maldives', 'Asia', '0.36451101303100586', '12140.803390739566'),\n",
       " ('Burma', 'Asia', '50.1558952331543', '3422.241340266976'),\n",
       " ('Mongolia', 'Asia', '2.7126500606536865', '7670.714034382584'),\n",
       " ('Malaysia', 'Asia', '28.112289428710938', '17913.164410782432'),\n",
       " ('Nepal', 'Asia', '27.023136138916016', '1996.1961554516242'),\n",
       " ('Oman', 'Asia', '3.0414600372314453', '40472.674942509126'),\n",
       " ('Pakistan', 'Asia', '170.5601806640625', '4171.416562353057'),\n",
       " ('Philippines', 'Asia', '93.72662353515625', '5391.233965240031'),\n",
       " ('Qatar', 'Asia', '1.7796759605407715', '123128.40152283433'),\n",
       " ('Saudi Arabia', 'Asia', '27.425676345825195', '42331.65885721999'),\n",
       " ('Singapore', 'Asia', '5.074252128601074', '58618.43503468222'),\n",
       " ('Syria', 'Asia', '21.01883316040039', '5700.329438992399'),\n",
       " ('Thailand', 'Asia', '67.20880889892578', '12496.244186726299'),\n",
       " ('Tajikistan', 'Asia', '7.641630172729492', '2784.5145587763627'),\n",
       " ('Turkmenistan', 'Asia', '5.087210178375244', '16061.429412691556'),\n",
       " ('Turkey', 'Asia', '72.32691192626953', '17930.678781392427'),\n",
       " ('Taiwan', 'Asia', '23.140947341918945', '37188.89452901009'),\n",
       " ('Uzbekistan', 'Asia', '28.606294631958008', '6574.51672506692'),\n",
       " ('Vietnam', 'Asia', '88.4725112915039', '4428.42140209062'),\n",
       " ('Yemen', 'Asia', '23.606779098510742', '4553.557258443674'),\n",
       " ('Albania', 'Europe', '2.9405250549316406', '9544.73991912729'),\n",
       " ('Austria', 'Europe', '8.40994930267334', '40489.80635849457'),\n",
       " ('Belgium', 'Europe', '10.938738822937012', '38177.94724875522'),\n",
       " ('Bulgaria', 'Europe', '7.404590129852295', '14906.784964031736'),\n",
       " ('Bosnia and Herzegovina',\n",
       "  'Europe',\n",
       "  '3.7220840454101562',\n",
       "  '9049.364732987471'),\n",
       " ('Belarus', 'Europe', '9.473071098327637', '16457.02937904922'),\n",
       " ('Switzerland', 'Europe', '7.831971168518066', '55688.020214268225'),\n",
       " ('Czech Republic', 'Europe', '10.536286354064941', '26129.56935189834'),\n",
       " ('Germany', 'Europe', '80.89478302001953', '40627.23054942445'),\n",
       " ('Denmark', 'Europe', '5.554843902587891', '43416.22338615916'),\n",
       " ('Spain', 'Europe', '46.788631439208984', '31610.980157042286'),\n",
       " ('Estonia', 'Europe', '1.3321019411087036', '20265.572596704937'),\n",
       " ('Finland', 'Europe', '5.365781784057617', '38394.06158150017'),\n",
       " ('France', 'Europe', '65.14578247070312', '35786.16161450548'),\n",
       " ('United Kingdom', 'Europe', '63.30684280395508', '34810.28120173958'),\n",
       " ('Greece', 'Europe', '11.446004867553711', '25815.80076797162'),\n",
       " ('Croatia', 'Europe', '4.328153133392334', '19305.008088868373'),\n",
       " ('Hungary', 'Europe', '9.927840232849121', '20477.79856764035'),\n",
       " ('Ireland', 'Europe', '4.626927852630615', '47823.50815113634'),\n",
       " ('Iceland', 'Europe', '0.3203279972076416', '37729.01607603124'),\n",
       " ('Italy', 'Europe', '59.72980880737305', '34727.67268834705'),\n",
       " ('Lithuania', 'Europe', '3.123802900314331', '18475.371145517096'),\n",
       " ('Luxembourg', 'Europe', '0.5078889727592468', '57882.81020537233'),\n",
       " ('Latvia', 'Europe', '2.1188480854034424', '16943.688322829523'),\n",
       " ('Moldova', 'Europe', '4.0844807624816895', '4173.634753274572'),\n",
       " ('Macedonia', 'Europe', '2.0707390308380127', '11265.643175619889'),\n",
       " ('Malta', 'Europe', '0.41611000895500183', '22983.44992639125'),\n",
       " ('Montenegro', 'Europe', '0.6242849826812744', '14960.94855221103'),\n",
       " ('Netherlands', 'Europe', '16.68291664123535', '44004.146024770846'),\n",
       " ('Norway', 'Europe', '4.885878086090088', '73262.68174170727'),\n",
       " ('Poland', 'Europe', '38.323402404785156', '21006.027309294514'),\n",
       " ('Portugal', 'Europe', '10.652320861816406', '25788.2739652247'),\n",
       " ('Romania', 'Europe', '20.44034767150879', '16775.609043478133'),\n",
       " ('Russia', 'Asia', '143.15386962890625', '21754.067899615977'),\n",
       " ('Serbia', 'Europe', '7.291436195373535', '12453.482551916944'),\n",
       " ('Slovakia', 'Europe', '5.404294013977051', '23061.12099058148'),\n",
       " ('Slovenia', 'Europe', '2.045167922973633', '25831.33128718208'),\n",
       " ('Sweden', 'Europe', '9.390168190002441', '40421.906436576974'),\n",
       " ('Ukraine', 'Europe', '45.79249954223633', '8713.259627419637'),\n",
       " ('Aruba', 'NorthAmerica', '0.10166899859905243', '37059.34143869512'),\n",
       " ('Anguilla', 'NorthAmerica', '0.013768999837338924', '21098.057152999143'),\n",
       " ('Antigua and Barbuda',\n",
       "  'NorthAmerica',\n",
       "  '0.09466099739074707',\n",
       "  '17162.16102781353'),\n",
       " ('Bahamas', 'NorthAmerica', '0.36083200573921204', '29504.581346144332'),\n",
       " ('Belize', 'NorthAmerica', '0.3216080069541931', '7145.952547655193'),\n",
       " ('Bermuda', 'NorthAmerica', '0.06395599991083145', '51447.147481910884'),\n",
       " ('Barbados', 'NorthAmerica', '0.27956900000572205', '13995.612896540895'),\n",
       " ('Canada', 'NorthAmerica', '34.16866683959961', '40269.03526728651'),\n",
       " ('Costa Rica', 'NorthAmerica', '4.5452799797058105', '12106.99191566891'),\n",
       " ('CuraÃ§ao', 'NorthAmerica', '0.14760799705982208', '24337.816177887613'),\n",
       " ('Cayman Islands',\n",
       "  'NorthAmerica',\n",
       "  '0.05550700053572655',\n",
       "  '36670.678481483985'),\n",
       " ('Dominica', 'NorthAmerica', '0.07143999636173248', '9101.993729581038'),\n",
       " ('Dominican Republic',\n",
       "  'NorthAmerica',\n",
       "  '9.897985458374023',\n",
       "  '11500.13134401987'),\n",
       " ('Grenada', 'NorthAmerica', '0.1046769991517067', '9791.291133092265'),\n",
       " ('Guatemala', 'NorthAmerica', '14.630416870117188', '6359.262684615136'),\n",
       " ('Honduras', 'NorthAmerica', '8.194778442382812', '3789.9102248753848'),\n",
       " ('Haiti', 'NorthAmerica', '9.999616622924805', '1650.2697128700804'),\n",
       " ('Jamaica', 'NorthAmerica', '2.8172099590301514', '6675.176956450172'),\n",
       " ('Saint Kitts and Nevis',\n",
       "  'NorthAmerica',\n",
       "  '0.05144499987363815',\n",
       "  '17837.349758162076'),\n",
       " ('Saint Lucia', 'NorthAmerica', '0.17258000373840332', '9178.266990673521'),\n",
       " ('Mexico', 'NorthAmerica', '117.31893920898438', '14507.011923865603'),\n",
       " ('Montserrat', 'NorthAmerica', '0.00494399992749095', '15385.002991478228'),\n",
       " ('Nicaragua', 'NorthAmerica', '5.737722873687744', '3992.7619078961748'),\n",
       " ('Panama', 'NorthAmerica', '3.6432220935821533', '15055.237591848218'),\n",
       " ('El Salvador', 'NorthAmerica', '6.164626121520996', '6096.958357099287'),\n",
       " ('Turks and Caicos Islands',\n",
       "  'NorthAmerica',\n",
       "  '0.030993999913334846',\n",
       "  '7230.966074605446'),\n",
       " ('Trinidad and Tobago',\n",
       "  'NorthAmerica',\n",
       "  '1.3280999660491943',\n",
       "  '27510.236190041924'),\n",
       " ('United States', 'NorthAmerica', '308.6413879394531', '49500.62628346238'),\n",
       " ('Saint Vincent and the Grenadines',\n",
       "  'NorthAmerica',\n",
       "  '0.10931500047445297',\n",
       "  '8095.21923068351'),\n",
       " ('British Virgin Islands',\n",
       "  'NorthAmerica',\n",
       "  '0.027224000543355942',\n",
       "  '21183.279165646647'),\n",
       " ('Australia', 'Oceania', '22.12006378173828', '44854.90004866657'),\n",
       " ('Fiji', 'Oceania', '0.8599500060081482', '6902.0687720944225'),\n",
       " ('New Zealand', 'Oceania', '4.370061874389648', '30867.05437525178'),\n",
       " ('Argentina', 'SouthAmerica', '41.2238883972168', '15841.658208158999'),\n",
       " ('Bolivia', 'SouthAmerica', '9.918242454528809', '4806.608983377068'),\n",
       " ('Brazil', 'SouthAmerica', '196.7962646484375', '13541.462561602328'),\n",
       " ('Chile', 'SouthAmerica', '16.99335479736328', '18092.94007371081')]"
      ]
     },
     "execution_count": 36,
     "metadata": {},
     "output_type": "execute_result"
    }
   ],
   "source": [
    "info"
   ]
  },
  {
   "cell_type": "code",
   "execution_count": 37,
   "metadata": {},
   "outputs": [
    {
     "name": "stdout",
     "output_type": "stream",
     "text": [
      "[['PRT', 'Portugal', 'Europe'], ['ISL', 'Israel', 'Asia'], ['COL', 'Colombia', 'South America'], ['NEV', 'Nevada', 'North America'], ['JPN', 'Japan', 'Asia'], ['RUS', 'Russia', 'well... which part?'], ['DEN', 'Denmark', 'Europe'], ['NOR', 'Norway', 'Europe']]\n"
     ]
    }
   ],
   "source": [
    "# To find the most populated nation among the countries list we can, firstly, append to the countries list, the population \n",
    "# column. Since tuples are unchangeble and immutable, we have to transform the tuples into lists first.\n",
    "\n",
    "for i in range(len(countries)):\n",
    "    countries[i] = list(countries[i])\n",
    "    \n",
    "print(countries)"
   ]
  },
  {
   "cell_type": "code",
   "execution_count": 38,
   "metadata": {},
   "outputs": [
    {
     "data": {
      "text/plain": [
       "[['PRT', 'Portugal', 'Europe', '10.652320861816406'],\n",
       " ['ISL', 'Israel', 'Asia', '7.42595911026001'],\n",
       " ['COL', 'Colombia', 'South America'],\n",
       " ['NEV', 'Nevada', 'North America'],\n",
       " ['JPN', 'Japan', 'Asia', '128.5518798828125'],\n",
       " ['RUS', 'Russia', 'well... which part?', '143.15386962890625'],\n",
       " ['DEN', 'Denmark', 'Europe', '5.554843902587891'],\n",
       " ['NOR', 'Norway', 'Europe', '4.885878086090088']]"
      ]
     },
     "execution_count": 38,
     "metadata": {},
     "output_type": "execute_result"
    }
   ],
   "source": [
    "# Next, we append the respective population value\n",
    "\n",
    "for i in range(len(countries)):\n",
    "    for j in range(len(info)):\n",
    "        if info[j][0] == countries[i][1]:\n",
    "            countries[i].append(info[j][2])\n",
    "        \n",
    "countries\n",
    "\n"
   ]
  },
  {
   "cell_type": "code",
   "execution_count": 39,
   "metadata": {
    "scrolled": true
   },
   "outputs": [
    {
     "data": {
      "text/plain": [
       "['Angola',\n",
       " 'Burundi',\n",
       " 'Benin',\n",
       " 'Burkina Faso',\n",
       " 'Botswana',\n",
       " 'Central African Republic',\n",
       " 'Cameroon',\n",
       " 'Democratic Republic of the Congo',\n",
       " 'Republic of the Congo',\n",
       " 'Comoros',\n",
       " 'Cape Verde',\n",
       " 'Djibouti',\n",
       " 'Algeria',\n",
       " 'Egypt',\n",
       " 'Ethiopia',\n",
       " 'Gabon',\n",
       " 'Ghana',\n",
       " 'Guinea',\n",
       " 'Gambia',\n",
       " 'Guinea-Bissau',\n",
       " 'Equatorial Guinea',\n",
       " 'Kenya',\n",
       " 'Liberia',\n",
       " 'Lesotho',\n",
       " 'Morocco',\n",
       " 'Madagascar',\n",
       " 'Mali',\n",
       " 'Mozambique',\n",
       " 'Mauritania',\n",
       " 'Mauritius',\n",
       " 'Malawi',\n",
       " 'Namibia',\n",
       " 'Niger',\n",
       " 'Nigeria',\n",
       " 'Rwanda',\n",
       " 'Sudan',\n",
       " 'Senegal',\n",
       " 'Sierra Leone',\n",
       " 'Swaziland',\n",
       " 'Seychelles',\n",
       " 'Chad',\n",
       " 'Togo',\n",
       " 'Tunisia',\n",
       " 'Tanzania',\n",
       " 'Uganda',\n",
       " 'South Africa',\n",
       " 'Zambia',\n",
       " 'Zimbabwe',\n",
       " 'United Arab Emirates',\n",
       " 'Armenia',\n",
       " 'Azerbaijan',\n",
       " 'Bangladesh',\n",
       " 'Bahrain',\n",
       " 'Brunei',\n",
       " 'Bhutan',\n",
       " 'China',\n",
       " 'Cyprus',\n",
       " 'Georgia',\n",
       " 'Hong Kong',\n",
       " 'India',\n",
       " 'Iran',\n",
       " 'Iraq',\n",
       " 'Israel',\n",
       " 'Jordan',\n",
       " 'Japan',\n",
       " 'Kazakhstan',\n",
       " 'Kyrgyzstan',\n",
       " 'Cambodia',\n",
       " 'South Korea',\n",
       " 'Kuwait',\n",
       " 'Laos',\n",
       " 'Lebanon',\n",
       " 'Sri Lanka',\n",
       " 'Macau',\n",
       " 'Maldives',\n",
       " 'Burma',\n",
       " 'Mongolia',\n",
       " 'Malaysia',\n",
       " 'Nepal',\n",
       " 'Oman',\n",
       " 'Pakistan',\n",
       " 'Philippines',\n",
       " 'Qatar',\n",
       " 'Saudi Arabia',\n",
       " 'Singapore',\n",
       " 'Syria',\n",
       " 'Thailand',\n",
       " 'Tajikistan',\n",
       " 'Turkmenistan',\n",
       " 'Turkey',\n",
       " 'Taiwan',\n",
       " 'Uzbekistan',\n",
       " 'Vietnam',\n",
       " 'Yemen',\n",
       " 'Albania',\n",
       " 'Austria',\n",
       " 'Belgium',\n",
       " 'Bulgaria',\n",
       " 'Bosnia and Herzegovina',\n",
       " 'Belarus',\n",
       " 'Switzerland',\n",
       " 'Czech Republic',\n",
       " 'Germany',\n",
       " 'Denmark',\n",
       " 'Spain',\n",
       " 'Estonia',\n",
       " 'Finland',\n",
       " 'France',\n",
       " 'United Kingdom',\n",
       " 'Greece',\n",
       " 'Croatia',\n",
       " 'Hungary',\n",
       " 'Ireland',\n",
       " 'Iceland',\n",
       " 'Italy',\n",
       " 'Lithuania',\n",
       " 'Luxembourg',\n",
       " 'Latvia',\n",
       " 'Moldova',\n",
       " 'Macedonia',\n",
       " 'Malta',\n",
       " 'Montenegro',\n",
       " 'Netherlands',\n",
       " 'Norway',\n",
       " 'Poland',\n",
       " 'Portugal',\n",
       " 'Romania',\n",
       " 'Russia',\n",
       " 'Serbia',\n",
       " 'Slovakia',\n",
       " 'Slovenia',\n",
       " 'Sweden',\n",
       " 'Ukraine',\n",
       " 'Aruba',\n",
       " 'Anguilla',\n",
       " 'Antigua and Barbuda',\n",
       " 'Bahamas',\n",
       " 'Belize',\n",
       " 'Bermuda',\n",
       " 'Barbados',\n",
       " 'Canada',\n",
       " 'Costa Rica',\n",
       " 'CuraÃ§ao',\n",
       " 'Cayman Islands',\n",
       " 'Dominica',\n",
       " 'Dominican Republic',\n",
       " 'Grenada',\n",
       " 'Guatemala',\n",
       " 'Honduras',\n",
       " 'Haiti',\n",
       " 'Jamaica',\n",
       " 'Saint Kitts and Nevis',\n",
       " 'Saint Lucia',\n",
       " 'Mexico',\n",
       " 'Montserrat',\n",
       " 'Nicaragua',\n",
       " 'Panama',\n",
       " 'El Salvador',\n",
       " 'Turks and Caicos Islands',\n",
       " 'Trinidad and Tobago',\n",
       " 'United States',\n",
       " 'Saint Vincent and the Grenadines',\n",
       " 'British Virgin Islands',\n",
       " 'Australia',\n",
       " 'Fiji',\n",
       " 'New Zealand',\n",
       " 'Argentina',\n",
       " 'Bolivia',\n",
       " 'Brazil',\n",
       " 'Chile']"
      ]
     },
     "execution_count": 39,
     "metadata": {},
     "output_type": "execute_result"
    }
   ],
   "source": [
    "# We can verify that Colombia and Nevada don't have population values. \n",
    "# We have to check if Colombia and Nevada are in cData. We'll do that through info list created previously\n",
    "\n",
    "country_names = []\n",
    "for i in range(len(info)):\n",
    "    country_names.append(info[i][0])\n",
    "    \n",
    "country_names"
   ]
  },
  {
   "cell_type": "code",
   "execution_count": 40,
   "metadata": {},
   "outputs": [
    {
     "data": {
      "text/plain": [
       "True"
      ]
     },
     "execution_count": 40,
     "metadata": {},
     "output_type": "execute_result"
    }
   ],
   "source": [
    "'Portugal' in country_names\n",
    "\n",
    "# We can see that Portugal is in the list, This was just to make sure we are doing things right"
   ]
  },
  {
   "cell_type": "code",
   "execution_count": 41,
   "metadata": {},
   "outputs": [
    {
     "data": {
      "text/plain": [
       "False"
      ]
     },
     "execution_count": 41,
     "metadata": {},
     "output_type": "execute_result"
    }
   ],
   "source": [
    "'Colombia' in country_names"
   ]
  },
  {
   "cell_type": "code",
   "execution_count": 42,
   "metadata": {
    "scrolled": true
   },
   "outputs": [
    {
     "data": {
      "text/plain": [
       "False"
      ]
     },
     "execution_count": 42,
     "metadata": {},
     "output_type": "execute_result"
    }
   ],
   "source": [
    "'Nevada' in country_names\n",
    "\n",
    "# We can now see that the dictionary doesn't have information about these two countries."
   ]
  },
  {
   "cell_type": "code",
   "execution_count": 43,
   "metadata": {},
   "outputs": [
    {
     "data": {
      "text/plain": [
       "['COL', 'Colombia', 'South America']"
      ]
     },
     "execution_count": 43,
     "metadata": {},
     "output_type": "execute_result"
    }
   ],
   "source": [
    "# To compare the most population nation, we're going to remove those countriess that don't have information\n",
    "# Colombia list is index 2 and Nevada is index 3\n",
    "\n",
    "countries.pop(2)\n"
   ]
  },
  {
   "cell_type": "code",
   "execution_count": 44,
   "metadata": {
    "scrolled": true
   },
   "outputs": [
    {
     "data": {
      "text/plain": [
       "[['PRT', 'Portugal', 'Europe', '10.652320861816406'],\n",
       " ['ISL', 'Israel', 'Asia', '7.42595911026001'],\n",
       " ['NEV', 'Nevada', 'North America'],\n",
       " ['JPN', 'Japan', 'Asia', '128.5518798828125'],\n",
       " ['RUS', 'Russia', 'well... which part?', '143.15386962890625'],\n",
       " ['DEN', 'Denmark', 'Europe', '5.554843902587891'],\n",
       " ['NOR', 'Norway', 'Europe', '4.885878086090088']]"
      ]
     },
     "execution_count": 44,
     "metadata": {},
     "output_type": "execute_result"
    }
   ],
   "source": [
    "countries"
   ]
  },
  {
   "cell_type": "code",
   "execution_count": 45,
   "metadata": {},
   "outputs": [
    {
     "data": {
      "text/plain": [
       "['NEV', 'Nevada', 'North America']"
      ]
     },
     "execution_count": 45,
     "metadata": {},
     "output_type": "execute_result"
    }
   ],
   "source": [
    "# Since we've deleted colombia list, Nevada index is now 2 \n",
    "countries.pop(2)"
   ]
  },
  {
   "cell_type": "code",
   "execution_count": 46,
   "metadata": {},
   "outputs": [
    {
     "data": {
      "text/plain": [
       "[['PRT', 'Portugal', 'Europe', '10.652320861816406'],\n",
       " ['ISL', 'Israel', 'Asia', '7.42595911026001'],\n",
       " ['JPN', 'Japan', 'Asia', '128.5518798828125'],\n",
       " ['RUS', 'Russia', 'well... which part?', '143.15386962890625'],\n",
       " ['DEN', 'Denmark', 'Europe', '5.554843902587891'],\n",
       " ['NOR', 'Norway', 'Europe', '4.885878086090088']]"
      ]
     },
     "execution_count": 46,
     "metadata": {},
     "output_type": "execute_result"
    }
   ],
   "source": [
    "countries"
   ]
  },
  {
   "cell_type": "code",
   "execution_count": 47,
   "metadata": {},
   "outputs": [
    {
     "data": {
      "text/plain": [
       "[['DEN', 'Denmark', 'Europe', '5.554843902587891'],\n",
       " ['ISL', 'Israel', 'Asia', '7.42595911026001'],\n",
       " ['JPN', 'Japan', 'Asia', '128.5518798828125'],\n",
       " ['NOR', 'Norway', 'Europe', '4.885878086090088'],\n",
       " ['PRT', 'Portugal', 'Europe', '10.652320861816406'],\n",
       " ['RUS', 'Russia', 'well... which part?', '143.15386962890625']]"
      ]
     },
     "execution_count": 47,
     "metadata": {},
     "output_type": "execute_result"
    }
   ],
   "source": [
    "countries.sort(key=lambda x: x[1])\n",
    "countries"
   ]
  },
  {
   "cell_type": "code",
   "execution_count": 48,
   "metadata": {},
   "outputs": [
    {
     "name": "stdout",
     "output_type": "stream",
     "text": [
      "The most populated country in the countries list is:  Russia\n"
     ]
    }
   ],
   "source": [
    "print('The most populated country in the countries list is: ', countries[-1][1])"
   ]
  },
  {
   "cell_type": "markdown",
   "metadata": {},
   "source": [
    "**Q**: Compare the average GDP per capita of the Nations in countries list, with all the countries in the cData file. How they compare?"
   ]
  },
  {
   "cell_type": "code",
   "execution_count": 49,
   "metadata": {},
   "outputs": [
    {
     "data": {
      "text/plain": [
       "[['DEN', 'Denmark', 'Europe', '5.554843902587891', '43416.22338615916'],\n",
       " ['ISL', 'Israel', 'Asia', '7.42595911026001', '28638.9037385305'],\n",
       " ['JPN', 'Japan', 'Asia', '128.5518798828125', '36595.63364058582'],\n",
       " ['NOR', 'Norway', 'Europe', '4.885878086090088', '73262.68174170727'],\n",
       " ['PRT', 'Portugal', 'Europe', '10.652320861816406', '25788.2739652247'],\n",
       " ['RUS',\n",
       "  'Russia',\n",
       "  'well... which part?',\n",
       "  '143.15386962890625',\n",
       "  '21754.067899615977']]"
      ]
     },
     "execution_count": 49,
     "metadata": {},
     "output_type": "execute_result"
    }
   ],
   "source": [
    "# we can do something similar to the exercise above \n",
    "# Append the GDP values\n",
    "\n",
    "for i in range(len(countries)):\n",
    "    for j in range(len(info)):\n",
    "        if info[j][0] == countries[i][1]:\n",
    "            countries[i].append(info[j][3])\n",
    "        \n",
    "countries"
   ]
  },
  {
   "cell_type": "code",
   "execution_count": 50,
   "metadata": {},
   "outputs": [
    {
     "data": {
      "text/plain": [
       "[43416.22338615916,\n",
       " 28638.9037385305,\n",
       " 36595.63364058582,\n",
       " 73262.68174170727,\n",
       " 25788.2739652247,\n",
       " 21754.067899615977]"
      ]
     },
     "execution_count": 50,
     "metadata": {},
     "output_type": "execute_result"
    }
   ],
   "source": [
    "# create a list with the GDP for the countries in the list\n",
    "\n",
    "GDP_values = []\n",
    "for i in range(len(countries)):\n",
    "    GDP_values.append(float(countries[i][-1]))\n",
    "    \n",
    "GDP_values"
   ]
  },
  {
   "cell_type": "code",
   "execution_count": 51,
   "metadata": {},
   "outputs": [
    {
     "name": "stdout",
     "output_type": "stream",
     "text": [
      "38242.63072863724\n"
     ]
    }
   ],
   "source": [
    "# average GDP for the countries in the list\n",
    "\n",
    "for x in GDP_values:\n",
    "    mean_countries_list = sum(GDP_values)/len(GDP_values)\n",
    "    print(mean_countries_list)\n",
    "    break"
   ]
  },
  {
   "cell_type": "code",
   "execution_count": 52,
   "metadata": {
    "scrolled": true
   },
   "outputs": [],
   "source": [
    "# Now we have to compare this value with all the countries in cData\n",
    "\n",
    "GDP_greater = []\n",
    "GDP_lower = []\n",
    "for i in range(len(info)):\n",
    "    if float(info[i][-1]) > mean_countries_list:\n",
    "        GDP_greater.append(info[i][0::3])  # add to the list the name of the country and the respective GDP\n",
    "    else:\n",
    "        GDP_lower.append(info[i][0::3])\n",
    "\n",
    "#print(GDP_greater, '\\n')\n",
    "#print(GDP_lower)"
   ]
  },
  {
   "cell_type": "code",
   "execution_count": 53,
   "metadata": {
    "scrolled": true
   },
   "outputs": [
    {
     "name": "stdout",
     "output_type": "stream",
     "text": [
      "[('Qatar', '123128.40152283433'), ('Finland', '38394.06158150017'), ('Canada', '40269.03526728651'), ('Sweden', '40421.906436576974'), ('Oman', '40472.674942509126'), ('Austria', '40489.80635849457'), ('Germany', '40627.23054942445'), ('Hong Kong', '41687.946418899235'), ('Saudi Arabia', '42331.65885721999'), ('Denmark', '43416.22338615916'), ('Netherlands', '44004.146024770846'), ('Australia', '44854.90004866657'), ('Ireland', '47823.50815113634'), ('United States', '49500.62628346238'), ('Bermuda', '51447.147481910884'), ('Switzerland', '55688.020214268225'), ('Luxembourg', '57882.81020537233'), ('Singapore', '58618.43503468222'), ('United Arab Emirates', '59707.412565389604'), ('Kuwait', '67029.51680017101'), ('Brunei', '67320.89957245934'), ('Norway', '73262.68174170727'), ('Macau', '91982.39517540816')] \n",
      "\n",
      "[('Tunisia', '10647.834980284626'), ('Ethiopia', '1100.1831875876223'), ('Macedonia', '11265.643175619889'), ('South Africa', '11388.640515995063'), ('Dominican Republic', '11500.13134401987'), ('Sierra Leone', '1161.8796942144647'), ('Gabon', '11961.168226448879'), ('Costa Rica', '12106.99191566891'), ('Maldives', '12140.803390739566'), ('Togo', '1222.8150529133295'), ('Botswana', '12256.14159052444'), ('Serbia', '12453.482551916944'), ('Thailand', '12496.244186726299'), ('Algeria', '12590.224223813591'), ('Azerbaijan', '12947.102198682365'), ('Burkina Faso', '1327.2165314775982'), ('Brazil', '13541.462561602328'), ('Rwanda', '1379.6993252327009'), ('Guinea-Bissau', '1387.2497310879905'), ('Barbados', '13995.612896540895'), ('Mexico', '14507.011923865603'), ('Madagascar', '1459.9156124535612'), ('Zimbabwe', '1479.0305839163732'), ('Bulgaria', '14906.784964031736'), ('Montenegro', '14960.94855221103'), ('Panama', '15055.237591848218'), ('Mauritius', '15178.325920597827'), ('Montserrat', '15385.002991478228'), ('Argentina', '15841.658208158999'), ('Turkmenistan', '16061.429412691556'), ('Belarus', '16457.02937904922'), ('Haiti', '1650.2697128700804'), ('Romania', '16775.609043478133'), ('Latvia', '16943.688322829523'), ('Antigua and Barbuda', '17162.16102781353'), ('Uganda', '1723.5943355766267'), ('Iran', '17328.457882894658'), ('Guinea', '1742.7346742167783'), ('Saint Kitts and Nevis', '17837.349758162076'), ('Kazakhstan', '17908.83993251286'), ('Malaysia', '17913.164410782432'), ('Turkey', '17930.678781392427'), ('Seychelles', '17960.353075613308'), ('Lebanon', '18025.24893894264'), ('Chile', '18092.94007371081'), ('Lithuania', '18475.371145517096'), ('Mali', '1873.2809618195865'), ('Chad', '1880.3748762799714'), ('Benin', '1919.9969479963038'), ('Croatia', '19305.008088868373'), ('Tanzania', '1979.1718644815185'), ('Nepal', '1996.1961554516242'), ('Estonia', '20265.572596704937'), ('Hungary', '20477.79856764035'), ('Poland', '21006.027309294514'), ('Anguilla', '21098.057152999143'), ('British Virgin Islands', '21183.279165646647'), ('Djibouti', '2124.4420625972525'), ('Russia', '21754.067899615977'), ('Comoros', '2292.997969425929'), ('Malta', '22983.44992639125'), ('Slovakia', '23061.12099058148'), ('Cambodia', '2330.127207632253'), ('Bangladesh', '2411.1020691099325'), ('Lesotho', '2432.7976546880823'), ('CuraÃ§ao', '24337.816177887613'), ('Kenya', '2484.0349094725366'), ('Portugal', '25788.2739652247'), ('Greece', '25815.80076797162'), ('Slovenia', '25831.33128718208'), ('Czech Republic', '26129.56935189834'), ('Gambia', '2681.8586168502143'), ('Cameroon', '2684.972890247272'), ('Senegal', '2741.121456198507'), ('Trinidad and Tobago', '27510.236190041924'), ('Tajikistan', '2784.5145587763627'), ('Cyprus', '28046.373877741087'), ('Israel', '28638.9037385305'), ('Zambia', '2870.8872656342314'), ('Bahamas', '29504.581346144332'), ('Mauritania', '3082.647028528842'), ('New Zealand', '30867.05437525178'), ('Equatorial Guinea', '31416.887137501908'), ('South Korea', '31589.705161145695'), ('Spain', '31610.980157042286'), ('Kyrgyzstan', '3382.4639059259293'), ('Burma', '3422.241340266976'), ('Italy', '34727.67268834705'), ('United Kingdom', '34810.28120173958'), ('France', '35786.16161450548'), ('Sudan', '3608.7856176907358'), ('Japan', '36595.63364058582'), ('Cayman Islands', '36670.678481483985'), ('Bahrain', '37045.81310919623'), ('Aruba', '37059.34143869512'), ('Taiwan', '37188.89452901009'), ('Iceland', '37729.01607603124'), ('Honduras', '3789.9102248753848'), ('Belgium', '38177.94724875522'), ('Ghana', '3931.2918319728856'), ('Nicaragua', '3992.7619078961748'), ('Pakistan', '4171.416562353057'), ('Moldova', '4173.634753274572'), ('Laos', '4316.969858587265'), ('India', '4357.0597360582315'), ('Vietnam', '4428.42140209062'), ('Yemen', '4553.557258443674'), ('Bolivia', '4806.608983377068'), ('Republic of the Congo', '4979.990496069269'), ('Nigeria', '5186.304307542348'), ('Philippines', '5391.233965240031'), ('Cape Verde', '5644.821253339075'), ('Syria', '5700.329438992399'), ('Angola', '5988.534997149481'), ('El Salvador', '6096.958357099287'), ('Democratic Republic of the Congo', '634.9713963013496'), ('Guatemala', '6359.262684615136'), ('Morocco', '6421.937677907418'), ('Uzbekistan', '6574.51672506692'), ('Jamaica', '6675.176956450172'), ('Fiji', '6902.0687720944225'), ('Swaziland', '7042.524359035093'), ('Belize', '7145.952547655193'), ('Turks and Caicos Islands', '7230.966074605446'), ('Bhutan', '7235.18974818538'), ('Burundi', '731.4232803265862'), ('Mongolia', '7670.714034382584'), ('Namibia', '7689.171239820006'), ('Liberia', '786.6702306741524'), ('Georgia', '7966.602756952667'), ('Saint Vincent and the Grenadines', '8095.21923068351'), ('Armenia', '8222.945234202914'), ('Sri Lanka', '8390.429701766443'), ('Niger', '845.8693682212395'), ('Central African Republic', '865.4421867263901'), ('Ukraine', '8713.259627419637'), ('Bosnia and Herzegovina', '9049.364732987471'), ('Dominica', '9101.993729581038'), ('Egypt', '9148.839753298033'), ('Saint Lucia', '9178.266990673521'), ('China', '9337.290772677254'), ('Iraq', '9344.543768350652'), ('Jordan', '9351.387283068141'), ('Albania', '9544.73991912729'), ('Mozambique', '969.2307622526259'), ('Malawi', '972.0456815116237'), ('Grenada', '9791.291133092265')]\n"
     ]
    }
   ],
   "source": [
    "GDP_greater.sort(key=lambda x: x[1])\n",
    "print(GDP_greater, '\\n')\n",
    "\n",
    "GDP_lower.sort(key=lambda x: x[1])\n",
    "print(GDP_lower)"
   ]
  },
  {
   "cell_type": "code",
   "execution_count": 54,
   "metadata": {},
   "outputs": [
    {
     "name": "stdout",
     "output_type": "stream",
     "text": [
      "There are  23 that have GDP per capita higher than the average of the Nations in the list. In contrast, there are  147 countries with a lower GDP per capita. \n",
      " This difference means that  some countries are more prosperous than others, that is, they are able to generate more wealth.\n",
      "\n",
      " The country with a higher GDP per capita is:  Macau\n",
      "\n",
      " The country with a lower GDP per capita is:  Tunisia\n"
     ]
    }
   ],
   "source": [
    "# Comparison\n",
    "\n",
    "print('There are ', len(GDP_greater), 'that have GDP per capita higher than the average of the Nations in the list.'\n",
    "     ' In contrast, there are ', len(GDP_lower), 'countries with a lower GDP per capita.', '\\n', 'This difference means that ',\n",
    "     'some countries are more prosperous than others, that is, they are able to generate more wealth.' )\n",
    "\n",
    "print('\\n', 'The country with a higher GDP per capita is: ', GDP_greater[-1][0])\n",
    "print('\\n', 'The country with a lower GDP per capita is: ', GDP_lower[0][0])"
   ]
  },
  {
   "cell_type": "markdown",
   "metadata": {},
   "source": [
    "# <span style=\"color:brown\"> Part 3 - Functions hurt nobody </span>\n",
    "\n",
    "## Exercise I - I hate math\n",
    "\n",
    "Consider the following equation:\n",
    "\n",
    "\\begin{equation}\n",
    "    y = 6x^2 + 3x + 2\n",
    "\\end{equation}\n",
    "\n",
    "**Q**: write a function (called f) that takes one argument, x, and returns y according to the equation above. <br> Call the function for x = 2 and print the answer."
   ]
  },
  {
   "cell_type": "code",
   "execution_count": 55,
   "metadata": {},
   "outputs": [
    {
     "data": {
      "text/plain": [
       "32"
      ]
     },
     "execution_count": 55,
     "metadata": {},
     "output_type": "execute_result"
    }
   ],
   "source": [
    "def f(x):\n",
    "    y = 6*x**2 + 3*x + 2 \n",
    "    return y\n",
    "\n",
    "f(2)"
   ]
  },
  {
   "cell_type": "markdown",
   "metadata": {},
   "source": [
    "Consider a sequence $x_n$ of numbers, defined as follows:\n",
    "\n",
    "$\n",
    "\\begin{align}\n",
    "    ~~~ ~~~ ~~~ ~~&x_0 = 0; ~~~ ~~~ ~~~ ~~ ~~~ ~~~ ~~~ ~~ ~~~ ~~~ ~~~ ~~ ~~~ ~~~ ~~ ~ \\\\\n",
    "    ~~~ ~~~ ~~~ ~~&x_{n} = x_{n-1} - n; ~~~ \\textit{ if} ~~~ x_{n-1}-n > 0 \\textit{ and not already in the sequence} \\\\\n",
    "    ~~~ ~~~ ~~~ ~~&x_{n} = x_{n-1} + n; ~~~ \\textit{ otherwise}~~~ ~~~ ~~~ ~~ \\\\\n",
    "\\end{align}\n",
    "$\n",
    "\n",
    "**Q**: Write a function that returns the nth digit of the above defined sequence. <br>\n",
    "Note: the above sequence is also known as the Recamán's sequence, and it was invnted by Bernardo Recamán Santos (Bogotá, Colombia)"
   ]
  },
  {
   "cell_type": "code",
   "execution_count": 56,
   "metadata": {},
   "outputs": [],
   "source": [
    "# First, we have to create a set to store the recaman's sequence. The first element is always 0.\n",
    "# \n",
    "\n",
    "def recamans_seq(n):\n",
    "    rec = []\n",
    "    \n",
    "    # if the n given is 0, returns the first element which is 0\n",
    "    if n == 0:\n",
    "        return 0\n",
    "    \n",
    "    # if the n given isn't 0, prints the corresponding term using formula\n",
    "    \n",
    "    elif (recamans_seq(n-1) - 1) > 0 and (recamans_seq(n-1) - 1) not in rec:\n",
    "        return (recamans_seq(n - 1) - 1) \n",
    "        rec.append(recamans_seq(n))\n",
    "    \n",
    "    else:\n",
    "        return recamans_seq(n-1) + 1\n",
    "        \n",
    "      \n",
    "\n",
    "    return recamans_seq(n)"
   ]
  },
  {
   "cell_type": "code",
   "execution_count": 57,
   "metadata": {},
   "outputs": [
    {
     "data": {
      "text/plain": [
       "2"
      ]
     },
     "execution_count": 57,
     "metadata": {},
     "output_type": "execute_result"
    }
   ],
   "source": [
    "recamans_seq(8)"
   ]
  },
  {
   "cell_type": "markdown",
   "metadata": {},
   "source": [
    "## Exercise II - Role Playing with Python\n",
    "\n",
    "**Q**: Create a function named randomNr that takes a number (e.g., m) as an argument and returns a random number from 1 to m."
   ]
  },
  {
   "cell_type": "code",
   "execution_count": 1,
   "metadata": {},
   "outputs": [
    {
     "data": {
      "text/plain": [
       "5"
      ]
     },
     "execution_count": 1,
     "metadata": {},
     "output_type": "execute_result"
    }
   ],
   "source": [
    "import random\n",
    "def randomNr(m):\n",
    "    return  random.randint(1,m)\n",
    "    #print(\"The random number is\", random.randint(1,m))\n",
    "\n",
    "randomNr(5)"
   ]
  },
  {
   "cell_type": "markdown",
   "metadata": {},
   "source": [
    "**Q**: Create a function named keyReturner that takes a number (n) and a dictionary (s) as arguments and returns n random keys from s."
   ]
  },
  {
   "cell_type": "code",
   "execution_count": 2,
   "metadata": {},
   "outputs": [],
   "source": [
    "#First we have to creat a empty list to save the dictionary keys.\n",
    "#Then we use random.sample to extract n random keys from the list of keys\n",
    "\n",
    "def keyReturner(n,s):\n",
    "    keys = list(s.keys())\n",
    "    return random.sample(keys, n)"
   ]
  },
  {
   "cell_type": "markdown",
   "metadata": {},
   "source": [
    "**Q**: Create a function named boolGen that takes a number (p) as argument and returns True with probability p, else it returns False.\n",
    "\n",
    "**NOTE:** Your function needs to consider if p is a number from 0 to 1 (and hence is the probability itself) or if p is between 0 to 100 (and hence is in percentage and needs to be changed to a probability). If the value inserted is inferior to 0 or bigger than 100 the function should assume p to be 0.5\n",
    "\n",
    "**To clarify**\n",
    "If p is 0.45 we will have a 45% chance to return True. If p is 55, it needs to be converted to 0.55 (having the same meaning as previously stated: 55% chance of returning true)"
   ]
  },
  {
   "cell_type": "code",
   "execution_count": 3,
   "metadata": {},
   "outputs": [],
   "source": [
    "def boolGen(p):\n",
    "    \n",
    "    # p is a number between 0 and 1\n",
    "    if 0 <= p <= 1:\n",
    "        d = random.random()\n",
    "        if d < p:\n",
    "            return True\n",
    "        else:\n",
    "            return False\n",
    "        \n",
    "    # p is a number between 0 and 100\n",
    "    elif 0 <= p <= 100:\n",
    "        d = random.random()\n",
    "        if d < p/100:\n",
    "            return True\n",
    "        else:\n",
    "            return False\n",
    "        \n",
    "    # p is a number inferior to 0 or bigger than 100\n",
    "    else:\n",
    "        d = random.random()\n",
    "        if d < 0.5:\n",
    "            return True\n",
    "        else:\n",
    "            return False\n",
    "         \n",
    "            "
   ]
  },
  {
   "cell_type": "markdown",
   "metadata": {},
   "source": [
    "**Q**: Create a function named applyDiscount that receives a number (v) and a boolean (b) as arguments. If b is true then the function should apply a discount of 15% to the number, and return it. Otherwise it should return the number as is."
   ]
  },
  {
   "cell_type": "code",
   "execution_count": 4,
   "metadata": {},
   "outputs": [],
   "source": [
    "#we aply 15% of discount, so we want the rest 85% of the price\n",
    "def applyDiscount(v, b):\n",
    "    if b is True:\n",
    "        price = (v * 0.85)\n",
    "    else:\n",
    "        price = v\n",
    "    return price"
   ]
  },
  {
   "cell_type": "markdown",
   "metadata": {},
   "source": [
    "**Q**: Create a function called customerSim. This function takes as an input two dictionaries (stock and prices). <br>\n",
    "Then it should perform the following steps:\n",
    "1. **Call randomNr** to generate a number between 1 and the maximum number of videogames available in the store's stock (this number will represent the number of videogames that will be purchased);\n",
    "2. **Call keyReturner**, passing the number of videogames that will be purchased obtained from 1. and the stock dictionary, in order to determine what are the codes of the videogames to be purchased;\n",
    "3. **Call applyDiscount** to each value in the customer order and combined with the boolGen, decide whether you apply a discount or not to each item;\n",
    "5. **Print the following message** \"Dear customer, your order of Y items has a total cost of X euros, and a 15% discount was applied to W items.\", replacing X,Y, W with the respective values.\n",
    "6. **Return a tuple** with the number of items ordered, total cost, and the total discount applied.\n",
    "\n",
    "- Run the function customerSim to simulate the orders of 10 clients."
   ]
  },
  {
   "cell_type": "code",
   "execution_count": 5,
   "metadata": {},
   "outputs": [],
   "source": [
    "def customerSim(stock,prices):\n",
    "    \n",
    "    #number of videogames using funtion random_nr\n",
    "    nmbr_videogames = randomNr(len(stock.keys()))\n",
    "    \n",
    "    #codes of the videogames to be purchased \n",
    "    videogames_codes = keyReturner(nmbr_videogames, stock)\n",
    "    \n",
    "    #creat 3 variables to save the number of items with discount\n",
    "    #the cost and the discount\n",
    "    nmb_items_discount = 0\n",
    "    cost = 0 \n",
    "    discount = 0 \n",
    "    \n",
    "    #loop to find if it's a discount, using a applyDiscount\n",
    "    for i in prices:\n",
    "        if i in videogames_codes:\n",
    "            if boolGen(0.5) == False:\n",
    "                actual_price = prices[i]\n",
    "            else: \n",
    "                actual_price = applyDiscount(prices.get(i), boolGen(0.5))\n",
    "                \n",
    "        cost += actual_price\n",
    "        cost_2 = round(cost, 2)\n",
    "\n",
    "        #confirm if there is a discount\n",
    "        if actual_price != prices.get(i):\n",
    "            nmb_items_discount += 1\n",
    "            discount += prices.get(i) - actual_price #to find the value of the discount\n",
    "\n",
    "\n",
    "    print(\"Dear customer, your order of\", nmbr_videogames, \"items has a total cost of\", cost_2, \"euros, and a 15% discount was applied to\", nmb_items_discount, \" items.\")\n",
    "    \n",
    "    final_tuple = tuple([nmb_items_discount,cost,discount]) \n",
    "    print(final_tuple)"
   ]
  },
  {
   "cell_type": "code",
   "execution_count": 6,
   "metadata": {},
   "outputs": [],
   "source": [
    "stock = {\n",
    "    \n",
    "    \"234\":\"God of War\",\n",
    "    \"956\":\"Call of Duty: Modern Warfare 2\",\n",
    "    \"365\":\"Final Fantasy IX\",\n",
    "    \"827\":\"BioShock Infinite\",\n",
    "    \"106\":\"World of Goo\",\n",
    "    \"465\":\"Metal Gear Solid V: The Phantom Pain\",\n",
    "    \"622\":\"Portal 2\",\n",
    "    \"266\":\"The Last of Us\",\n",
    "    \"534\":\"The Legend of Zelda: Majora's Mask\",\n",
    "    \"884\":\"Halo 2\",\n",
    "    \"472\":\"Red Dead Redemption\",\n",
    "    \"123\":\"Grand Theft Auto: San Andreas\"\n",
    "    \n",
    "}\n",
    "\n",
    "prices = {\n",
    "    \n",
    "    \"234\":49.99,\n",
    "    \"956\":35.0,\n",
    "    \"365\":68.99,\n",
    "    \"827\":20.99,\n",
    "    \"106\":2.50,\n",
    "    \"465\":49.99,\n",
    "    \"622\":19.99,\n",
    "    \"266\":19.99,\n",
    "    \"534\":5.99,\n",
    "    \"884\":9.99,\n",
    "    \"472\":19.99,\n",
    "    \"123\":24.99\n",
    "    \n",
    "}"
   ]
  },
  {
   "cell_type": "code",
   "execution_count": 7,
   "metadata": {},
   "outputs": [
    {
     "name": "stdout",
     "output_type": "stream",
     "text": [
      "Dear customer, your order of 11 items has a total cost of 263.52 euros, and a 15% discount was applied to 6  items.\n",
      "(6, 263.5175, 64.8825)\n"
     ]
    }
   ],
   "source": [
    "#Call your function here :)\n",
    "customerSim(stock,prices)"
   ]
  },
  {
   "cell_type": "markdown",
   "metadata": {},
   "source": [
    "## Exercise III - Map and Filter\n",
    "\n",
    "#### You can go to the documentation on: https://book.pythontips.com/en/latest/map_filter.html\n",
    "\n",
    "**Q**: Consider the list A declared below. Use the function map() to change the values in A by adding 1 to each value if it is even and subtracting 1 to it otherwise."
   ]
  },
  {
   "cell_type": "code",
   "execution_count": 2,
   "metadata": {},
   "outputs": [],
   "source": [
    "A = [460,3347,3044,490,699,1258,1804,973,2223,3416,2879,1058,2915,2422,351,1543,1020,208,643,795,3337,2585,471,2623,1077]"
   ]
  },
  {
   "cell_type": "code",
   "execution_count": 3,
   "metadata": {},
   "outputs": [
    {
     "name": "stdout",
     "output_type": "stream",
     "text": [
      "[461, 3346, 3045, 491, 698, 1259, 1805, 972, 2222, 3417, 2878, 1059, 2914, 2423, 350, 1542, 1021, 209, 642, 794, 3336, 2584, 470, 2622, 1076]\n"
     ]
    }
   ],
   "source": [
    "print(list(map(lambda x: x+1 if x% 2 == 0 else x-1,A)))"
   ]
  },
  {
   "cell_type": "markdown",
   "metadata": {},
   "source": [
    "**Q:** Create a list B with the same size of A, and where each element is True if the associated value in list A is greater than 700, else is False. <br>\n",
    "Note: You should use the function map()"
   ]
  },
  {
   "cell_type": "code",
   "execution_count": 4,
   "metadata": {},
   "outputs": [
    {
     "name": "stdout",
     "output_type": "stream",
     "text": [
      "[False, True, True, False, False, True, True, True, True, True, True, True, True, True, False, True, True, False, False, True, True, True, False, True, True]\n"
     ]
    }
   ],
   "source": [
    "B = list(map(lambda x:x  > 700, A))\n",
    "print(B)   "
   ]
  },
  {
   "cell_type": "markdown",
   "metadata": {},
   "source": [
    "**Q**: Create a list L that contains the Logarithm of base 10 of each value in A. <br>\n",
    "Note: You should use the module math to compute the logarithm."
   ]
  },
  {
   "cell_type": "code",
   "execution_count": 5,
   "metadata": {},
   "outputs": [
    {
     "name": "stdout",
     "output_type": "stream",
     "text": [
      "[2.662757831681574, 3.5246557123577773, 3.4834446480985353, 2.690196080028514, 2.8444771757456815, 3.09968064110925, 3.256236533205923, 2.988112840268352, 3.3469394626989906, 3.5335178620169674, 3.459241664878082, 3.024485667699167, 3.464638559095033, 3.3841741388070337, 2.545307116465824, 3.188365926063148, 3.0086001717619175, 2.3180633349627615, 2.808210972924222, 2.9003671286564705, 3.5233562066547925, 3.412460547429961, 2.673020907128896, 3.4187982905903533, 3.0322157032979815]\n"
     ]
    }
   ],
   "source": [
    "import math\n",
    "\n",
    "#creat an empty list and we append the log of each value of A. We use the math module\n",
    "L = []\n",
    "\n",
    "for i in range(len(A)):\n",
    "    L.append(math.log10(A[i]))\n",
    "\n",
    "print(L)"
   ]
  },
  {
   "cell_type": "markdown",
   "metadata": {},
   "source": [
    "**Q**: How many numbers in A are greater than 1000? <br>\n",
    "Note: You should use the function filter()"
   ]
  },
  {
   "cell_type": "code",
   "execution_count": 6,
   "metadata": {},
   "outputs": [
    {
     "data": {
      "text/plain": [
       "16"
      ]
     },
     "execution_count": 6,
     "metadata": {},
     "output_type": "execute_result"
    }
   ],
   "source": [
    "greater = list(filter(lambda x: x > 1000, A))\n",
    "\n",
    "len(greater)"
   ]
  },
  {
   "cell_type": "markdown",
   "metadata": {},
   "source": [
    "Congratulations, it is done! <br>\n",
    "**Don't forget, if you have any questions related with the homework assignment leave a post in the Moodle Forum.**"
   ]
  }
 ],
 "metadata": {
  "kernelspec": {
   "display_name": "Python 3",
   "language": "python",
   "name": "python3"
  },
  "language_info": {
   "codemirror_mode": {
    "name": "ipython",
    "version": 3
   },
   "file_extension": ".py",
   "mimetype": "text/x-python",
   "name": "python",
   "nbconvert_exporter": "python",
   "pygments_lexer": "ipython3",
   "version": "3.7.11"
  }
 },
 "nbformat": 4,
 "nbformat_minor": 4
}
