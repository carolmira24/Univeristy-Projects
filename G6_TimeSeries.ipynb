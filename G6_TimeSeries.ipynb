{
 "cells": [
  {
   "cell_type": "code",
   "execution_count": null,
   "metadata": {},
   "outputs": [],
   "source": [
    "#Projeto PACD1\n",
    "#24-05-2021\n",
    "#G6\n",
    "#Carolina Mira-92903\n",
    "#Catarina Neves-92591\n",
    "#Carolina Gato-93145"
   ]
  },
  {
   "cell_type": "code",
   "execution_count": null,
   "metadata": {},
   "outputs": [],
   "source": [
    "# first we import matplotlib as mpl.\n",
    "import matplotlib as mpl\n",
    "# Then we import the Scripting layer matplotlib.pyplot as plt.\n",
    "import matplotlib.pyplot as plt\n",
    "# Next we import numpy.\n",
    "import numpy as np\n",
    "import pandas as pd\n",
    "\n",
    "import seaborn as sns"
   ]
  },
  {
   "cell_type": "markdown",
   "metadata": {},
   "source": [
    "### BIOLOGY EQR DATA:"
   ]
  },
  {
   "cell_type": "code",
   "execution_count": null,
   "metadata": {},
   "outputs": [],
   "source": [
    "Beqr = pd.read_csv(\"Waterbase_v2018_1_T_WISE4_BiologyEQRData.csv\")"
   ]
  },
  {
   "cell_type": "code",
   "execution_count": null,
   "metadata": {},
   "outputs": [],
   "source": [
    "Beqr.head()"
   ]
  },
  {
   "cell_type": "code",
   "execution_count": null,
   "metadata": {},
   "outputs": [],
   "source": [
    "#eliminar variaveis que logo à partida não tem interesse para o nosso estudo\n",
    "Beqr = Beqr.drop(['monitoringSiteIdentifier','monitoringSiteIdentifierScheme','Remarks',\n",
    "                  'metadata_versionId','metadata_beginLifeSpanVersion', 'metadata_statusCode',\n",
    "                  'metadata_observationStatus','metadata_statements'], axis = 1)"
   ]
  },
  {
   "cell_type": "code",
   "execution_count": null,
   "metadata": {},
   "outputs": [],
   "source": [
    "Beqr.count()"
   ]
  },
  {
   "cell_type": "code",
   "execution_count": null,
   "metadata": {},
   "outputs": [],
   "source": [
    "len(Beqr['UID'].unique())"
   ]
  },
  {
   "cell_type": "code",
   "execution_count": null,
   "metadata": {},
   "outputs": [],
   "source": [
    "Beqr.head()"
   ]
  },
  {
   "cell_type": "markdown",
   "metadata": {},
   "source": [
    "### 2º Passo CRISP-DM"
   ]
  },
  {
   "cell_type": "code",
   "execution_count": null,
   "metadata": {},
   "outputs": [],
   "source": [
    "#Verificação do tamanho do dataset\n",
    "Beqr.shape"
   ]
  },
  {
   "cell_type": "code",
   "execution_count": null,
   "metadata": {},
   "outputs": [],
   "source": [
    "#Verificação do tipo de variáveis presentes no dataset\n",
    "Beqr.dtypes"
   ]
  },
  {
   "cell_type": "code",
   "execution_count": null,
   "metadata": {},
   "outputs": [],
   "source": [
    "#Observação das colunas \"object\"\n",
    "Beqr.select_dtypes(include='object').head()"
   ]
  },
  {
   "cell_type": "code",
   "execution_count": null,
   "metadata": {},
   "outputs": [],
   "source": [
    "#Observação das colunas que não são do tipo \"object\"\n",
    "Beqr.select_dtypes(exclude='object').head()"
   ]
  },
  {
   "cell_type": "code",
   "execution_count": null,
   "metadata": {},
   "outputs": [],
   "source": [
    "Beqr.count()"
   ]
  },
  {
   "cell_type": "code",
   "execution_count": null,
   "metadata": {},
   "outputs": [],
   "source": [
    "#Verificação da presença de valores omissos\n",
    "Beqr.isnull().any()"
   ]
  },
  {
   "cell_type": "code",
   "execution_count": null,
   "metadata": {},
   "outputs": [],
   "source": [
    "#Quantos valores omissos existem por variável\n",
    "Beqr.isnull().sum()"
   ]
  },
  {
   "cell_type": "code",
   "execution_count": null,
   "metadata": {},
   "outputs": [],
   "source": [
    "# % de valores omissos\n",
    "for col in Beqr.columns:\n",
    "    miss=np.mean(Beqr[col].isnull())\n",
    "    print('{}-{}%'.format(col,round(miss*100)))\n",
    "#possivelmente eliminar resultObservationStatus porque apresenta 73% de valores omissos"
   ]
  },
  {
   "cell_type": "code",
   "execution_count": null,
   "metadata": {},
   "outputs": [],
   "source": [
    "#Verificação da presença de valores duplicados\n",
    "Beqr[Beqr.duplicated()]"
   ]
  },
  {
   "cell_type": "code",
   "execution_count": null,
   "metadata": {},
   "outputs": [],
   "source": [
    "Beqr.duplicated().count()\n",
    "#não existem duplicados"
   ]
  },
  {
   "cell_type": "code",
   "execution_count": null,
   "metadata": {},
   "outputs": [],
   "source": [
    "Beqr['parameterWaterBodyCategory'].value_counts()"
   ]
  },
  {
   "cell_type": "code",
   "execution_count": null,
   "metadata": {},
   "outputs": [],
   "source": [
    "Beqr['resultNormalisedEQRValue'].max()"
   ]
  },
  {
   "cell_type": "code",
   "execution_count": null,
   "metadata": {},
   "outputs": [],
   "source": [
    "Beqr['resultNormalisedEQRValue'].min()\n",
    "#notamos que o minimo apresenta um valor fora do intervalo 0,1"
   ]
  },
  {
   "cell_type": "code",
   "execution_count": null,
   "metadata": {},
   "outputs": [],
   "source": [
    "#ver a data inicial \n",
    "Beqr.sort_values('phenomenonTimeReferenceYear', ascending = True).head()\n",
    "#1992"
   ]
  },
  {
   "cell_type": "code",
   "execution_count": null,
   "metadata": {},
   "outputs": [],
   "source": [
    "#ver a data final\n",
    "Beqr.sort_values('phenomenonTimeReferenceYear', ascending = False).head()\n",
    "#2017"
   ]
  },
  {
   "cell_type": "code",
   "execution_count": null,
   "metadata": {},
   "outputs": [],
   "source": [
    "Beqr[['resultEcologicalStatusClassValue','resultEQRValue' ,'resultNormalisedEQRValue']]"
   ]
  },
  {
   "cell_type": "code",
   "execution_count": null,
   "metadata": {},
   "outputs": [],
   "source": [
    "plt.style.use('seaborn-colorblind')"
   ]
  },
  {
   "cell_type": "code",
   "execution_count": null,
   "metadata": {},
   "outputs": [],
   "source": [
    "# barplot for parameterWaterBodyCategory\n",
    "sns.countplot(x='parameterWaterBodyCategory',data=Beqr, palette=\"Set3\")"
   ]
  },
  {
   "cell_type": "code",
   "execution_count": null,
   "metadata": {},
   "outputs": [],
   "source": [
    "Beqr['parameterWaterBodyCategory'].value_counts().plot(kind='pie')\n",
    "#nota-se que TW e CW apresentam valores muito inferiores a RW, pelo que nem aparecem nos gráficos."
   ]
  },
  {
   "cell_type": "code",
   "execution_count": null,
   "metadata": {},
   "outputs": [],
   "source": [
    "Beqr.describe()"
   ]
  },
  {
   "cell_type": "code",
   "execution_count": null,
   "metadata": {},
   "outputs": [],
   "source": [
    "#correlações\n",
    "Beqr.corr()\n",
    "#correlações no geral baixas"
   ]
  },
  {
   "cell_type": "code",
   "execution_count": null,
   "metadata": {},
   "outputs": [],
   "source": [
    "#heat map correlações\n",
    "plt.figure(figsize=(16, 6))\n",
    "# Store heatmap object in a variable to easily access it when you want to include more features (such as title).\n",
    "# Set the range of values to be displayed on the colormap from -1 to 1, and set the annotation to True to display the correlation values on the heatmap.\n",
    "heatmap = sns.heatmap(Beqr.corr(), vmin=-1, vmax=1, annot=True)\n",
    "# Give a title to the heatmap. Pad defines the distance of the title from the top of the heatmap.\n",
    "heatmap.set_title('Correlation Heatmap', fontdict={'fontsize':12}, pad=12);"
   ]
  },
  {
   "cell_type": "code",
   "execution_count": null,
   "metadata": {},
   "outputs": [],
   "source": [
    "sns.pairplot(Beqr)"
   ]
  },
  {
   "cell_type": "code",
   "execution_count": null,
   "metadata": {},
   "outputs": [],
   "source": [
    "Beqr['phenomenonTimeReferenceYear'].value_counts()\n",
    "#não ha nenhum registo que não seja um ano"
   ]
  },
  {
   "cell_type": "code",
   "execution_count": null,
   "metadata": {},
   "outputs": [],
   "source": [
    "Beqr.sort_values('resultNormalisedEQRValue', ascending = True).head()\n",
    "#reparamos que existem 2 registos mal classificados (não estão entre 0 e 1)"
   ]
  },
  {
   "cell_type": "code",
   "execution_count": null,
   "metadata": {},
   "outputs": [],
   "source": [
    "ax= sns.countplot(x='phenomenonTimeReferenceYear',data=Beqr)\n",
    "ax.figure.set_size_inches(15, 10)\n",
    "#reparamos que os primeiros anos apresentam apenas 1 valor pelo que pode existir um enviesamento dos dados"
   ]
  },
  {
   "cell_type": "code",
   "execution_count": null,
   "metadata": {},
   "outputs": [],
   "source": [
    "plt.scatter(Beqr['resultEQRValue'], Beqr['resultNormalisedEQRValue'])"
   ]
  },
  {
   "cell_type": "markdown",
   "metadata": {},
   "source": [
    "## Outliers"
   ]
  },
  {
   "cell_type": "code",
   "execution_count": null,
   "metadata": {},
   "outputs": [],
   "source": [
    "fig, ax = plt.subplots(figsize=(15, 5))\n",
    "\n",
    "sns.boxplot(Beqr['resultEcologicalStatusClassValue'], orient = 'v')\n",
    "\n",
    "ax.set_title('ClassValeu', fontsize = 15, loc='center')\n",
    "ax.set_xlabel('classvalue', fontsize = 13)\n",
    "plt.tick_params(axis='x', which='major', labelsize=12)\n",
    "ax.yaxis.tick_left()\n",
    "#possivel outlier"
   ]
  },
  {
   "cell_type": "code",
   "execution_count": null,
   "metadata": {},
   "outputs": [],
   "source": [
    "fig, ax = plt.subplots(figsize=(15, 5))\n",
    "\n",
    "sns.boxplot(Beqr['resultEQRValue'], orient = 'v')\n",
    "\n",
    "ax.set_title('EQRValue', fontsize = 15, loc='center')\n",
    "ax.set_xlabel('EQRValue', fontsize = 13)\n",
    "plt.tick_params(axis='x', which='major', labelsize=12)\n",
    "ax.yaxis.tick_left() "
   ]
  },
  {
   "cell_type": "code",
   "execution_count": null,
   "metadata": {},
   "outputs": [],
   "source": [
    "\n",
    "fig, ax = plt.subplots(figsize=(15, 5))\n",
    "\n",
    "sns.boxplot(Beqr['resultNormalisedEQRValue'], orient = 'v')\n",
    "\n",
    "ax.set_title('EQRValue_norm', fontsize = 15, loc='center')\n",
    "plt.tick_params(axis='x', which='major', labelsize=12)\n",
    "ax.yaxis.tick_left() \n"
   ]
  },
  {
   "cell_type": "code",
   "execution_count": null,
   "metadata": {},
   "outputs": [],
   "source": [
    "#Nas séries temporais não se retiram outliers, pelo que não vamos proceder \n",
    "#à limpeza dos mesmos "
   ]
  },
  {
   "cell_type": "markdown",
   "metadata": {},
   "source": [
    "### 3º Passo CRISP-DM"
   ]
  },
  {
   "cell_type": "markdown",
   "metadata": {},
   "source": [
    "### Limpeza dos dados"
   ]
  },
  {
   "cell_type": "code",
   "execution_count": null,
   "metadata": {},
   "outputs": [],
   "source": [
    "# apenas vamos tratar os dados necessários para a aplicação das series temporais"
   ]
  },
  {
   "cell_type": "code",
   "execution_count": null,
   "metadata": {},
   "outputs": [],
   "source": [
    "Beqr_ts = Beqr[['phenomenonTimeReferenceYear','resultNormalisedEQRValue']]"
   ]
  },
  {
   "cell_type": "code",
   "execution_count": null,
   "metadata": {},
   "outputs": [],
   "source": [
    "Beqr_ts.isnull().sum()"
   ]
  },
  {
   "cell_type": "code",
   "execution_count": null,
   "metadata": {},
   "outputs": [],
   "source": [
    "#Eliminação dos dados omissos\n",
    "Beqr_ts_clean = Beqr_ts.dropna()"
   ]
  },
  {
   "cell_type": "code",
   "execution_count": null,
   "metadata": {},
   "outputs": [],
   "source": [
    "Beqr_ts_clean.count()"
   ]
  },
  {
   "cell_type": "code",
   "execution_count": null,
   "metadata": {},
   "outputs": [],
   "source": [
    "Beqr_ts_clean.head()"
   ]
  },
  {
   "cell_type": "code",
   "execution_count": null,
   "metadata": {},
   "outputs": [],
   "source": [
    "Beqr_ts_clean.sort_values('resultNormalisedEQRValue', ascending = True)\n",
    "#notamos que exsitem 2 registos que não estão entre 0 e 1 por isso é necessário eliminar."
   ]
  },
  {
   "cell_type": "code",
   "execution_count": null,
   "metadata": {},
   "outputs": [],
   "source": [
    "Beqr_ts_clean= Beqr_ts_clean.drop(labels=[28907,28874], axis=0)"
   ]
  },
  {
   "cell_type": "code",
   "execution_count": null,
   "metadata": {},
   "outputs": [],
   "source": [
    "Beqr_ts_clean.drop(Beqr_ts_clean.loc[Beqr_ts_clean['resultNormalisedEQRValue']==0].index, inplace=True) \n",
    "#eliminar porque, mais a frente da aplicação das séries temporias o gráfico\n",
    "# da decomposição não aceita valores negativos nem valores iguais a 0 "
   ]
  },
  {
   "cell_type": "code",
   "execution_count": null,
   "metadata": {},
   "outputs": [],
   "source": [
    "Beqr_ts_clean.shape"
   ]
  },
  {
   "cell_type": "code",
   "execution_count": null,
   "metadata": {},
   "outputs": [],
   "source": [
    "#confirmar que apagou\n",
    "Beqr_ts_clean.sort_values('resultNormalisedEQRValue', ascending = True)"
   ]
  },
  {
   "cell_type": "code",
   "execution_count": null,
   "metadata": {},
   "outputs": [],
   "source": [
    "Beqr_ts_clean.head()"
   ]
  },
  {
   "cell_type": "code",
   "execution_count": null,
   "metadata": {},
   "outputs": [],
   "source": [
    "Beqr_ts_clean.describe()"
   ]
  },
  {
   "cell_type": "code",
   "execution_count": null,
   "metadata": {},
   "outputs": [],
   "source": [
    "fig, ax = plt.subplots(figsize=(15, 5))\n",
    "\n",
    "sns.boxplot(Beqr_ts_clean['resultNormalisedEQRValue'], orient = 'v')\n",
    "\n",
    "ax.set_title('EQRValue_norm', fontsize = 15, loc='center')\n",
    "plt.tick_params(axis='x', which='major', labelsize=12)\n",
    "ax.yaxis.tick_left() \n",
    "#não iremos eliminar os outliers, porque nas séries temporais pode ter a ver com um acontecimento inesperado"
   ]
  },
  {
   "cell_type": "markdown",
   "metadata": {},
   "source": [
    "### 4º Passo CRISP-DM"
   ]
  },
  {
   "cell_type": "markdown",
   "metadata": {},
   "source": [
    "## Time Series"
   ]
  },
  {
   "cell_type": "code",
   "execution_count": null,
   "metadata": {},
   "outputs": [],
   "source": [
    "import pandas as pd\n",
    "from statsmodels.tsa.seasonal import seasonal_decompose\n",
    "import matplotlib.pyplot as plt\n",
    "import seaborn as sns"
   ]
  },
  {
   "cell_type": "markdown",
   "metadata": {},
   "source": [
    "#### Criar df com os anos e a media de valores correspondentes a esse ano"
   ]
  },
  {
   "cell_type": "code",
   "execution_count": null,
   "metadata": {},
   "outputs": [],
   "source": [
    "Beqr_ts_clean = Beqr_ts_clean.rename(columns={'phenomenonTimeReferenceYear': 'Date', 'resultNormalisedEQRValue': 'Value'})"
   ]
  },
  {
   "cell_type": "code",
   "execution_count": null,
   "metadata": {},
   "outputs": [],
   "source": [
    "#é necessáeio transformar o df num com os anos e a correspondente média de valores desse ano\n",
    "a = Beqr_ts_clean.loc[Beqr_ts_clean['Date'] == 1992, 'Value'].mean()\n",
    "b = Beqr_ts_clean.loc[Beqr_ts_clean['Date'] == 1994, 'Value'].mean()\n",
    "c = Beqr_ts_clean.loc[Beqr_ts_clean['Date'] == 1995, 'Value'].mean()\n",
    "d = Beqr_ts_clean.loc[Beqr_ts_clean['Date'] == 1996, 'Value'].mean()\n",
    "e = Beqr_ts_clean.loc[Beqr_ts_clean['Date'] == 1998, 'Value'].mean()\n",
    "f = Beqr_ts_clean.loc[Beqr_ts_clean['Date'] == 1999, 'Value'].mean()\n",
    "g = Beqr_ts_clean.loc[Beqr_ts_clean['Date'] == 2000, 'Value'].mean()\n",
    "h = Beqr_ts_clean.loc[Beqr_ts_clean['Date'] == 2001, 'Value'].mean()\n",
    "i = Beqr_ts_clean.loc[Beqr_ts_clean['Date'] == 2002, 'Value'].mean()\n",
    "j = Beqr_ts_clean.loc[Beqr_ts_clean['Date'] == 2003, 'Value'].mean()\n",
    "k = Beqr_ts_clean.loc[Beqr_ts_clean['Date'] == 2004, 'Value'].mean()\n",
    "l = Beqr_ts_clean.loc[Beqr_ts_clean['Date'] == 2005, 'Value'].mean()\n",
    "m = Beqr_ts_clean.loc[Beqr_ts_clean['Date'] == 2006, 'Value'].mean()\n",
    "n = Beqr_ts_clean.loc[Beqr_ts_clean['Date'] == 2007, 'Value'].mean()\n",
    "o = Beqr_ts_clean.loc[Beqr_ts_clean['Date'] == 2008, 'Value'].mean()\n",
    "p = Beqr_ts_clean.loc[Beqr_ts_clean['Date'] == 2009, 'Value'].mean()\n",
    "q = Beqr_ts_clean.loc[Beqr_ts_clean['Date'] == 2010, 'Value'].mean()\n",
    "r = Beqr_ts_clean.loc[Beqr_ts_clean['Date'] == 2011, 'Value'].mean()\n",
    "s = Beqr_ts_clean.loc[Beqr_ts_clean['Date'] == 2012, 'Value'].mean()\n",
    "t = Beqr_ts_clean.loc[Beqr_ts_clean['Date'] == 2013, 'Value'].mean()\n",
    "u = Beqr_ts_clean.loc[Beqr_ts_clean['Date'] == 2014, 'Value'].mean()\n",
    "v = Beqr_ts_clean.loc[Beqr_ts_clean['Date'] == 2015, 'Value'].mean()\n",
    "x = Beqr_ts_clean.loc[Beqr_ts_clean['Date'] == 2016, 'Value'].mean()\n",
    "z = Beqr_ts_clean.loc[Beqr_ts_clean['Date'] == 2017, 'Value'].mean()"
   ]
  },
  {
   "cell_type": "code",
   "execution_count": null,
   "metadata": {},
   "outputs": [],
   "source": [
    "value = a,b,c,d,e,f,g,h,i,j,k,l,m,n,o,p,q,r,s,t,u,v,x,z"
   ]
  },
  {
   "cell_type": "code",
   "execution_count": null,
   "metadata": {},
   "outputs": [],
   "source": [
    "value"
   ]
  },
  {
   "cell_type": "code",
   "execution_count": null,
   "metadata": {},
   "outputs": [],
   "source": [
    "date = Beqr_ts_clean.Date.unique()"
   ]
  },
  {
   "cell_type": "code",
   "execution_count": null,
   "metadata": {},
   "outputs": [],
   "source": [
    "date.sort()"
   ]
  },
  {
   "cell_type": "code",
   "execution_count": null,
   "metadata": {},
   "outputs": [],
   "source": [
    "d = {'Date': date,'Value': value}\n",
    "Beqr_ts = pd.DataFrame(d)\n",
    "Beqr_ts"
   ]
  },
  {
   "cell_type": "markdown",
   "metadata": {},
   "source": [
    "### Visualização das séries"
   ]
  },
  {
   "cell_type": "code",
   "execution_count": null,
   "metadata": {},
   "outputs": [],
   "source": [
    "def plot_df(df, x, y, title=\"\", xlabel='Date', ylabel='Value', dpi=100):\n",
    "    plt.figure(figsize=(16,5), dpi=dpi)\n",
    "    plt.plot(x, y, color='tab:red')\n",
    "    plt.gca().set(title=title, xlabel=xlabel, ylabel=ylabel)\n",
    "    plt.show()\n",
    "\n",
    "plot_df(Beqr_ts, x=Beqr_ts.Date, y=Beqr_ts.Value, title='Qualidade da água por ano')   \n",
    "\n",
    "#reparamos, logo à partida, uma possível tendência descrescente "
   ]
  },
  {
   "cell_type": "code",
   "execution_count": null,
   "metadata": {},
   "outputs": [],
   "source": [
    "# Multiplicative Decomposition \n",
    "result_mul = seasonal_decompose(Beqr_ts['Value'], model='multiplicative', extrapolate_trend='freq', freq =12)\n",
    "\n",
    "# Additive Decomposition\n",
    "result_add = seasonal_decompose(Beqr_ts['Value'], model='additive', extrapolate_trend='freq', freq =12)\n",
    "\n",
    "# Plot\n",
    "plt.rcParams.update({'figure.figsize': (10,10)})\n",
    "result_mul.plot().suptitle('Multiplicative Decompose', fontsize=22)\n",
    "result_add.plot().suptitle('Additive Decompose', fontsize=22)\n",
    "plt.show()\n"
   ]
  },
  {
   "cell_type": "code",
   "execution_count": null,
   "metadata": {},
   "outputs": [],
   "source": [
    "# Tanto na multiplicativa como na aditiva, notamos uma tendencia decrescente e sazonalidade"
   ]
  },
  {
   "cell_type": "markdown",
   "metadata": {},
   "source": [
    "### Retirar a sazonalidade "
   ]
  },
  {
   "cell_type": "code",
   "execution_count": null,
   "metadata": {},
   "outputs": [],
   "source": [
    "#Retirar a sazonalidade da série \n",
    "deseasonalized = Beqr_ts.Value.values / result_mul.seasonal"
   ]
  },
  {
   "cell_type": "code",
   "execution_count": null,
   "metadata": {},
   "outputs": [],
   "source": [
    "#Plot sem sazonalidade\n",
    "plt.figure(figsize=(16,5), dpi=100)\n",
    "plt.plot(deseasonalized)\n",
    "plt.title('Drug Sales Deseasonalized', fontsize=16)\n",
    "plt.plot()"
   ]
  },
  {
   "cell_type": "markdown",
   "metadata": {},
   "source": [
    "### Estudo da Estacionaridade"
   ]
  },
  {
   "cell_type": "code",
   "execution_count": null,
   "metadata": {},
   "outputs": [],
   "source": [
    "from statsmodels.tsa.stattools import adfuller, kpss"
   ]
  },
  {
   "cell_type": "code",
   "execution_count": null,
   "metadata": {},
   "outputs": [],
   "source": [
    "# ADF Test\n",
    "result = adfuller(deseasonalized.values, autolag='AIC')\n",
    "print(f'ADF Statistic: {result[0]}')\n",
    "print(f'p-value: {result[1]}')\n",
    "for key, value in result[4].items():\n",
    "    print('Critial Values:')\n",
    "    print(f'   {key}, {value}')\n",
    "\n",
    "#H0 - A série é não estacionária\n",
    "# Como o p-value > 0.05 não rejeitamos a hipotese nula, logo a série é não estacionaria "
   ]
  },
  {
   "cell_type": "code",
   "execution_count": null,
   "metadata": {},
   "outputs": [],
   "source": [
    "from arch.unitroot import KPSS\n",
    "\n",
    "kpss = KPSS(deseasonalized.values)\n",
    "print(kpss.summary().as_text())\n",
    "\n",
    "# H0 - a série é estacionária \n",
    "#Como o p-value = 0.03 < 0.05 então rejeita-se a hipotese nula por isso a serie \n",
    "#é não estacionaria "
   ]
  },
  {
   "cell_type": "code",
   "execution_count": null,
   "metadata": {},
   "outputs": [],
   "source": [
    "!pip install arch"
   ]
  },
  {
   "cell_type": "code",
   "execution_count": null,
   "metadata": {},
   "outputs": [],
   "source": [
    "import arch.data.default"
   ]
  },
  {
   "cell_type": "code",
   "execution_count": null,
   "metadata": {},
   "outputs": [],
   "source": [
    "from arch.unitroot import PhillipsPerron\n",
    "pp = PhillipsPerron(deseasonalized.values)\n",
    "print(pp.summary().as_text())\n",
    "\n",
    "#H0 - a série é não estacionaria \n",
    "# Como o p-value > 0.05 não rejeitamos a hipotese nula, logo a série é não estacionaria "
   ]
  },
  {
   "cell_type": "markdown",
   "metadata": {},
   "source": [
    "#### É necessário estacionarizar "
   ]
  },
  {
   "cell_type": "markdown",
   "metadata": {},
   "source": [
    "##### É possivel estacionarizer de diferentes maneiras:\n",
    "    Log - logaritmizar\n",
    "    Subtrair pelo o valor anterior (o mais popular) \n",
    "\n"
   ]
  },
  {
   "cell_type": "code",
   "execution_count": null,
   "metadata": {},
   "outputs": [],
   "source": [
    "#é necessário estacionarizar pois é dificil fazer modelação com uma serie não estacionária\n",
    "import numpy as np, pandas as pd\n",
    "from statsmodels.graphics.tsaplots import plot_acf, plot_pacf\n",
    "import matplotlib.pyplot as plt\n",
    "plt.rcParams.update({'figure.figsize':(9,7), 'figure.dpi':120})\n",
    "\n",
    "# Original Series\n",
    "fig, axes = plt.subplots(3, 2, sharex=True)\n",
    "axes[0, 0].plot(deseasonalized); axes[0, 0].set_title('Original Series')\n",
    "plot_acf(deseasonalized, ax=axes[0, 1])\n",
    "\n",
    "# 1st Differencing\n",
    "axes[1, 0].plot(deseasonalized.diff()); axes[1, 0].set_title('1st Order Differencing')\n",
    "plot_acf(deseasonalized.diff().dropna(), ax=axes[1, 1])\n",
    "\n",
    "# 2nd Differencing\n",
    "axes[2, 0].plot(deseasonalized.diff().diff()); axes[2, 0].set_title('2nd Order Differencing')\n",
    "plot_acf(deseasonalized.diff().diff().dropna(), ax=axes[2, 1])\n",
    "\n",
    "plt.show()\n",
    "\n",
    "#basta fazer o operador de primeira diferença para obter a série estacionaria porque na autocorrelação na primeira diferença\n",
    "#decresce rapidamente para 0 "
   ]
  },
  {
   "cell_type": "code",
   "execution_count": null,
   "metadata": {},
   "outputs": [],
   "source": [
    "#Logaritmizar\n",
    "Beqr_ts_log = np.log(deseasonalized)\n",
    "plt.plot(Beqr_ts_log)\n",
    "plt.show()"
   ]
  },
  {
   "cell_type": "code",
   "execution_count": null,
   "metadata": {},
   "outputs": [],
   "source": [
    "#Subtarir pelo valor anterior\n",
    "Beqr_ts_est = Beqr_ts_log.diff()\n",
    "Beqr_ts_est.dropna()\n",
    "plt.plot(Beqr_ts_est)\n",
    "plt.show()"
   ]
  },
  {
   "cell_type": "code",
   "execution_count": null,
   "metadata": {},
   "outputs": [],
   "source": [
    "Beqr_ts_est = Beqr_ts_est.dropna()"
   ]
  },
  {
   "cell_type": "code",
   "execution_count": null,
   "metadata": {},
   "outputs": [],
   "source": [
    "# ADF Test\n",
    "result = adfuller(Beqr_ts_est.values, autolag='AIC')\n",
    "print(f'ADF Statistic: {result[0]}')\n",
    "print(f'p-value: {result[1]}')\n",
    "for key, value in result[4].items():\n",
    "    print('Critial Values:')\n",
    "    print(f'   {key}, {value}')\n",
    "#H0 - a série é não estacionária \n",
    "#Rejeitamos a hipotese nula por isso a série é estacionária"
   ]
  },
  {
   "cell_type": "code",
   "execution_count": null,
   "metadata": {},
   "outputs": [],
   "source": [
    "from arch.unitroot import KPSS\n",
    "\n",
    "kpss = KPSS(Beqr_ts_est.values)\n",
    "print(kpss.summary().as_text())\n",
    "\n",
    "# H0 - a série é estacionária \n",
    "#Como o p-value = 0.1 > 0.05 então não se rejeita a hipotese nula por isso a serie \n",
    "#é estacionaria "
   ]
  },
  {
   "cell_type": "code",
   "execution_count": null,
   "metadata": {},
   "outputs": [],
   "source": [
    "from arch.unitroot import PhillipsPerron\n",
    "pp = PhillipsPerron(Beqr_ts_est.values)\n",
    "print(pp.summary().as_text())\n",
    "#H0 - a série é não estacionária \n",
    "#Rejeitamos a hipotese nula por isso a série é estacionária"
   ]
  },
  {
   "cell_type": "markdown",
   "metadata": {},
   "source": [
    "### Autocorrelação e Autocorrelação parcial"
   ]
  },
  {
   "cell_type": "code",
   "execution_count": null,
   "metadata": {},
   "outputs": [],
   "source": [
    "from statsmodels.tsa.stattools import acf, pacf\n",
    "from statsmodels.graphics.tsaplots import plot_acf, plot_pacf\n",
    "from pandas.plotting import autocorrelation_plot"
   ]
  },
  {
   "cell_type": "code",
   "execution_count": null,
   "metadata": {},
   "outputs": [],
   "source": [
    "plt.rcParams.update({'figure.figsize':(9,5), 'figure.dpi':120})\n",
    "autocorrelation_plot(deseasonalized.tolist())"
   ]
  },
  {
   "cell_type": "code",
   "execution_count": null,
   "metadata": {},
   "outputs": [],
   "source": [
    "# Draw Plot\n",
    "#necessário para aplicar modelos \n",
    "fig, axes = plt.subplots(1,2,figsize=(16,3), dpi= 100)\n",
    "plot_acf(deseasonalized.tolist(), lags=10, ax=axes[0])\n",
    "plot_pacf(deseasonalized.tolist(), lags=10, ax=axes[1])\n",
    "\n",
    "#notamos que em ambas notamos apenas 2 picos de autocorrelação significativos \n",
    "#fora da faixa azul, podem ser os coeficientes "
   ]
  },
  {
   "cell_type": "markdown",
   "metadata": {},
   "source": [
    "### Lags plot"
   ]
  },
  {
   "cell_type": "code",
   "execution_count": null,
   "metadata": {},
   "outputs": [],
   "source": [
    "#Geralmente é usado como outra forma de verificar a autocorrelação.\n",
    "#Se existir algum padrão, a série é autocorrelacionada. \n",
    "#Se não existir esse padrão, a série provavelmente será um ruído branco aleatório."
   ]
  },
  {
   "cell_type": "code",
   "execution_count": null,
   "metadata": {},
   "outputs": [],
   "source": [
    "from pandas.plotting import lag_plot\n",
    "plt.rcParams.update({'ytick.left' : False, 'axes.titlepad':10})"
   ]
  },
  {
   "cell_type": "code",
   "execution_count": null,
   "metadata": {},
   "outputs": [],
   "source": [
    "# Plot\n",
    "fig, axes = plt.subplots(1, 4, figsize=(10,3), sharex=True, sharey=True, dpi=100)\n",
    "for i, ax in enumerate(axes.flatten()[:4]):\n",
    "    lag_plot(Beqr_ts_est, lag=i+1, ax=ax, c='firebrick')\n",
    "    ax.set_title('Lag ' + str(i+1))\n",
    "\n",
    "fig.suptitle('Lag Plots', y=1.15)    \n",
    "#neste caso não verificamos padrão"
   ]
  },
  {
   "cell_type": "markdown",
   "metadata": {},
   "source": [
    "### Modelação"
   ]
  },
  {
   "cell_type": "markdown",
   "metadata": {},
   "source": [
    "#### Automáticamente a partir do auto_arima"
   ]
  },
  {
   "cell_type": "code",
   "execution_count": null,
   "metadata": {},
   "outputs": [],
   "source": [
    "#com o auto_arima usamos a série original pois esta trata das componentes e estacionaridade\n",
    "from statsmodels.tsa.arima_model import ARIMA\n",
    "import pmdarima as pm\n",
    "\n",
    "model1 = pm.auto_arima(Beqr_ts['Value'], start_p=1, start_q=1,\n",
    "                      test='adf',       # use adftest to find optimal 'd'\n",
    "                      max_p=3, max_q=3, # maximum p and q\n",
    "                      m=1,              # frequency of series\n",
    "                      d=1,           # let model determine 'd'\n",
    "                      seasonal=True,   # No Seasonality\n",
    "                      start_P=1, \n",
    "                      D=1, \n",
    "                      trace=True,\n",
    "                      error_action='ignore',  \n",
    "                      suppress_warnings=True, \n",
    "                      stepwise=True)\n",
    "\n",
    "print(model1.summary())\n"
   ]
  },
  {
   "cell_type": "code",
   "execution_count": null,
   "metadata": {},
   "outputs": [],
   "source": [
    "#o melhor modelo apresenta ser o ARIMA(0,0,1)(0,0,0)"
   ]
  },
  {
   "cell_type": "code",
   "execution_count": null,
   "metadata": {},
   "outputs": [],
   "source": [
    "#o modelo nao tem capacidade de previsao "
   ]
  },
  {
   "cell_type": "code",
   "execution_count": null,
   "metadata": {},
   "outputs": [],
   "source": [
    "pred = model1.predict(start=len(Beqr_ts), end=len(Beqr_ts)+len(Beqr_ts)-1)"
   ]
  },
  {
   "cell_type": "code",
   "execution_count": null,
   "metadata": {},
   "outputs": [],
   "source": [
    "pred\n",
    "#o máximo que se pode prever é a média como ja era de esperar"
   ]
  },
  {
   "cell_type": "code",
   "execution_count": null,
   "metadata": {},
   "outputs": [],
   "source": [
    "model1.plot_diagnostics(figsize=(7,5))\n",
    "plt.show() "
   ]
  },
  {
   "cell_type": "code",
   "execution_count": null,
   "metadata": {},
   "outputs": [],
   "source": [
    "#os resiudos não cumprem o esperado, o que faz sentido pois o modelo não tem capaacidade de previsao\n",
    "#no primeiro gráfico os erros não flutuam em torno da média e a variância nao é uniforme \n",
    "#o grafico de densidade não sugere uma distribuição normal \n",
    "#no terceiro gráfico os pontos deveriam apresentar-se todos sobre a linha, o que tal não acontece\n",
    "#por fim no correlograma mostra que os residuios não sao autocorrelacionados"
   ]
  },
  {
   "cell_type": "code",
   "execution_count": null,
   "metadata": {},
   "outputs": [],
   "source": [
    "#Bibliografia\n",
    "# https://www.machinelearningplus.com/time-series/time-series-analysis-python/\n",
    "#https://www.machinelearningplus.com/time-series/arima-model-time-series-forecasting-python/"
   ]
  }
 ],
 "metadata": {
  "kernelspec": {
   "display_name": "Python 3",
   "language": "python",
   "name": "python3"
  },
  "language_info": {
   "codemirror_mode": {
    "name": "ipython",
    "version": 3
   },
   "file_extension": ".py",
   "mimetype": "text/x-python",
   "name": "python",
   "nbconvert_exporter": "python",
   "pygments_lexer": "ipython3",
   "version": "3.8.5"
  }
 },
 "nbformat": 4,
 "nbformat_minor": 4
}
