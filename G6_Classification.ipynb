{
 "cells": [
  {
   "cell_type": "markdown",
   "metadata": {},
   "source": [
    "### Importações necessárias"
   ]
  },
  {
   "cell_type": "code",
   "execution_count": 1,
   "metadata": {},
   "outputs": [],
   "source": [
    "# first we import matplotlib as mpl.\n",
    "import matplotlib as mpl\n",
    "# Then we import the Scripting layer matplotlib.pyplot as plt.\n",
    "import matplotlib.pyplot as plt\n",
    "# Next we import numpy.\n",
    "import numpy as np\n",
    "import pandas as pd\n",
    "\n",
    "import seaborn as sns"
   ]
  },
  {
   "cell_type": "markdown",
   "metadata": {},
   "source": [
    "### Leitura dataset df_class\n",
    "**df_class** = merge entre Aggregation data e AggregatedDataByWaterBody"
   ]
  },
  {
   "cell_type": "code",
   "execution_count": 2,
   "metadata": {},
   "outputs": [
    {
     "name": "stderr",
     "output_type": "stream",
     "text": [
      "/Users/catarinaneves/opt/anaconda3/lib/python3.8/site-packages/IPython/core/interactiveshell.py:3146: DtypeWarning: Columns (19,21) have mixed types.Specify dtype option on import or set low_memory=False.\n",
      "  has_raised = await self.run_ast_nodes(code_ast.body, cell_name,\n"
     ]
    }
   ],
   "source": [
    "df_class = pd.read_csv(\"df_class.csv\")"
   ]
  },
  {
   "cell_type": "code",
   "execution_count": 3,
   "metadata": {},
   "outputs": [
    {
     "data": {
      "text/html": [
       "<div>\n",
       "<style scoped>\n",
       "    .dataframe tbody tr th:only-of-type {\n",
       "        vertical-align: middle;\n",
       "    }\n",
       "\n",
       "    .dataframe tbody tr th {\n",
       "        vertical-align: top;\n",
       "    }\n",
       "\n",
       "    .dataframe thead th {\n",
       "        text-align: right;\n",
       "    }\n",
       "</style>\n",
       "<table border=\"1\" class=\"dataframe\">\n",
       "  <thead>\n",
       "    <tr style=\"text-align: right;\">\n",
       "      <th></th>\n",
       "      <th>parameterWaterBodyCategory</th>\n",
       "      <th>observedPropertyDeterminandCode</th>\n",
       "      <th>procedureAnalysedFraction</th>\n",
       "      <th>procedureAnalysedMedia</th>\n",
       "      <th>resultUom</th>\n",
       "      <th>phenomenonTimeReferenceYear</th>\n",
       "      <th>parameterSamplingPeriod</th>\n",
       "      <th>procedureLOQValue</th>\n",
       "      <th>resultNumberOfSamples</th>\n",
       "      <th>resultQualityNumberOfSamplesBelowLOQ</th>\n",
       "      <th>...</th>\n",
       "      <th>resultMeanValue</th>\n",
       "      <th>resultQualityMaximumBelowLOQ</th>\n",
       "      <th>resultMaximumValue</th>\n",
       "      <th>resultQualityMedianBelowLOQ</th>\n",
       "      <th>resultMedianValue</th>\n",
       "      <th>resultStandardDeviationValue</th>\n",
       "      <th>procedureAnalyticalMethod</th>\n",
       "      <th>parameterSampleDepth</th>\n",
       "      <th>resultObservationStatus</th>\n",
       "      <th>UID</th>\n",
       "    </tr>\n",
       "  </thead>\n",
       "  <tbody>\n",
       "    <tr>\n",
       "      <th>0</th>\n",
       "      <td>RW</td>\n",
       "      <td>CAS_35065-28-2</td>\n",
       "      <td>total</td>\n",
       "      <td>water</td>\n",
       "      <td>ug/L</td>\n",
       "      <td>2012</td>\n",
       "      <td>2012-01--2012-12</td>\n",
       "      <td>0.001</td>\n",
       "      <td>4.0</td>\n",
       "      <td>4.0</td>\n",
       "      <td>...</td>\n",
       "      <td>0.001</td>\n",
       "      <td>1.0</td>\n",
       "      <td>0.001</td>\n",
       "      <td>NaN</td>\n",
       "      <td>NaN</td>\n",
       "      <td>0.0</td>\n",
       "      <td>NaN</td>\n",
       "      <td>0.0</td>\n",
       "      <td>NaN</td>\n",
       "      <td>9233859</td>\n",
       "    </tr>\n",
       "    <tr>\n",
       "      <th>1</th>\n",
       "      <td>RW</td>\n",
       "      <td>CAS_7012-37-5</td>\n",
       "      <td>total</td>\n",
       "      <td>water</td>\n",
       "      <td>ug/L</td>\n",
       "      <td>2012</td>\n",
       "      <td>2012-01--2012-12</td>\n",
       "      <td>0.001</td>\n",
       "      <td>4.0</td>\n",
       "      <td>4.0</td>\n",
       "      <td>...</td>\n",
       "      <td>0.001</td>\n",
       "      <td>1.0</td>\n",
       "      <td>0.001</td>\n",
       "      <td>NaN</td>\n",
       "      <td>NaN</td>\n",
       "      <td>0.0</td>\n",
       "      <td>NaN</td>\n",
       "      <td>0.0</td>\n",
       "      <td>NaN</td>\n",
       "      <td>9233860</td>\n",
       "    </tr>\n",
       "    <tr>\n",
       "      <th>2</th>\n",
       "      <td>RW</td>\n",
       "      <td>EEA_33-64-7</td>\n",
       "      <td>total</td>\n",
       "      <td>water</td>\n",
       "      <td>ug/L</td>\n",
       "      <td>2012</td>\n",
       "      <td>2012-01--2012-12</td>\n",
       "      <td>5.000</td>\n",
       "      <td>4.0</td>\n",
       "      <td>4.0</td>\n",
       "      <td>...</td>\n",
       "      <td>5.000</td>\n",
       "      <td>1.0</td>\n",
       "      <td>5.000</td>\n",
       "      <td>NaN</td>\n",
       "      <td>NaN</td>\n",
       "      <td>0.0</td>\n",
       "      <td>NaN</td>\n",
       "      <td>0.0</td>\n",
       "      <td>NaN</td>\n",
       "      <td>9233861</td>\n",
       "    </tr>\n",
       "    <tr>\n",
       "      <th>3</th>\n",
       "      <td>RW</td>\n",
       "      <td>CAS_37680-73-2</td>\n",
       "      <td>total</td>\n",
       "      <td>water</td>\n",
       "      <td>ug/L</td>\n",
       "      <td>2012</td>\n",
       "      <td>2012-01--2012-12</td>\n",
       "      <td>0.001</td>\n",
       "      <td>4.0</td>\n",
       "      <td>4.0</td>\n",
       "      <td>...</td>\n",
       "      <td>0.001</td>\n",
       "      <td>1.0</td>\n",
       "      <td>0.001</td>\n",
       "      <td>NaN</td>\n",
       "      <td>NaN</td>\n",
       "      <td>0.0</td>\n",
       "      <td>NaN</td>\n",
       "      <td>0.0</td>\n",
       "      <td>NaN</td>\n",
       "      <td>9233862</td>\n",
       "    </tr>\n",
       "    <tr>\n",
       "      <th>4</th>\n",
       "      <td>RW</td>\n",
       "      <td>CAS_79-01-6</td>\n",
       "      <td>total</td>\n",
       "      <td>water</td>\n",
       "      <td>ug/L</td>\n",
       "      <td>2011</td>\n",
       "      <td>2011-01--2011-12</td>\n",
       "      <td>0.500</td>\n",
       "      <td>8.0</td>\n",
       "      <td>8.0</td>\n",
       "      <td>...</td>\n",
       "      <td>0.500</td>\n",
       "      <td>1.0</td>\n",
       "      <td>0.500</td>\n",
       "      <td>NaN</td>\n",
       "      <td>NaN</td>\n",
       "      <td>0.0</td>\n",
       "      <td>APAT CNR IRSA 5150 2003</td>\n",
       "      <td>NaN</td>\n",
       "      <td>NaN</td>\n",
       "      <td>9233865</td>\n",
       "    </tr>\n",
       "  </tbody>\n",
       "</table>\n",
       "<p>5 rows × 23 columns</p>\n",
       "</div>"
      ],
      "text/plain": [
       "  parameterWaterBodyCategory observedPropertyDeterminandCode  \\\n",
       "0                         RW                  CAS_35065-28-2   \n",
       "1                         RW                   CAS_7012-37-5   \n",
       "2                         RW                     EEA_33-64-7   \n",
       "3                         RW                  CAS_37680-73-2   \n",
       "4                         RW                     CAS_79-01-6   \n",
       "\n",
       "  procedureAnalysedFraction procedureAnalysedMedia resultUom  \\\n",
       "0                     total                  water      ug/L   \n",
       "1                     total                  water      ug/L   \n",
       "2                     total                  water      ug/L   \n",
       "3                     total                  water      ug/L   \n",
       "4                     total                  water      ug/L   \n",
       "\n",
       "   phenomenonTimeReferenceYear parameterSamplingPeriod  procedureLOQValue  \\\n",
       "0                         2012        2012-01--2012-12              0.001   \n",
       "1                         2012        2012-01--2012-12              0.001   \n",
       "2                         2012        2012-01--2012-12              5.000   \n",
       "3                         2012        2012-01--2012-12              0.001   \n",
       "4                         2011        2011-01--2011-12              0.500   \n",
       "\n",
       "   resultNumberOfSamples  resultQualityNumberOfSamplesBelowLOQ  ...  \\\n",
       "0                    4.0                                   4.0  ...   \n",
       "1                    4.0                                   4.0  ...   \n",
       "2                    4.0                                   4.0  ...   \n",
       "3                    4.0                                   4.0  ...   \n",
       "4                    8.0                                   8.0  ...   \n",
       "\n",
       "   resultMeanValue  resultQualityMaximumBelowLOQ  resultMaximumValue  \\\n",
       "0            0.001                           1.0               0.001   \n",
       "1            0.001                           1.0               0.001   \n",
       "2            5.000                           1.0               5.000   \n",
       "3            0.001                           1.0               0.001   \n",
       "4            0.500                           1.0               0.500   \n",
       "\n",
       "   resultQualityMedianBelowLOQ  resultMedianValue  \\\n",
       "0                          NaN                NaN   \n",
       "1                          NaN                NaN   \n",
       "2                          NaN                NaN   \n",
       "3                          NaN                NaN   \n",
       "4                          NaN                NaN   \n",
       "\n",
       "   resultStandardDeviationValue  procedureAnalyticalMethod  \\\n",
       "0                           0.0                        NaN   \n",
       "1                           0.0                        NaN   \n",
       "2                           0.0                        NaN   \n",
       "3                           0.0                        NaN   \n",
       "4                           0.0    APAT CNR IRSA 5150 2003   \n",
       "\n",
       "   parameterSampleDepth  resultObservationStatus      UID  \n",
       "0                   0.0                      NaN  9233859  \n",
       "1                   0.0                      NaN  9233860  \n",
       "2                   0.0                      NaN  9233861  \n",
       "3                   0.0                      NaN  9233862  \n",
       "4                   NaN                      NaN  9233865  \n",
       "\n",
       "[5 rows x 23 columns]"
      ]
     },
     "execution_count": 3,
     "metadata": {},
     "output_type": "execute_result"
    }
   ],
   "source": [
    "df_class.head()"
   ]
  },
  {
   "cell_type": "markdown",
   "metadata": {},
   "source": [
    "## CRISP-DM"
   ]
  },
  {
   "cell_type": "markdown",
   "metadata": {},
   "source": [
    "### 2º Passo"
   ]
  },
  {
   "cell_type": "code",
   "execution_count": 4,
   "metadata": {},
   "outputs": [
    {
     "data": {
      "text/plain": [
       "(3231434, 23)"
      ]
     },
     "execution_count": 4,
     "metadata": {},
     "output_type": "execute_result"
    }
   ],
   "source": [
    "#Verificação do tamanho do dataset\n",
    "df_class.shape"
   ]
  },
  {
   "cell_type": "code",
   "execution_count": 5,
   "metadata": {},
   "outputs": [
    {
     "data": {
      "text/plain": [
       "parameterWaterBodyCategory               object\n",
       "observedPropertyDeterminandCode          object\n",
       "procedureAnalysedFraction                object\n",
       "procedureAnalysedMedia                   object\n",
       "resultUom                                object\n",
       "phenomenonTimeReferenceYear               int64\n",
       "parameterSamplingPeriod                  object\n",
       "procedureLOQValue                       float64\n",
       "resultNumberOfSamples                   float64\n",
       "resultQualityNumberOfSamplesBelowLOQ    float64\n",
       "resultQualityMinimumBelowLOQ            float64\n",
       "resultMinimumValue                      float64\n",
       "resultQualityMeanBelowLOQ               float64\n",
       "resultMeanValue                         float64\n",
       "resultQualityMaximumBelowLOQ            float64\n",
       "resultMaximumValue                      float64\n",
       "resultQualityMedianBelowLOQ             float64\n",
       "resultMedianValue                       float64\n",
       "resultStandardDeviationValue            float64\n",
       "procedureAnalyticalMethod                object\n",
       "parameterSampleDepth                    float64\n",
       "resultObservationStatus                  object\n",
       "UID                                       int64\n",
       "dtype: object"
      ]
     },
     "execution_count": 5,
     "metadata": {},
     "output_type": "execute_result"
    }
   ],
   "source": [
    "#Verificação do tipo de variáveis presentes no dataset\n",
    "df_class.dtypes"
   ]
  },
  {
   "cell_type": "code",
   "execution_count": 6,
   "metadata": {},
   "outputs": [
    {
     "data": {
      "text/html": [
       "<div>\n",
       "<style scoped>\n",
       "    .dataframe tbody tr th:only-of-type {\n",
       "        vertical-align: middle;\n",
       "    }\n",
       "\n",
       "    .dataframe tbody tr th {\n",
       "        vertical-align: top;\n",
       "    }\n",
       "\n",
       "    .dataframe thead th {\n",
       "        text-align: right;\n",
       "    }\n",
       "</style>\n",
       "<table border=\"1\" class=\"dataframe\">\n",
       "  <thead>\n",
       "    <tr style=\"text-align: right;\">\n",
       "      <th></th>\n",
       "      <th>parameterWaterBodyCategory</th>\n",
       "      <th>observedPropertyDeterminandCode</th>\n",
       "      <th>procedureAnalysedFraction</th>\n",
       "      <th>procedureAnalysedMedia</th>\n",
       "      <th>resultUom</th>\n",
       "      <th>parameterSamplingPeriod</th>\n",
       "      <th>procedureAnalyticalMethod</th>\n",
       "      <th>resultObservationStatus</th>\n",
       "    </tr>\n",
       "  </thead>\n",
       "  <tbody>\n",
       "    <tr>\n",
       "      <th>0</th>\n",
       "      <td>RW</td>\n",
       "      <td>CAS_35065-28-2</td>\n",
       "      <td>total</td>\n",
       "      <td>water</td>\n",
       "      <td>ug/L</td>\n",
       "      <td>2012-01--2012-12</td>\n",
       "      <td>NaN</td>\n",
       "      <td>NaN</td>\n",
       "    </tr>\n",
       "    <tr>\n",
       "      <th>1</th>\n",
       "      <td>RW</td>\n",
       "      <td>CAS_7012-37-5</td>\n",
       "      <td>total</td>\n",
       "      <td>water</td>\n",
       "      <td>ug/L</td>\n",
       "      <td>2012-01--2012-12</td>\n",
       "      <td>NaN</td>\n",
       "      <td>NaN</td>\n",
       "    </tr>\n",
       "    <tr>\n",
       "      <th>2</th>\n",
       "      <td>RW</td>\n",
       "      <td>EEA_33-64-7</td>\n",
       "      <td>total</td>\n",
       "      <td>water</td>\n",
       "      <td>ug/L</td>\n",
       "      <td>2012-01--2012-12</td>\n",
       "      <td>NaN</td>\n",
       "      <td>NaN</td>\n",
       "    </tr>\n",
       "    <tr>\n",
       "      <th>3</th>\n",
       "      <td>RW</td>\n",
       "      <td>CAS_37680-73-2</td>\n",
       "      <td>total</td>\n",
       "      <td>water</td>\n",
       "      <td>ug/L</td>\n",
       "      <td>2012-01--2012-12</td>\n",
       "      <td>NaN</td>\n",
       "      <td>NaN</td>\n",
       "    </tr>\n",
       "    <tr>\n",
       "      <th>4</th>\n",
       "      <td>RW</td>\n",
       "      <td>CAS_79-01-6</td>\n",
       "      <td>total</td>\n",
       "      <td>water</td>\n",
       "      <td>ug/L</td>\n",
       "      <td>2011-01--2011-12</td>\n",
       "      <td>APAT CNR IRSA 5150 2003</td>\n",
       "      <td>NaN</td>\n",
       "    </tr>\n",
       "  </tbody>\n",
       "</table>\n",
       "</div>"
      ],
      "text/plain": [
       "  parameterWaterBodyCategory observedPropertyDeterminandCode  \\\n",
       "0                         RW                  CAS_35065-28-2   \n",
       "1                         RW                   CAS_7012-37-5   \n",
       "2                         RW                     EEA_33-64-7   \n",
       "3                         RW                  CAS_37680-73-2   \n",
       "4                         RW                     CAS_79-01-6   \n",
       "\n",
       "  procedureAnalysedFraction procedureAnalysedMedia resultUom  \\\n",
       "0                     total                  water      ug/L   \n",
       "1                     total                  water      ug/L   \n",
       "2                     total                  water      ug/L   \n",
       "3                     total                  water      ug/L   \n",
       "4                     total                  water      ug/L   \n",
       "\n",
       "  parameterSamplingPeriod procedureAnalyticalMethod resultObservationStatus  \n",
       "0        2012-01--2012-12                       NaN                     NaN  \n",
       "1        2012-01--2012-12                       NaN                     NaN  \n",
       "2        2012-01--2012-12                       NaN                     NaN  \n",
       "3        2012-01--2012-12                       NaN                     NaN  \n",
       "4        2011-01--2011-12   APAT CNR IRSA 5150 2003                     NaN  "
      ]
     },
     "execution_count": 6,
     "metadata": {},
     "output_type": "execute_result"
    }
   ],
   "source": [
    "#Observação das colunas \"object\"\n",
    "df_class.select_dtypes(include='object').head()"
   ]
  },
  {
   "cell_type": "code",
   "execution_count": 7,
   "metadata": {},
   "outputs": [
    {
     "data": {
      "text/html": [
       "<div>\n",
       "<style scoped>\n",
       "    .dataframe tbody tr th:only-of-type {\n",
       "        vertical-align: middle;\n",
       "    }\n",
       "\n",
       "    .dataframe tbody tr th {\n",
       "        vertical-align: top;\n",
       "    }\n",
       "\n",
       "    .dataframe thead th {\n",
       "        text-align: right;\n",
       "    }\n",
       "</style>\n",
       "<table border=\"1\" class=\"dataframe\">\n",
       "  <thead>\n",
       "    <tr style=\"text-align: right;\">\n",
       "      <th></th>\n",
       "      <th>phenomenonTimeReferenceYear</th>\n",
       "      <th>procedureLOQValue</th>\n",
       "      <th>resultNumberOfSamples</th>\n",
       "      <th>resultQualityNumberOfSamplesBelowLOQ</th>\n",
       "      <th>resultQualityMinimumBelowLOQ</th>\n",
       "      <th>resultMinimumValue</th>\n",
       "      <th>resultQualityMeanBelowLOQ</th>\n",
       "      <th>resultMeanValue</th>\n",
       "      <th>resultQualityMaximumBelowLOQ</th>\n",
       "      <th>resultMaximumValue</th>\n",
       "      <th>resultQualityMedianBelowLOQ</th>\n",
       "      <th>resultMedianValue</th>\n",
       "      <th>resultStandardDeviationValue</th>\n",
       "      <th>parameterSampleDepth</th>\n",
       "      <th>UID</th>\n",
       "    </tr>\n",
       "  </thead>\n",
       "  <tbody>\n",
       "    <tr>\n",
       "      <th>0</th>\n",
       "      <td>2012</td>\n",
       "      <td>0.001</td>\n",
       "      <td>4.0</td>\n",
       "      <td>4.0</td>\n",
       "      <td>1.0</td>\n",
       "      <td>0.001</td>\n",
       "      <td>1.0</td>\n",
       "      <td>0.001</td>\n",
       "      <td>1.0</td>\n",
       "      <td>0.001</td>\n",
       "      <td>NaN</td>\n",
       "      <td>NaN</td>\n",
       "      <td>0.0</td>\n",
       "      <td>0.0</td>\n",
       "      <td>9233859</td>\n",
       "    </tr>\n",
       "    <tr>\n",
       "      <th>1</th>\n",
       "      <td>2012</td>\n",
       "      <td>0.001</td>\n",
       "      <td>4.0</td>\n",
       "      <td>4.0</td>\n",
       "      <td>1.0</td>\n",
       "      <td>0.001</td>\n",
       "      <td>1.0</td>\n",
       "      <td>0.001</td>\n",
       "      <td>1.0</td>\n",
       "      <td>0.001</td>\n",
       "      <td>NaN</td>\n",
       "      <td>NaN</td>\n",
       "      <td>0.0</td>\n",
       "      <td>0.0</td>\n",
       "      <td>9233860</td>\n",
       "    </tr>\n",
       "    <tr>\n",
       "      <th>2</th>\n",
       "      <td>2012</td>\n",
       "      <td>5.000</td>\n",
       "      <td>4.0</td>\n",
       "      <td>4.0</td>\n",
       "      <td>1.0</td>\n",
       "      <td>5.000</td>\n",
       "      <td>1.0</td>\n",
       "      <td>5.000</td>\n",
       "      <td>1.0</td>\n",
       "      <td>5.000</td>\n",
       "      <td>NaN</td>\n",
       "      <td>NaN</td>\n",
       "      <td>0.0</td>\n",
       "      <td>0.0</td>\n",
       "      <td>9233861</td>\n",
       "    </tr>\n",
       "    <tr>\n",
       "      <th>3</th>\n",
       "      <td>2012</td>\n",
       "      <td>0.001</td>\n",
       "      <td>4.0</td>\n",
       "      <td>4.0</td>\n",
       "      <td>1.0</td>\n",
       "      <td>0.001</td>\n",
       "      <td>1.0</td>\n",
       "      <td>0.001</td>\n",
       "      <td>1.0</td>\n",
       "      <td>0.001</td>\n",
       "      <td>NaN</td>\n",
       "      <td>NaN</td>\n",
       "      <td>0.0</td>\n",
       "      <td>0.0</td>\n",
       "      <td>9233862</td>\n",
       "    </tr>\n",
       "    <tr>\n",
       "      <th>4</th>\n",
       "      <td>2011</td>\n",
       "      <td>0.500</td>\n",
       "      <td>8.0</td>\n",
       "      <td>8.0</td>\n",
       "      <td>1.0</td>\n",
       "      <td>0.500</td>\n",
       "      <td>1.0</td>\n",
       "      <td>0.500</td>\n",
       "      <td>1.0</td>\n",
       "      <td>0.500</td>\n",
       "      <td>NaN</td>\n",
       "      <td>NaN</td>\n",
       "      <td>0.0</td>\n",
       "      <td>NaN</td>\n",
       "      <td>9233865</td>\n",
       "    </tr>\n",
       "  </tbody>\n",
       "</table>\n",
       "</div>"
      ],
      "text/plain": [
       "   phenomenonTimeReferenceYear  procedureLOQValue  resultNumberOfSamples  \\\n",
       "0                         2012              0.001                    4.0   \n",
       "1                         2012              0.001                    4.0   \n",
       "2                         2012              5.000                    4.0   \n",
       "3                         2012              0.001                    4.0   \n",
       "4                         2011              0.500                    8.0   \n",
       "\n",
       "   resultQualityNumberOfSamplesBelowLOQ  resultQualityMinimumBelowLOQ  \\\n",
       "0                                   4.0                           1.0   \n",
       "1                                   4.0                           1.0   \n",
       "2                                   4.0                           1.0   \n",
       "3                                   4.0                           1.0   \n",
       "4                                   8.0                           1.0   \n",
       "\n",
       "   resultMinimumValue  resultQualityMeanBelowLOQ  resultMeanValue  \\\n",
       "0               0.001                        1.0            0.001   \n",
       "1               0.001                        1.0            0.001   \n",
       "2               5.000                        1.0            5.000   \n",
       "3               0.001                        1.0            0.001   \n",
       "4               0.500                        1.0            0.500   \n",
       "\n",
       "   resultQualityMaximumBelowLOQ  resultMaximumValue  \\\n",
       "0                           1.0               0.001   \n",
       "1                           1.0               0.001   \n",
       "2                           1.0               5.000   \n",
       "3                           1.0               0.001   \n",
       "4                           1.0               0.500   \n",
       "\n",
       "   resultQualityMedianBelowLOQ  resultMedianValue  \\\n",
       "0                          NaN                NaN   \n",
       "1                          NaN                NaN   \n",
       "2                          NaN                NaN   \n",
       "3                          NaN                NaN   \n",
       "4                          NaN                NaN   \n",
       "\n",
       "   resultStandardDeviationValue  parameterSampleDepth      UID  \n",
       "0                           0.0                   0.0  9233859  \n",
       "1                           0.0                   0.0  9233860  \n",
       "2                           0.0                   0.0  9233861  \n",
       "3                           0.0                   0.0  9233862  \n",
       "4                           0.0                   NaN  9233865  "
      ]
     },
     "execution_count": 7,
     "metadata": {},
     "output_type": "execute_result"
    }
   ],
   "source": [
    "#Observação das colunas que não são do tipo \"object\"\n",
    "df_class.select_dtypes(exclude='object').head()"
   ]
  },
  {
   "cell_type": "code",
   "execution_count": 8,
   "metadata": {},
   "outputs": [
    {
     "data": {
      "text/plain": [
       "parameterWaterBodyCategory              3231434\n",
       "observedPropertyDeterminandCode         3231434\n",
       "procedureAnalysedFraction               3231434\n",
       "procedureAnalysedMedia                  3231434\n",
       "resultUom                               3231434\n",
       "phenomenonTimeReferenceYear             3231434\n",
       "parameterSamplingPeriod                 3199392\n",
       "procedureLOQValue                       1623264\n",
       "resultNumberOfSamples                   3166506\n",
       "resultQualityNumberOfSamplesBelowLOQ    1251940\n",
       "resultQualityMinimumBelowLOQ            1640839\n",
       "resultMinimumValue                      3114729\n",
       "resultQualityMeanBelowLOQ               1637684\n",
       "resultMeanValue                         3224266\n",
       "resultQualityMaximumBelowLOQ            1642039\n",
       "resultMaximumValue                      3116777\n",
       "resultQualityMedianBelowLOQ              961110\n",
       "resultMedianValue                       1868966\n",
       "resultStandardDeviationValue            2548421\n",
       "procedureAnalyticalMethod                399733\n",
       "parameterSampleDepth                    1720099\n",
       "resultObservationStatus                  310912\n",
       "UID                                     3231434\n",
       "dtype: int64"
      ]
     },
     "execution_count": 8,
     "metadata": {},
     "output_type": "execute_result"
    }
   ],
   "source": [
    "df_class.count()\n",
    "#através do mesmo conseguimos observar que nem todos os atributos\n",
    "#possuem o mesmo número de registos."
   ]
  },
  {
   "cell_type": "code",
   "execution_count": 9,
   "metadata": {},
   "outputs": [
    {
     "data": {
      "text/plain": [
       "parameterWaterBodyCategory              False\n",
       "observedPropertyDeterminandCode         False\n",
       "procedureAnalysedFraction               False\n",
       "procedureAnalysedMedia                  False\n",
       "resultUom                               False\n",
       "phenomenonTimeReferenceYear             False\n",
       "parameterSamplingPeriod                  True\n",
       "procedureLOQValue                        True\n",
       "resultNumberOfSamples                    True\n",
       "resultQualityNumberOfSamplesBelowLOQ     True\n",
       "resultQualityMinimumBelowLOQ             True\n",
       "resultMinimumValue                       True\n",
       "resultQualityMeanBelowLOQ                True\n",
       "resultMeanValue                          True\n",
       "resultQualityMaximumBelowLOQ             True\n",
       "resultMaximumValue                       True\n",
       "resultQualityMedianBelowLOQ              True\n",
       "resultMedianValue                        True\n",
       "resultStandardDeviationValue             True\n",
       "procedureAnalyticalMethod                True\n",
       "parameterSampleDepth                     True\n",
       "resultObservationStatus                  True\n",
       "UID                                     False\n",
       "dtype: bool"
      ]
     },
     "execution_count": 9,
     "metadata": {},
     "output_type": "execute_result"
    }
   ],
   "source": [
    "#Verificação da presença de valores omissos\n",
    "df_class.isnull().any()"
   ]
  },
  {
   "cell_type": "code",
   "execution_count": 10,
   "metadata": {},
   "outputs": [
    {
     "data": {
      "text/plain": [
       "parameterWaterBodyCategory                    0\n",
       "observedPropertyDeterminandCode               0\n",
       "procedureAnalysedFraction                     0\n",
       "procedureAnalysedMedia                        0\n",
       "resultUom                                     0\n",
       "phenomenonTimeReferenceYear                   0\n",
       "parameterSamplingPeriod                   32042\n",
       "procedureLOQValue                       1608170\n",
       "resultNumberOfSamples                     64928\n",
       "resultQualityNumberOfSamplesBelowLOQ    1979494\n",
       "resultQualityMinimumBelowLOQ            1590595\n",
       "resultMinimumValue                       116705\n",
       "resultQualityMeanBelowLOQ               1593750\n",
       "resultMeanValue                            7168\n",
       "resultQualityMaximumBelowLOQ            1589395\n",
       "resultMaximumValue                       114657\n",
       "resultQualityMedianBelowLOQ             2270324\n",
       "resultMedianValue                       1362468\n",
       "resultStandardDeviationValue             683013\n",
       "procedureAnalyticalMethod               2831701\n",
       "parameterSampleDepth                    1511335\n",
       "resultObservationStatus                 2920522\n",
       "UID                                           0\n",
       "dtype: int64"
      ]
     },
     "execution_count": 10,
     "metadata": {},
     "output_type": "execute_result"
    }
   ],
   "source": [
    "#Quantos valores omissos existem por variável\n",
    "df_class.isnull().sum()"
   ]
  },
  {
   "cell_type": "code",
   "execution_count": 11,
   "metadata": {},
   "outputs": [
    {
     "name": "stdout",
     "output_type": "stream",
     "text": [
      "parameterWaterBodyCategory-0%\n",
      "observedPropertyDeterminandCode-0%\n",
      "procedureAnalysedFraction-0%\n",
      "procedureAnalysedMedia-0%\n",
      "resultUom-0%\n",
      "phenomenonTimeReferenceYear-0%\n",
      "parameterSamplingPeriod-1%\n",
      "procedureLOQValue-50%\n",
      "resultNumberOfSamples-2%\n",
      "resultQualityNumberOfSamplesBelowLOQ-61%\n",
      "resultQualityMinimumBelowLOQ-49%\n",
      "resultMinimumValue-4%\n",
      "resultQualityMeanBelowLOQ-49%\n",
      "resultMeanValue-0%\n",
      "resultQualityMaximumBelowLOQ-49%\n",
      "resultMaximumValue-4%\n",
      "resultQualityMedianBelowLOQ-70%\n",
      "resultMedianValue-42%\n",
      "resultStandardDeviationValue-21%\n",
      "procedureAnalyticalMethod-88%\n",
      "parameterSampleDepth-47%\n",
      "resultObservationStatus-90%\n",
      "UID-0%\n"
     ]
    }
   ],
   "source": [
    "for col in df_class.columns:\n",
    "    miss=np.mean(df_class[col].isnull())\n",
    "    print('{}-{}%'.format(col,round(miss*100)))\n",
    "# 90% dos registos em resultObservationStatus estão a nulo => opção é eliminar\n",
    "#resultQualityMedianBelowLOQ\n",
    "#resutUom\n",
    "#procedureAnalyticalMethod\n",
    "#resultQualityNumberOfSamplesBelowLOQ\n",
    "#procedureLOQValue"
   ]
  },
  {
   "cell_type": "code",
   "execution_count": 12,
   "metadata": {},
   "outputs": [
    {
     "data": {
      "text/plain": [
       "<AxesSubplot:>"
      ]
     },
     "execution_count": 12,
     "metadata": {},
     "output_type": "execute_result"
    },
    {
     "data": {
      "image/png": "[encoded data removed]",
      "text/plain": [
       "<Figure size 432x288 with 1 Axes>"
      ]
     },
     "metadata": {
      "needs_background": "light"
     },
     "output_type": "display_data"
    }
   ],
   "source": [
    "# missing data detection by using heatmap\n",
    "# yellow is missing. violet is not missing.\n",
    "sns.heatmap(df_class.isnull(), \n",
    "            yticklabels=False, \n",
    "            cbar=False, \n",
    "            cmap='viridis')"
   ]
  },
  {
   "cell_type": "code",
   "execution_count": 13,
   "metadata": {},
   "outputs": [
    {
     "data": {
      "text/html": [
       "<div>\n",
       "<style scoped>\n",
       "    .dataframe tbody tr th:only-of-type {\n",
       "        vertical-align: middle;\n",
       "    }\n",
       "\n",
       "    .dataframe tbody tr th {\n",
       "        vertical-align: top;\n",
       "    }\n",
       "\n",
       "    .dataframe thead th {\n",
       "        text-align: right;\n",
       "    }\n",
       "</style>\n",
       "<table border=\"1\" class=\"dataframe\">\n",
       "  <thead>\n",
       "    <tr style=\"text-align: right;\">\n",
       "      <th></th>\n",
       "      <th>parameterWaterBodyCategory</th>\n",
       "      <th>observedPropertyDeterminandCode</th>\n",
       "      <th>procedureAnalysedFraction</th>\n",
       "      <th>procedureAnalysedMedia</th>\n",
       "      <th>resultUom</th>\n",
       "      <th>phenomenonTimeReferenceYear</th>\n",
       "      <th>parameterSamplingPeriod</th>\n",
       "      <th>procedureLOQValue</th>\n",
       "      <th>resultNumberOfSamples</th>\n",
       "      <th>resultQualityNumberOfSamplesBelowLOQ</th>\n",
       "      <th>...</th>\n",
       "      <th>resultMeanValue</th>\n",
       "      <th>resultQualityMaximumBelowLOQ</th>\n",
       "      <th>resultMaximumValue</th>\n",
       "      <th>resultQualityMedianBelowLOQ</th>\n",
       "      <th>resultMedianValue</th>\n",
       "      <th>resultStandardDeviationValue</th>\n",
       "      <th>procedureAnalyticalMethod</th>\n",
       "      <th>parameterSampleDepth</th>\n",
       "      <th>resultObservationStatus</th>\n",
       "      <th>UID</th>\n",
       "    </tr>\n",
       "  </thead>\n",
       "  <tbody>\n",
       "  </tbody>\n",
       "</table>\n",
       "<p>0 rows × 23 columns</p>\n",
       "</div>"
      ],
      "text/plain": [
       "Empty DataFrame\n",
       "Columns: [parameterWaterBodyCategory, observedPropertyDeterminandCode, procedureAnalysedFraction, procedureAnalysedMedia, resultUom, phenomenonTimeReferenceYear, parameterSamplingPeriod, procedureLOQValue, resultNumberOfSamples, resultQualityNumberOfSamplesBelowLOQ, resultQualityMinimumBelowLOQ, resultMinimumValue, resultQualityMeanBelowLOQ, resultMeanValue, resultQualityMaximumBelowLOQ, resultMaximumValue, resultQualityMedianBelowLOQ, resultMedianValue, resultStandardDeviationValue, procedureAnalyticalMethod, parameterSampleDepth, resultObservationStatus, UID]\n",
       "Index: []\n",
       "\n",
       "[0 rows x 23 columns]"
      ]
     },
     "execution_count": 13,
     "metadata": {},
     "output_type": "execute_result"
    }
   ],
   "source": [
    "#Verificação da presença de valores duplicados\n",
    "df_class[df_class.duplicated()]"
   ]
  },
  {
   "cell_type": "code",
   "execution_count": 14,
   "metadata": {},
   "outputs": [
    {
     "data": {
      "text/plain": [
       "3231434"
      ]
     },
     "execution_count": 14,
     "metadata": {},
     "output_type": "execute_result"
    }
   ],
   "source": [
    "df_class.duplicated().count()\n",
    "#Concluímos que não existem duplicados"
   ]
  },
  {
   "cell_type": "markdown",
   "metadata": {},
   "source": [
    "- Observação da quantidade registos em cada classe existente nas variáveis:"
   ]
  },
  {
   "cell_type": "code",
   "execution_count": 15,
   "metadata": {},
   "outputs": [
    {
     "data": {
      "text/plain": [
       "RW    2526667\n",
       "LW     426367\n",
       "GW     268208\n",
       "TW       9585\n",
       "CW        607\n",
       "Name: parameterWaterBodyCategory, dtype: int64"
      ]
     },
     "execution_count": 15,
     "metadata": {},
     "output_type": "execute_result"
    }
   ],
   "source": [
    "df_class['parameterWaterBodyCategory'].value_counts()"
   ]
  },
  {
   "cell_type": "code",
   "execution_count": 16,
   "metadata": {},
   "outputs": [
    {
     "data": {
      "text/plain": [
       "<AxesSubplot:xlabel='parameterWaterBodyCategory', ylabel='count'>"
      ]
     },
     "execution_count": 16,
     "metadata": {},
     "output_type": "execute_result"
    },
    {
     "data": {
      "image/png": "[encoded data removed]",
      "text/plain": [
       "<Figure size 432x288 with 1 Axes>"
      ]
     },
     "metadata": {
      "needs_background": "light"
     },
     "output_type": "display_data"
    }
   ],
   "source": [
    "# barplot for parameterWaterBodyCategory\n",
    "sns.countplot(x='parameterWaterBodyCategory',data=df_class)"
   ]
  },
  {
   "cell_type": "code",
   "execution_count": 17,
   "metadata": {},
   "outputs": [
    {
     "data": {
      "text/plain": [
       "ug/L                   1690773\n",
       "mg/L                    276136\n",
       "mg{P}/L                 197366\n",
       "mg{N}/L                 192225\n",
       "mg{O2}/L                152674\n",
       "mg{NH4}/L               118437\n",
       "mg{NO3}/L               103316\n",
       "[pH]                     95284\n",
       "%                        82417\n",
       "mg{NO2}/L                78556\n",
       "Cel                      63851\n",
       "mg{C}/L                  49165\n",
       "uS/cm                    37900\n",
       "mg{CaCO3}/L              18431\n",
       "m                        18177\n",
       "mg{NH3}/L                16787\n",
       "{massRatio}              15103\n",
       "mmol/L                   13914\n",
       "mg{Si}/L                  6143\n",
       "ug{TEQ}/kg                3739\n",
       "mg{PO4}/L                  930\n",
       "{presence}                  83\n",
       "%{oxygenSaturation}         17\n",
       "mg{S}/L                     10\n",
       "Name: resultUom, dtype: int64"
      ]
     },
     "execution_count": 17,
     "metadata": {},
     "output_type": "execute_result"
    }
   ],
   "source": [
    "df_class['resultUom'].value_counts()"
   ]
  },
  {
   "cell_type": "code",
   "execution_count": 18,
   "metadata": {},
   "outputs": [
    {
     "data": {
      "text/plain": [
       "total        3069044\n",
       "dissolved     162107\n",
       "SPM              283\n",
       "Name: procedureAnalysedFraction, dtype: int64"
      ]
     },
     "execution_count": 18,
     "metadata": {},
     "output_type": "execute_result"
    }
   ],
   "source": [
    "df_class['procedureAnalysedFraction'].value_counts()"
   ]
  },
  {
   "cell_type": "code",
   "execution_count": 19,
   "metadata": {},
   "outputs": [
    {
     "data": {
      "text/plain": [
       "water       3231204\n",
       "sediment        230\n",
       "Name: procedureAnalysedMedia, dtype: int64"
      ]
     },
     "execution_count": 19,
     "metadata": {},
     "output_type": "execute_result"
    }
   ],
   "source": [
    "df_class['procedureAnalysedMedia'].value_counts()\n",
    "#Não existe nenhum registo com a classe \"biota\""
   ]
  },
  {
   "cell_type": "code",
   "execution_count": 89,
   "metadata": {},
   "outputs": [
    {
     "data": {
      "text/plain": [
       "<AxesSubplot:xlabel='procedureAnalysedMedia', ylabel='count'>"
      ]
     },
     "execution_count": 89,
     "metadata": {},
     "output_type": "execute_result"
    },
    {
     "data": {
      "image/png": "[encoded data removed]",
      "text/plain": [
       "<Figure size 576x396 with 1 Axes>"
      ]
     },
     "metadata": {},
     "output_type": "display_data"
    }
   ],
   "source": [
    "# barplot for procedureAnalysedMedia\n",
    "sns.countplot(x='procedureAnalysedMedia',data=df_class)"
   ]
  },
  {
   "cell_type": "code",
   "execution_count": 20,
   "metadata": {},
   "outputs": [
    {
     "data": {
      "text/plain": [
       "1.0    1341645\n",
       "0.0     299194\n",
       "Name: resultQualityMinimumBelowLOQ, dtype: int64"
      ]
     },
     "execution_count": 20,
     "metadata": {},
     "output_type": "execute_result"
    }
   ],
   "source": [
    "df_class['resultQualityMinimumBelowLOQ'].value_counts()"
   ]
  },
  {
   "cell_type": "code",
   "execution_count": 21,
   "metadata": {},
   "outputs": [
    {
     "data": {
      "text/plain": [
       "1.0    1184186\n",
       "0.0     453498\n",
       "Name: resultQualityMeanBelowLOQ, dtype: int64"
      ]
     },
     "execution_count": 21,
     "metadata": {},
     "output_type": "execute_result"
    }
   ],
   "source": [
    "df_class['resultQualityMeanBelowLOQ'].value_counts()"
   ]
  },
  {
   "cell_type": "code",
   "execution_count": 22,
   "metadata": {},
   "outputs": [
    {
     "data": {
      "text/plain": [
       "1.0    1091454\n",
       "0.0     550585\n",
       "Name: resultQualityMaximumBelowLOQ, dtype: int64"
      ]
     },
     "execution_count": 22,
     "metadata": {},
     "output_type": "execute_result"
    }
   ],
   "source": [
    "df_class['resultQualityMaximumBelowLOQ'].value_counts()"
   ]
  },
  {
   "cell_type": "code",
   "execution_count": 23,
   "metadata": {},
   "outputs": [
    {
     "data": {
      "text/plain": [
       "1.0    616295\n",
       "0.0    344815\n",
       "Name: resultQualityMedianBelowLOQ, dtype: int64"
      ]
     },
     "execution_count": 23,
     "metadata": {},
     "output_type": "execute_result"
    }
   ],
   "source": [
    "df_class['resultQualityMedianBelowLOQ'].value_counts()"
   ]
  },
  {
   "cell_type": "markdown",
   "metadata": {},
   "source": [
    "- Análise de Estatísticas Descritivas:"
   ]
  },
  {
   "cell_type": "code",
   "execution_count": 24,
   "metadata": {},
   "outputs": [],
   "source": [
    "pd.set_option('float_format', '{:f}'.format)"
   ]
  },
  {
   "cell_type": "code",
   "execution_count": 25,
   "metadata": {},
   "outputs": [
    {
     "data": {
      "text/html": [
       "<div>\n",
       "<style scoped>\n",
       "    .dataframe tbody tr th:only-of-type {\n",
       "        vertical-align: middle;\n",
       "    }\n",
       "\n",
       "    .dataframe tbody tr th {\n",
       "        vertical-align: top;\n",
       "    }\n",
       "\n",
       "    .dataframe thead th {\n",
       "        text-align: right;\n",
       "    }\n",
       "</style>\n",
       "<table border=\"1\" class=\"dataframe\">\n",
       "  <thead>\n",
       "    <tr style=\"text-align: right;\">\n",
       "      <th></th>\n",
       "      <th>phenomenonTimeReferenceYear</th>\n",
       "      <th>procedureLOQValue</th>\n",
       "      <th>resultNumberOfSamples</th>\n",
       "      <th>resultQualityNumberOfSamplesBelowLOQ</th>\n",
       "      <th>resultQualityMinimumBelowLOQ</th>\n",
       "      <th>resultMinimumValue</th>\n",
       "      <th>resultQualityMeanBelowLOQ</th>\n",
       "      <th>resultMeanValue</th>\n",
       "      <th>resultQualityMaximumBelowLOQ</th>\n",
       "      <th>resultMaximumValue</th>\n",
       "      <th>resultQualityMedianBelowLOQ</th>\n",
       "      <th>resultMedianValue</th>\n",
       "      <th>resultStandardDeviationValue</th>\n",
       "      <th>parameterSampleDepth</th>\n",
       "      <th>UID</th>\n",
       "    </tr>\n",
       "  </thead>\n",
       "  <tbody>\n",
       "    <tr>\n",
       "      <th>count</th>\n",
       "      <td>3231434.000000</td>\n",
       "      <td>1623264.000000</td>\n",
       "      <td>3166506.000000</td>\n",
       "      <td>1251940.000000</td>\n",
       "      <td>1640839.000000</td>\n",
       "      <td>3114729.000000</td>\n",
       "      <td>1637684.000000</td>\n",
       "      <td>3224266.000000</td>\n",
       "      <td>1642039.000000</td>\n",
       "      <td>3116777.000000</td>\n",
       "      <td>961110.000000</td>\n",
       "      <td>1868966.000000</td>\n",
       "      <td>2548421.000000</td>\n",
       "      <td>1720099.000000</td>\n",
       "      <td>3231434.000000</td>\n",
       "    </tr>\n",
       "    <tr>\n",
       "      <th>mean</th>\n",
       "      <td>2007.166596</td>\n",
       "      <td>178.604199</td>\n",
       "      <td>8.441063</td>\n",
       "      <td>5.565780</td>\n",
       "      <td>0.817658</td>\n",
       "      <td>7751035756.778554</td>\n",
       "      <td>0.723086</td>\n",
       "      <td>7721929986.350961</td>\n",
       "      <td>0.664694</td>\n",
       "      <td>8240459046.492161</td>\n",
       "      <td>0.641233</td>\n",
       "      <td>13305014651.343904</td>\n",
       "      <td>376209421.404346</td>\n",
       "      <td>0.969682</td>\n",
       "      <td>7817314.114320</td>\n",
       "    </tr>\n",
       "    <tr>\n",
       "      <th>std</th>\n",
       "      <td>7.672191</td>\n",
       "      <td>13036.870110</td>\n",
       "      <td>14.378818</td>\n",
       "      <td>8.073612</td>\n",
       "      <td>0.386126</td>\n",
       "      <td>2038236613069.197754</td>\n",
       "      <td>0.447474</td>\n",
       "      <td>2019884739871.687500</td>\n",
       "      <td>0.472097</td>\n",
       "      <td>2093786144199.952637</td>\n",
       "      <td>0.479639</td>\n",
       "      <td>2651626761490.068848</td>\n",
       "      <td>282996507464.512146</td>\n",
       "      <td>9.423742</td>\n",
       "      <td>4253703.601830</td>\n",
       "    </tr>\n",
       "    <tr>\n",
       "      <th>min</th>\n",
       "      <td>1931.000000</td>\n",
       "      <td>-4422.573000</td>\n",
       "      <td>1.000000</td>\n",
       "      <td>0.000000</td>\n",
       "      <td>0.000000</td>\n",
       "      <td>-9.900000</td>\n",
       "      <td>0.000000</td>\n",
       "      <td>-0.300000</td>\n",
       "      <td>0.000000</td>\n",
       "      <td>-0.500000</td>\n",
       "      <td>0.000000</td>\n",
       "      <td>-9.900000</td>\n",
       "      <td>0.000000</td>\n",
       "      <td>0.000000</td>\n",
       "      <td>1.000000</td>\n",
       "    </tr>\n",
       "    <tr>\n",
       "      <th>25%</th>\n",
       "      <td>2005.000000</td>\n",
       "      <td>0.010000</td>\n",
       "      <td>3.000000</td>\n",
       "      <td>1.000000</td>\n",
       "      <td>1.000000</td>\n",
       "      <td>0.012880</td>\n",
       "      <td>0.000000</td>\n",
       "      <td>0.020000</td>\n",
       "      <td>0.000000</td>\n",
       "      <td>0.025000</td>\n",
       "      <td>0.000000</td>\n",
       "      <td>0.030000</td>\n",
       "      <td>0.000000</td>\n",
       "      <td>0.000000</td>\n",
       "      <td>1297313.250000</td>\n",
       "    </tr>\n",
       "    <tr>\n",
       "      <th>50%</th>\n",
       "      <td>2009.000000</td>\n",
       "      <td>0.050000</td>\n",
       "      <td>7.000000</td>\n",
       "      <td>4.000000</td>\n",
       "      <td>1.000000</td>\n",
       "      <td>0.166700</td>\n",
       "      <td>1.000000</td>\n",
       "      <td>0.363667</td>\n",
       "      <td>1.000000</td>\n",
       "      <td>0.500000</td>\n",
       "      <td>1.000000</td>\n",
       "      <td>0.515880</td>\n",
       "      <td>0.010967</td>\n",
       "      <td>0.000000</td>\n",
       "      <td>9756633.500000</td>\n",
       "    </tr>\n",
       "    <tr>\n",
       "      <th>75%</th>\n",
       "      <td>2012.000000</td>\n",
       "      <td>0.500000</td>\n",
       "      <td>12.000000</td>\n",
       "      <td>11.000000</td>\n",
       "      <td>1.000000</td>\n",
       "      <td>3.200000</td>\n",
       "      <td>1.000000</td>\n",
       "      <td>6.431059</td>\n",
       "      <td>1.000000</td>\n",
       "      <td>8.080000</td>\n",
       "      <td>1.000000</td>\n",
       "      <td>6.795000</td>\n",
       "      <td>0.880000</td>\n",
       "      <td>0.200000</td>\n",
       "      <td>10766114.750000</td>\n",
       "    </tr>\n",
       "    <tr>\n",
       "      <th>max</th>\n",
       "      <td>2017.000000</td>\n",
       "      <td>2000000.000000</td>\n",
       "      <td>1505.000000</td>\n",
       "      <td>1359.000000</td>\n",
       "      <td>1.000000</td>\n",
       "      <td>984848000000000.000000</td>\n",
       "      <td>1.000000</td>\n",
       "      <td>984848000000000.000000</td>\n",
       "      <td>1.000000</td>\n",
       "      <td>984848000000000.000000</td>\n",
       "      <td>1.000000</td>\n",
       "      <td>984848000000000.000000</td>\n",
       "      <td>268891000000000.000000</td>\n",
       "      <td>4457.040000</td>\n",
       "      <td>11612026.000000</td>\n",
       "    </tr>\n",
       "  </tbody>\n",
       "</table>\n",
       "</div>"
      ],
      "text/plain": [
       "       phenomenonTimeReferenceYear  procedureLOQValue  resultNumberOfSamples  \\\n",
       "count               3231434.000000     1623264.000000         3166506.000000   \n",
       "mean                   2007.166596         178.604199               8.441063   \n",
       "std                       7.672191       13036.870110              14.378818   \n",
       "min                    1931.000000       -4422.573000               1.000000   \n",
       "25%                    2005.000000           0.010000               3.000000   \n",
       "50%                    2009.000000           0.050000               7.000000   \n",
       "75%                    2012.000000           0.500000              12.000000   \n",
       "max                    2017.000000     2000000.000000            1505.000000   \n",
       "\n",
       "       resultQualityNumberOfSamplesBelowLOQ  resultQualityMinimumBelowLOQ  \\\n",
       "count                        1251940.000000                1640839.000000   \n",
       "mean                               5.565780                      0.817658   \n",
       "std                                8.073612                      0.386126   \n",
       "min                                0.000000                      0.000000   \n",
       "25%                                1.000000                      1.000000   \n",
       "50%                                4.000000                      1.000000   \n",
       "75%                               11.000000                      1.000000   \n",
       "max                             1359.000000                      1.000000   \n",
       "\n",
       "          resultMinimumValue  resultQualityMeanBelowLOQ  \\\n",
       "count         3114729.000000             1637684.000000   \n",
       "mean       7751035756.778554                   0.723086   \n",
       "std     2038236613069.197754                   0.447474   \n",
       "min                -9.900000                   0.000000   \n",
       "25%                 0.012880                   0.000000   \n",
       "50%                 0.166700                   1.000000   \n",
       "75%                 3.200000                   1.000000   \n",
       "max   984848000000000.000000                   1.000000   \n",
       "\n",
       "             resultMeanValue  resultQualityMaximumBelowLOQ  \\\n",
       "count         3224266.000000                1642039.000000   \n",
       "mean       7721929986.350961                      0.664694   \n",
       "std     2019884739871.687500                      0.472097   \n",
       "min                -0.300000                      0.000000   \n",
       "25%                 0.020000                      0.000000   \n",
       "50%                 0.363667                      1.000000   \n",
       "75%                 6.431059                      1.000000   \n",
       "max   984848000000000.000000                      1.000000   \n",
       "\n",
       "          resultMaximumValue  resultQualityMedianBelowLOQ  \\\n",
       "count         3116777.000000                961110.000000   \n",
       "mean       8240459046.492161                     0.641233   \n",
       "std     2093786144199.952637                     0.479639   \n",
       "min                -0.500000                     0.000000   \n",
       "25%                 0.025000                     0.000000   \n",
       "50%                 0.500000                     1.000000   \n",
       "75%                 8.080000                     1.000000   \n",
       "max   984848000000000.000000                     1.000000   \n",
       "\n",
       "           resultMedianValue  resultStandardDeviationValue  \\\n",
       "count         1868966.000000                2548421.000000   \n",
       "mean      13305014651.343904              376209421.404346   \n",
       "std     2651626761490.068848           282996507464.512146   \n",
       "min                -9.900000                      0.000000   \n",
       "25%                 0.030000                      0.000000   \n",
       "50%                 0.515880                      0.010967   \n",
       "75%                 6.795000                      0.880000   \n",
       "max   984848000000000.000000        268891000000000.000000   \n",
       "\n",
       "       parameterSampleDepth             UID  \n",
       "count        1720099.000000  3231434.000000  \n",
       "mean               0.969682  7817314.114320  \n",
       "std                9.423742  4253703.601830  \n",
       "min                0.000000        1.000000  \n",
       "25%                0.000000  1297313.250000  \n",
       "50%                0.000000  9756633.500000  \n",
       "75%                0.200000 10766114.750000  \n",
       "max             4457.040000 11612026.000000  "
      ]
     },
     "execution_count": 25,
     "metadata": {},
     "output_type": "execute_result"
    }
   ],
   "source": [
    "df_class.describe()"
   ]
  },
  {
   "cell_type": "code",
   "execution_count": 26,
   "metadata": {
    "scrolled": true
   },
   "outputs": [
    {
     "data": {
      "text/html": [
       "<div>\n",
       "<style scoped>\n",
       "    .dataframe tbody tr th:only-of-type {\n",
       "        vertical-align: middle;\n",
       "    }\n",
       "\n",
       "    .dataframe tbody tr th {\n",
       "        vertical-align: top;\n",
       "    }\n",
       "\n",
       "    .dataframe thead th {\n",
       "        text-align: right;\n",
       "    }\n",
       "</style>\n",
       "<table border=\"1\" class=\"dataframe\">\n",
       "  <thead>\n",
       "    <tr style=\"text-align: right;\">\n",
       "      <th></th>\n",
       "      <th>phenomenonTimeReferenceYear</th>\n",
       "      <th>procedureLOQValue</th>\n",
       "      <th>resultNumberOfSamples</th>\n",
       "      <th>resultQualityNumberOfSamplesBelowLOQ</th>\n",
       "      <th>resultQualityMinimumBelowLOQ</th>\n",
       "      <th>resultMinimumValue</th>\n",
       "      <th>resultQualityMeanBelowLOQ</th>\n",
       "      <th>resultMeanValue</th>\n",
       "      <th>resultQualityMaximumBelowLOQ</th>\n",
       "      <th>resultMaximumValue</th>\n",
       "      <th>resultQualityMedianBelowLOQ</th>\n",
       "      <th>resultMedianValue</th>\n",
       "      <th>resultStandardDeviationValue</th>\n",
       "      <th>parameterSampleDepth</th>\n",
       "      <th>UID</th>\n",
       "    </tr>\n",
       "  </thead>\n",
       "  <tbody>\n",
       "    <tr>\n",
       "      <th>phenomenonTimeReferenceYear</th>\n",
       "      <td>1.000000</td>\n",
       "      <td>-0.005884</td>\n",
       "      <td>-0.063079</td>\n",
       "      <td>-0.025154</td>\n",
       "      <td>0.078265</td>\n",
       "      <td>0.000290</td>\n",
       "      <td>0.111698</td>\n",
       "      <td>0.000405</td>\n",
       "      <td>0.132830</td>\n",
       "      <td>0.000303</td>\n",
       "      <td>0.273573</td>\n",
       "      <td>0.000325</td>\n",
       "      <td>0.000104</td>\n",
       "      <td>-0.002497</td>\n",
       "      <td>0.281829</td>\n",
       "    </tr>\n",
       "    <tr>\n",
       "      <th>procedureLOQValue</th>\n",
       "      <td>-0.005884</td>\n",
       "      <td>1.000000</td>\n",
       "      <td>0.002202</td>\n",
       "      <td>0.010014</td>\n",
       "      <td>0.004472</td>\n",
       "      <td>-0.000072</td>\n",
       "      <td>0.006898</td>\n",
       "      <td>-0.000073</td>\n",
       "      <td>0.008061</td>\n",
       "      <td>-0.000074</td>\n",
       "      <td>-0.002991</td>\n",
       "      <td>-0.000074</td>\n",
       "      <td>-0.000028</td>\n",
       "      <td>-0.001405</td>\n",
       "      <td>0.000566</td>\n",
       "    </tr>\n",
       "    <tr>\n",
       "      <th>resultNumberOfSamples</th>\n",
       "      <td>-0.063079</td>\n",
       "      <td>0.002202</td>\n",
       "      <td>1.000000</td>\n",
       "      <td>0.469915</td>\n",
       "      <td>-0.064268</td>\n",
       "      <td>-0.001942</td>\n",
       "      <td>-0.118578</td>\n",
       "      <td>-0.001964</td>\n",
       "      <td>-0.141517</td>\n",
       "      <td>-0.001982</td>\n",
       "      <td>-0.128728</td>\n",
       "      <td>-0.002175</td>\n",
       "      <td>-0.000684</td>\n",
       "      <td>-0.026777</td>\n",
       "      <td>-0.042046</td>\n",
       "    </tr>\n",
       "    <tr>\n",
       "      <th>resultQualityNumberOfSamplesBelowLOQ</th>\n",
       "      <td>-0.025154</td>\n",
       "      <td>0.010014</td>\n",
       "      <td>0.469915</td>\n",
       "      <td>1.000000</td>\n",
       "      <td>0.279244</td>\n",
       "      <td>-0.012561</td>\n",
       "      <td>0.248647</td>\n",
       "      <td>-0.011824</td>\n",
       "      <td>0.185974</td>\n",
       "      <td>-0.011091</td>\n",
       "      <td>0.255739</td>\n",
       "      <td>-0.006556</td>\n",
       "      <td>-0.003746</td>\n",
       "      <td>-0.038070</td>\n",
       "      <td>-0.022111</td>\n",
       "    </tr>\n",
       "    <tr>\n",
       "      <th>resultQualityMinimumBelowLOQ</th>\n",
       "      <td>0.078265</td>\n",
       "      <td>0.004472</td>\n",
       "      <td>-0.064268</td>\n",
       "      <td>0.279244</td>\n",
       "      <td>1.000000</td>\n",
       "      <td>-0.011095</td>\n",
       "      <td>0.758874</td>\n",
       "      <td>-0.011441</td>\n",
       "      <td>0.664886</td>\n",
       "      <td>-0.011487</td>\n",
       "      <td>0.829565</td>\n",
       "      <td>-0.011280</td>\n",
       "      <td>-0.004385</td>\n",
       "      <td>-0.035194</td>\n",
       "      <td>0.056066</td>\n",
       "    </tr>\n",
       "    <tr>\n",
       "      <th>resultMinimumValue</th>\n",
       "      <td>0.000290</td>\n",
       "      <td>-0.000072</td>\n",
       "      <td>-0.001942</td>\n",
       "      <td>-0.012561</td>\n",
       "      <td>-0.011095</td>\n",
       "      <td>1.000000</td>\n",
       "      <td>-0.008490</td>\n",
       "      <td>0.994781</td>\n",
       "      <td>-0.007378</td>\n",
       "      <td>0.979370</td>\n",
       "      <td>-0.009158</td>\n",
       "      <td>0.994928</td>\n",
       "      <td>0.260671</td>\n",
       "      <td>-0.000212</td>\n",
       "      <td>-0.005211</td>\n",
       "    </tr>\n",
       "    <tr>\n",
       "      <th>resultQualityMeanBelowLOQ</th>\n",
       "      <td>0.111698</td>\n",
       "      <td>0.006898</td>\n",
       "      <td>-0.118578</td>\n",
       "      <td>0.248647</td>\n",
       "      <td>0.758874</td>\n",
       "      <td>-0.008490</td>\n",
       "      <td>1.000000</td>\n",
       "      <td>-0.008668</td>\n",
       "      <td>0.873502</td>\n",
       "      <td>-0.008785</td>\n",
       "      <td>0.945108</td>\n",
       "      <td>-0.008973</td>\n",
       "      <td>-0.003232</td>\n",
       "      <td>-0.024630</td>\n",
       "      <td>0.136505</td>\n",
       "    </tr>\n",
       "    <tr>\n",
       "      <th>resultMeanValue</th>\n",
       "      <td>0.000405</td>\n",
       "      <td>-0.000073</td>\n",
       "      <td>-0.001964</td>\n",
       "      <td>-0.011824</td>\n",
       "      <td>-0.011441</td>\n",
       "      <td>0.994781</td>\n",
       "      <td>-0.008668</td>\n",
       "      <td>1.000000</td>\n",
       "      <td>-0.007582</td>\n",
       "      <td>0.994865</td>\n",
       "      <td>-0.009413</td>\n",
       "      <td>0.999973</td>\n",
       "      <td>0.740215</td>\n",
       "      <td>-0.000235</td>\n",
       "      <td>-0.005236</td>\n",
       "    </tr>\n",
       "    <tr>\n",
       "      <th>resultQualityMaximumBelowLOQ</th>\n",
       "      <td>0.132830</td>\n",
       "      <td>0.008061</td>\n",
       "      <td>-0.141517</td>\n",
       "      <td>0.185974</td>\n",
       "      <td>0.664886</td>\n",
       "      <td>-0.007378</td>\n",
       "      <td>0.873502</td>\n",
       "      <td>-0.007582</td>\n",
       "      <td>1.000000</td>\n",
       "      <td>-0.007634</td>\n",
       "      <td>0.842000</td>\n",
       "      <td>-0.007878</td>\n",
       "      <td>-0.002826</td>\n",
       "      <td>-0.018529</td>\n",
       "      <td>0.160861</td>\n",
       "    </tr>\n",
       "    <tr>\n",
       "      <th>resultMaximumValue</th>\n",
       "      <td>0.000303</td>\n",
       "      <td>-0.000074</td>\n",
       "      <td>-0.001982</td>\n",
       "      <td>-0.011091</td>\n",
       "      <td>-0.011487</td>\n",
       "      <td>0.979370</td>\n",
       "      <td>-0.008785</td>\n",
       "      <td>0.994865</td>\n",
       "      <td>-0.007634</td>\n",
       "      <td>1.000000</td>\n",
       "      <td>-0.009475</td>\n",
       "      <td>0.994614</td>\n",
       "      <td>0.884416</td>\n",
       "      <td>-0.000211</td>\n",
       "      <td>-0.005135</td>\n",
       "    </tr>\n",
       "    <tr>\n",
       "      <th>resultQualityMedianBelowLOQ</th>\n",
       "      <td>0.273573</td>\n",
       "      <td>-0.002991</td>\n",
       "      <td>-0.128728</td>\n",
       "      <td>0.255739</td>\n",
       "      <td>0.829565</td>\n",
       "      <td>-0.009158</td>\n",
       "      <td>0.945108</td>\n",
       "      <td>-0.009413</td>\n",
       "      <td>0.842000</td>\n",
       "      <td>-0.009475</td>\n",
       "      <td>1.000000</td>\n",
       "      <td>-0.009355</td>\n",
       "      <td>-0.003540</td>\n",
       "      <td>-0.015353</td>\n",
       "      <td>0.166719</td>\n",
       "    </tr>\n",
       "    <tr>\n",
       "      <th>resultMedianValue</th>\n",
       "      <td>0.000325</td>\n",
       "      <td>-0.000074</td>\n",
       "      <td>-0.002175</td>\n",
       "      <td>-0.006556</td>\n",
       "      <td>-0.011280</td>\n",
       "      <td>0.994928</td>\n",
       "      <td>-0.008973</td>\n",
       "      <td>0.999973</td>\n",
       "      <td>-0.007878</td>\n",
       "      <td>0.994614</td>\n",
       "      <td>-0.009355</td>\n",
       "      <td>1.000000</td>\n",
       "      <td>0.742524</td>\n",
       "      <td>-0.000335</td>\n",
       "      <td>-0.004896</td>\n",
       "    </tr>\n",
       "    <tr>\n",
       "      <th>resultStandardDeviationValue</th>\n",
       "      <td>0.000104</td>\n",
       "      <td>-0.000028</td>\n",
       "      <td>-0.000684</td>\n",
       "      <td>-0.003746</td>\n",
       "      <td>-0.004385</td>\n",
       "      <td>0.260671</td>\n",
       "      <td>-0.003232</td>\n",
       "      <td>0.740215</td>\n",
       "      <td>-0.002826</td>\n",
       "      <td>0.884416</td>\n",
       "      <td>-0.003540</td>\n",
       "      <td>0.742524</td>\n",
       "      <td>1.000000</td>\n",
       "      <td>-0.000201</td>\n",
       "      <td>-0.000437</td>\n",
       "    </tr>\n",
       "    <tr>\n",
       "      <th>parameterSampleDepth</th>\n",
       "      <td>-0.002497</td>\n",
       "      <td>-0.001405</td>\n",
       "      <td>-0.026777</td>\n",
       "      <td>-0.038070</td>\n",
       "      <td>-0.035194</td>\n",
       "      <td>-0.000212</td>\n",
       "      <td>-0.024630</td>\n",
       "      <td>-0.000235</td>\n",
       "      <td>-0.018529</td>\n",
       "      <td>-0.000211</td>\n",
       "      <td>-0.015353</td>\n",
       "      <td>-0.000335</td>\n",
       "      <td>-0.000201</td>\n",
       "      <td>1.000000</td>\n",
       "      <td>-0.047232</td>\n",
       "    </tr>\n",
       "    <tr>\n",
       "      <th>UID</th>\n",
       "      <td>0.281829</td>\n",
       "      <td>0.000566</td>\n",
       "      <td>-0.042046</td>\n",
       "      <td>-0.022111</td>\n",
       "      <td>0.056066</td>\n",
       "      <td>-0.005211</td>\n",
       "      <td>0.136505</td>\n",
       "      <td>-0.005236</td>\n",
       "      <td>0.160861</td>\n",
       "      <td>-0.005135</td>\n",
       "      <td>0.166719</td>\n",
       "      <td>-0.004896</td>\n",
       "      <td>-0.000437</td>\n",
       "      <td>-0.047232</td>\n",
       "      <td>1.000000</td>\n",
       "    </tr>\n",
       "  </tbody>\n",
       "</table>\n",
       "</div>"
      ],
      "text/plain": [
       "                                      phenomenonTimeReferenceYear  \\\n",
       "phenomenonTimeReferenceYear                              1.000000   \n",
       "procedureLOQValue                                       -0.005884   \n",
       "resultNumberOfSamples                                   -0.063079   \n",
       "resultQualityNumberOfSamplesBelowLOQ                    -0.025154   \n",
       "resultQualityMinimumBelowLOQ                             0.078265   \n",
       "resultMinimumValue                                       0.000290   \n",
       "resultQualityMeanBelowLOQ                                0.111698   \n",
       "resultMeanValue                                          0.000405   \n",
       "resultQualityMaximumBelowLOQ                             0.132830   \n",
       "resultMaximumValue                                       0.000303   \n",
       "resultQualityMedianBelowLOQ                              0.273573   \n",
       "resultMedianValue                                        0.000325   \n",
       "resultStandardDeviationValue                             0.000104   \n",
       "parameterSampleDepth                                    -0.002497   \n",
       "UID                                                      0.281829   \n",
       "\n",
       "                                      procedureLOQValue  \\\n",
       "phenomenonTimeReferenceYear                   -0.005884   \n",
       "procedureLOQValue                              1.000000   \n",
       "resultNumberOfSamples                          0.002202   \n",
       "resultQualityNumberOfSamplesBelowLOQ           0.010014   \n",
       "resultQualityMinimumBelowLOQ                   0.004472   \n",
       "resultMinimumValue                            -0.000072   \n",
       "resultQualityMeanBelowLOQ                      0.006898   \n",
       "resultMeanValue                               -0.000073   \n",
       "resultQualityMaximumBelowLOQ                   0.008061   \n",
       "resultMaximumValue                            -0.000074   \n",
       "resultQualityMedianBelowLOQ                   -0.002991   \n",
       "resultMedianValue                             -0.000074   \n",
       "resultStandardDeviationValue                  -0.000028   \n",
       "parameterSampleDepth                          -0.001405   \n",
       "UID                                            0.000566   \n",
       "\n",
       "                                      resultNumberOfSamples  \\\n",
       "phenomenonTimeReferenceYear                       -0.063079   \n",
       "procedureLOQValue                                  0.002202   \n",
       "resultNumberOfSamples                              1.000000   \n",
       "resultQualityNumberOfSamplesBelowLOQ               0.469915   \n",
       "resultQualityMinimumBelowLOQ                      -0.064268   \n",
       "resultMinimumValue                                -0.001942   \n",
       "resultQualityMeanBelowLOQ                         -0.118578   \n",
       "resultMeanValue                                   -0.001964   \n",
       "resultQualityMaximumBelowLOQ                      -0.141517   \n",
       "resultMaximumValue                                -0.001982   \n",
       "resultQualityMedianBelowLOQ                       -0.128728   \n",
       "resultMedianValue                                 -0.002175   \n",
       "resultStandardDeviationValue                      -0.000684   \n",
       "parameterSampleDepth                              -0.026777   \n",
       "UID                                               -0.042046   \n",
       "\n",
       "                                      resultQualityNumberOfSamplesBelowLOQ  \\\n",
       "phenomenonTimeReferenceYear                                      -0.025154   \n",
       "procedureLOQValue                                                 0.010014   \n",
       "resultNumberOfSamples                                             0.469915   \n",
       "resultQualityNumberOfSamplesBelowLOQ                              1.000000   \n",
       "resultQualityMinimumBelowLOQ                                      0.279244   \n",
       "resultMinimumValue                                               -0.012561   \n",
       "resultQualityMeanBelowLOQ                                         0.248647   \n",
       "resultMeanValue                                                  -0.011824   \n",
       "resultQualityMaximumBelowLOQ                                      0.185974   \n",
       "resultMaximumValue                                               -0.011091   \n",
       "resultQualityMedianBelowLOQ                                       0.255739   \n",
       "resultMedianValue                                                -0.006556   \n",
       "resultStandardDeviationValue                                     -0.003746   \n",
       "parameterSampleDepth                                             -0.038070   \n",
       "UID                                                              -0.022111   \n",
       "\n",
       "                                      resultQualityMinimumBelowLOQ  \\\n",
       "phenomenonTimeReferenceYear                               0.078265   \n",
       "procedureLOQValue                                         0.004472   \n",
       "resultNumberOfSamples                                    -0.064268   \n",
       "resultQualityNumberOfSamplesBelowLOQ                      0.279244   \n",
       "resultQualityMinimumBelowLOQ                              1.000000   \n",
       "resultMinimumValue                                       -0.011095   \n",
       "resultQualityMeanBelowLOQ                                 0.758874   \n",
       "resultMeanValue                                          -0.011441   \n",
       "resultQualityMaximumBelowLOQ                              0.664886   \n",
       "resultMaximumValue                                       -0.011487   \n",
       "resultQualityMedianBelowLOQ                               0.829565   \n",
       "resultMedianValue                                        -0.011280   \n",
       "resultStandardDeviationValue                             -0.004385   \n",
       "parameterSampleDepth                                     -0.035194   \n",
       "UID                                                       0.056066   \n",
       "\n",
       "                                      resultMinimumValue  \\\n",
       "phenomenonTimeReferenceYear                     0.000290   \n",
       "procedureLOQValue                              -0.000072   \n",
       "resultNumberOfSamples                          -0.001942   \n",
       "resultQualityNumberOfSamplesBelowLOQ           -0.012561   \n",
       "resultQualityMinimumBelowLOQ                   -0.011095   \n",
       "resultMinimumValue                              1.000000   \n",
       "resultQualityMeanBelowLOQ                      -0.008490   \n",
       "resultMeanValue                                 0.994781   \n",
       "resultQualityMaximumBelowLOQ                   -0.007378   \n",
       "resultMaximumValue                              0.979370   \n",
       "resultQualityMedianBelowLOQ                    -0.009158   \n",
       "resultMedianValue                               0.994928   \n",
       "resultStandardDeviationValue                    0.260671   \n",
       "parameterSampleDepth                           -0.000212   \n",
       "UID                                            -0.005211   \n",
       "\n",
       "                                      resultQualityMeanBelowLOQ  \\\n",
       "phenomenonTimeReferenceYear                            0.111698   \n",
       "procedureLOQValue                                      0.006898   \n",
       "resultNumberOfSamples                                 -0.118578   \n",
       "resultQualityNumberOfSamplesBelowLOQ                   0.248647   \n",
       "resultQualityMinimumBelowLOQ                           0.758874   \n",
       "resultMinimumValue                                    -0.008490   \n",
       "resultQualityMeanBelowLOQ                              1.000000   \n",
       "resultMeanValue                                       -0.008668   \n",
       "resultQualityMaximumBelowLOQ                           0.873502   \n",
       "resultMaximumValue                                    -0.008785   \n",
       "resultQualityMedianBelowLOQ                            0.945108   \n",
       "resultMedianValue                                     -0.008973   \n",
       "resultStandardDeviationValue                          -0.003232   \n",
       "parameterSampleDepth                                  -0.024630   \n",
       "UID                                                    0.136505   \n",
       "\n",
       "                                      resultMeanValue  \\\n",
       "phenomenonTimeReferenceYear                  0.000405   \n",
       "procedureLOQValue                           -0.000073   \n",
       "resultNumberOfSamples                       -0.001964   \n",
       "resultQualityNumberOfSamplesBelowLOQ        -0.011824   \n",
       "resultQualityMinimumBelowLOQ                -0.011441   \n",
       "resultMinimumValue                           0.994781   \n",
       "resultQualityMeanBelowLOQ                   -0.008668   \n",
       "resultMeanValue                              1.000000   \n",
       "resultQualityMaximumBelowLOQ                -0.007582   \n",
       "resultMaximumValue                           0.994865   \n",
       "resultQualityMedianBelowLOQ                 -0.009413   \n",
       "resultMedianValue                            0.999973   \n",
       "resultStandardDeviationValue                 0.740215   \n",
       "parameterSampleDepth                        -0.000235   \n",
       "UID                                         -0.005236   \n",
       "\n",
       "                                      resultQualityMaximumBelowLOQ  \\\n",
       "phenomenonTimeReferenceYear                               0.132830   \n",
       "procedureLOQValue                                         0.008061   \n",
       "resultNumberOfSamples                                    -0.141517   \n",
       "resultQualityNumberOfSamplesBelowLOQ                      0.185974   \n",
       "resultQualityMinimumBelowLOQ                              0.664886   \n",
       "resultMinimumValue                                       -0.007378   \n",
       "resultQualityMeanBelowLOQ                                 0.873502   \n",
       "resultMeanValue                                          -0.007582   \n",
       "resultQualityMaximumBelowLOQ                              1.000000   \n",
       "resultMaximumValue                                       -0.007634   \n",
       "resultQualityMedianBelowLOQ                               0.842000   \n",
       "resultMedianValue                                        -0.007878   \n",
       "resultStandardDeviationValue                             -0.002826   \n",
       "parameterSampleDepth                                     -0.018529   \n",
       "UID                                                       0.160861   \n",
       "\n",
       "                                      resultMaximumValue  \\\n",
       "phenomenonTimeReferenceYear                     0.000303   \n",
       "procedureLOQValue                              -0.000074   \n",
       "resultNumberOfSamples                          -0.001982   \n",
       "resultQualityNumberOfSamplesBelowLOQ           -0.011091   \n",
       "resultQualityMinimumBelowLOQ                   -0.011487   \n",
       "resultMinimumValue                              0.979370   \n",
       "resultQualityMeanBelowLOQ                      -0.008785   \n",
       "resultMeanValue                                 0.994865   \n",
       "resultQualityMaximumBelowLOQ                   -0.007634   \n",
       "resultMaximumValue                              1.000000   \n",
       "resultQualityMedianBelowLOQ                    -0.009475   \n",
       "resultMedianValue                               0.994614   \n",
       "resultStandardDeviationValue                    0.884416   \n",
       "parameterSampleDepth                           -0.000211   \n",
       "UID                                            -0.005135   \n",
       "\n",
       "                                      resultQualityMedianBelowLOQ  \\\n",
       "phenomenonTimeReferenceYear                              0.273573   \n",
       "procedureLOQValue                                       -0.002991   \n",
       "resultNumberOfSamples                                   -0.128728   \n",
       "resultQualityNumberOfSamplesBelowLOQ                     0.255739   \n",
       "resultQualityMinimumBelowLOQ                             0.829565   \n",
       "resultMinimumValue                                      -0.009158   \n",
       "resultQualityMeanBelowLOQ                                0.945108   \n",
       "resultMeanValue                                         -0.009413   \n",
       "resultQualityMaximumBelowLOQ                             0.842000   \n",
       "resultMaximumValue                                      -0.009475   \n",
       "resultQualityMedianBelowLOQ                              1.000000   \n",
       "resultMedianValue                                       -0.009355   \n",
       "resultStandardDeviationValue                            -0.003540   \n",
       "parameterSampleDepth                                    -0.015353   \n",
       "UID                                                      0.166719   \n",
       "\n",
       "                                      resultMedianValue  \\\n",
       "phenomenonTimeReferenceYear                    0.000325   \n",
       "procedureLOQValue                             -0.000074   \n",
       "resultNumberOfSamples                         -0.002175   \n",
       "resultQualityNumberOfSamplesBelowLOQ          -0.006556   \n",
       "resultQualityMinimumBelowLOQ                  -0.011280   \n",
       "resultMinimumValue                             0.994928   \n",
       "resultQualityMeanBelowLOQ                     -0.008973   \n",
       "resultMeanValue                                0.999973   \n",
       "resultQualityMaximumBelowLOQ                  -0.007878   \n",
       "resultMaximumValue                             0.994614   \n",
       "resultQualityMedianBelowLOQ                   -0.009355   \n",
       "resultMedianValue                              1.000000   \n",
       "resultStandardDeviationValue                   0.742524   \n",
       "parameterSampleDepth                          -0.000335   \n",
       "UID                                           -0.004896   \n",
       "\n",
       "                                      resultStandardDeviationValue  \\\n",
       "phenomenonTimeReferenceYear                               0.000104   \n",
       "procedureLOQValue                                        -0.000028   \n",
       "resultNumberOfSamples                                    -0.000684   \n",
       "resultQualityNumberOfSamplesBelowLOQ                     -0.003746   \n",
       "resultQualityMinimumBelowLOQ                             -0.004385   \n",
       "resultMinimumValue                                        0.260671   \n",
       "resultQualityMeanBelowLOQ                                -0.003232   \n",
       "resultMeanValue                                           0.740215   \n",
       "resultQualityMaximumBelowLOQ                             -0.002826   \n",
       "resultMaximumValue                                        0.884416   \n",
       "resultQualityMedianBelowLOQ                              -0.003540   \n",
       "resultMedianValue                                         0.742524   \n",
       "resultStandardDeviationValue                              1.000000   \n",
       "parameterSampleDepth                                     -0.000201   \n",
       "UID                                                      -0.000437   \n",
       "\n",
       "                                      parameterSampleDepth       UID  \n",
       "phenomenonTimeReferenceYear                      -0.002497  0.281829  \n",
       "procedureLOQValue                                -0.001405  0.000566  \n",
       "resultNumberOfSamples                            -0.026777 -0.042046  \n",
       "resultQualityNumberOfSamplesBelowLOQ             -0.038070 -0.022111  \n",
       "resultQualityMinimumBelowLOQ                     -0.035194  0.056066  \n",
       "resultMinimumValue                               -0.000212 -0.005211  \n",
       "resultQualityMeanBelowLOQ                        -0.024630  0.136505  \n",
       "resultMeanValue                                  -0.000235 -0.005236  \n",
       "resultQualityMaximumBelowLOQ                     -0.018529  0.160861  \n",
       "resultMaximumValue                               -0.000211 -0.005135  \n",
       "resultQualityMedianBelowLOQ                      -0.015353  0.166719  \n",
       "resultMedianValue                                -0.000335 -0.004896  \n",
       "resultStandardDeviationValue                     -0.000201 -0.000437  \n",
       "parameterSampleDepth                              1.000000 -0.047232  \n",
       "UID                                              -0.047232  1.000000  "
      ]
     },
     "execution_count": 26,
     "metadata": {},
     "output_type": "execute_result"
    }
   ],
   "source": [
    "df_class.corr()"
   ]
  },
  {
   "cell_type": "code",
   "execution_count": null,
   "metadata": {},
   "outputs": [],
   "source": [
    "sns.pairplot(df_class)"
   ]
  },
  {
   "cell_type": "code",
   "execution_count": 91,
   "metadata": {},
   "outputs": [
    {
     "data": {
      "text/plain": [
       "<AxesSubplot:>"
      ]
     },
     "execution_count": 91,
     "metadata": {},
     "output_type": "execute_result"
    },
    {
     "data": {
      "image/png": "[encoded data removed]",
      "text/plain": [
       "<Figure size 576x396 with 2 Axes>"
      ]
     },
     "metadata": {},
     "output_type": "display_data"
    }
   ],
   "source": [
    "sns.heatmap(df_class.corr())"
   ]
  },
  {
   "cell_type": "code",
   "execution_count": 92,
   "metadata": {},
   "outputs": [
    {
     "data": {
      "text/plain": [
       "Text(0.5, 1.0, 'Triangle Correlation Heatmap')"
      ]
     },
     "execution_count": 92,
     "metadata": {},
     "output_type": "execute_result"
    },
    {
     "data": {
      "image/png": "[encoded data removed]",
      "text/plain": [
       "<Figure size 1152x432 with 2 Axes>"
      ]
     },
     "metadata": {},
     "output_type": "display_data"
    }
   ],
   "source": [
    "plt.figure(figsize=(16, 6))\n",
    "# define the mask to set the values in the upper triangle to True\n",
    "mask = np.triu(np.ones_like(df_class.corr(), dtype=np.bool))\n",
    "heatmap = sns.heatmap(df_class.corr(), mask=mask, vmin=-1, vmax=1, annot=True, cmap='BrBG')\n",
    "heatmap.set_title('Triangle Correlation Heatmap', fontdict={'fontsize':18}, pad=16)"
   ]
  },
  {
   "cell_type": "markdown",
   "metadata": {},
   "source": [
    "**Cramer's V** to measure the association between qualitative predictors and target:  "
   ]
  },
  {
   "cell_type": "code",
   "execution_count": 28,
   "metadata": {},
   "outputs": [],
   "source": [
    "import scipy.stats as ss\n",
    "\n",
    "def cramers_v(x, y):\n",
    "    confusion_matrix = pd.crosstab(x,y)\n",
    "    chi2 = ss.chi2_contingency(confusion_matrix)[0]\n",
    "    n = confusion_matrix.sum().sum()\n",
    "    phi2 = chi2/n\n",
    "    r,k = confusion_matrix.shape\n",
    "    phi2corr = max(0, phi2-((k-1)*(r-1))/(n-1))\n",
    "    rcorr = r-((r-1)**2)/(n-1)\n",
    "    kcorr = k-((k-1)**2)/(n-1)\n",
    "    return np.sqrt(phi2corr/min((kcorr-1),(rcorr-1)))"
   ]
  },
  {
   "cell_type": "code",
   "execution_count": 29,
   "metadata": {},
   "outputs": [
    {
     "data": {
      "text/plain": [
       "0.22254454015846234"
      ]
     },
     "execution_count": 29,
     "metadata": {},
     "output_type": "execute_result"
    }
   ],
   "source": [
    "cramers_v(df_class['procedureAnalysedFraction'],df_class['parameterWaterBodyCategory'])"
   ]
  },
  {
   "cell_type": "code",
   "execution_count": 30,
   "metadata": {},
   "outputs": [
    {
     "data": {
      "text/plain": [
       "0.004314714223364483"
      ]
     },
     "execution_count": 30,
     "metadata": {},
     "output_type": "execute_result"
    }
   ],
   "source": [
    "cramers_v(df_class['procedureAnalysedMedia'],df_class['parameterWaterBodyCategory'])"
   ]
  },
  {
   "cell_type": "markdown",
   "metadata": {},
   "source": [
    "Como podemos observar nenhuma destas **var. qualititativas** tem uma boa relação com a variável **target**."
   ]
  },
  {
   "cell_type": "markdown",
   "metadata": {},
   "source": [
    "#### Visualização de Outliers:"
   ]
  },
  {
   "cell_type": "code",
   "execution_count": 14,
   "metadata": {},
   "outputs": [
    {
     "name": "stderr",
     "output_type": "stream",
     "text": [
      "/Users/catarinaneves/opt/anaconda3/lib/python3.8/site-packages/seaborn/_decorators.py:36: FutureWarning: Pass the following variable as a keyword arg: x. From version 0.12, the only valid positional argument will be `data`, and passing other arguments without an explicit keyword will result in an error or misinterpretation.\n",
      "  warnings.warn(\n",
      "/Users/catarinaneves/opt/anaconda3/lib/python3.8/site-packages/seaborn/_core.py:1303: UserWarning: Vertical orientation ignored with only `x` specified.\n",
      "  warnings.warn(single_var_warning.format(\"Vertical\", \"x\"))\n"
     ]
    },
    {
     "data": {
      "image/png": "[encoded data removed]",
      "text/plain": [
       "<Figure size 1080x360 with 1 Axes>"
      ]
     },
     "metadata": {
      "needs_background": "light"
     },
     "output_type": "display_data"
    }
   ],
   "source": [
    "#Verificação dos outliers, através de um boxplot:\n",
    "fig, ax = plt.subplots(figsize=(15, 5))\n",
    "\n",
    "sns.boxplot(df_class_clean['procedureLOQValue'], orient = 'v')\n",
    "\n",
    "ax.set_title('procedureLOQValue', fontsize = 15, loc='center')\n",
    "plt.tick_params(axis='x', which='major', labelsize=12)\n",
    "ax.yaxis.tick_left()"
   ]
  },
  {
   "cell_type": "code",
   "execution_count": 16,
   "metadata": {},
   "outputs": [
    {
     "name": "stderr",
     "output_type": "stream",
     "text": [
      "/Users/catarinaneves/opt/anaconda3/lib/python3.8/site-packages/seaborn/_decorators.py:36: FutureWarning: Pass the following variable as a keyword arg: x. From version 0.12, the only valid positional argument will be `data`, and passing other arguments without an explicit keyword will result in an error or misinterpretation.\n",
      "  warnings.warn(\n",
      "/Users/catarinaneves/opt/anaconda3/lib/python3.8/site-packages/seaborn/_core.py:1303: UserWarning: Vertical orientation ignored with only `x` specified.\n",
      "  warnings.warn(single_var_warning.format(\"Vertical\", \"x\"))\n"
     ]
    },
    {
     "data": {
      "image/png": "[encoded data removed]",
      "text/plain": [
       "<Figure size 1080x360 with 1 Axes>"
      ]
     },
     "metadata": {
      "needs_background": "light"
     },
     "output_type": "display_data"
    }
   ],
   "source": [
    "#Verificação dos outliers, através de um boxplot:\n",
    "fig, ax = plt.subplots(figsize=(15, 5))\n",
    "\n",
    "sns.boxplot(df_class_clean['resultMinimumValue'], orient = 'v')\n",
    "\n",
    "ax.set_title('resultMinimumValue', fontsize = 15, loc='center')\n",
    "plt.tick_params(axis='x', which='major', labelsize=12)\n",
    "ax.yaxis.tick_left()"
   ]
  },
  {
   "cell_type": "code",
   "execution_count": 18,
   "metadata": {},
   "outputs": [
    {
     "name": "stderr",
     "output_type": "stream",
     "text": [
      "/Users/catarinaneves/opt/anaconda3/lib/python3.8/site-packages/seaborn/_decorators.py:36: FutureWarning: Pass the following variable as a keyword arg: x. From version 0.12, the only valid positional argument will be `data`, and passing other arguments without an explicit keyword will result in an error or misinterpretation.\n",
      "  warnings.warn(\n",
      "/Users/catarinaneves/opt/anaconda3/lib/python3.8/site-packages/seaborn/_core.py:1303: UserWarning: Vertical orientation ignored with only `x` specified.\n",
      "  warnings.warn(single_var_warning.format(\"Vertical\", \"x\"))\n"
     ]
    },
    {
     "data": {
      "image/png": "[encoded data removed]",
      "text/plain": [
       "<Figure size 1080x360 with 1 Axes>"
      ]
     },
     "metadata": {
      "needs_background": "light"
     },
     "output_type": "display_data"
    }
   ],
   "source": [
    "fig, ax = plt.subplots(figsize=(15, 5))\n",
    "\n",
    "sns.boxplot(df_class_clean['resultMeanValue'], orient = 'v')\n",
    "\n",
    "ax.set_title('resultMeanValue', fontsize = 15, loc='center')\n",
    "plt.tick_params(axis='x', which='major', labelsize=12)\n",
    "ax.yaxis.tick_left()"
   ]
  },
  {
   "cell_type": "code",
   "execution_count": 20,
   "metadata": {},
   "outputs": [
    {
     "name": "stderr",
     "output_type": "stream",
     "text": [
      "/Users/catarinaneves/opt/anaconda3/lib/python3.8/site-packages/seaborn/_decorators.py:36: FutureWarning: Pass the following variable as a keyword arg: x. From version 0.12, the only valid positional argument will be `data`, and passing other arguments without an explicit keyword will result in an error or misinterpretation.\n",
      "  warnings.warn(\n",
      "/Users/catarinaneves/opt/anaconda3/lib/python3.8/site-packages/seaborn/_core.py:1303: UserWarning: Vertical orientation ignored with only `x` specified.\n",
      "  warnings.warn(single_var_warning.format(\"Vertical\", \"x\"))\n"
     ]
    },
    {
     "data": {
      "image/png": "[encoded data removed]",
      "text/plain": [
       "<Figure size 1080x360 with 1 Axes>"
      ]
     },
     "metadata": {
      "needs_background": "light"
     },
     "output_type": "display_data"
    }
   ],
   "source": [
    "fig, ax = plt.subplots(figsize=(15, 5))\n",
    "\n",
    "sns.boxplot(df_class_clean['resultMaximumValue'], orient = 'v')\n",
    "\n",
    "ax.set_title('resultMaximumValue', fontsize = 15, loc='center')\n",
    "plt.tick_params(axis='x', which='major', labelsize=12)\n",
    "ax.yaxis.tick_left()"
   ]
  },
  {
   "cell_type": "code",
   "execution_count": 22,
   "metadata": {},
   "outputs": [
    {
     "name": "stderr",
     "output_type": "stream",
     "text": [
      "/Users/catarinaneves/opt/anaconda3/lib/python3.8/site-packages/seaborn/_decorators.py:36: FutureWarning: Pass the following variable as a keyword arg: x. From version 0.12, the only valid positional argument will be `data`, and passing other arguments without an explicit keyword will result in an error or misinterpretation.\n",
      "  warnings.warn(\n",
      "/Users/catarinaneves/opt/anaconda3/lib/python3.8/site-packages/seaborn/_core.py:1303: UserWarning: Vertical orientation ignored with only `x` specified.\n",
      "  warnings.warn(single_var_warning.format(\"Vertical\", \"x\"))\n"
     ]
    },
    {
     "data": {
      "image/png": "[encoded data removed]",
      "text/plain": [
       "<Figure size 1080x360 with 1 Axes>"
      ]
     },
     "metadata": {
      "needs_background": "light"
     },
     "output_type": "display_data"
    }
   ],
   "source": [
    "fig, ax = plt.subplots(figsize=(15, 5))\n",
    "\n",
    "sns.boxplot(df_class_clean['resultMedianValue'], orient = 'v')\n",
    "\n",
    "ax.set_title('resultMedianValue', fontsize = 15, loc='center')\n",
    "plt.tick_params(axis='x', which='major', labelsize=12)\n",
    "ax.yaxis.tick_left()"
   ]
  },
  {
   "cell_type": "code",
   "execution_count": 24,
   "metadata": {},
   "outputs": [
    {
     "name": "stderr",
     "output_type": "stream",
     "text": [
      "/Users/catarinaneves/opt/anaconda3/lib/python3.8/site-packages/seaborn/_decorators.py:36: FutureWarning: Pass the following variable as a keyword arg: x. From version 0.12, the only valid positional argument will be `data`, and passing other arguments without an explicit keyword will result in an error or misinterpretation.\n",
      "  warnings.warn(\n",
      "/Users/catarinaneves/opt/anaconda3/lib/python3.8/site-packages/seaborn/_core.py:1303: UserWarning: Vertical orientation ignored with only `x` specified.\n",
      "  warnings.warn(single_var_warning.format(\"Vertical\", \"x\"))\n"
     ]
    },
    {
     "data": {
      "image/png": "[encoded data removed]",
      "text/plain": [
       "<Figure size 1080x360 with 1 Axes>"
      ]
     },
     "metadata": {
      "needs_background": "light"
     },
     "output_type": "display_data"
    }
   ],
   "source": [
    "fig, ax = plt.subplots(figsize=(15, 5))\n",
    "\n",
    "sns.boxplot(df_class_clean['resultStandardDeviationValue'], orient = 'v')\n",
    "\n",
    "ax.set_title('resultStandardDeviationValue', fontsize = 15, loc='center')\n",
    "plt.tick_params(axis='x', which='major', labelsize=12)\n",
    "ax.yaxis.tick_left()"
   ]
  },
  {
   "cell_type": "code",
   "execution_count": 26,
   "metadata": {},
   "outputs": [
    {
     "name": "stderr",
     "output_type": "stream",
     "text": [
      "/Users/catarinaneves/opt/anaconda3/lib/python3.8/site-packages/seaborn/_decorators.py:36: FutureWarning: Pass the following variable as a keyword arg: x. From version 0.12, the only valid positional argument will be `data`, and passing other arguments without an explicit keyword will result in an error or misinterpretation.\n",
      "  warnings.warn(\n",
      "/Users/catarinaneves/opt/anaconda3/lib/python3.8/site-packages/seaborn/_core.py:1303: UserWarning: Vertical orientation ignored with only `x` specified.\n",
      "  warnings.warn(single_var_warning.format(\"Vertical\", \"x\"))\n"
     ]
    },
    {
     "data": {
      "image/png": "[encoded data removed]",
      "text/plain": [
       "<Figure size 1080x360 with 1 Axes>"
      ]
     },
     "metadata": {
      "needs_background": "light"
     },
     "output_type": "display_data"
    }
   ],
   "source": [
    "fig, ax = plt.subplots(figsize=(15, 5))\n",
    "\n",
    "sns.boxplot(df_class_clean['parameterSampleDepth'], orient = 'v')\n",
    "\n",
    "ax.set_title('parameterSampleDepth', fontsize = 15, loc='center')\n",
    "plt.tick_params(axis='x', which='major', labelsize=12)\n",
    "ax.yaxis.tick_left()"
   ]
  },
  {
   "cell_type": "markdown",
   "metadata": {},
   "source": [
    "### 3º Passo"
   ]
  },
  {
   "cell_type": "markdown",
   "metadata": {},
   "source": [
    "**Eliminação de colunas**"
   ]
  },
  {
   "cell_type": "markdown",
   "metadata": {},
   "source": [
    "- Iremos eliminar a variável \"resultUom\", pois não é interessante para o nosso estudo \n",
    "- As restantes variáveis serão eliminadas, pelo facto de apresentarem mais de 60% de valores omissos"
   ]
  },
  {
   "cell_type": "code",
   "execution_count": 3,
   "metadata": {},
   "outputs": [],
   "source": [
    "df_class_clean = df_class.drop(['resultQualityNumberOfSamplesBelowLOQ','resultUom','resultObservationStatus','procedureAnalyticalMethod','resultQualityMedianBelowLOQ'], axis = 1)"
   ]
  },
  {
   "cell_type": "code",
   "execution_count": 4,
   "metadata": {},
   "outputs": [
    {
     "data": {
      "text/plain": [
       "Index(['parameterWaterBodyCategory', 'observedPropertyDeterminandCode',\n",
       "       'procedureAnalysedFraction', 'procedureAnalysedMedia',\n",
       "       'phenomenonTimeReferenceYear', 'parameterSamplingPeriod',\n",
       "       'procedureLOQValue', 'resultNumberOfSamples',\n",
       "       'resultQualityMinimumBelowLOQ', 'resultMinimumValue',\n",
       "       'resultQualityMeanBelowLOQ', 'resultMeanValue',\n",
       "       'resultQualityMaximumBelowLOQ', 'resultMaximumValue',\n",
       "       'resultMedianValue', 'resultStandardDeviationValue',\n",
       "       'parameterSampleDepth', 'UID'],\n",
       "      dtype='object')"
      ]
     },
     "execution_count": 4,
     "metadata": {},
     "output_type": "execute_result"
    }
   ],
   "source": [
    "df_class_clean.columns"
   ]
  },
  {
   "cell_type": "markdown",
   "metadata": {},
   "source": [
    "**Valores omissos**"
   ]
  },
  {
   "cell_type": "code",
   "execution_count": 87,
   "metadata": {},
   "outputs": [
    {
     "name": "stdout",
     "output_type": "stream",
     "text": [
      "parameterWaterBodyCategory-0%\n",
      "observedPropertyDeterminandCode-0%\n",
      "procedureAnalysedFraction-0%\n",
      "procedureAnalysedMedia-0%\n",
      "phenomenonTimeReferenceYear-0%\n",
      "parameterSamplingPeriod-1%\n",
      "procedureLOQValue-50%\n",
      "resultNumberOfSamples-2%\n",
      "resultQualityMinimumBelowLOQ-49%\n",
      "resultMinimumValue-4%\n",
      "resultQualityMeanBelowLOQ-49%\n",
      "resultMeanValue-0%\n",
      "resultQualityMaximumBelowLOQ-49%\n",
      "resultMaximumValue-4%\n",
      "resultMedianValue-42%\n",
      "resultStandardDeviationValue-21%\n",
      "parameterSampleDepth-47%\n",
      "UID-0%\n"
     ]
    }
   ],
   "source": [
    "for col in df_class_clean.columns:\n",
    "    miss=np.mean(df_class[col].isnull())\n",
    "    print('{}-{}%'.format(col,round(miss*100)))"
   ]
  },
  {
   "cell_type": "markdown",
   "metadata": {},
   "source": [
    "-Eliminação dos restantes registos nulos"
   ]
  },
  {
   "cell_type": "code",
   "execution_count": 4,
   "metadata": {},
   "outputs": [],
   "source": [
    "df_class_clean = df_class_clean.dropna()"
   ]
  },
  {
   "cell_type": "code",
   "execution_count": 5,
   "metadata": {},
   "outputs": [
    {
     "data": {
      "text/plain": [
       "parameterWaterBodyCategory         0\n",
       "observedPropertyDeterminandCode    0\n",
       "procedureAnalysedFraction          0\n",
       "procedureAnalysedMedia             0\n",
       "phenomenonTimeReferenceYear        0\n",
       "parameterSamplingPeriod            0\n",
       "procedureLOQValue                  0\n",
       "resultNumberOfSamples              0\n",
       "resultQualityMinimumBelowLOQ       0\n",
       "resultMinimumValue                 0\n",
       "resultQualityMeanBelowLOQ          0\n",
       "resultMeanValue                    0\n",
       "resultQualityMaximumBelowLOQ       0\n",
       "resultMaximumValue                 0\n",
       "resultMedianValue                  0\n",
       "resultStandardDeviationValue       0\n",
       "parameterSampleDepth               0\n",
       "UID                                0\n",
       "dtype: int64"
      ]
     },
     "execution_count": 5,
     "metadata": {},
     "output_type": "execute_result"
    }
   ],
   "source": [
    "df_class_clean.isnull().sum()"
   ]
  },
  {
   "cell_type": "markdown",
   "metadata": {},
   "source": [
    "**Quantidade de registos por variável**"
   ]
  },
  {
   "cell_type": "code",
   "execution_count": 7,
   "metadata": {},
   "outputs": [
    {
     "data": {
      "text/plain": [
       "parameterWaterBodyCategory         227871\n",
       "observedPropertyDeterminandCode    227871\n",
       "procedureAnalysedFraction          227871\n",
       "procedureAnalysedMedia             227871\n",
       "phenomenonTimeReferenceYear        227871\n",
       "parameterSamplingPeriod            227871\n",
       "procedureLOQValue                  227871\n",
       "resultNumberOfSamples              227871\n",
       "resultQualityMinimumBelowLOQ       227871\n",
       "resultMinimumValue                 227871\n",
       "resultQualityMeanBelowLOQ          227871\n",
       "resultMeanValue                    227871\n",
       "resultQualityMaximumBelowLOQ       227871\n",
       "resultMaximumValue                 227871\n",
       "resultMedianValue                  227871\n",
       "resultStandardDeviationValue       227871\n",
       "parameterSampleDepth               227871\n",
       "UID                                227871\n",
       "dtype: int64"
      ]
     },
     "execution_count": 7,
     "metadata": {},
     "output_type": "execute_result"
    }
   ],
   "source": [
    "df_class_clean.count()"
   ]
  },
  {
   "cell_type": "code",
   "execution_count": 8,
   "metadata": {},
   "outputs": [
    {
     "data": {
      "text/html": [
       "<div>\n",
       "<style scoped>\n",
       "    .dataframe tbody tr th:only-of-type {\n",
       "        vertical-align: middle;\n",
       "    }\n",
       "\n",
       "    .dataframe tbody tr th {\n",
       "        vertical-align: top;\n",
       "    }\n",
       "\n",
       "    .dataframe thead th {\n",
       "        text-align: right;\n",
       "    }\n",
       "</style>\n",
       "<table border=\"1\" class=\"dataframe\">\n",
       "  <thead>\n",
       "    <tr style=\"text-align: right;\">\n",
       "      <th></th>\n",
       "      <th>parameterWaterBodyCategory</th>\n",
       "      <th>observedPropertyDeterminandCode</th>\n",
       "      <th>procedureAnalysedFraction</th>\n",
       "      <th>procedureAnalysedMedia</th>\n",
       "      <th>phenomenonTimeReferenceYear</th>\n",
       "      <th>parameterSamplingPeriod</th>\n",
       "      <th>procedureLOQValue</th>\n",
       "      <th>resultNumberOfSamples</th>\n",
       "      <th>resultQualityMinimumBelowLOQ</th>\n",
       "      <th>resultMinimumValue</th>\n",
       "      <th>resultQualityMeanBelowLOQ</th>\n",
       "      <th>resultMeanValue</th>\n",
       "      <th>resultQualityMaximumBelowLOQ</th>\n",
       "      <th>resultMaximumValue</th>\n",
       "      <th>resultMedianValue</th>\n",
       "      <th>resultStandardDeviationValue</th>\n",
       "      <th>parameterSampleDepth</th>\n",
       "      <th>UID</th>\n",
       "    </tr>\n",
       "  </thead>\n",
       "  <tbody>\n",
       "    <tr>\n",
       "      <th>106</th>\n",
       "      <td>LW</td>\n",
       "      <td>CAS_5598-13-0</td>\n",
       "      <td>total</td>\n",
       "      <td>water</td>\n",
       "      <td>2010</td>\n",
       "      <td>2010-01--2010-12</td>\n",
       "      <td>0.05</td>\n",
       "      <td>6.0</td>\n",
       "      <td>1.0</td>\n",
       "      <td>0.05</td>\n",
       "      <td>1.0</td>\n",
       "      <td>0.0500</td>\n",
       "      <td>1.0</td>\n",
       "      <td>0.05</td>\n",
       "      <td>0.05</td>\n",
       "      <td>0.0000</td>\n",
       "      <td>50.0</td>\n",
       "      <td>9244277</td>\n",
       "    </tr>\n",
       "    <tr>\n",
       "      <th>157</th>\n",
       "      <td>LW</td>\n",
       "      <td>CAS_7440-38-2</td>\n",
       "      <td>total</td>\n",
       "      <td>water</td>\n",
       "      <td>2010</td>\n",
       "      <td>2010-01--2010-12</td>\n",
       "      <td>0.50</td>\n",
       "      <td>6.0</td>\n",
       "      <td>0.0</td>\n",
       "      <td>1.10</td>\n",
       "      <td>0.0</td>\n",
       "      <td>1.4333</td>\n",
       "      <td>0.0</td>\n",
       "      <td>1.70</td>\n",
       "      <td>1.40</td>\n",
       "      <td>0.2338</td>\n",
       "      <td>10.0</td>\n",
       "      <td>9244324</td>\n",
       "    </tr>\n",
       "    <tr>\n",
       "      <th>158</th>\n",
       "      <td>LW</td>\n",
       "      <td>CAS_7439-97-6</td>\n",
       "      <td>total</td>\n",
       "      <td>water</td>\n",
       "      <td>2010</td>\n",
       "      <td>2010-01--2010-12</td>\n",
       "      <td>0.10</td>\n",
       "      <td>6.0</td>\n",
       "      <td>1.0</td>\n",
       "      <td>0.10</td>\n",
       "      <td>1.0</td>\n",
       "      <td>0.1000</td>\n",
       "      <td>1.0</td>\n",
       "      <td>0.10</td>\n",
       "      <td>0.10</td>\n",
       "      <td>0.0000</td>\n",
       "      <td>10.0</td>\n",
       "      <td>9244325</td>\n",
       "    </tr>\n",
       "    <tr>\n",
       "      <th>161</th>\n",
       "      <td>LW</td>\n",
       "      <td>CAS_7440-50-8</td>\n",
       "      <td>total</td>\n",
       "      <td>water</td>\n",
       "      <td>2010</td>\n",
       "      <td>2010-01--2010-12</td>\n",
       "      <td>5.00</td>\n",
       "      <td>6.0</td>\n",
       "      <td>1.0</td>\n",
       "      <td>5.00</td>\n",
       "      <td>1.0</td>\n",
       "      <td>5.0000</td>\n",
       "      <td>1.0</td>\n",
       "      <td>5.00</td>\n",
       "      <td>5.00</td>\n",
       "      <td>0.0000</td>\n",
       "      <td>10.0</td>\n",
       "      <td>9244326</td>\n",
       "    </tr>\n",
       "    <tr>\n",
       "      <th>162</th>\n",
       "      <td>LW</td>\n",
       "      <td>CAS_7440-43-9</td>\n",
       "      <td>total</td>\n",
       "      <td>water</td>\n",
       "      <td>2010</td>\n",
       "      <td>2010-01--2010-12</td>\n",
       "      <td>0.50</td>\n",
       "      <td>6.0</td>\n",
       "      <td>1.0</td>\n",
       "      <td>0.50</td>\n",
       "      <td>1.0</td>\n",
       "      <td>0.5000</td>\n",
       "      <td>1.0</td>\n",
       "      <td>0.50</td>\n",
       "      <td>0.50</td>\n",
       "      <td>0.0000</td>\n",
       "      <td>20.0</td>\n",
       "      <td>9244327</td>\n",
       "    </tr>\n",
       "  </tbody>\n",
       "</table>\n",
       "</div>"
      ],
      "text/plain": [
       "    parameterWaterBodyCategory observedPropertyDeterminandCode  \\\n",
       "106                         LW                   CAS_5598-13-0   \n",
       "157                         LW                   CAS_7440-38-2   \n",
       "158                         LW                   CAS_7439-97-6   \n",
       "161                         LW                   CAS_7440-50-8   \n",
       "162                         LW                   CAS_7440-43-9   \n",
       "\n",
       "    procedureAnalysedFraction procedureAnalysedMedia  \\\n",
       "106                     total                  water   \n",
       "157                     total                  water   \n",
       "158                     total                  water   \n",
       "161                     total                  water   \n",
       "162                     total                  water   \n",
       "\n",
       "     phenomenonTimeReferenceYear parameterSamplingPeriod  procedureLOQValue  \\\n",
       "106                         2010        2010-01--2010-12               0.05   \n",
       "157                         2010        2010-01--2010-12               0.50   \n",
       "158                         2010        2010-01--2010-12               0.10   \n",
       "161                         2010        2010-01--2010-12               5.00   \n",
       "162                         2010        2010-01--2010-12               0.50   \n",
       "\n",
       "     resultNumberOfSamples  resultQualityMinimumBelowLOQ  resultMinimumValue  \\\n",
       "106                    6.0                           1.0                0.05   \n",
       "157                    6.0                           0.0                1.10   \n",
       "158                    6.0                           1.0                0.10   \n",
       "161                    6.0                           1.0                5.00   \n",
       "162                    6.0                           1.0                0.50   \n",
       "\n",
       "     resultQualityMeanBelowLOQ  resultMeanValue  resultQualityMaximumBelowLOQ  \\\n",
       "106                        1.0           0.0500                           1.0   \n",
       "157                        0.0           1.4333                           0.0   \n",
       "158                        1.0           0.1000                           1.0   \n",
       "161                        1.0           5.0000                           1.0   \n",
       "162                        1.0           0.5000                           1.0   \n",
       "\n",
       "     resultMaximumValue  resultMedianValue  resultStandardDeviationValue  \\\n",
       "106                0.05               0.05                        0.0000   \n",
       "157                1.70               1.40                        0.2338   \n",
       "158                0.10               0.10                        0.0000   \n",
       "161                5.00               5.00                        0.0000   \n",
       "162                0.50               0.50                        0.0000   \n",
       "\n",
       "     parameterSampleDepth      UID  \n",
       "106                  50.0  9244277  \n",
       "157                  10.0  9244324  \n",
       "158                  10.0  9244325  \n",
       "161                  10.0  9244326  \n",
       "162                  20.0  9244327  "
      ]
     },
     "execution_count": 8,
     "metadata": {},
     "output_type": "execute_result"
    }
   ],
   "source": [
    "df_class_clean.head()"
   ]
  },
  {
   "cell_type": "code",
   "execution_count": 6,
   "metadata": {},
   "outputs": [],
   "source": [
    "#Decidimos apagar esta variável, visto que não consideramos relevante para o nosso estudo\n",
    "df_class_clean=df_class_clean.drop(['observedPropertyDeterminandCode'],axis = 1)"
   ]
  },
  {
   "cell_type": "code",
   "execution_count": 7,
   "metadata": {},
   "outputs": [
    {
     "data": {
      "text/plain": [
       "parameterWaterBodyCategory      227871\n",
       "procedureAnalysedFraction       227871\n",
       "procedureAnalysedMedia          227871\n",
       "phenomenonTimeReferenceYear     227871\n",
       "parameterSamplingPeriod         227871\n",
       "procedureLOQValue               227871\n",
       "resultNumberOfSamples           227871\n",
       "resultQualityMinimumBelowLOQ    227871\n",
       "resultMinimumValue              227871\n",
       "resultQualityMeanBelowLOQ       227871\n",
       "resultMeanValue                 227871\n",
       "resultQualityMaximumBelowLOQ    227871\n",
       "resultMaximumValue              227871\n",
       "resultMedianValue               227871\n",
       "resultStandardDeviationValue    227871\n",
       "parameterSampleDepth            227871\n",
       "UID                             227871\n",
       "dtype: int64"
      ]
     },
     "execution_count": 7,
     "metadata": {},
     "output_type": "execute_result"
    }
   ],
   "source": [
    "df_class_clean.count()"
   ]
  },
  {
   "cell_type": "code",
   "execution_count": 8,
   "metadata": {},
   "outputs": [
    {
     "data": {
      "text/plain": [
       "Int64Index([], dtype='int64')"
      ]
     },
     "execution_count": 8,
     "metadata": {},
     "output_type": "execute_result"
    }
   ],
   "source": [
    "df_class_clean.loc[df_class_clean['procedureAnalysedMedia']!=\"water\"].index"
   ]
  },
  {
   "cell_type": "markdown",
   "metadata": {},
   "source": [
    "Com a eliminação dos registos nulos, verificamos que a variável **procedureAnalysedMedia** passa a ter apenas registos com a classe \"water\"."
   ]
  },
  {
   "cell_type": "markdown",
   "metadata": {},
   "source": [
    "#### Verificação de outliers"
   ]
  },
  {
   "cell_type": "code",
   "execution_count": 12,
   "metadata": {},
   "outputs": [],
   "source": [
    "pd.set_option('float_format', '{:f}'.format)"
   ]
  },
  {
   "cell_type": "code",
   "execution_count": 13,
   "metadata": {},
   "outputs": [
    {
     "data": {
      "text/html": [
       "<div>\n",
       "<style scoped>\n",
       "    .dataframe tbody tr th:only-of-type {\n",
       "        vertical-align: middle;\n",
       "    }\n",
       "\n",
       "    .dataframe tbody tr th {\n",
       "        vertical-align: top;\n",
       "    }\n",
       "\n",
       "    .dataframe thead th {\n",
       "        text-align: right;\n",
       "    }\n",
       "</style>\n",
       "<table border=\"1\" class=\"dataframe\">\n",
       "  <thead>\n",
       "    <tr style=\"text-align: right;\">\n",
       "      <th></th>\n",
       "      <th>phenomenonTimeReferenceYear</th>\n",
       "      <th>procedureLOQValue</th>\n",
       "      <th>resultNumberOfSamples</th>\n",
       "      <th>resultQualityMinimumBelowLOQ</th>\n",
       "      <th>resultMinimumValue</th>\n",
       "      <th>resultQualityMeanBelowLOQ</th>\n",
       "      <th>resultMeanValue</th>\n",
       "      <th>resultQualityMaximumBelowLOQ</th>\n",
       "      <th>resultMaximumValue</th>\n",
       "      <th>resultMedianValue</th>\n",
       "      <th>resultStandardDeviationValue</th>\n",
       "      <th>parameterSampleDepth</th>\n",
       "      <th>UID</th>\n",
       "    </tr>\n",
       "  </thead>\n",
       "  <tbody>\n",
       "    <tr>\n",
       "      <th>count</th>\n",
       "      <td>227871.000000</td>\n",
       "      <td>227871.000000</td>\n",
       "      <td>227871.000000</td>\n",
       "      <td>227871.000000</td>\n",
       "      <td>227871.000000</td>\n",
       "      <td>227871.000000</td>\n",
       "      <td>227871.000000</td>\n",
       "      <td>227871.000000</td>\n",
       "      <td>227871.000000</td>\n",
       "      <td>227871.000000</td>\n",
       "      <td>227871.000000</td>\n",
       "      <td>227871.000000</td>\n",
       "      <td>227871.000000</td>\n",
       "    </tr>\n",
       "    <tr>\n",
       "      <th>mean</th>\n",
       "      <td>2010.437515</td>\n",
       "      <td>20.075210</td>\n",
       "      <td>8.201048</td>\n",
       "      <td>0.736820</td>\n",
       "      <td>11.458060</td>\n",
       "      <td>0.562353</td>\n",
       "      <td>19.205440</td>\n",
       "      <td>0.468278</td>\n",
       "      <td>46.386717</td>\n",
       "      <td>16.349568</td>\n",
       "      <td>10.509567</td>\n",
       "      <td>1.102235</td>\n",
       "      <td>5554301.686125</td>\n",
       "    </tr>\n",
       "    <tr>\n",
       "      <th>std</th>\n",
       "      <td>2.157731</td>\n",
       "      <td>1882.025722</td>\n",
       "      <td>7.175999</td>\n",
       "      <td>0.440360</td>\n",
       "      <td>141.569272</td>\n",
       "      <td>0.496098</td>\n",
       "      <td>525.180358</td>\n",
       "      <td>0.498994</td>\n",
       "      <td>3790.963369</td>\n",
       "      <td>189.241889</td>\n",
       "      <td>1153.165033</td>\n",
       "      <td>10.649606</td>\n",
       "      <td>4909762.019628</td>\n",
       "    </tr>\n",
       "    <tr>\n",
       "      <th>min</th>\n",
       "      <td>1989.000000</td>\n",
       "      <td>-5.000000</td>\n",
       "      <td>1.000000</td>\n",
       "      <td>0.000000</td>\n",
       "      <td>-0.500000</td>\n",
       "      <td>0.000000</td>\n",
       "      <td>-0.005100</td>\n",
       "      <td>0.000000</td>\n",
       "      <td>0.000000</td>\n",
       "      <td>-0.006700</td>\n",
       "      <td>0.000000</td>\n",
       "      <td>0.000000</td>\n",
       "      <td>225.000000</td>\n",
       "    </tr>\n",
       "    <tr>\n",
       "      <th>25%</th>\n",
       "      <td>2009.000000</td>\n",
       "      <td>0.020000</td>\n",
       "      <td>4.000000</td>\n",
       "      <td>0.000000</td>\n",
       "      <td>0.008300</td>\n",
       "      <td>0.000000</td>\n",
       "      <td>0.016696</td>\n",
       "      <td>0.000000</td>\n",
       "      <td>0.025044</td>\n",
       "      <td>0.014941</td>\n",
       "      <td>0.000000</td>\n",
       "      <td>0.000000</td>\n",
       "      <td>846476.500000</td>\n",
       "    </tr>\n",
       "    <tr>\n",
       "      <th>50%</th>\n",
       "      <td>2010.000000</td>\n",
       "      <td>0.120000</td>\n",
       "      <td>8.000000</td>\n",
       "      <td>1.000000</td>\n",
       "      <td>0.083300</td>\n",
       "      <td>1.000000</td>\n",
       "      <td>0.166700</td>\n",
       "      <td>0.000000</td>\n",
       "      <td>0.232000</td>\n",
       "      <td>0.150102</td>\n",
       "      <td>0.011735</td>\n",
       "      <td>0.000000</td>\n",
       "      <td>1247057.000000</td>\n",
       "    </tr>\n",
       "    <tr>\n",
       "      <th>75%</th>\n",
       "      <td>2012.000000</td>\n",
       "      <td>1.020000</td>\n",
       "      <td>12.000000</td>\n",
       "      <td>1.000000</td>\n",
       "      <td>1.000000</td>\n",
       "      <td>1.000000</td>\n",
       "      <td>2.000000</td>\n",
       "      <td>1.000000</td>\n",
       "      <td>3.400000</td>\n",
       "      <td>2.000000</td>\n",
       "      <td>0.467099</td>\n",
       "      <td>0.200000</td>\n",
       "      <td>10591382.500000</td>\n",
       "    </tr>\n",
       "    <tr>\n",
       "      <th>max</th>\n",
       "      <td>2017.000000</td>\n",
       "      <td>400000.000000</td>\n",
       "      <td>665.000000</td>\n",
       "      <td>1.000000</td>\n",
       "      <td>30000.000000</td>\n",
       "      <td>1.000000</td>\n",
       "      <td>182942.000000</td>\n",
       "      <td>1.000000</td>\n",
       "      <td>1372000.000000</td>\n",
       "      <td>41399.000000</td>\n",
       "      <td>480720.000000</td>\n",
       "      <td>999.000000</td>\n",
       "      <td>11611387.000000</td>\n",
       "    </tr>\n",
       "  </tbody>\n",
       "</table>\n",
       "</div>"
      ],
      "text/plain": [
       "       phenomenonTimeReferenceYear  procedureLOQValue  resultNumberOfSamples  \\\n",
       "count                227871.000000      227871.000000          227871.000000   \n",
       "mean                   2010.437515          20.075210               8.201048   \n",
       "std                       2.157731        1882.025722               7.175999   \n",
       "min                    1989.000000          -5.000000               1.000000   \n",
       "25%                    2009.000000           0.020000               4.000000   \n",
       "50%                    2010.000000           0.120000               8.000000   \n",
       "75%                    2012.000000           1.020000              12.000000   \n",
       "max                    2017.000000      400000.000000             665.000000   \n",
       "\n",
       "       resultQualityMinimumBelowLOQ  resultMinimumValue  \\\n",
       "count                 227871.000000       227871.000000   \n",
       "mean                       0.736820           11.458060   \n",
       "std                        0.440360          141.569272   \n",
       "min                        0.000000           -0.500000   \n",
       "25%                        0.000000            0.008300   \n",
       "50%                        1.000000            0.083300   \n",
       "75%                        1.000000            1.000000   \n",
       "max                        1.000000        30000.000000   \n",
       "\n",
       "       resultQualityMeanBelowLOQ  resultMeanValue  \\\n",
       "count              227871.000000    227871.000000   \n",
       "mean                    0.562353        19.205440   \n",
       "std                     0.496098       525.180358   \n",
       "min                     0.000000        -0.005100   \n",
       "25%                     0.000000         0.016696   \n",
       "50%                     1.000000         0.166700   \n",
       "75%                     1.000000         2.000000   \n",
       "max                     1.000000    182942.000000   \n",
       "\n",
       "       resultQualityMaximumBelowLOQ  resultMaximumValue  resultMedianValue  \\\n",
       "count                 227871.000000       227871.000000      227871.000000   \n",
       "mean                       0.468278           46.386717          16.349568   \n",
       "std                        0.498994         3790.963369         189.241889   \n",
       "min                        0.000000            0.000000          -0.006700   \n",
       "25%                        0.000000            0.025044           0.014941   \n",
       "50%                        0.000000            0.232000           0.150102   \n",
       "75%                        1.000000            3.400000           2.000000   \n",
       "max                        1.000000      1372000.000000       41399.000000   \n",
       "\n",
       "       resultStandardDeviationValue  parameterSampleDepth             UID  \n",
       "count                 227871.000000         227871.000000   227871.000000  \n",
       "mean                      10.509567              1.102235  5554301.686125  \n",
       "std                     1153.165033             10.649606  4909762.019628  \n",
       "min                        0.000000              0.000000      225.000000  \n",
       "25%                        0.000000              0.000000   846476.500000  \n",
       "50%                        0.011735              0.000000  1247057.000000  \n",
       "75%                        0.467099              0.200000 10591382.500000  \n",
       "max                   480720.000000            999.000000 11611387.000000  "
      ]
     },
     "execution_count": 13,
     "metadata": {},
     "output_type": "execute_result"
    }
   ],
   "source": [
    "df_class_clean.describe()"
   ]
  },
  {
   "cell_type": "markdown",
   "metadata": {},
   "source": [
    "- procedureLOQValue"
   ]
  },
  {
   "cell_type": "code",
   "execution_count": 9,
   "metadata": {},
   "outputs": [],
   "source": [
    "#Eliminação de outliers\n",
    "df_class_clean.drop(df_class_clean.loc[df_class_clean['procedureLOQValue']==400000].index, inplace=True)"
   ]
  },
  {
   "cell_type": "markdown",
   "metadata": {},
   "source": [
    "- resultMinimumValue"
   ]
  },
  {
   "cell_type": "code",
   "execution_count": 10,
   "metadata": {},
   "outputs": [],
   "source": [
    "#Eliminação dos outliers mais acentuados\n",
    "df_class_clean.drop(df_class_clean.loc[df_class_clean['resultMinimumValue']>=16000].index, inplace=True)"
   ]
  },
  {
   "cell_type": "markdown",
   "metadata": {},
   "source": [
    "- resultMeanValue"
   ]
  },
  {
   "cell_type": "code",
   "execution_count": 11,
   "metadata": {},
   "outputs": [],
   "source": [
    "#Eliminação dos outliers mais acentuados\n",
    "df_class_clean.drop(df_class_clean.loc[df_class_clean['resultMeanValue']>=20000].index, inplace=True)"
   ]
  },
  {
   "cell_type": "markdown",
   "metadata": {},
   "source": [
    "- resultMaximumValue"
   ]
  },
  {
   "cell_type": "code",
   "execution_count": 12,
   "metadata": {},
   "outputs": [],
   "source": [
    "#Eliminação dos outliers mais acentuados\n",
    "df_class_clean.drop(df_class_clean.loc[df_class_clean['resultMaximumValue']>=40000].index, inplace=True)"
   ]
  },
  {
   "cell_type": "markdown",
   "metadata": {},
   "source": [
    "- resultMedianValue"
   ]
  },
  {
   "cell_type": "code",
   "execution_count": 13,
   "metadata": {},
   "outputs": [],
   "source": [
    "#Eliminação dos outliers mais acentuados\n",
    "df_class_clean.drop(df_class_clean.loc[df_class_clean['resultMedianValue']>=10000].index, inplace=True)"
   ]
  },
  {
   "cell_type": "markdown",
   "metadata": {},
   "source": [
    "- resultStandardDeviationValue"
   ]
  },
  {
   "cell_type": "code",
   "execution_count": 14,
   "metadata": {},
   "outputs": [],
   "source": [
    "#Eliminação dos outliers mais acentuados\n",
    "df_class_clean.drop(df_class_clean.loc[df_class_clean['resultStandardDeviationValue']>=7000].index, inplace=True)"
   ]
  },
  {
   "cell_type": "markdown",
   "metadata": {},
   "source": [
    "- parameterSampleDepth"
   ]
  },
  {
   "cell_type": "code",
   "execution_count": 15,
   "metadata": {},
   "outputs": [],
   "source": [
    "#Eliminação dos outliers mais acentuados\n",
    "df_class_clean.drop(df_class_clean.loc[df_class_clean['parameterSampleDepth']>=999].index, inplace=True)"
   ]
  },
  {
   "cell_type": "markdown",
   "metadata": {},
   "source": [
    "#### Eliminaçao de registos negativos"
   ]
  },
  {
   "cell_type": "markdown",
   "metadata": {},
   "source": [
    "- procedureLOQValue"
   ]
  },
  {
   "cell_type": "code",
   "execution_count": 16,
   "metadata": {},
   "outputs": [
    {
     "data": {
      "text/html": [
       "<div>\n",
       "<style scoped>\n",
       "    .dataframe tbody tr th:only-of-type {\n",
       "        vertical-align: middle;\n",
       "    }\n",
       "\n",
       "    .dataframe tbody tr th {\n",
       "        vertical-align: top;\n",
       "    }\n",
       "\n",
       "    .dataframe thead th {\n",
       "        text-align: right;\n",
       "    }\n",
       "</style>\n",
       "<table border=\"1\" class=\"dataframe\">\n",
       "  <thead>\n",
       "    <tr style=\"text-align: right;\">\n",
       "      <th></th>\n",
       "      <th>parameterWaterBodyCategory</th>\n",
       "      <th>procedureAnalysedFraction</th>\n",
       "      <th>procedureAnalysedMedia</th>\n",
       "      <th>phenomenonTimeReferenceYear</th>\n",
       "      <th>parameterSamplingPeriod</th>\n",
       "      <th>procedureLOQValue</th>\n",
       "      <th>resultNumberOfSamples</th>\n",
       "      <th>resultQualityMinimumBelowLOQ</th>\n",
       "      <th>resultMinimumValue</th>\n",
       "      <th>resultQualityMeanBelowLOQ</th>\n",
       "      <th>resultMeanValue</th>\n",
       "      <th>resultQualityMaximumBelowLOQ</th>\n",
       "      <th>resultMaximumValue</th>\n",
       "      <th>resultMedianValue</th>\n",
       "      <th>resultStandardDeviationValue</th>\n",
       "      <th>parameterSampleDepth</th>\n",
       "      <th>UID</th>\n",
       "    </tr>\n",
       "  </thead>\n",
       "  <tbody>\n",
       "    <tr>\n",
       "      <th>2378964</th>\n",
       "      <td>RW</td>\n",
       "      <td>total</td>\n",
       "      <td>water</td>\n",
       "      <td>2012</td>\n",
       "      <td>2012-01--2012-12</td>\n",
       "      <td>-5.0</td>\n",
       "      <td>12.0</td>\n",
       "      <td>0.0</td>\n",
       "      <td>15.9000</td>\n",
       "      <td>0.0</td>\n",
       "      <td>20.7058</td>\n",
       "      <td>0.0</td>\n",
       "      <td>25.1000</td>\n",
       "      <td>20.4000</td>\n",
       "      <td>2.85938</td>\n",
       "      <td>0.0</td>\n",
       "      <td>29826</td>\n",
       "    </tr>\n",
       "    <tr>\n",
       "      <th>2230302</th>\n",
       "      <td>RW</td>\n",
       "      <td>total</td>\n",
       "      <td>water</td>\n",
       "      <td>2012</td>\n",
       "      <td>2012-01--2012-12</td>\n",
       "      <td>-5.0</td>\n",
       "      <td>12.0</td>\n",
       "      <td>0.0</td>\n",
       "      <td>8.3700</td>\n",
       "      <td>0.0</td>\n",
       "      <td>19.3717</td>\n",
       "      <td>0.0</td>\n",
       "      <td>23.7000</td>\n",
       "      <td>20.0000</td>\n",
       "      <td>4.28442</td>\n",
       "      <td>0.0</td>\n",
       "      <td>26473</td>\n",
       "    </tr>\n",
       "    <tr>\n",
       "      <th>2311125</th>\n",
       "      <td>LW</td>\n",
       "      <td>total</td>\n",
       "      <td>water</td>\n",
       "      <td>2012</td>\n",
       "      <td>2012-04--2012-10</td>\n",
       "      <td>0.0</td>\n",
       "      <td>1.0</td>\n",
       "      <td>0.0</td>\n",
       "      <td>93.0000</td>\n",
       "      <td>0.0</td>\n",
       "      <td>93.0000</td>\n",
       "      <td>0.0</td>\n",
       "      <td>93.0000</td>\n",
       "      <td>93.0000</td>\n",
       "      <td>0.00000</td>\n",
       "      <td>22.5</td>\n",
       "      <td>111374</td>\n",
       "    </tr>\n",
       "    <tr>\n",
       "      <th>2321927</th>\n",
       "      <td>LW</td>\n",
       "      <td>total</td>\n",
       "      <td>water</td>\n",
       "      <td>2012</td>\n",
       "      <td>2011-12--2012-02</td>\n",
       "      <td>0.0</td>\n",
       "      <td>1.0</td>\n",
       "      <td>0.0</td>\n",
       "      <td>0.4367</td>\n",
       "      <td>0.0</td>\n",
       "      <td>0.4367</td>\n",
       "      <td>0.0</td>\n",
       "      <td>0.4367</td>\n",
       "      <td>0.4367</td>\n",
       "      <td>0.00000</td>\n",
       "      <td>8.3</td>\n",
       "      <td>147492</td>\n",
       "    </tr>\n",
       "    <tr>\n",
       "      <th>2518092</th>\n",
       "      <td>RW</td>\n",
       "      <td>total</td>\n",
       "      <td>water</td>\n",
       "      <td>2012</td>\n",
       "      <td>2012-01--2012-12</td>\n",
       "      <td>0.0</td>\n",
       "      <td>11.0</td>\n",
       "      <td>0.0</td>\n",
       "      <td>94.3000</td>\n",
       "      <td>0.0</td>\n",
       "      <td>107.5550</td>\n",
       "      <td>0.0</td>\n",
       "      <td>151.3000</td>\n",
       "      <td>101.8000</td>\n",
       "      <td>16.77710</td>\n",
       "      <td>0.0</td>\n",
       "      <td>10498107</td>\n",
       "    </tr>\n",
       "    <tr>\n",
       "      <th>...</th>\n",
       "      <td>...</td>\n",
       "      <td>...</td>\n",
       "      <td>...</td>\n",
       "      <td>...</td>\n",
       "      <td>...</td>\n",
       "      <td>...</td>\n",
       "      <td>...</td>\n",
       "      <td>...</td>\n",
       "      <td>...</td>\n",
       "      <td>...</td>\n",
       "      <td>...</td>\n",
       "      <td>...</td>\n",
       "      <td>...</td>\n",
       "      <td>...</td>\n",
       "      <td>...</td>\n",
       "      <td>...</td>\n",
       "      <td>...</td>\n",
       "    </tr>\n",
       "    <tr>\n",
       "      <th>2931276</th>\n",
       "      <td>RW</td>\n",
       "      <td>total</td>\n",
       "      <td>water</td>\n",
       "      <td>2012</td>\n",
       "      <td>2012-01--2012-12</td>\n",
       "      <td>5000.0</td>\n",
       "      <td>1.0</td>\n",
       "      <td>1.0</td>\n",
       "      <td>1030.0000</td>\n",
       "      <td>1.0</td>\n",
       "      <td>1030.0000</td>\n",
       "      <td>1.0</td>\n",
       "      <td>1030.0000</td>\n",
       "      <td>1030.0000</td>\n",
       "      <td>0.00000</td>\n",
       "      <td>0.0</td>\n",
       "      <td>10894061</td>\n",
       "    </tr>\n",
       "    <tr>\n",
       "      <th>2966483</th>\n",
       "      <td>RW</td>\n",
       "      <td>total</td>\n",
       "      <td>water</td>\n",
       "      <td>2012</td>\n",
       "      <td>2012-01--2012-12</td>\n",
       "      <td>10000.0</td>\n",
       "      <td>1.0</td>\n",
       "      <td>1.0</td>\n",
       "      <td>2.3000</td>\n",
       "      <td>1.0</td>\n",
       "      <td>2.3000</td>\n",
       "      <td>1.0</td>\n",
       "      <td>2.3000</td>\n",
       "      <td>2.3000</td>\n",
       "      <td>0.00000</td>\n",
       "      <td>0.0</td>\n",
       "      <td>10901385</td>\n",
       "    </tr>\n",
       "    <tr>\n",
       "      <th>2748431</th>\n",
       "      <td>RW</td>\n",
       "      <td>dissolved</td>\n",
       "      <td>water</td>\n",
       "      <td>2012</td>\n",
       "      <td>2012-01--2012-12</td>\n",
       "      <td>15000.0</td>\n",
       "      <td>8.0</td>\n",
       "      <td>1.0</td>\n",
       "      <td>0.2000</td>\n",
       "      <td>1.0</td>\n",
       "      <td>937.8740</td>\n",
       "      <td>1.0</td>\n",
       "      <td>15000.0000</td>\n",
       "      <td>0.4250</td>\n",
       "      <td>2651.50000</td>\n",
       "      <td>0.0</td>\n",
       "      <td>10735631</td>\n",
       "    </tr>\n",
       "    <tr>\n",
       "      <th>2748473</th>\n",
       "      <td>RW</td>\n",
       "      <td>dissolved</td>\n",
       "      <td>water</td>\n",
       "      <td>2012</td>\n",
       "      <td>2012-01--2012-12</td>\n",
       "      <td>15000.0</td>\n",
       "      <td>3.0</td>\n",
       "      <td>1.0</td>\n",
       "      <td>0.1800</td>\n",
       "      <td>1.0</td>\n",
       "      <td>2500.2200</td>\n",
       "      <td>1.0</td>\n",
       "      <td>15000.0000</td>\n",
       "      <td>0.4700</td>\n",
       "      <td>4329.94000</td>\n",
       "      <td>0.0</td>\n",
       "      <td>10735673</td>\n",
       "    </tr>\n",
       "    <tr>\n",
       "      <th>2748482</th>\n",
       "      <td>RW</td>\n",
       "      <td>dissolved</td>\n",
       "      <td>water</td>\n",
       "      <td>2012</td>\n",
       "      <td>2012-01--2012-12</td>\n",
       "      <td>15000.0</td>\n",
       "      <td>10.0</td>\n",
       "      <td>1.0</td>\n",
       "      <td>0.1700</td>\n",
       "      <td>1.0</td>\n",
       "      <td>1500.2200</td>\n",
       "      <td>1.0</td>\n",
       "      <td>15000.0000</td>\n",
       "      <td>0.3000</td>\n",
       "      <td>3162.16000</td>\n",
       "      <td>0.0</td>\n",
       "      <td>10735682</td>\n",
       "    </tr>\n",
       "  </tbody>\n",
       "</table>\n",
       "<p>227841 rows × 17 columns</p>\n",
       "</div>"
      ],
      "text/plain": [
       "        parameterWaterBodyCategory procedureAnalysedFraction  \\\n",
       "2378964                         RW                     total   \n",
       "2230302                         RW                     total   \n",
       "2311125                         LW                     total   \n",
       "2321927                         LW                     total   \n",
       "2518092                         RW                     total   \n",
       "...                            ...                       ...   \n",
       "2931276                         RW                     total   \n",
       "2966483                         RW                     total   \n",
       "2748431                         RW                 dissolved   \n",
       "2748473                         RW                 dissolved   \n",
       "2748482                         RW                 dissolved   \n",
       "\n",
       "        procedureAnalysedMedia  phenomenonTimeReferenceYear  \\\n",
       "2378964                  water                         2012   \n",
       "2230302                  water                         2012   \n",
       "2311125                  water                         2012   \n",
       "2321927                  water                         2012   \n",
       "2518092                  water                         2012   \n",
       "...                        ...                          ...   \n",
       "2931276                  water                         2012   \n",
       "2966483                  water                         2012   \n",
       "2748431                  water                         2012   \n",
       "2748473                  water                         2012   \n",
       "2748482                  water                         2012   \n",
       "\n",
       "        parameterSamplingPeriod  procedureLOQValue  resultNumberOfSamples  \\\n",
       "2378964        2012-01--2012-12               -5.0                   12.0   \n",
       "2230302        2012-01--2012-12               -5.0                   12.0   \n",
       "2311125        2012-04--2012-10                0.0                    1.0   \n",
       "2321927        2011-12--2012-02                0.0                    1.0   \n",
       "2518092        2012-01--2012-12                0.0                   11.0   \n",
       "...                         ...                ...                    ...   \n",
       "2931276        2012-01--2012-12             5000.0                    1.0   \n",
       "2966483        2012-01--2012-12            10000.0                    1.0   \n",
       "2748431        2012-01--2012-12            15000.0                    8.0   \n",
       "2748473        2012-01--2012-12            15000.0                    3.0   \n",
       "2748482        2012-01--2012-12            15000.0                   10.0   \n",
       "\n",
       "         resultQualityMinimumBelowLOQ  resultMinimumValue  \\\n",
       "2378964                           0.0             15.9000   \n",
       "2230302                           0.0              8.3700   \n",
       "2311125                           0.0             93.0000   \n",
       "2321927                           0.0              0.4367   \n",
       "2518092                           0.0             94.3000   \n",
       "...                               ...                 ...   \n",
       "2931276                           1.0           1030.0000   \n",
       "2966483                           1.0              2.3000   \n",
       "2748431                           1.0              0.2000   \n",
       "2748473                           1.0              0.1800   \n",
       "2748482                           1.0              0.1700   \n",
       "\n",
       "         resultQualityMeanBelowLOQ  resultMeanValue  \\\n",
       "2378964                        0.0          20.7058   \n",
       "2230302                        0.0          19.3717   \n",
       "2311125                        0.0          93.0000   \n",
       "2321927                        0.0           0.4367   \n",
       "2518092                        0.0         107.5550   \n",
       "...                            ...              ...   \n",
       "2931276                        1.0        1030.0000   \n",
       "2966483                        1.0           2.3000   \n",
       "2748431                        1.0         937.8740   \n",
       "2748473                        1.0        2500.2200   \n",
       "2748482                        1.0        1500.2200   \n",
       "\n",
       "         resultQualityMaximumBelowLOQ  resultMaximumValue  resultMedianValue  \\\n",
       "2378964                           0.0             25.1000            20.4000   \n",
       "2230302                           0.0             23.7000            20.0000   \n",
       "2311125                           0.0             93.0000            93.0000   \n",
       "2321927                           0.0              0.4367             0.4367   \n",
       "2518092                           0.0            151.3000           101.8000   \n",
       "...                               ...                 ...                ...   \n",
       "2931276                           1.0           1030.0000          1030.0000   \n",
       "2966483                           1.0              2.3000             2.3000   \n",
       "2748431                           1.0          15000.0000             0.4250   \n",
       "2748473                           1.0          15000.0000             0.4700   \n",
       "2748482                           1.0          15000.0000             0.3000   \n",
       "\n",
       "         resultStandardDeviationValue  parameterSampleDepth       UID  \n",
       "2378964                       2.85938                   0.0     29826  \n",
       "2230302                       4.28442                   0.0     26473  \n",
       "2311125                       0.00000                  22.5    111374  \n",
       "2321927                       0.00000                   8.3    147492  \n",
       "2518092                      16.77710                   0.0  10498107  \n",
       "...                               ...                   ...       ...  \n",
       "2931276                       0.00000                   0.0  10894061  \n",
       "2966483                       0.00000                   0.0  10901385  \n",
       "2748431                    2651.50000                   0.0  10735631  \n",
       "2748473                    4329.94000                   0.0  10735673  \n",
       "2748482                    3162.16000                   0.0  10735682  \n",
       "\n",
       "[227841 rows x 17 columns]"
      ]
     },
     "execution_count": 16,
     "metadata": {},
     "output_type": "execute_result"
    }
   ],
   "source": [
    "df_class_clean.sort_values('procedureLOQValue', ascending = True)\n",
    "#observamos que existem registos negativos"
   ]
  },
  {
   "cell_type": "code",
   "execution_count": 17,
   "metadata": {},
   "outputs": [],
   "source": [
    "#iremos proceder à eliminação dos mesmos\n",
    "df_class_clean.drop(df_class_clean.loc[df_class_clean['procedureLOQValue']<0].index, inplace=True)"
   ]
  },
  {
   "cell_type": "markdown",
   "metadata": {},
   "source": [
    "- resultMinimumValue"
   ]
  },
  {
   "cell_type": "code",
   "execution_count": 18,
   "metadata": {},
   "outputs": [],
   "source": [
    "df_class_clean.drop(df_class_clean.loc[df_class_clean['resultMinimumValue']<0].index, inplace=True)"
   ]
  },
  {
   "cell_type": "markdown",
   "metadata": {},
   "source": [
    "- resultMedianValue"
   ]
  },
  {
   "cell_type": "code",
   "execution_count": 19,
   "metadata": {},
   "outputs": [],
   "source": [
    "df_class_clean.drop(df_class_clean.loc[df_class_clean['resultMedianValue']<0].index, inplace=True)"
   ]
  },
  {
   "cell_type": "markdown",
   "metadata": {},
   "source": [
    "- resultMeanValue"
   ]
  },
  {
   "cell_type": "code",
   "execution_count": 20,
   "metadata": {},
   "outputs": [],
   "source": [
    "df_class_clean.drop(df_class_clean.loc[df_class_clean['resultMeanValue']<0].index, inplace=True)"
   ]
  },
  {
   "cell_type": "markdown",
   "metadata": {},
   "source": [
    "#### Renomear coluna: parameterWaterBodyCategory"
   ]
  },
  {
   "cell_type": "markdown",
   "metadata": {},
   "source": [
    "Iremos alterar o nome da nossa variável alvo para **target**:"
   ]
  },
  {
   "cell_type": "code",
   "execution_count": 21,
   "metadata": {},
   "outputs": [],
   "source": [
    "df_class_clean = df_class_clean.rename(columns={\"parameterWaterBodyCategory\": \"target\"})"
   ]
  },
  {
   "cell_type": "code",
   "execution_count": 22,
   "metadata": {},
   "outputs": [
    {
     "data": {
      "text/plain": [
       "Index(['target', 'procedureAnalysedFraction', 'procedureAnalysedMedia',\n",
       "       'phenomenonTimeReferenceYear', 'parameterSamplingPeriod',\n",
       "       'procedureLOQValue', 'resultNumberOfSamples',\n",
       "       'resultQualityMinimumBelowLOQ', 'resultMinimumValue',\n",
       "       'resultQualityMeanBelowLOQ', 'resultMeanValue',\n",
       "       'resultQualityMaximumBelowLOQ', 'resultMaximumValue',\n",
       "       'resultMedianValue', 'resultStandardDeviationValue',\n",
       "       'parameterSampleDepth', 'UID'],\n",
       "      dtype='object')"
      ]
     },
     "execution_count": 22,
     "metadata": {},
     "output_type": "execute_result"
    }
   ],
   "source": [
    "df_class_clean.columns"
   ]
  },
  {
   "cell_type": "markdown",
   "metadata": {},
   "source": [
    "### 4º Passo"
   ]
  },
  {
   "cell_type": "markdown",
   "metadata": {},
   "source": [
    "### Análise Exploratória dos Dados"
   ]
  },
  {
   "cell_type": "code",
   "execution_count": 23,
   "metadata": {},
   "outputs": [
    {
     "data": {
      "text/plain": [
       "<AxesSubplot:xlabel='target', ylabel='count'>"
      ]
     },
     "execution_count": 23,
     "metadata": {},
     "output_type": "execute_result"
    },
    {
     "data": {
      "image/png": "[encoded data removed]",
      "text/plain": [
       "<Figure size 432x288 with 1 Axes>"
      ]
     },
     "metadata": {
      "needs_background": "light"
     },
     "output_type": "display_data"
    }
   ],
   "source": [
    "# barplot for target\n",
    "sns.countplot(x='target',data=df_class_clean)"
   ]
  },
  {
   "cell_type": "code",
   "execution_count": 24,
   "metadata": {},
   "outputs": [
    {
     "data": {
      "text/plain": [
       "RW    205393\n",
       "LW     21529\n",
       "TW       905\n",
       "CW         9\n",
       "Name: target, dtype: int64"
      ]
     },
     "execution_count": 24,
     "metadata": {},
     "output_type": "execute_result"
    }
   ],
   "source": [
    "df_class_clean['target'].value_counts()"
   ]
  },
  {
   "cell_type": "markdown",
   "metadata": {},
   "source": [
    "### 1. Classificação"
   ]
  },
  {
   "cell_type": "markdown",
   "metadata": {},
   "source": [
    "Definição inicial das variáveis que iremos utilizar nos nossos modelos:"
   ]
  },
  {
   "cell_type": "code",
   "execution_count": 25,
   "metadata": {},
   "outputs": [
    {
     "data": {
      "text/html": [
       "<div>\n",
       "<style scoped>\n",
       "    .dataframe tbody tr th:only-of-type {\n",
       "        vertical-align: middle;\n",
       "    }\n",
       "\n",
       "    .dataframe tbody tr th {\n",
       "        vertical-align: top;\n",
       "    }\n",
       "\n",
       "    .dataframe thead th {\n",
       "        text-align: right;\n",
       "    }\n",
       "</style>\n",
       "<table border=\"1\" class=\"dataframe\">\n",
       "  <thead>\n",
       "    <tr style=\"text-align: right;\">\n",
       "      <th></th>\n",
       "      <th>procedureAnalysedFraction</th>\n",
       "      <th>procedureAnalysedMedia</th>\n",
       "      <th>phenomenonTimeReferenceYear</th>\n",
       "      <th>procedureLOQValue</th>\n",
       "      <th>resultNumberOfSamples</th>\n",
       "      <th>resultQualityMinimumBelowLOQ</th>\n",
       "      <th>resultMinimumValue</th>\n",
       "      <th>resultQualityMeanBelowLOQ</th>\n",
       "      <th>resultMeanValue</th>\n",
       "      <th>resultQualityMaximumBelowLOQ</th>\n",
       "      <th>resultMaximumValue</th>\n",
       "      <th>resultMedianValue</th>\n",
       "      <th>resultStandardDeviationValue</th>\n",
       "      <th>parameterSampleDepth</th>\n",
       "    </tr>\n",
       "  </thead>\n",
       "  <tbody>\n",
       "    <tr>\n",
       "      <th>106</th>\n",
       "      <td>total</td>\n",
       "      <td>water</td>\n",
       "      <td>2010</td>\n",
       "      <td>0.05</td>\n",
       "      <td>6.0</td>\n",
       "      <td>1.0</td>\n",
       "      <td>0.05</td>\n",
       "      <td>1.0</td>\n",
       "      <td>0.0500</td>\n",
       "      <td>1.0</td>\n",
       "      <td>0.05</td>\n",
       "      <td>0.05</td>\n",
       "      <td>0.0000</td>\n",
       "      <td>50.0</td>\n",
       "    </tr>\n",
       "    <tr>\n",
       "      <th>157</th>\n",
       "      <td>total</td>\n",
       "      <td>water</td>\n",
       "      <td>2010</td>\n",
       "      <td>0.50</td>\n",
       "      <td>6.0</td>\n",
       "      <td>0.0</td>\n",
       "      <td>1.10</td>\n",
       "      <td>0.0</td>\n",
       "      <td>1.4333</td>\n",
       "      <td>0.0</td>\n",
       "      <td>1.70</td>\n",
       "      <td>1.40</td>\n",
       "      <td>0.2338</td>\n",
       "      <td>10.0</td>\n",
       "    </tr>\n",
       "    <tr>\n",
       "      <th>158</th>\n",
       "      <td>total</td>\n",
       "      <td>water</td>\n",
       "      <td>2010</td>\n",
       "      <td>0.10</td>\n",
       "      <td>6.0</td>\n",
       "      <td>1.0</td>\n",
       "      <td>0.10</td>\n",
       "      <td>1.0</td>\n",
       "      <td>0.1000</td>\n",
       "      <td>1.0</td>\n",
       "      <td>0.10</td>\n",
       "      <td>0.10</td>\n",
       "      <td>0.0000</td>\n",
       "      <td>10.0</td>\n",
       "    </tr>\n",
       "    <tr>\n",
       "      <th>161</th>\n",
       "      <td>total</td>\n",
       "      <td>water</td>\n",
       "      <td>2010</td>\n",
       "      <td>5.00</td>\n",
       "      <td>6.0</td>\n",
       "      <td>1.0</td>\n",
       "      <td>5.00</td>\n",
       "      <td>1.0</td>\n",
       "      <td>5.0000</td>\n",
       "      <td>1.0</td>\n",
       "      <td>5.00</td>\n",
       "      <td>5.00</td>\n",
       "      <td>0.0000</td>\n",
       "      <td>10.0</td>\n",
       "    </tr>\n",
       "    <tr>\n",
       "      <th>162</th>\n",
       "      <td>total</td>\n",
       "      <td>water</td>\n",
       "      <td>2010</td>\n",
       "      <td>0.50</td>\n",
       "      <td>6.0</td>\n",
       "      <td>1.0</td>\n",
       "      <td>0.50</td>\n",
       "      <td>1.0</td>\n",
       "      <td>0.5000</td>\n",
       "      <td>1.0</td>\n",
       "      <td>0.50</td>\n",
       "      <td>0.50</td>\n",
       "      <td>0.0000</td>\n",
       "      <td>20.0</td>\n",
       "    </tr>\n",
       "  </tbody>\n",
       "</table>\n",
       "</div>"
      ],
      "text/plain": [
       "    procedureAnalysedFraction procedureAnalysedMedia  \\\n",
       "106                     total                  water   \n",
       "157                     total                  water   \n",
       "158                     total                  water   \n",
       "161                     total                  water   \n",
       "162                     total                  water   \n",
       "\n",
       "     phenomenonTimeReferenceYear  procedureLOQValue  resultNumberOfSamples  \\\n",
       "106                         2010               0.05                    6.0   \n",
       "157                         2010               0.50                    6.0   \n",
       "158                         2010               0.10                    6.0   \n",
       "161                         2010               5.00                    6.0   \n",
       "162                         2010               0.50                    6.0   \n",
       "\n",
       "     resultQualityMinimumBelowLOQ  resultMinimumValue  \\\n",
       "106                           1.0                0.05   \n",
       "157                           0.0                1.10   \n",
       "158                           1.0                0.10   \n",
       "161                           1.0                5.00   \n",
       "162                           1.0                0.50   \n",
       "\n",
       "     resultQualityMeanBelowLOQ  resultMeanValue  resultQualityMaximumBelowLOQ  \\\n",
       "106                        1.0           0.0500                           1.0   \n",
       "157                        0.0           1.4333                           0.0   \n",
       "158                        1.0           0.1000                           1.0   \n",
       "161                        1.0           5.0000                           1.0   \n",
       "162                        1.0           0.5000                           1.0   \n",
       "\n",
       "     resultMaximumValue  resultMedianValue  resultStandardDeviationValue  \\\n",
       "106                0.05               0.05                        0.0000   \n",
       "157                1.70               1.40                        0.2338   \n",
       "158                0.10               0.10                        0.0000   \n",
       "161                5.00               5.00                        0.0000   \n",
       "162                0.50               0.50                        0.0000   \n",
       "\n",
       "     parameterSampleDepth  \n",
       "106                  50.0  \n",
       "157                  10.0  \n",
       "158                  10.0  \n",
       "161                  10.0  \n",
       "162                  20.0  "
      ]
     },
     "execution_count": 25,
     "metadata": {},
     "output_type": "execute_result"
    }
   ],
   "source": [
    "features = df_class_clean.drop(['target','parameterSamplingPeriod','UID'], axis='columns')\n",
    "features.head()"
   ]
  },
  {
   "cell_type": "code",
   "execution_count": 26,
   "metadata": {},
   "outputs": [
    {
     "data": {
      "text/html": [
       "<div>\n",
       "<style scoped>\n",
       "    .dataframe tbody tr th:only-of-type {\n",
       "        vertical-align: middle;\n",
       "    }\n",
       "\n",
       "    .dataframe tbody tr th {\n",
       "        vertical-align: top;\n",
       "    }\n",
       "\n",
       "    .dataframe thead th {\n",
       "        text-align: right;\n",
       "    }\n",
       "</style>\n",
       "<table border=\"1\" class=\"dataframe\">\n",
       "  <thead>\n",
       "    <tr style=\"text-align: right;\">\n",
       "      <th></th>\n",
       "      <th>phenomenonTimeReferenceYear</th>\n",
       "      <th>procedureLOQValue</th>\n",
       "      <th>resultNumberOfSamples</th>\n",
       "      <th>resultQualityMinimumBelowLOQ</th>\n",
       "      <th>resultMinimumValue</th>\n",
       "      <th>resultQualityMeanBelowLOQ</th>\n",
       "      <th>resultMeanValue</th>\n",
       "      <th>resultQualityMaximumBelowLOQ</th>\n",
       "      <th>resultMaximumValue</th>\n",
       "      <th>resultMedianValue</th>\n",
       "      <th>resultStandardDeviationValue</th>\n",
       "      <th>parameterSampleDepth</th>\n",
       "      <th>procedureAnalysedFraction_SPM</th>\n",
       "      <th>procedureAnalysedFraction_dissolved</th>\n",
       "      <th>procedureAnalysedFraction_total</th>\n",
       "      <th>procedureAnalysedMedia_water</th>\n",
       "    </tr>\n",
       "  </thead>\n",
       "  <tbody>\n",
       "    <tr>\n",
       "      <th>106</th>\n",
       "      <td>2010</td>\n",
       "      <td>0.05</td>\n",
       "      <td>6.0</td>\n",
       "      <td>1.0</td>\n",
       "      <td>0.05</td>\n",
       "      <td>1.0</td>\n",
       "      <td>0.0500</td>\n",
       "      <td>1.0</td>\n",
       "      <td>0.05</td>\n",
       "      <td>0.05</td>\n",
       "      <td>0.0000</td>\n",
       "      <td>50.0</td>\n",
       "      <td>0</td>\n",
       "      <td>0</td>\n",
       "      <td>1</td>\n",
       "      <td>1</td>\n",
       "    </tr>\n",
       "    <tr>\n",
       "      <th>157</th>\n",
       "      <td>2010</td>\n",
       "      <td>0.50</td>\n",
       "      <td>6.0</td>\n",
       "      <td>0.0</td>\n",
       "      <td>1.10</td>\n",
       "      <td>0.0</td>\n",
       "      <td>1.4333</td>\n",
       "      <td>0.0</td>\n",
       "      <td>1.70</td>\n",
       "      <td>1.40</td>\n",
       "      <td>0.2338</td>\n",
       "      <td>10.0</td>\n",
       "      <td>0</td>\n",
       "      <td>0</td>\n",
       "      <td>1</td>\n",
       "      <td>1</td>\n",
       "    </tr>\n",
       "    <tr>\n",
       "      <th>158</th>\n",
       "      <td>2010</td>\n",
       "      <td>0.10</td>\n",
       "      <td>6.0</td>\n",
       "      <td>1.0</td>\n",
       "      <td>0.10</td>\n",
       "      <td>1.0</td>\n",
       "      <td>0.1000</td>\n",
       "      <td>1.0</td>\n",
       "      <td>0.10</td>\n",
       "      <td>0.10</td>\n",
       "      <td>0.0000</td>\n",
       "      <td>10.0</td>\n",
       "      <td>0</td>\n",
       "      <td>0</td>\n",
       "      <td>1</td>\n",
       "      <td>1</td>\n",
       "    </tr>\n",
       "    <tr>\n",
       "      <th>161</th>\n",
       "      <td>2010</td>\n",
       "      <td>5.00</td>\n",
       "      <td>6.0</td>\n",
       "      <td>1.0</td>\n",
       "      <td>5.00</td>\n",
       "      <td>1.0</td>\n",
       "      <td>5.0000</td>\n",
       "      <td>1.0</td>\n",
       "      <td>5.00</td>\n",
       "      <td>5.00</td>\n",
       "      <td>0.0000</td>\n",
       "      <td>10.0</td>\n",
       "      <td>0</td>\n",
       "      <td>0</td>\n",
       "      <td>1</td>\n",
       "      <td>1</td>\n",
       "    </tr>\n",
       "    <tr>\n",
       "      <th>162</th>\n",
       "      <td>2010</td>\n",
       "      <td>0.50</td>\n",
       "      <td>6.0</td>\n",
       "      <td>1.0</td>\n",
       "      <td>0.50</td>\n",
       "      <td>1.0</td>\n",
       "      <td>0.5000</td>\n",
       "      <td>1.0</td>\n",
       "      <td>0.50</td>\n",
       "      <td>0.50</td>\n",
       "      <td>0.0000</td>\n",
       "      <td>20.0</td>\n",
       "      <td>0</td>\n",
       "      <td>0</td>\n",
       "      <td>1</td>\n",
       "      <td>1</td>\n",
       "    </tr>\n",
       "  </tbody>\n",
       "</table>\n",
       "</div>"
      ],
      "text/plain": [
       "     phenomenonTimeReferenceYear  procedureLOQValue  resultNumberOfSamples  \\\n",
       "106                         2010               0.05                    6.0   \n",
       "157                         2010               0.50                    6.0   \n",
       "158                         2010               0.10                    6.0   \n",
       "161                         2010               5.00                    6.0   \n",
       "162                         2010               0.50                    6.0   \n",
       "\n",
       "     resultQualityMinimumBelowLOQ  resultMinimumValue  \\\n",
       "106                           1.0                0.05   \n",
       "157                           0.0                1.10   \n",
       "158                           1.0                0.10   \n",
       "161                           1.0                5.00   \n",
       "162                           1.0                0.50   \n",
       "\n",
       "     resultQualityMeanBelowLOQ  resultMeanValue  resultQualityMaximumBelowLOQ  \\\n",
       "106                        1.0           0.0500                           1.0   \n",
       "157                        0.0           1.4333                           0.0   \n",
       "158                        1.0           0.1000                           1.0   \n",
       "161                        1.0           5.0000                           1.0   \n",
       "162                        1.0           0.5000                           1.0   \n",
       "\n",
       "     resultMaximumValue  resultMedianValue  resultStandardDeviationValue  \\\n",
       "106                0.05               0.05                        0.0000   \n",
       "157                1.70               1.40                        0.2338   \n",
       "158                0.10               0.10                        0.0000   \n",
       "161                5.00               5.00                        0.0000   \n",
       "162                0.50               0.50                        0.0000   \n",
       "\n",
       "     parameterSampleDepth  procedureAnalysedFraction_SPM  \\\n",
       "106                  50.0                              0   \n",
       "157                  10.0                              0   \n",
       "158                  10.0                              0   \n",
       "161                  10.0                              0   \n",
       "162                  20.0                              0   \n",
       "\n",
       "     procedureAnalysedFraction_dissolved  procedureAnalysedFraction_total  \\\n",
       "106                                    0                                1   \n",
       "157                                    0                                1   \n",
       "158                                    0                                1   \n",
       "161                                    0                                1   \n",
       "162                                    0                                1   \n",
       "\n",
       "     procedureAnalysedMedia_water  \n",
       "106                             1  \n",
       "157                             1  \n",
       "158                             1  \n",
       "161                             1  \n",
       "162                             1  "
      ]
     },
     "execution_count": 26,
     "metadata": {},
     "output_type": "execute_result"
    }
   ],
   "source": [
    "#procedureAnalysedFraction, procedureAnalysedMedia to dummies\n",
    "X = pd.get_dummies(features)\n",
    "X.head()"
   ]
  },
  {
   "cell_type": "code",
   "execution_count": 27,
   "metadata": {},
   "outputs": [
    {
     "data": {
      "text/plain": [
       "106    LW\n",
       "157    LW\n",
       "158    LW\n",
       "161    LW\n",
       "162    LW\n",
       "Name: target, dtype: object"
      ]
     },
     "execution_count": 27,
     "metadata": {},
     "output_type": "execute_result"
    }
   ],
   "source": [
    "y = df_class_clean['target']\n",
    "y.head()"
   ]
  },
  {
   "cell_type": "markdown",
   "metadata": {},
   "source": [
    "#### 1.1. Seleção automática das variáveis independentes (features) mais \"significativas\" "
   ]
  },
  {
   "cell_type": "code",
   "execution_count": 28,
   "metadata": {},
   "outputs": [],
   "source": [
    "# Import SelectKBest, chi2(score function for classification), f_regression (score function for regression)\n",
    "from sklearn.feature_selection import SelectKBest, chi2, f_regression"
   ]
  },
  {
   "cell_type": "code",
   "execution_count": 29,
   "metadata": {
    "scrolled": true
   },
   "outputs": [
    {
     "name": "stdout",
     "output_type": "stream",
     "text": [
      "[[ 0.05    0.05    0.05    0.     50.    ]\n",
      " [ 1.4333  1.7     1.4     0.2338 10.    ]\n",
      " [ 0.1     0.1     0.1     0.     10.    ]\n",
      " [ 5.      5.      5.      0.     10.    ]\n",
      " [ 0.5     0.5     0.5     0.     20.    ]]\n",
      "     phenomenonTimeReferenceYear  procedureLOQValue  resultNumberOfSamples  \\\n",
      "106                         2010               0.05                    6.0   \n",
      "157                         2010               0.50                    6.0   \n",
      "158                         2010               0.10                    6.0   \n",
      "161                         2010               5.00                    6.0   \n",
      "162                         2010               0.50                    6.0   \n",
      "\n",
      "     resultQualityMinimumBelowLOQ  resultMinimumValue  \\\n",
      "106                           1.0                0.05   \n",
      "157                           0.0                1.10   \n",
      "158                           1.0                0.10   \n",
      "161                           1.0                5.00   \n",
      "162                           1.0                0.50   \n",
      "\n",
      "     resultQualityMeanBelowLOQ  resultMeanValue  resultQualityMaximumBelowLOQ  \\\n",
      "106                        1.0           0.0500                           1.0   \n",
      "157                        0.0           1.4333                           0.0   \n",
      "158                        1.0           0.1000                           1.0   \n",
      "161                        1.0           5.0000                           1.0   \n",
      "162                        1.0           0.5000                           1.0   \n",
      "\n",
      "     resultMaximumValue  resultMedianValue  resultStandardDeviationValue  \\\n",
      "106                0.05               0.05                        0.0000   \n",
      "157                1.70               1.40                        0.2338   \n",
      "158                0.10               0.10                        0.0000   \n",
      "161                5.00               5.00                        0.0000   \n",
      "162                0.50               0.50                        0.0000   \n",
      "\n",
      "     parameterSampleDepth  procedureAnalysedFraction_SPM  \\\n",
      "106                  50.0                              0   \n",
      "157                  10.0                              0   \n",
      "158                  10.0                              0   \n",
      "161                  10.0                              0   \n",
      "162                  20.0                              0   \n",
      "\n",
      "     procedureAnalysedFraction_dissolved  procedureAnalysedFraction_total  \\\n",
      "106                                    0                                1   \n",
      "157                                    0                                1   \n",
      "158                                    0                                1   \n",
      "161                                    0                                1   \n",
      "162                                    0                                1   \n",
      "\n",
      "     procedureAnalysedMedia_water  \n",
      "106                             1  \n",
      "157                             1  \n",
      "158                             1  \n",
      "161                             1  \n",
      "162                             1  \n"
     ]
    }
   ],
   "source": [
    "# Create the object for SelectKBest and fit and transform the classification data\n",
    "# k is the number of features you want to select \n",
    "X_clf_new=SelectKBest(score_func=chi2,k=5).fit_transform(X,y)\n",
    "# Check the newly created variable for top five best features\n",
    "print(X_clf_new[:5])\n",
    "\n",
    "# Compare the newly created values with feature set values to know the selected features\n",
    "print(X.head())"
   ]
  },
  {
   "cell_type": "markdown",
   "metadata": {},
   "source": [
    "Variáveis promissoras:\n",
    "- resultMeanValue\n",
    "- resultMaximumValue\n",
    "- resultMedianValue\n",
    "- resultStandardDeviationValue\n",
    "- parameterSampleDepth"
   ]
  },
  {
   "cell_type": "code",
   "execution_count": 30,
   "metadata": {},
   "outputs": [
    {
     "data": {
      "text/plain": [
       "(227836, 5)"
      ]
     },
     "execution_count": 30,
     "metadata": {},
     "output_type": "execute_result"
    }
   ],
   "source": [
    "X_clf_new.shape"
   ]
  },
  {
   "cell_type": "code",
   "execution_count": 31,
   "metadata": {},
   "outputs": [
    {
     "data": {
      "text/plain": [
       "(227836, 16)"
      ]
     },
     "execution_count": 31,
     "metadata": {},
     "output_type": "execute_result"
    }
   ],
   "source": [
    "X.shape"
   ]
  },
  {
   "cell_type": "code",
   "execution_count": 32,
   "metadata": {},
   "outputs": [
    {
     "data": {
      "text/plain": [
       "(227836,)"
      ]
     },
     "execution_count": 32,
     "metadata": {},
     "output_type": "execute_result"
    }
   ],
   "source": [
    "y.shape"
   ]
  },
  {
   "cell_type": "markdown",
   "metadata": {},
   "source": [
    "#### 1.2. Presença multicolinearidade"
   ]
  },
  {
   "cell_type": "code",
   "execution_count": 33,
   "metadata": {},
   "outputs": [],
   "source": [
    "# Import library for VIF\n",
    "from statsmodels.stats.outliers_influence import variance_inflation_factor\n",
    "\n",
    "def calc_vif(X):\n",
    "\n",
    "    # Calculating VIF\n",
    "    vif = pd.DataFrame()\n",
    "    vif[\"variables\"] = X.columns\n",
    "    vif[\"VIF\"] = [variance_inflation_factor(X.values, i) for i in range(X.shape[1])]\n",
    "\n",
    "    return(vif)"
   ]
  },
  {
   "cell_type": "code",
   "execution_count": 34,
   "metadata": {},
   "outputs": [
    {
     "data": {
      "text/html": [
       "<div>\n",
       "<style scoped>\n",
       "    .dataframe tbody tr th:only-of-type {\n",
       "        vertical-align: middle;\n",
       "    }\n",
       "\n",
       "    .dataframe tbody tr th {\n",
       "        vertical-align: top;\n",
       "    }\n",
       "\n",
       "    .dataframe thead th {\n",
       "        text-align: right;\n",
       "    }\n",
       "</style>\n",
       "<table border=\"1\" class=\"dataframe\">\n",
       "  <thead>\n",
       "    <tr style=\"text-align: right;\">\n",
       "      <th></th>\n",
       "      <th>resultMeanValue</th>\n",
       "      <th>resultMaximumValue</th>\n",
       "      <th>resultMedianValue</th>\n",
       "      <th>resultStandardDeviationValue</th>\n",
       "      <th>parameterSampleDepth</th>\n",
       "    </tr>\n",
       "  </thead>\n",
       "  <tbody>\n",
       "    <tr>\n",
       "      <th>0</th>\n",
       "      <td>0.0500</td>\n",
       "      <td>0.050</td>\n",
       "      <td>0.050</td>\n",
       "      <td>0.0000</td>\n",
       "      <td>50.0</td>\n",
       "    </tr>\n",
       "    <tr>\n",
       "      <th>1</th>\n",
       "      <td>1.4333</td>\n",
       "      <td>1.700</td>\n",
       "      <td>1.400</td>\n",
       "      <td>0.2338</td>\n",
       "      <td>10.0</td>\n",
       "    </tr>\n",
       "    <tr>\n",
       "      <th>2</th>\n",
       "      <td>0.1000</td>\n",
       "      <td>0.100</td>\n",
       "      <td>0.100</td>\n",
       "      <td>0.0000</td>\n",
       "      <td>10.0</td>\n",
       "    </tr>\n",
       "    <tr>\n",
       "      <th>3</th>\n",
       "      <td>5.0000</td>\n",
       "      <td>5.000</td>\n",
       "      <td>5.000</td>\n",
       "      <td>0.0000</td>\n",
       "      <td>10.0</td>\n",
       "    </tr>\n",
       "    <tr>\n",
       "      <th>4</th>\n",
       "      <td>0.5000</td>\n",
       "      <td>0.500</td>\n",
       "      <td>0.500</td>\n",
       "      <td>0.0000</td>\n",
       "      <td>20.0</td>\n",
       "    </tr>\n",
       "    <tr>\n",
       "      <th>...</th>\n",
       "      <td>...</td>\n",
       "      <td>...</td>\n",
       "      <td>...</td>\n",
       "      <td>...</td>\n",
       "      <td>...</td>\n",
       "    </tr>\n",
       "    <tr>\n",
       "      <th>227831</th>\n",
       "      <td>0.0010</td>\n",
       "      <td>0.001</td>\n",
       "      <td>0.001</td>\n",
       "      <td>0.0000</td>\n",
       "      <td>0.5</td>\n",
       "    </tr>\n",
       "    <tr>\n",
       "      <th>227832</th>\n",
       "      <td>0.2000</td>\n",
       "      <td>0.200</td>\n",
       "      <td>0.200</td>\n",
       "      <td>0.0000</td>\n",
       "      <td>0.5</td>\n",
       "    </tr>\n",
       "    <tr>\n",
       "      <th>227833</th>\n",
       "      <td>0.5000</td>\n",
       "      <td>0.500</td>\n",
       "      <td>0.500</td>\n",
       "      <td>0.0000</td>\n",
       "      <td>0.5</td>\n",
       "    </tr>\n",
       "    <tr>\n",
       "      <th>227834</th>\n",
       "      <td>0.3000</td>\n",
       "      <td>0.300</td>\n",
       "      <td>0.300</td>\n",
       "      <td>0.0000</td>\n",
       "      <td>0.5</td>\n",
       "    </tr>\n",
       "    <tr>\n",
       "      <th>227835</th>\n",
       "      <td>0.0100</td>\n",
       "      <td>0.010</td>\n",
       "      <td>0.010</td>\n",
       "      <td>0.0000</td>\n",
       "      <td>0.5</td>\n",
       "    </tr>\n",
       "  </tbody>\n",
       "</table>\n",
       "<p>227836 rows × 5 columns</p>\n",
       "</div>"
      ],
      "text/plain": [
       "        resultMeanValue  resultMaximumValue  resultMedianValue  \\\n",
       "0                0.0500               0.050              0.050   \n",
       "1                1.4333               1.700              1.400   \n",
       "2                0.1000               0.100              0.100   \n",
       "3                5.0000               5.000              5.000   \n",
       "4                0.5000               0.500              0.500   \n",
       "...                 ...                 ...                ...   \n",
       "227831           0.0010               0.001              0.001   \n",
       "227832           0.2000               0.200              0.200   \n",
       "227833           0.5000               0.500              0.500   \n",
       "227834           0.3000               0.300              0.300   \n",
       "227835           0.0100               0.010              0.010   \n",
       "\n",
       "        resultStandardDeviationValue  parameterSampleDepth  \n",
       "0                             0.0000                  50.0  \n",
       "1                             0.2338                  10.0  \n",
       "2                             0.0000                  10.0  \n",
       "3                             0.0000                  10.0  \n",
       "4                             0.0000                  20.0  \n",
       "...                              ...                   ...  \n",
       "227831                        0.0000                   0.5  \n",
       "227832                        0.0000                   0.5  \n",
       "227833                        0.0000                   0.5  \n",
       "227834                        0.0000                   0.5  \n",
       "227835                        0.0000                   0.5  \n",
       "\n",
       "[227836 rows x 5 columns]"
      ]
     },
     "execution_count": 34,
     "metadata": {},
     "output_type": "execute_result"
    }
   ],
   "source": [
    "df = pd.DataFrame(X_clf_new,columns=['resultMeanValue','resultMaximumValue','resultMedianValue',\n",
    "                                   'resultStandardDeviationValue','parameterSampleDepth'])\n",
    "df"
   ]
  },
  {
   "cell_type": "code",
   "execution_count": 35,
   "metadata": {},
   "outputs": [
    {
     "data": {
      "text/html": [
       "<div>\n",
       "<style scoped>\n",
       "    .dataframe tbody tr th:only-of-type {\n",
       "        vertical-align: middle;\n",
       "    }\n",
       "\n",
       "    .dataframe tbody tr th {\n",
       "        vertical-align: top;\n",
       "    }\n",
       "\n",
       "    .dataframe thead th {\n",
       "        text-align: right;\n",
       "    }\n",
       "</style>\n",
       "<table border=\"1\" class=\"dataframe\">\n",
       "  <thead>\n",
       "    <tr style=\"text-align: right;\">\n",
       "      <th></th>\n",
       "      <th>variables</th>\n",
       "      <th>VIF</th>\n",
       "    </tr>\n",
       "  </thead>\n",
       "  <tbody>\n",
       "    <tr>\n",
       "      <th>0</th>\n",
       "      <td>resultMeanValue</td>\n",
       "      <td>39.016759</td>\n",
       "    </tr>\n",
       "    <tr>\n",
       "      <th>1</th>\n",
       "      <td>resultMaximumValue</td>\n",
       "      <td>15.692542</td>\n",
       "    </tr>\n",
       "    <tr>\n",
       "      <th>2</th>\n",
       "      <td>resultMedianValue</td>\n",
       "      <td>27.159270</td>\n",
       "    </tr>\n",
       "    <tr>\n",
       "      <th>3</th>\n",
       "      <td>resultStandardDeviationValue</td>\n",
       "      <td>8.265687</td>\n",
       "    </tr>\n",
       "    <tr>\n",
       "      <th>4</th>\n",
       "      <td>parameterSampleDepth</td>\n",
       "      <td>1.000071</td>\n",
       "    </tr>\n",
       "  </tbody>\n",
       "</table>\n",
       "</div>"
      ],
      "text/plain": [
       "                      variables        VIF\n",
       "0               resultMeanValue  39.016759\n",
       "1            resultMaximumValue  15.692542\n",
       "2             resultMedianValue  27.159270\n",
       "3  resultStandardDeviationValue   8.265687\n",
       "4          parameterSampleDepth   1.000071"
      ]
     },
     "execution_count": 35,
     "metadata": {},
     "output_type": "execute_result"
    }
   ],
   "source": [
    "calc_vif(df)"
   ]
  },
  {
   "cell_type": "markdown",
   "metadata": {},
   "source": [
    "**resultMeanValue** e **resultMedianValue**\n",
    "são as que apresentam um VIF mais elevado, ou seja, encontram-se na presença de multicolinearidade"
   ]
  },
  {
   "cell_type": "code",
   "execution_count": 36,
   "metadata": {},
   "outputs": [],
   "source": [
    "#VIF starts at 1 and has no upper limit\n",
    "#VIF = 1, no correlation between the independent variable and the other variables\n",
    "#VIF exceeding 5 or 10 indicates high multicollinearity between this independent variable and the others"
   ]
  },
  {
   "cell_type": "markdown",
   "metadata": {},
   "source": [
    "##### 1.2.1. Exclusão das variáveis com correlações lineares mais elevadas entre as var. independentes"
   ]
  },
  {
   "cell_type": "code",
   "execution_count": 37,
   "metadata": {},
   "outputs": [
    {
     "data": {
      "text/html": [
       "<div>\n",
       "<style scoped>\n",
       "    .dataframe tbody tr th:only-of-type {\n",
       "        vertical-align: middle;\n",
       "    }\n",
       "\n",
       "    .dataframe tbody tr th {\n",
       "        vertical-align: top;\n",
       "    }\n",
       "\n",
       "    .dataframe thead th {\n",
       "        text-align: right;\n",
       "    }\n",
       "</style>\n",
       "<table border=\"1\" class=\"dataframe\">\n",
       "  <thead>\n",
       "    <tr style=\"text-align: right;\">\n",
       "      <th></th>\n",
       "      <th>procedureAnalysedFraction</th>\n",
       "      <th>procedureAnalysedMedia</th>\n",
       "      <th>phenomenonTimeReferenceYear</th>\n",
       "      <th>procedureLOQValue</th>\n",
       "      <th>resultNumberOfSamples</th>\n",
       "      <th>resultQualityMinimumBelowLOQ</th>\n",
       "      <th>resultMinimumValue</th>\n",
       "      <th>resultQualityMeanBelowLOQ</th>\n",
       "      <th>resultQualityMaximumBelowLOQ</th>\n",
       "      <th>resultMaximumValue</th>\n",
       "      <th>resultStandardDeviationValue</th>\n",
       "      <th>parameterSampleDepth</th>\n",
       "    </tr>\n",
       "  </thead>\n",
       "  <tbody>\n",
       "    <tr>\n",
       "      <th>106</th>\n",
       "      <td>total</td>\n",
       "      <td>water</td>\n",
       "      <td>2010</td>\n",
       "      <td>0.05</td>\n",
       "      <td>6.0</td>\n",
       "      <td>1.0</td>\n",
       "      <td>0.05</td>\n",
       "      <td>1.0</td>\n",
       "      <td>1.0</td>\n",
       "      <td>0.05</td>\n",
       "      <td>0.0000</td>\n",
       "      <td>50.0</td>\n",
       "    </tr>\n",
       "    <tr>\n",
       "      <th>157</th>\n",
       "      <td>total</td>\n",
       "      <td>water</td>\n",
       "      <td>2010</td>\n",
       "      <td>0.50</td>\n",
       "      <td>6.0</td>\n",
       "      <td>0.0</td>\n",
       "      <td>1.10</td>\n",
       "      <td>0.0</td>\n",
       "      <td>0.0</td>\n",
       "      <td>1.70</td>\n",
       "      <td>0.2338</td>\n",
       "      <td>10.0</td>\n",
       "    </tr>\n",
       "    <tr>\n",
       "      <th>158</th>\n",
       "      <td>total</td>\n",
       "      <td>water</td>\n",
       "      <td>2010</td>\n",
       "      <td>0.10</td>\n",
       "      <td>6.0</td>\n",
       "      <td>1.0</td>\n",
       "      <td>0.10</td>\n",
       "      <td>1.0</td>\n",
       "      <td>1.0</td>\n",
       "      <td>0.10</td>\n",
       "      <td>0.0000</td>\n",
       "      <td>10.0</td>\n",
       "    </tr>\n",
       "    <tr>\n",
       "      <th>161</th>\n",
       "      <td>total</td>\n",
       "      <td>water</td>\n",
       "      <td>2010</td>\n",
       "      <td>5.00</td>\n",
       "      <td>6.0</td>\n",
       "      <td>1.0</td>\n",
       "      <td>5.00</td>\n",
       "      <td>1.0</td>\n",
       "      <td>1.0</td>\n",
       "      <td>5.00</td>\n",
       "      <td>0.0000</td>\n",
       "      <td>10.0</td>\n",
       "    </tr>\n",
       "    <tr>\n",
       "      <th>162</th>\n",
       "      <td>total</td>\n",
       "      <td>water</td>\n",
       "      <td>2010</td>\n",
       "      <td>0.50</td>\n",
       "      <td>6.0</td>\n",
       "      <td>1.0</td>\n",
       "      <td>0.50</td>\n",
       "      <td>1.0</td>\n",
       "      <td>1.0</td>\n",
       "      <td>0.50</td>\n",
       "      <td>0.0000</td>\n",
       "      <td>20.0</td>\n",
       "    </tr>\n",
       "  </tbody>\n",
       "</table>\n",
       "</div>"
      ],
      "text/plain": [
       "    procedureAnalysedFraction procedureAnalysedMedia  \\\n",
       "106                     total                  water   \n",
       "157                     total                  water   \n",
       "158                     total                  water   \n",
       "161                     total                  water   \n",
       "162                     total                  water   \n",
       "\n",
       "     phenomenonTimeReferenceYear  procedureLOQValue  resultNumberOfSamples  \\\n",
       "106                         2010               0.05                    6.0   \n",
       "157                         2010               0.50                    6.0   \n",
       "158                         2010               0.10                    6.0   \n",
       "161                         2010               5.00                    6.0   \n",
       "162                         2010               0.50                    6.0   \n",
       "\n",
       "     resultQualityMinimumBelowLOQ  resultMinimumValue  \\\n",
       "106                           1.0                0.05   \n",
       "157                           0.0                1.10   \n",
       "158                           1.0                0.10   \n",
       "161                           1.0                5.00   \n",
       "162                           1.0                0.50   \n",
       "\n",
       "     resultQualityMeanBelowLOQ  resultQualityMaximumBelowLOQ  \\\n",
       "106                        1.0                           1.0   \n",
       "157                        0.0                           0.0   \n",
       "158                        1.0                           1.0   \n",
       "161                        1.0                           1.0   \n",
       "162                        1.0                           1.0   \n",
       "\n",
       "     resultMaximumValue  resultStandardDeviationValue  parameterSampleDepth  \n",
       "106                0.05                        0.0000                  50.0  \n",
       "157                1.70                        0.2338                  10.0  \n",
       "158                0.10                        0.0000                  10.0  \n",
       "161                5.00                        0.0000                  10.0  \n",
       "162                0.50                        0.0000                  20.0  "
      ]
     },
     "execution_count": 37,
     "metadata": {},
     "output_type": "execute_result"
    }
   ],
   "source": [
    "features1 = features.drop(['resultMeanValue','resultMedianValue'], axis='columns')\n",
    "features1.head()\n",
    "#resultMeanValue\n",
    "#resultMedianValue\n",
    "#estas variáveis vão ser eliminadas, pois conforme o VIF, são as que apresentam\n",
    "#uma multicolinearidade muito elevada"
   ]
  },
  {
   "cell_type": "code",
   "execution_count": 38,
   "metadata": {},
   "outputs": [
    {
     "data": {
      "text/html": [
       "<div>\n",
       "<style scoped>\n",
       "    .dataframe tbody tr th:only-of-type {\n",
       "        vertical-align: middle;\n",
       "    }\n",
       "\n",
       "    .dataframe tbody tr th {\n",
       "        vertical-align: top;\n",
       "    }\n",
       "\n",
       "    .dataframe thead th {\n",
       "        text-align: right;\n",
       "    }\n",
       "</style>\n",
       "<table border=\"1\" class=\"dataframe\">\n",
       "  <thead>\n",
       "    <tr style=\"text-align: right;\">\n",
       "      <th></th>\n",
       "      <th>phenomenonTimeReferenceYear</th>\n",
       "      <th>procedureLOQValue</th>\n",
       "      <th>resultNumberOfSamples</th>\n",
       "      <th>resultQualityMinimumBelowLOQ</th>\n",
       "      <th>resultMinimumValue</th>\n",
       "      <th>resultQualityMeanBelowLOQ</th>\n",
       "      <th>resultQualityMaximumBelowLOQ</th>\n",
       "      <th>resultMaximumValue</th>\n",
       "      <th>resultStandardDeviationValue</th>\n",
       "      <th>parameterSampleDepth</th>\n",
       "      <th>procedureAnalysedFraction_SPM</th>\n",
       "      <th>procedureAnalysedFraction_dissolved</th>\n",
       "      <th>procedureAnalysedFraction_total</th>\n",
       "      <th>procedureAnalysedMedia_water</th>\n",
       "    </tr>\n",
       "  </thead>\n",
       "  <tbody>\n",
       "    <tr>\n",
       "      <th>106</th>\n",
       "      <td>2010</td>\n",
       "      <td>0.05</td>\n",
       "      <td>6.0</td>\n",
       "      <td>1.0</td>\n",
       "      <td>0.05</td>\n",
       "      <td>1.0</td>\n",
       "      <td>1.0</td>\n",
       "      <td>0.05</td>\n",
       "      <td>0.0000</td>\n",
       "      <td>50.0</td>\n",
       "      <td>0</td>\n",
       "      <td>0</td>\n",
       "      <td>1</td>\n",
       "      <td>1</td>\n",
       "    </tr>\n",
       "    <tr>\n",
       "      <th>157</th>\n",
       "      <td>2010</td>\n",
       "      <td>0.50</td>\n",
       "      <td>6.0</td>\n",
       "      <td>0.0</td>\n",
       "      <td>1.10</td>\n",
       "      <td>0.0</td>\n",
       "      <td>0.0</td>\n",
       "      <td>1.70</td>\n",
       "      <td>0.2338</td>\n",
       "      <td>10.0</td>\n",
       "      <td>0</td>\n",
       "      <td>0</td>\n",
       "      <td>1</td>\n",
       "      <td>1</td>\n",
       "    </tr>\n",
       "    <tr>\n",
       "      <th>158</th>\n",
       "      <td>2010</td>\n",
       "      <td>0.10</td>\n",
       "      <td>6.0</td>\n",
       "      <td>1.0</td>\n",
       "      <td>0.10</td>\n",
       "      <td>1.0</td>\n",
       "      <td>1.0</td>\n",
       "      <td>0.10</td>\n",
       "      <td>0.0000</td>\n",
       "      <td>10.0</td>\n",
       "      <td>0</td>\n",
       "      <td>0</td>\n",
       "      <td>1</td>\n",
       "      <td>1</td>\n",
       "    </tr>\n",
       "    <tr>\n",
       "      <th>161</th>\n",
       "      <td>2010</td>\n",
       "      <td>5.00</td>\n",
       "      <td>6.0</td>\n",
       "      <td>1.0</td>\n",
       "      <td>5.00</td>\n",
       "      <td>1.0</td>\n",
       "      <td>1.0</td>\n",
       "      <td>5.00</td>\n",
       "      <td>0.0000</td>\n",
       "      <td>10.0</td>\n",
       "      <td>0</td>\n",
       "      <td>0</td>\n",
       "      <td>1</td>\n",
       "      <td>1</td>\n",
       "    </tr>\n",
       "    <tr>\n",
       "      <th>162</th>\n",
       "      <td>2010</td>\n",
       "      <td>0.50</td>\n",
       "      <td>6.0</td>\n",
       "      <td>1.0</td>\n",
       "      <td>0.50</td>\n",
       "      <td>1.0</td>\n",
       "      <td>1.0</td>\n",
       "      <td>0.50</td>\n",
       "      <td>0.0000</td>\n",
       "      <td>20.0</td>\n",
       "      <td>0</td>\n",
       "      <td>0</td>\n",
       "      <td>1</td>\n",
       "      <td>1</td>\n",
       "    </tr>\n",
       "  </tbody>\n",
       "</table>\n",
       "</div>"
      ],
      "text/plain": [
       "     phenomenonTimeReferenceYear  procedureLOQValue  resultNumberOfSamples  \\\n",
       "106                         2010               0.05                    6.0   \n",
       "157                         2010               0.50                    6.0   \n",
       "158                         2010               0.10                    6.0   \n",
       "161                         2010               5.00                    6.0   \n",
       "162                         2010               0.50                    6.0   \n",
       "\n",
       "     resultQualityMinimumBelowLOQ  resultMinimumValue  \\\n",
       "106                           1.0                0.05   \n",
       "157                           0.0                1.10   \n",
       "158                           1.0                0.10   \n",
       "161                           1.0                5.00   \n",
       "162                           1.0                0.50   \n",
       "\n",
       "     resultQualityMeanBelowLOQ  resultQualityMaximumBelowLOQ  \\\n",
       "106                        1.0                           1.0   \n",
       "157                        0.0                           0.0   \n",
       "158                        1.0                           1.0   \n",
       "161                        1.0                           1.0   \n",
       "162                        1.0                           1.0   \n",
       "\n",
       "     resultMaximumValue  resultStandardDeviationValue  parameterSampleDepth  \\\n",
       "106                0.05                        0.0000                  50.0   \n",
       "157                1.70                        0.2338                  10.0   \n",
       "158                0.10                        0.0000                  10.0   \n",
       "161                5.00                        0.0000                  10.0   \n",
       "162                0.50                        0.0000                  20.0   \n",
       "\n",
       "     procedureAnalysedFraction_SPM  procedureAnalysedFraction_dissolved  \\\n",
       "106                              0                                    0   \n",
       "157                              0                                    0   \n",
       "158                              0                                    0   \n",
       "161                              0                                    0   \n",
       "162                              0                                    0   \n",
       "\n",
       "     procedureAnalysedFraction_total  procedureAnalysedMedia_water  \n",
       "106                                1                             1  \n",
       "157                                1                             1  \n",
       "158                                1                             1  \n",
       "161                                1                             1  \n",
       "162                                1                             1  "
      ]
     },
     "execution_count": 38,
     "metadata": {},
     "output_type": "execute_result"
    }
   ],
   "source": [
    "#procedureAnalysedFraction, procedureAnalysedMedia to dummies\n",
    "X1 = pd.get_dummies(features1)\n",
    "X1.head()"
   ]
  },
  {
   "cell_type": "code",
   "execution_count": 39,
   "metadata": {},
   "outputs": [
    {
     "data": {
      "text/plain": [
       "106    LW\n",
       "157    LW\n",
       "158    LW\n",
       "161    LW\n",
       "162    LW\n",
       "Name: target, dtype: object"
      ]
     },
     "execution_count": 39,
     "metadata": {},
     "output_type": "execute_result"
    }
   ],
   "source": [
    "y = df_class_clean['target']\n",
    "y.head()"
   ]
  },
  {
   "cell_type": "markdown",
   "metadata": {},
   "source": [
    "- Nova seleção automática das variáveis independentes (features) mais \"significativas\" "
   ]
  },
  {
   "cell_type": "code",
   "execution_count": 40,
   "metadata": {},
   "outputs": [],
   "source": [
    "# Import SelectKBest, chi2(score function for classification), f_regression (score function for regression)\n",
    "from sklearn.feature_selection import SelectKBest, chi2, f_regression"
   ]
  },
  {
   "cell_type": "code",
   "execution_count": 41,
   "metadata": {
    "scrolled": true
   },
   "outputs": [
    {
     "name": "stdout",
     "output_type": "stream",
     "text": [
      "[[ 6.      0.05    0.05    0.     50.    ]\n",
      " [ 6.      1.1     1.7     0.2338 10.    ]\n",
      " [ 6.      0.1     0.1     0.     10.    ]\n",
      " [ 6.      5.      5.      0.     10.    ]\n",
      " [ 6.      0.5     0.5     0.     20.    ]]\n",
      "     phenomenonTimeReferenceYear  procedureLOQValue  resultNumberOfSamples  \\\n",
      "106                         2010               0.05                    6.0   \n",
      "157                         2010               0.50                    6.0   \n",
      "158                         2010               0.10                    6.0   \n",
      "161                         2010               5.00                    6.0   \n",
      "162                         2010               0.50                    6.0   \n",
      "\n",
      "     resultQualityMinimumBelowLOQ  resultMinimumValue  \\\n",
      "106                           1.0                0.05   \n",
      "157                           0.0                1.10   \n",
      "158                           1.0                0.10   \n",
      "161                           1.0                5.00   \n",
      "162                           1.0                0.50   \n",
      "\n",
      "     resultQualityMeanBelowLOQ  resultQualityMaximumBelowLOQ  \\\n",
      "106                        1.0                           1.0   \n",
      "157                        0.0                           0.0   \n",
      "158                        1.0                           1.0   \n",
      "161                        1.0                           1.0   \n",
      "162                        1.0                           1.0   \n",
      "\n",
      "     resultMaximumValue  resultStandardDeviationValue  parameterSampleDepth  \\\n",
      "106                0.05                        0.0000                  50.0   \n",
      "157                1.70                        0.2338                  10.0   \n",
      "158                0.10                        0.0000                  10.0   \n",
      "161                5.00                        0.0000                  10.0   \n",
      "162                0.50                        0.0000                  20.0   \n",
      "\n",
      "     procedureAnalysedFraction_SPM  procedureAnalysedFraction_dissolved  \\\n",
      "106                              0                                    0   \n",
      "157                              0                                    0   \n",
      "158                              0                                    0   \n",
      "161                              0                                    0   \n",
      "162                              0                                    0   \n",
      "\n",
      "     procedureAnalysedFraction_total  procedureAnalysedMedia_water  \n",
      "106                                1                             1  \n",
      "157                                1                             1  \n",
      "158                                1                             1  \n",
      "161                                1                             1  \n",
      "162                                1                             1  \n"
     ]
    }
   ],
   "source": [
    "# Create the object for SelectKBest and fit and transform the classification data\n",
    "# k is the number of features you want to select [here it's 2]\n",
    "X_clf_new1=SelectKBest(score_func=chi2,k=5).fit_transform(X1,y)\n",
    "# Check the newly created variable for top five best features\n",
    "print(X_clf_new1[:5])\n",
    "\n",
    "# Compare the newly created values with feature set values to know the selected features\n",
    "print(X1.head())"
   ]
  },
  {
   "cell_type": "markdown",
   "metadata": {},
   "source": [
    "**Passam a ser as seguintes variáveis promissoras:**\n",
    "- resultNumberOfSamples\n",
    "- resultMinimumValue\n",
    "- resultMaximumValue\n",
    "- resultStandardDeviationValue\n",
    "- parameterSampleDepth"
   ]
  },
  {
   "cell_type": "markdown",
   "metadata": {},
   "source": [
    "**Multicolinearidade:**"
   ]
  },
  {
   "cell_type": "code",
   "execution_count": 42,
   "metadata": {},
   "outputs": [
    {
     "data": {
      "text/html": [
       "<div>\n",
       "<style scoped>\n",
       "    .dataframe tbody tr th:only-of-type {\n",
       "        vertical-align: middle;\n",
       "    }\n",
       "\n",
       "    .dataframe tbody tr th {\n",
       "        vertical-align: top;\n",
       "    }\n",
       "\n",
       "    .dataframe thead th {\n",
       "        text-align: right;\n",
       "    }\n",
       "</style>\n",
       "<table border=\"1\" class=\"dataframe\">\n",
       "  <thead>\n",
       "    <tr style=\"text-align: right;\">\n",
       "      <th></th>\n",
       "      <th>resultNumberOfSamples</th>\n",
       "      <th>resultMinimumValue</th>\n",
       "      <th>resultMaximumValue</th>\n",
       "      <th>resultStandardDeviationValue</th>\n",
       "      <th>parameterSampleDepth</th>\n",
       "    </tr>\n",
       "  </thead>\n",
       "  <tbody>\n",
       "    <tr>\n",
       "      <th>0</th>\n",
       "      <td>6.0</td>\n",
       "      <td>0.050</td>\n",
       "      <td>0.050</td>\n",
       "      <td>0.0000</td>\n",
       "      <td>50.0</td>\n",
       "    </tr>\n",
       "    <tr>\n",
       "      <th>1</th>\n",
       "      <td>6.0</td>\n",
       "      <td>1.100</td>\n",
       "      <td>1.700</td>\n",
       "      <td>0.2338</td>\n",
       "      <td>10.0</td>\n",
       "    </tr>\n",
       "    <tr>\n",
       "      <th>2</th>\n",
       "      <td>6.0</td>\n",
       "      <td>0.100</td>\n",
       "      <td>0.100</td>\n",
       "      <td>0.0000</td>\n",
       "      <td>10.0</td>\n",
       "    </tr>\n",
       "    <tr>\n",
       "      <th>3</th>\n",
       "      <td>6.0</td>\n",
       "      <td>5.000</td>\n",
       "      <td>5.000</td>\n",
       "      <td>0.0000</td>\n",
       "      <td>10.0</td>\n",
       "    </tr>\n",
       "    <tr>\n",
       "      <th>4</th>\n",
       "      <td>6.0</td>\n",
       "      <td>0.500</td>\n",
       "      <td>0.500</td>\n",
       "      <td>0.0000</td>\n",
       "      <td>20.0</td>\n",
       "    </tr>\n",
       "    <tr>\n",
       "      <th>...</th>\n",
       "      <td>...</td>\n",
       "      <td>...</td>\n",
       "      <td>...</td>\n",
       "      <td>...</td>\n",
       "      <td>...</td>\n",
       "    </tr>\n",
       "    <tr>\n",
       "      <th>227831</th>\n",
       "      <td>13.0</td>\n",
       "      <td>0.001</td>\n",
       "      <td>0.001</td>\n",
       "      <td>0.0000</td>\n",
       "      <td>0.5</td>\n",
       "    </tr>\n",
       "    <tr>\n",
       "      <th>227832</th>\n",
       "      <td>12.0</td>\n",
       "      <td>0.200</td>\n",
       "      <td>0.200</td>\n",
       "      <td>0.0000</td>\n",
       "      <td>0.5</td>\n",
       "    </tr>\n",
       "    <tr>\n",
       "      <th>227833</th>\n",
       "      <td>12.0</td>\n",
       "      <td>0.500</td>\n",
       "      <td>0.500</td>\n",
       "      <td>0.0000</td>\n",
       "      <td>0.5</td>\n",
       "    </tr>\n",
       "    <tr>\n",
       "      <th>227834</th>\n",
       "      <td>13.0</td>\n",
       "      <td>0.300</td>\n",
       "      <td>0.300</td>\n",
       "      <td>0.0000</td>\n",
       "      <td>0.5</td>\n",
       "    </tr>\n",
       "    <tr>\n",
       "      <th>227835</th>\n",
       "      <td>13.0</td>\n",
       "      <td>0.010</td>\n",
       "      <td>0.010</td>\n",
       "      <td>0.0000</td>\n",
       "      <td>0.5</td>\n",
       "    </tr>\n",
       "  </tbody>\n",
       "</table>\n",
       "<p>227836 rows × 5 columns</p>\n",
       "</div>"
      ],
      "text/plain": [
       "        resultNumberOfSamples  resultMinimumValue  resultMaximumValue  \\\n",
       "0                         6.0               0.050               0.050   \n",
       "1                         6.0               1.100               1.700   \n",
       "2                         6.0               0.100               0.100   \n",
       "3                         6.0               5.000               5.000   \n",
       "4                         6.0               0.500               0.500   \n",
       "...                       ...                 ...                 ...   \n",
       "227831                   13.0               0.001               0.001   \n",
       "227832                   12.0               0.200               0.200   \n",
       "227833                   12.0               0.500               0.500   \n",
       "227834                   13.0               0.300               0.300   \n",
       "227835                   13.0               0.010               0.010   \n",
       "\n",
       "        resultStandardDeviationValue  parameterSampleDepth  \n",
       "0                             0.0000                  50.0  \n",
       "1                             0.2338                  10.0  \n",
       "2                             0.0000                  10.0  \n",
       "3                             0.0000                  10.0  \n",
       "4                             0.0000                  20.0  \n",
       "...                              ...                   ...  \n",
       "227831                        0.0000                   0.5  \n",
       "227832                        0.0000                   0.5  \n",
       "227833                        0.0000                   0.5  \n",
       "227834                        0.0000                   0.5  \n",
       "227835                        0.0000                   0.5  \n",
       "\n",
       "[227836 rows x 5 columns]"
      ]
     },
     "execution_count": 42,
     "metadata": {},
     "output_type": "execute_result"
    }
   ],
   "source": [
    "df1 = pd.DataFrame(X_clf_new1,columns=['resultNumberOfSamples','resultMinimumValue','resultMaximumValue',\n",
    "                                   'resultStandardDeviationValue','parameterSampleDepth'])\n",
    "df1"
   ]
  },
  {
   "cell_type": "code",
   "execution_count": 43,
   "metadata": {},
   "outputs": [
    {
     "data": {
      "text/html": [
       "<div>\n",
       "<style scoped>\n",
       "    .dataframe tbody tr th:only-of-type {\n",
       "        vertical-align: middle;\n",
       "    }\n",
       "\n",
       "    .dataframe tbody tr th {\n",
       "        vertical-align: top;\n",
       "    }\n",
       "\n",
       "    .dataframe thead th {\n",
       "        text-align: right;\n",
       "    }\n",
       "</style>\n",
       "<table border=\"1\" class=\"dataframe\">\n",
       "  <thead>\n",
       "    <tr style=\"text-align: right;\">\n",
       "      <th></th>\n",
       "      <th>variables</th>\n",
       "      <th>VIF</th>\n",
       "    </tr>\n",
       "  </thead>\n",
       "  <tbody>\n",
       "    <tr>\n",
       "      <th>0</th>\n",
       "      <td>resultNumberOfSamples</td>\n",
       "      <td>1.021909</td>\n",
       "    </tr>\n",
       "    <tr>\n",
       "      <th>1</th>\n",
       "      <td>resultMinimumValue</td>\n",
       "      <td>3.355680</td>\n",
       "    </tr>\n",
       "    <tr>\n",
       "      <th>2</th>\n",
       "      <td>resultMaximumValue</td>\n",
       "      <td>17.590777</td>\n",
       "    </tr>\n",
       "    <tr>\n",
       "      <th>3</th>\n",
       "      <td>resultStandardDeviationValue</td>\n",
       "      <td>12.914159</td>\n",
       "    </tr>\n",
       "    <tr>\n",
       "      <th>4</th>\n",
       "      <td>parameterSampleDepth</td>\n",
       "      <td>1.004880</td>\n",
       "    </tr>\n",
       "  </tbody>\n",
       "</table>\n",
       "</div>"
      ],
      "text/plain": [
       "                      variables        VIF\n",
       "0         resultNumberOfSamples   1.021909\n",
       "1            resultMinimumValue   3.355680\n",
       "2            resultMaximumValue  17.590777\n",
       "3  resultStandardDeviationValue  12.914159\n",
       "4          parameterSampleDepth   1.004880"
      ]
     },
     "execution_count": 43,
     "metadata": {},
     "output_type": "execute_result"
    }
   ],
   "source": [
    "calc_vif(df1)"
   ]
  },
  {
   "cell_type": "markdown",
   "metadata": {},
   "source": [
    "**resultMaximumValue** e **resultStandardDeviationValue**:\n",
    "apresentam o VIF mais elevado, o que indica que existe uma multicolinearidade muito alta entre estas variáveis independentes e as outras"
   ]
  },
  {
   "cell_type": "markdown",
   "metadata": {},
   "source": [
    "##### 1.2.2. Exclusão da variável com correlação linear mais elevada entre as var. independentes"
   ]
  },
  {
   "cell_type": "code",
   "execution_count": 44,
   "metadata": {},
   "outputs": [
    {
     "data": {
      "text/html": [
       "<div>\n",
       "<style scoped>\n",
       "    .dataframe tbody tr th:only-of-type {\n",
       "        vertical-align: middle;\n",
       "    }\n",
       "\n",
       "    .dataframe tbody tr th {\n",
       "        vertical-align: top;\n",
       "    }\n",
       "\n",
       "    .dataframe thead th {\n",
       "        text-align: right;\n",
       "    }\n",
       "</style>\n",
       "<table border=\"1\" class=\"dataframe\">\n",
       "  <thead>\n",
       "    <tr style=\"text-align: right;\">\n",
       "      <th></th>\n",
       "      <th>procedureAnalysedFraction</th>\n",
       "      <th>procedureAnalysedMedia</th>\n",
       "      <th>phenomenonTimeReferenceYear</th>\n",
       "      <th>procedureLOQValue</th>\n",
       "      <th>resultNumberOfSamples</th>\n",
       "      <th>resultQualityMinimumBelowLOQ</th>\n",
       "      <th>resultMinimumValue</th>\n",
       "      <th>resultQualityMeanBelowLOQ</th>\n",
       "      <th>resultQualityMaximumBelowLOQ</th>\n",
       "      <th>resultStandardDeviationValue</th>\n",
       "      <th>parameterSampleDepth</th>\n",
       "    </tr>\n",
       "  </thead>\n",
       "  <tbody>\n",
       "    <tr>\n",
       "      <th>106</th>\n",
       "      <td>total</td>\n",
       "      <td>water</td>\n",
       "      <td>2010</td>\n",
       "      <td>0.05</td>\n",
       "      <td>6.0</td>\n",
       "      <td>1.0</td>\n",
       "      <td>0.05</td>\n",
       "      <td>1.0</td>\n",
       "      <td>1.0</td>\n",
       "      <td>0.0000</td>\n",
       "      <td>50.0</td>\n",
       "    </tr>\n",
       "    <tr>\n",
       "      <th>157</th>\n",
       "      <td>total</td>\n",
       "      <td>water</td>\n",
       "      <td>2010</td>\n",
       "      <td>0.50</td>\n",
       "      <td>6.0</td>\n",
       "      <td>0.0</td>\n",
       "      <td>1.10</td>\n",
       "      <td>0.0</td>\n",
       "      <td>0.0</td>\n",
       "      <td>0.2338</td>\n",
       "      <td>10.0</td>\n",
       "    </tr>\n",
       "    <tr>\n",
       "      <th>158</th>\n",
       "      <td>total</td>\n",
       "      <td>water</td>\n",
       "      <td>2010</td>\n",
       "      <td>0.10</td>\n",
       "      <td>6.0</td>\n",
       "      <td>1.0</td>\n",
       "      <td>0.10</td>\n",
       "      <td>1.0</td>\n",
       "      <td>1.0</td>\n",
       "      <td>0.0000</td>\n",
       "      <td>10.0</td>\n",
       "    </tr>\n",
       "    <tr>\n",
       "      <th>161</th>\n",
       "      <td>total</td>\n",
       "      <td>water</td>\n",
       "      <td>2010</td>\n",
       "      <td>5.00</td>\n",
       "      <td>6.0</td>\n",
       "      <td>1.0</td>\n",
       "      <td>5.00</td>\n",
       "      <td>1.0</td>\n",
       "      <td>1.0</td>\n",
       "      <td>0.0000</td>\n",
       "      <td>10.0</td>\n",
       "    </tr>\n",
       "    <tr>\n",
       "      <th>162</th>\n",
       "      <td>total</td>\n",
       "      <td>water</td>\n",
       "      <td>2010</td>\n",
       "      <td>0.50</td>\n",
       "      <td>6.0</td>\n",
       "      <td>1.0</td>\n",
       "      <td>0.50</td>\n",
       "      <td>1.0</td>\n",
       "      <td>1.0</td>\n",
       "      <td>0.0000</td>\n",
       "      <td>20.0</td>\n",
       "    </tr>\n",
       "  </tbody>\n",
       "</table>\n",
       "</div>"
      ],
      "text/plain": [
       "    procedureAnalysedFraction procedureAnalysedMedia  \\\n",
       "106                     total                  water   \n",
       "157                     total                  water   \n",
       "158                     total                  water   \n",
       "161                     total                  water   \n",
       "162                     total                  water   \n",
       "\n",
       "     phenomenonTimeReferenceYear  procedureLOQValue  resultNumberOfSamples  \\\n",
       "106                         2010               0.05                    6.0   \n",
       "157                         2010               0.50                    6.0   \n",
       "158                         2010               0.10                    6.0   \n",
       "161                         2010               5.00                    6.0   \n",
       "162                         2010               0.50                    6.0   \n",
       "\n",
       "     resultQualityMinimumBelowLOQ  resultMinimumValue  \\\n",
       "106                           1.0                0.05   \n",
       "157                           0.0                1.10   \n",
       "158                           1.0                0.10   \n",
       "161                           1.0                5.00   \n",
       "162                           1.0                0.50   \n",
       "\n",
       "     resultQualityMeanBelowLOQ  resultQualityMaximumBelowLOQ  \\\n",
       "106                        1.0                           1.0   \n",
       "157                        0.0                           0.0   \n",
       "158                        1.0                           1.0   \n",
       "161                        1.0                           1.0   \n",
       "162                        1.0                           1.0   \n",
       "\n",
       "     resultStandardDeviationValue  parameterSampleDepth  \n",
       "106                        0.0000                  50.0  \n",
       "157                        0.2338                  10.0  \n",
       "158                        0.0000                  10.0  \n",
       "161                        0.0000                  10.0  \n",
       "162                        0.0000                  20.0  "
      ]
     },
     "execution_count": 44,
     "metadata": {},
     "output_type": "execute_result"
    }
   ],
   "source": [
    "features2 = features1.drop(['resultMaximumValue'], axis='columns')\n",
    "features2.head()"
   ]
  },
  {
   "cell_type": "code",
   "execution_count": 45,
   "metadata": {},
   "outputs": [
    {
     "data": {
      "text/html": [
       "<div>\n",
       "<style scoped>\n",
       "    .dataframe tbody tr th:only-of-type {\n",
       "        vertical-align: middle;\n",
       "    }\n",
       "\n",
       "    .dataframe tbody tr th {\n",
       "        vertical-align: top;\n",
       "    }\n",
       "\n",
       "    .dataframe thead th {\n",
       "        text-align: right;\n",
       "    }\n",
       "</style>\n",
       "<table border=\"1\" class=\"dataframe\">\n",
       "  <thead>\n",
       "    <tr style=\"text-align: right;\">\n",
       "      <th></th>\n",
       "      <th>phenomenonTimeReferenceYear</th>\n",
       "      <th>procedureLOQValue</th>\n",
       "      <th>resultNumberOfSamples</th>\n",
       "      <th>resultQualityMinimumBelowLOQ</th>\n",
       "      <th>resultMinimumValue</th>\n",
       "      <th>resultQualityMeanBelowLOQ</th>\n",
       "      <th>resultQualityMaximumBelowLOQ</th>\n",
       "      <th>resultStandardDeviationValue</th>\n",
       "      <th>parameterSampleDepth</th>\n",
       "      <th>procedureAnalysedFraction_SPM</th>\n",
       "      <th>procedureAnalysedFraction_dissolved</th>\n",
       "      <th>procedureAnalysedFraction_total</th>\n",
       "      <th>procedureAnalysedMedia_water</th>\n",
       "    </tr>\n",
       "  </thead>\n",
       "  <tbody>\n",
       "    <tr>\n",
       "      <th>106</th>\n",
       "      <td>2010</td>\n",
       "      <td>0.05</td>\n",
       "      <td>6.0</td>\n",
       "      <td>1.0</td>\n",
       "      <td>0.05</td>\n",
       "      <td>1.0</td>\n",
       "      <td>1.0</td>\n",
       "      <td>0.0000</td>\n",
       "      <td>50.0</td>\n",
       "      <td>0</td>\n",
       "      <td>0</td>\n",
       "      <td>1</td>\n",
       "      <td>1</td>\n",
       "    </tr>\n",
       "    <tr>\n",
       "      <th>157</th>\n",
       "      <td>2010</td>\n",
       "      <td>0.50</td>\n",
       "      <td>6.0</td>\n",
       "      <td>0.0</td>\n",
       "      <td>1.10</td>\n",
       "      <td>0.0</td>\n",
       "      <td>0.0</td>\n",
       "      <td>0.2338</td>\n",
       "      <td>10.0</td>\n",
       "      <td>0</td>\n",
       "      <td>0</td>\n",
       "      <td>1</td>\n",
       "      <td>1</td>\n",
       "    </tr>\n",
       "    <tr>\n",
       "      <th>158</th>\n",
       "      <td>2010</td>\n",
       "      <td>0.10</td>\n",
       "      <td>6.0</td>\n",
       "      <td>1.0</td>\n",
       "      <td>0.10</td>\n",
       "      <td>1.0</td>\n",
       "      <td>1.0</td>\n",
       "      <td>0.0000</td>\n",
       "      <td>10.0</td>\n",
       "      <td>0</td>\n",
       "      <td>0</td>\n",
       "      <td>1</td>\n",
       "      <td>1</td>\n",
       "    </tr>\n",
       "    <tr>\n",
       "      <th>161</th>\n",
       "      <td>2010</td>\n",
       "      <td>5.00</td>\n",
       "      <td>6.0</td>\n",
       "      <td>1.0</td>\n",
       "      <td>5.00</td>\n",
       "      <td>1.0</td>\n",
       "      <td>1.0</td>\n",
       "      <td>0.0000</td>\n",
       "      <td>10.0</td>\n",
       "      <td>0</td>\n",
       "      <td>0</td>\n",
       "      <td>1</td>\n",
       "      <td>1</td>\n",
       "    </tr>\n",
       "    <tr>\n",
       "      <th>162</th>\n",
       "      <td>2010</td>\n",
       "      <td>0.50</td>\n",
       "      <td>6.0</td>\n",
       "      <td>1.0</td>\n",
       "      <td>0.50</td>\n",
       "      <td>1.0</td>\n",
       "      <td>1.0</td>\n",
       "      <td>0.0000</td>\n",
       "      <td>20.0</td>\n",
       "      <td>0</td>\n",
       "      <td>0</td>\n",
       "      <td>1</td>\n",
       "      <td>1</td>\n",
       "    </tr>\n",
       "  </tbody>\n",
       "</table>\n",
       "</div>"
      ],
      "text/plain": [
       "     phenomenonTimeReferenceYear  procedureLOQValue  resultNumberOfSamples  \\\n",
       "106                         2010               0.05                    6.0   \n",
       "157                         2010               0.50                    6.0   \n",
       "158                         2010               0.10                    6.0   \n",
       "161                         2010               5.00                    6.0   \n",
       "162                         2010               0.50                    6.0   \n",
       "\n",
       "     resultQualityMinimumBelowLOQ  resultMinimumValue  \\\n",
       "106                           1.0                0.05   \n",
       "157                           0.0                1.10   \n",
       "158                           1.0                0.10   \n",
       "161                           1.0                5.00   \n",
       "162                           1.0                0.50   \n",
       "\n",
       "     resultQualityMeanBelowLOQ  resultQualityMaximumBelowLOQ  \\\n",
       "106                        1.0                           1.0   \n",
       "157                        0.0                           0.0   \n",
       "158                        1.0                           1.0   \n",
       "161                        1.0                           1.0   \n",
       "162                        1.0                           1.0   \n",
       "\n",
       "     resultStandardDeviationValue  parameterSampleDepth  \\\n",
       "106                        0.0000                  50.0   \n",
       "157                        0.2338                  10.0   \n",
       "158                        0.0000                  10.0   \n",
       "161                        0.0000                  10.0   \n",
       "162                        0.0000                  20.0   \n",
       "\n",
       "     procedureAnalysedFraction_SPM  procedureAnalysedFraction_dissolved  \\\n",
       "106                              0                                    0   \n",
       "157                              0                                    0   \n",
       "158                              0                                    0   \n",
       "161                              0                                    0   \n",
       "162                              0                                    0   \n",
       "\n",
       "     procedureAnalysedFraction_total  procedureAnalysedMedia_water  \n",
       "106                                1                             1  \n",
       "157                                1                             1  \n",
       "158                                1                             1  \n",
       "161                                1                             1  \n",
       "162                                1                             1  "
      ]
     },
     "execution_count": 45,
     "metadata": {},
     "output_type": "execute_result"
    }
   ],
   "source": [
    "#procedureAnalysedFraction, procedureAnalysedMedia to dummies\n",
    "X2 = pd.get_dummies(features2)\n",
    "X2.head()"
   ]
  },
  {
   "cell_type": "code",
   "execution_count": 46,
   "metadata": {},
   "outputs": [
    {
     "data": {
      "text/plain": [
       "106    LW\n",
       "157    LW\n",
       "158    LW\n",
       "161    LW\n",
       "162    LW\n",
       "Name: target, dtype: object"
      ]
     },
     "execution_count": 46,
     "metadata": {},
     "output_type": "execute_result"
    }
   ],
   "source": [
    "y = df_class_clean['target']\n",
    "y.head()"
   ]
  },
  {
   "cell_type": "markdown",
   "metadata": {},
   "source": [
    "- Nova seleção automática das variáveis independentes (features) mais \"significativas\" "
   ]
  },
  {
   "cell_type": "code",
   "execution_count": 47,
   "metadata": {},
   "outputs": [],
   "source": [
    "# Import Se lectKBest, chi2(score function for classification), f_regression (score function for regression)\n",
    "from sklearn.feature_selection import SelectKBest, chi2, f_regression"
   ]
  },
  {
   "cell_type": "code",
   "execution_count": 48,
   "metadata": {},
   "outputs": [
    {
     "name": "stdout",
     "output_type": "stream",
     "text": [
      "[[ 0.05    6.      0.05    0.     50.    ]\n",
      " [ 0.5     6.      1.1     0.2338 10.    ]\n",
      " [ 0.1     6.      0.1     0.     10.    ]\n",
      " [ 5.      6.      5.      0.     10.    ]\n",
      " [ 0.5     6.      0.5     0.     20.    ]]\n",
      "     phenomenonTimeReferenceYear  procedureLOQValue  resultNumberOfSamples  \\\n",
      "106                         2010               0.05                    6.0   \n",
      "157                         2010               0.50                    6.0   \n",
      "158                         2010               0.10                    6.0   \n",
      "161                         2010               5.00                    6.0   \n",
      "162                         2010               0.50                    6.0   \n",
      "\n",
      "     resultQualityMinimumBelowLOQ  resultMinimumValue  \\\n",
      "106                           1.0                0.05   \n",
      "157                           0.0                1.10   \n",
      "158                           1.0                0.10   \n",
      "161                           1.0                5.00   \n",
      "162                           1.0                0.50   \n",
      "\n",
      "     resultQualityMeanBelowLOQ  resultQualityMaximumBelowLOQ  \\\n",
      "106                        1.0                           1.0   \n",
      "157                        0.0                           0.0   \n",
      "158                        1.0                           1.0   \n",
      "161                        1.0                           1.0   \n",
      "162                        1.0                           1.0   \n",
      "\n",
      "     resultStandardDeviationValue  parameterSampleDepth  \\\n",
      "106                        0.0000                  50.0   \n",
      "157                        0.2338                  10.0   \n",
      "158                        0.0000                  10.0   \n",
      "161                        0.0000                  10.0   \n",
      "162                        0.0000                  20.0   \n",
      "\n",
      "     procedureAnalysedFraction_SPM  procedureAnalysedFraction_dissolved  \\\n",
      "106                              0                                    0   \n",
      "157                              0                                    0   \n",
      "158                              0                                    0   \n",
      "161                              0                                    0   \n",
      "162                              0                                    0   \n",
      "\n",
      "     procedureAnalysedFraction_total  procedureAnalysedMedia_water  \n",
      "106                                1                             1  \n",
      "157                                1                             1  \n",
      "158                                1                             1  \n",
      "161                                1                             1  \n",
      "162                                1                             1  \n"
     ]
    }
   ],
   "source": [
    "# Create the object for SelectKBest and fit and transform the classification data\n",
    "# k is the number of features you want to select\n",
    "X_clf_new2=SelectKBest(score_func=chi2,k=5).fit_transform(X2,y)\n",
    "# Check the newly created variable for top five best features\n",
    "print(X_clf_new2[:5])\n",
    "\n",
    "# Compare the newly created values with feature set values to know the selected features\n",
    "print(X2.head())"
   ]
  },
  {
   "cell_type": "markdown",
   "metadata": {},
   "source": [
    "Passam a ser estas as var. mais promissoras:\n",
    "- procedureLOQValue\n",
    "- resultNumberOfSamples \n",
    "- resultMinimumValue\n",
    "- resultStandardDeviationValue\n",
    "- parameterSampleDepth"
   ]
  },
  {
   "cell_type": "markdown",
   "metadata": {},
   "source": [
    "**Multicolinearidade:**"
   ]
  },
  {
   "cell_type": "code",
   "execution_count": 49,
   "metadata": {},
   "outputs": [
    {
     "data": {
      "text/html": [
       "<div>\n",
       "<style scoped>\n",
       "    .dataframe tbody tr th:only-of-type {\n",
       "        vertical-align: middle;\n",
       "    }\n",
       "\n",
       "    .dataframe tbody tr th {\n",
       "        vertical-align: top;\n",
       "    }\n",
       "\n",
       "    .dataframe thead th {\n",
       "        text-align: right;\n",
       "    }\n",
       "</style>\n",
       "<table border=\"1\" class=\"dataframe\">\n",
       "  <thead>\n",
       "    <tr style=\"text-align: right;\">\n",
       "      <th></th>\n",
       "      <th>procedureLOQValue</th>\n",
       "      <th>resultNumberOfSamples</th>\n",
       "      <th>resultMinimumValue</th>\n",
       "      <th>resultStandardDeviationValue</th>\n",
       "      <th>parameterSampleDepth</th>\n",
       "    </tr>\n",
       "  </thead>\n",
       "  <tbody>\n",
       "    <tr>\n",
       "      <th>0</th>\n",
       "      <td>0.050</td>\n",
       "      <td>6.0</td>\n",
       "      <td>0.050</td>\n",
       "      <td>0.0000</td>\n",
       "      <td>50.0</td>\n",
       "    </tr>\n",
       "    <tr>\n",
       "      <th>1</th>\n",
       "      <td>0.500</td>\n",
       "      <td>6.0</td>\n",
       "      <td>1.100</td>\n",
       "      <td>0.2338</td>\n",
       "      <td>10.0</td>\n",
       "    </tr>\n",
       "    <tr>\n",
       "      <th>2</th>\n",
       "      <td>0.100</td>\n",
       "      <td>6.0</td>\n",
       "      <td>0.100</td>\n",
       "      <td>0.0000</td>\n",
       "      <td>10.0</td>\n",
       "    </tr>\n",
       "    <tr>\n",
       "      <th>3</th>\n",
       "      <td>5.000</td>\n",
       "      <td>6.0</td>\n",
       "      <td>5.000</td>\n",
       "      <td>0.0000</td>\n",
       "      <td>10.0</td>\n",
       "    </tr>\n",
       "    <tr>\n",
       "      <th>4</th>\n",
       "      <td>0.500</td>\n",
       "      <td>6.0</td>\n",
       "      <td>0.500</td>\n",
       "      <td>0.0000</td>\n",
       "      <td>20.0</td>\n",
       "    </tr>\n",
       "    <tr>\n",
       "      <th>...</th>\n",
       "      <td>...</td>\n",
       "      <td>...</td>\n",
       "      <td>...</td>\n",
       "      <td>...</td>\n",
       "      <td>...</td>\n",
       "    </tr>\n",
       "    <tr>\n",
       "      <th>227831</th>\n",
       "      <td>0.001</td>\n",
       "      <td>13.0</td>\n",
       "      <td>0.001</td>\n",
       "      <td>0.0000</td>\n",
       "      <td>0.5</td>\n",
       "    </tr>\n",
       "    <tr>\n",
       "      <th>227832</th>\n",
       "      <td>0.200</td>\n",
       "      <td>12.0</td>\n",
       "      <td>0.200</td>\n",
       "      <td>0.0000</td>\n",
       "      <td>0.5</td>\n",
       "    </tr>\n",
       "    <tr>\n",
       "      <th>227833</th>\n",
       "      <td>0.500</td>\n",
       "      <td>12.0</td>\n",
       "      <td>0.500</td>\n",
       "      <td>0.0000</td>\n",
       "      <td>0.5</td>\n",
       "    </tr>\n",
       "    <tr>\n",
       "      <th>227834</th>\n",
       "      <td>0.300</td>\n",
       "      <td>13.0</td>\n",
       "      <td>0.300</td>\n",
       "      <td>0.0000</td>\n",
       "      <td>0.5</td>\n",
       "    </tr>\n",
       "    <tr>\n",
       "      <th>227835</th>\n",
       "      <td>0.010</td>\n",
       "      <td>13.0</td>\n",
       "      <td>0.010</td>\n",
       "      <td>0.0000</td>\n",
       "      <td>0.5</td>\n",
       "    </tr>\n",
       "  </tbody>\n",
       "</table>\n",
       "<p>227836 rows × 5 columns</p>\n",
       "</div>"
      ],
      "text/plain": [
       "        procedureLOQValue  resultNumberOfSamples   resultMinimumValue  \\\n",
       "0                   0.050                     6.0               0.050   \n",
       "1                   0.500                     6.0               1.100   \n",
       "2                   0.100                     6.0               0.100   \n",
       "3                   5.000                     6.0               5.000   \n",
       "4                   0.500                     6.0               0.500   \n",
       "...                   ...                     ...                 ...   \n",
       "227831              0.001                    13.0               0.001   \n",
       "227832              0.200                    12.0               0.200   \n",
       "227833              0.500                    12.0               0.500   \n",
       "227834              0.300                    13.0               0.300   \n",
       "227835              0.010                    13.0               0.010   \n",
       "\n",
       "        resultStandardDeviationValue  parameterSampleDepth  \n",
       "0                             0.0000                  50.0  \n",
       "1                             0.2338                  10.0  \n",
       "2                             0.0000                  10.0  \n",
       "3                             0.0000                  10.0  \n",
       "4                             0.0000                  20.0  \n",
       "...                              ...                   ...  \n",
       "227831                        0.0000                   0.5  \n",
       "227832                        0.0000                   0.5  \n",
       "227833                        0.0000                   0.5  \n",
       "227834                        0.0000                   0.5  \n",
       "227835                        0.0000                   0.5  \n",
       "\n",
       "[227836 rows x 5 columns]"
      ]
     },
     "execution_count": 49,
     "metadata": {},
     "output_type": "execute_result"
    }
   ],
   "source": [
    "df2 = pd.DataFrame(X_clf_new2,columns=['procedureLOQValue','resultNumberOfSamples ','resultMinimumValue',\n",
    "                                   'resultStandardDeviationValue','parameterSampleDepth'])\n",
    "df2"
   ]
  },
  {
   "cell_type": "code",
   "execution_count": 50,
   "metadata": {},
   "outputs": [
    {
     "data": {
      "text/html": [
       "<div>\n",
       "<style scoped>\n",
       "    .dataframe tbody tr th:only-of-type {\n",
       "        vertical-align: middle;\n",
       "    }\n",
       "\n",
       "    .dataframe tbody tr th {\n",
       "        vertical-align: top;\n",
       "    }\n",
       "\n",
       "    .dataframe thead th {\n",
       "        text-align: right;\n",
       "    }\n",
       "</style>\n",
       "<table border=\"1\" class=\"dataframe\">\n",
       "  <thead>\n",
       "    <tr style=\"text-align: right;\">\n",
       "      <th></th>\n",
       "      <th>variables</th>\n",
       "      <th>VIF</th>\n",
       "    </tr>\n",
       "  </thead>\n",
       "  <tbody>\n",
       "    <tr>\n",
       "      <th>0</th>\n",
       "      <td>procedureLOQValue</td>\n",
       "      <td>1.051827</td>\n",
       "    </tr>\n",
       "    <tr>\n",
       "      <th>1</th>\n",
       "      <td>resultNumberOfSamples</td>\n",
       "      <td>1.023692</td>\n",
       "    </tr>\n",
       "    <tr>\n",
       "      <th>2</th>\n",
       "      <td>resultMinimumValue</td>\n",
       "      <td>1.080079</td>\n",
       "    </tr>\n",
       "    <tr>\n",
       "      <th>3</th>\n",
       "      <td>resultStandardDeviationValue</td>\n",
       "      <td>1.086755</td>\n",
       "    </tr>\n",
       "    <tr>\n",
       "      <th>4</th>\n",
       "      <td>parameterSampleDepth</td>\n",
       "      <td>1.004883</td>\n",
       "    </tr>\n",
       "  </tbody>\n",
       "</table>\n",
       "</div>"
      ],
      "text/plain": [
       "                      variables       VIF\n",
       "0             procedureLOQValue  1.051827\n",
       "1        resultNumberOfSamples   1.023692\n",
       "2            resultMinimumValue  1.080079\n",
       "3  resultStandardDeviationValue  1.086755\n",
       "4          parameterSampleDepth  1.004883"
      ]
     },
     "execution_count": 50,
     "metadata": {},
     "output_type": "execute_result"
    }
   ],
   "source": [
    "calc_vif(df2)"
   ]
  },
  {
   "cell_type": "markdown",
   "metadata": {},
   "source": [
    "- Como podemos observar, não existe quase correlação entre as variáveis independentes e as outras variáveis\n",
    "- Iremos, então, utilizar estas variáveis nos modelos"
   ]
  },
  {
   "cell_type": "markdown",
   "metadata": {},
   "source": [
    "#### 1.3. Conjunto de treino e teste"
   ]
  },
  {
   "cell_type": "code",
   "execution_count": 90,
   "metadata": {},
   "outputs": [],
   "source": [
    "from sklearn.model_selection import train_test_split\n",
    "\n",
    "X_train, X_test, y_train, y_test = train_test_split(X_clf_new2, y,\n",
    "    test_size = 0.3, random_state=0)\n"
   ]
  },
  {
   "cell_type": "code",
   "execution_count": 91,
   "metadata": {},
   "outputs": [
    {
     "data": {
      "text/plain": [
       "(159485, 5)"
      ]
     },
     "execution_count": 91,
     "metadata": {},
     "output_type": "execute_result"
    }
   ],
   "source": [
    "X_train.shape\n"
   ]
  },
  {
   "cell_type": "code",
   "execution_count": 92,
   "metadata": {},
   "outputs": [
    {
     "data": {
      "text/plain": [
       "(68351, 5)"
      ]
     },
     "execution_count": 92,
     "metadata": {},
     "output_type": "execute_result"
    }
   ],
   "source": [
    "X_test.shape\n"
   ]
  },
  {
   "cell_type": "code",
   "execution_count": 93,
   "metadata": {},
   "outputs": [
    {
     "data": {
      "text/plain": [
       "(159485,)"
      ]
     },
     "execution_count": 93,
     "metadata": {},
     "output_type": "execute_result"
    }
   ],
   "source": [
    "y_train.shape\n"
   ]
  },
  {
   "cell_type": "code",
   "execution_count": 94,
   "metadata": {},
   "outputs": [
    {
     "data": {
      "text/plain": [
       "(68351,)"
      ]
     },
     "execution_count": 94,
     "metadata": {},
     "output_type": "execute_result"
    }
   ],
   "source": [
    "y_test.shape\n"
   ]
  },
  {
   "cell_type": "markdown",
   "metadata": {},
   "source": [
    "### 2. Naive Bayes"
   ]
  },
  {
   "cell_type": "code",
   "execution_count": 95,
   "metadata": {},
   "outputs": [
    {
     "data": {
      "text/plain": [
       "GaussianNB()"
      ]
     },
     "execution_count": 95,
     "metadata": {},
     "output_type": "execute_result"
    }
   ],
   "source": [
    "from sklearn.naive_bayes import GaussianNB\n",
    "gnb = GaussianNB()\n",
    "gnb.fit(X_train, y_train)"
   ]
  },
  {
   "cell_type": "code",
   "execution_count": 96,
   "metadata": {},
   "outputs": [
    {
     "data": {
      "text/html": [
       "<div>\n",
       "<style scoped>\n",
       "    .dataframe tbody tr th:only-of-type {\n",
       "        vertical-align: middle;\n",
       "    }\n",
       "\n",
       "    .dataframe tbody tr th {\n",
       "        vertical-align: top;\n",
       "    }\n",
       "\n",
       "    .dataframe thead th {\n",
       "        text-align: right;\n",
       "    }\n",
       "</style>\n",
       "<table border=\"1\" class=\"dataframe\">\n",
       "  <thead>\n",
       "    <tr style=\"text-align: right;\">\n",
       "      <th></th>\n",
       "      <th>pred_CW</th>\n",
       "      <th>pred_LW</th>\n",
       "      <th>pred_RW</th>\n",
       "      <th>pred_TW</th>\n",
       "    </tr>\n",
       "  </thead>\n",
       "  <tbody>\n",
       "    <tr>\n",
       "      <th>CW</th>\n",
       "      <td>2</td>\n",
       "      <td>0</td>\n",
       "      <td>0</td>\n",
       "      <td>0</td>\n",
       "    </tr>\n",
       "    <tr>\n",
       "      <th>LW</th>\n",
       "      <td>213</td>\n",
       "      <td>2171</td>\n",
       "      <td>4040</td>\n",
       "      <td>51</td>\n",
       "    </tr>\n",
       "    <tr>\n",
       "      <th>RW</th>\n",
       "      <td>11981</td>\n",
       "      <td>366</td>\n",
       "      <td>48377</td>\n",
       "      <td>892</td>\n",
       "    </tr>\n",
       "    <tr>\n",
       "      <th>TW</th>\n",
       "      <td>58</td>\n",
       "      <td>1</td>\n",
       "      <td>193</td>\n",
       "      <td>6</td>\n",
       "    </tr>\n",
       "  </tbody>\n",
       "</table>\n",
       "</div>"
      ],
      "text/plain": [
       "    pred_CW  pred_LW  pred_RW  pred_TW\n",
       "CW        2        0        0        0\n",
       "LW      213     2171     4040       51\n",
       "RW    11981      366    48377      892\n",
       "TW       58        1      193        6"
      ]
     },
     "execution_count": 96,
     "metadata": {},
     "output_type": "execute_result"
    }
   ],
   "source": [
    "from sklearn.metrics import confusion_matrix, classification_report\n",
    "\n",
    "y_pred = gnb.predict(X_test)\n",
    "cm = confusion_matrix(y_test, y_pred)\n",
    "\n",
    "pd.DataFrame(cm,index=[\"CW\", \"LW\",\"RW\",\"TW\"],\n",
    "             columns=['pred_CW', 'pred_LW','pred_RW','pred_TW'])"
   ]
  },
  {
   "cell_type": "markdown",
   "metadata": {},
   "source": [
    "#### 2.1. Avaliação do modelo:"
   ]
  },
  {
   "cell_type": "code",
   "execution_count": 97,
   "metadata": {},
   "outputs": [
    {
     "name": "stdout",
     "output_type": "stream",
     "text": [
      "              precision    recall  f1-score   support\n",
      "\n",
      "          CW       0.00      1.00      0.00         2\n",
      "          LW       0.86      0.34      0.48      6475\n",
      "          RW       0.92      0.79      0.85     61616\n",
      "          TW       0.01      0.02      0.01       258\n",
      "\n",
      "    accuracy                           0.74     68351\n",
      "   macro avg       0.45      0.54      0.33     68351\n",
      "weighted avg       0.91      0.74      0.81     68351\n",
      "\n"
     ]
    }
   ],
   "source": [
    "print(classification_report(y_test, y_pred))"
   ]
  },
  {
   "cell_type": "markdown",
   "metadata": {},
   "source": [
    "##### 2.1.1 Accuracy"
   ]
  },
  {
   "cell_type": "code",
   "execution_count": 98,
   "metadata": {},
   "outputs": [
    {
     "data": {
      "text/plain": [
       "0.7396526751620313"
      ]
     },
     "execution_count": 98,
     "metadata": {},
     "output_type": "execute_result"
    }
   ],
   "source": [
    "from sklearn.metrics import accuracy_score\n",
    "accuracy = accuracy_score(y_test, y_pred)\n",
    "accuracy"
   ]
  },
  {
   "cell_type": "markdown",
   "metadata": {},
   "source": [
    "#### 2.2. Validação Cruzada"
   ]
  },
  {
   "cell_type": "code",
   "execution_count": 55,
   "metadata": {},
   "outputs": [],
   "source": [
    "from sklearn.model_selection import cross_val_score, cross_val_predict\n",
    "from sklearn import metrics"
   ]
  },
  {
   "cell_type": "code",
   "execution_count": 56,
   "metadata": {},
   "outputs": [
    {
     "name": "stdout",
     "output_type": "stream",
     "text": [
      "Cross-validated scores: [0.68195823 0.70107708 0.60492982 0.83124852 0.82618772 0.83287686]\n"
     ]
    }
   ],
   "source": [
    "scores = cross_val_score(gnb, df2, y, cv=6)\n",
    "print(\"Cross-validated scores:\", scores)"
   ]
  },
  {
   "cell_type": "code",
   "execution_count": 75,
   "metadata": {},
   "outputs": [
    {
     "data": {
      "image/png": "[encoded data removed]",
      "text/plain": [
       "<Figure size 576x396 with 1 Axes>"
      ]
     },
     "metadata": {},
     "output_type": "display_data"
    },
    {
     "name": "stdout",
     "output_type": "stream",
     "text": [
      "LearningCurve(ax=<AxesSubplot:title={'center':'Learning Curve for GaussianNB'}, xlabel='Training Instances', ylabel='Score'>,\n",
      "              cv=6, estimator=GaussianNB(), scoring='accuracy')\n"
     ]
    }
   ],
   "source": [
    "from yellowbrick.model_selection import learning_curve\n",
    "\n",
    "X = df2\n",
    "\n",
    "nb = GaussianNB()\n",
    "print(learning_curve(nb, X, y, cv=6, scoring='accuracy'))"
   ]
  },
  {
   "cell_type": "markdown",
   "metadata": {},
   "source": [
    "### 3. Regressão Logística Multinomial"
   ]
  },
  {
   "cell_type": "markdown",
   "metadata": {},
   "source": [
    "#### 3.1. Normalização dos dados"
   ]
  },
  {
   "cell_type": "code",
   "execution_count": 73,
   "metadata": {},
   "outputs": [],
   "source": [
    "from sklearn.preprocessing import MinMaxScaler\n",
    "scaler = MinMaxScaler()\n",
    "X_train_n = scaler.fit_transform(X_train)\n",
    "X_test_n = scaler.transform(X_test)"
   ]
  },
  {
   "cell_type": "markdown",
   "metadata": {},
   "source": [
    "#### 3.2. Validação do modelo"
   ]
  },
  {
   "cell_type": "code",
   "execution_count": 74,
   "metadata": {},
   "outputs": [
    {
     "name": "stdout",
     "output_type": "stream",
     "text": [
      "Accuracy of Logistic regression classifier on training set: 0.92\n",
      "Accuracy of Logistic regression classifier on test set: 0.92\n"
     ]
    }
   ],
   "source": [
    "from sklearn.linear_model import LogisticRegression\n",
    "logreg = LogisticRegression(multi_class='multinomial',random_state=0)\n",
    "logreg.fit(X_train_n, y_train)\n",
    "print('Accuracy of Logistic regression classifier on training set: {:.2f}'\n",
    "     .format(logreg.score(X_train_n, y_train)))\n",
    "print('Accuracy of Logistic regression classifier on test set: {:.2f}'\n",
    "     .format(logreg.score(X_test_n, y_test)))"
   ]
  },
  {
   "cell_type": "code",
   "execution_count": 75,
   "metadata": {},
   "outputs": [
    {
     "data": {
      "text/html": [
       "<div>\n",
       "<style scoped>\n",
       "    .dataframe tbody tr th:only-of-type {\n",
       "        vertical-align: middle;\n",
       "    }\n",
       "\n",
       "    .dataframe tbody tr th {\n",
       "        vertical-align: top;\n",
       "    }\n",
       "\n",
       "    .dataframe thead th {\n",
       "        text-align: right;\n",
       "    }\n",
       "</style>\n",
       "<table border=\"1\" class=\"dataframe\">\n",
       "  <thead>\n",
       "    <tr style=\"text-align: right;\">\n",
       "      <th></th>\n",
       "      <th>pred_CW</th>\n",
       "      <th>pred_LW</th>\n",
       "      <th>pred_RW</th>\n",
       "      <th>pred_TW</th>\n",
       "    </tr>\n",
       "  </thead>\n",
       "  <tbody>\n",
       "    <tr>\n",
       "      <th>CW</th>\n",
       "      <td>0</td>\n",
       "      <td>0</td>\n",
       "      <td>2</td>\n",
       "      <td>0</td>\n",
       "    </tr>\n",
       "    <tr>\n",
       "      <th>LW</th>\n",
       "      <td>0</td>\n",
       "      <td>1205</td>\n",
       "      <td>5270</td>\n",
       "      <td>0</td>\n",
       "    </tr>\n",
       "    <tr>\n",
       "      <th>RW</th>\n",
       "      <td>0</td>\n",
       "      <td>25</td>\n",
       "      <td>61591</td>\n",
       "      <td>0</td>\n",
       "    </tr>\n",
       "    <tr>\n",
       "      <th>TW</th>\n",
       "      <td>0</td>\n",
       "      <td>0</td>\n",
       "      <td>258</td>\n",
       "      <td>0</td>\n",
       "    </tr>\n",
       "  </tbody>\n",
       "</table>\n",
       "</div>"
      ],
      "text/plain": [
       "    pred_CW  pred_LW  pred_RW  pred_TW\n",
       "CW        0        0        2        0\n",
       "LW        0     1205     5270        0\n",
       "RW        0       25    61591        0\n",
       "TW        0        0      258        0"
      ]
     },
     "execution_count": 75,
     "metadata": {},
     "output_type": "execute_result"
    }
   ],
   "source": [
    "from sklearn.metrics import confusion_matrix, classification_report\n",
    "\n",
    "y_pred1 = logreg.predict(X_test_n)\n",
    "cm = confusion_matrix(y_test, y_pred1)\n",
    "\n",
    "pd.DataFrame(cm,index=[\"CW\", \"LW\",\"RW\",\"TW\"],\n",
    "             columns=['pred_CW', 'pred_LW','pred_RW','pred_TW'])"
   ]
  },
  {
   "cell_type": "code",
   "execution_count": 76,
   "metadata": {},
   "outputs": [
    {
     "name": "stderr",
     "output_type": "stream",
     "text": [
      "/Users/catarinaneves/opt/anaconda3/lib/python3.8/site-packages/sklearn/metrics/_classification.py:1221: UndefinedMetricWarning: Precision and F-score are ill-defined and being set to 0.0 in labels with no predicted samples. Use `zero_division` parameter to control this behavior.\n",
      "  _warn_prf(average, modifier, msg_start, len(result))\n"
     ]
    },
    {
     "name": "stdout",
     "output_type": "stream",
     "text": [
      "              precision    recall  f1-score   support\n",
      "\n",
      "          CW       0.00      0.00      0.00         2\n",
      "          LW       0.98      0.19      0.31      6475\n",
      "          RW       0.92      1.00      0.96     61616\n",
      "          TW       0.00      0.00      0.00       258\n",
      "\n",
      "    accuracy                           0.92     68351\n",
      "   macro avg       0.47      0.30      0.32     68351\n",
      "weighted avg       0.92      0.92      0.89     68351\n",
      "\n"
     ]
    }
   ],
   "source": [
    "print(classification_report(y_test, y_pred1))"
   ]
  },
  {
   "cell_type": "markdown",
   "metadata": {},
   "source": [
    "##### 3.2.1 Accuracy"
   ]
  },
  {
   "cell_type": "code",
   "execution_count": 77,
   "metadata": {},
   "outputs": [
    {
     "data": {
      "text/plain": [
       "0.9187283287735366"
      ]
     },
     "execution_count": 77,
     "metadata": {},
     "output_type": "execute_result"
    }
   ],
   "source": [
    "from sklearn.metrics import accuracy_score\n",
    "accuracy = accuracy_score(y_test, y_pred1)\n",
    "accuracy"
   ]
  },
  {
   "cell_type": "markdown",
   "metadata": {},
   "source": [
    "Roc Curves"
   ]
  },
  {
   "cell_type": "code",
   "execution_count": 67,
   "metadata": {},
   "outputs": [],
   "source": [
    "from sklearn import metrics\n",
    "from sklearn.metrics import roc_curve, auc\n",
    "from sklearn import datasets\n",
    "from sklearn.multiclass import OneVsRestClassifier\n",
    "from sklearn.svm import LinearSVC\n",
    "from sklearn.preprocessing import label_binarize"
   ]
  },
  {
   "cell_type": "code",
   "execution_count": 68,
   "metadata": {},
   "outputs": [
    {
     "data": {
      "image/png": "[encoded data removed]",
      "text/plain": [
       "<Figure size 1152x720 with 1 Axes>"
      ]
     },
     "metadata": {},
     "output_type": "display_data"
    }
   ],
   "source": [
    "def plot_multiclass_roc(clf, X_test, y_test, n_classes, figsize=(17, 6)):\n",
    "    y_score = clf.decision_function(X_test)\n",
    "\n",
    "    # structures\n",
    "    fpr = dict()\n",
    "    tpr = dict()\n",
    "    roc_auc = dict()\n",
    "\n",
    "    # calculate dummies once\n",
    "    y_test_dummies = pd.get_dummies(y_test, drop_first=False).values\n",
    "    for i in range(n_classes):\n",
    "        fpr[i], tpr[i], _ = roc_curve(y_test_dummies[:, i], y_score[:, i])\n",
    "        roc_auc[i] = auc(fpr[i], tpr[i])\n",
    "\n",
    "    # roc for each class\n",
    "    fig, ax = plt.subplots(figsize=figsize)\n",
    "    ax.plot([0, 1], [0, 1], 'k--')\n",
    "    ax.set_xlim([0.0, 1.0])\n",
    "    ax.set_ylim([0.0, 1.05])\n",
    "    ax.set_xlabel('False Positive Rate')\n",
    "    ax.set_ylabel('True Positive Rate')\n",
    "    ax.set_title('Regressão Logística Multinomial')\n",
    "    for i in range(n_classes):\n",
    "        ax.plot(fpr[i], tpr[i], label='ROC curve (area = %0.2f) for label %i' % (roc_auc[i], i))\n",
    "    ax.legend(loc=\"best\")\n",
    "    ax.grid(alpha=.4)\n",
    "    sns.despine()\n",
    "    plt.show()\n",
    "\n",
    "plot_multiclass_roc(logreg, X_test_n, y_test, n_classes=4,figsize=(16, 10))"
   ]
  },
  {
   "cell_type": "markdown",
   "metadata": {},
   "source": [
    "#### 3.3 Validação Cruzada"
   ]
  },
  {
   "cell_type": "code",
   "execution_count": 72,
   "metadata": {},
   "outputs": [
    {
     "name": "stderr",
     "output_type": "stream",
     "text": [
      "/Users/catarinaneves/opt/anaconda3/lib/python3.8/site-packages/sklearn/linear_model/_logistic.py:762: ConvergenceWarning: lbfgs failed to converge (status=1):\n",
      "STOP: TOTAL NO. of ITERATIONS REACHED LIMIT.\n",
      "\n",
      "Increase the number of iterations (max_iter) or scale the data as shown in:\n",
      "    https://scikit-learn.org/stable/modules/preprocessing.html\n",
      "Please also refer to the documentation for alternative solver options:\n",
      "    https://scikit-learn.org/stable/modules/linear_model.html#logistic-regression\n",
      "  n_iter_i = _check_optimize_result(\n",
      "/Users/catarinaneves/opt/anaconda3/lib/python3.8/site-packages/sklearn/linear_model/_logistic.py:762: ConvergenceWarning: lbfgs failed to converge (status=1):\n",
      "STOP: TOTAL NO. of ITERATIONS REACHED LIMIT.\n",
      "\n",
      "Increase the number of iterations (max_iter) or scale the data as shown in:\n",
      "    https://scikit-learn.org/stable/modules/preprocessing.html\n",
      "Please also refer to the documentation for alternative solver options:\n",
      "    https://scikit-learn.org/stable/modules/linear_model.html#logistic-regression\n",
      "  n_iter_i = _check_optimize_result(\n",
      "/Users/catarinaneves/opt/anaconda3/lib/python3.8/site-packages/sklearn/linear_model/_logistic.py:762: ConvergenceWarning: lbfgs failed to converge (status=1):\n",
      "STOP: TOTAL NO. of ITERATIONS REACHED LIMIT.\n",
      "\n",
      "Increase the number of iterations (max_iter) or scale the data as shown in:\n",
      "    https://scikit-learn.org/stable/modules/preprocessing.html\n",
      "Please also refer to the documentation for alternative solver options:\n",
      "    https://scikit-learn.org/stable/modules/linear_model.html#logistic-regression\n",
      "  n_iter_i = _check_optimize_result(\n",
      "/Users/catarinaneves/opt/anaconda3/lib/python3.8/site-packages/sklearn/linear_model/_logistic.py:762: ConvergenceWarning: lbfgs failed to converge (status=1):\n",
      "STOP: TOTAL NO. of ITERATIONS REACHED LIMIT.\n",
      "\n",
      "Increase the number of iterations (max_iter) or scale the data as shown in:\n",
      "    https://scikit-learn.org/stable/modules/preprocessing.html\n",
      "Please also refer to the documentation for alternative solver options:\n",
      "    https://scikit-learn.org/stable/modules/linear_model.html#logistic-regression\n",
      "  n_iter_i = _check_optimize_result(\n",
      "/Users/catarinaneves/opt/anaconda3/lib/python3.8/site-packages/sklearn/linear_model/_logistic.py:762: ConvergenceWarning: lbfgs failed to converge (status=1):\n",
      "STOP: TOTAL NO. of ITERATIONS REACHED LIMIT.\n",
      "\n",
      "Increase the number of iterations (max_iter) or scale the data as shown in:\n",
      "    https://scikit-learn.org/stable/modules/preprocessing.html\n",
      "Please also refer to the documentation for alternative solver options:\n",
      "    https://scikit-learn.org/stable/modules/linear_model.html#logistic-regression\n",
      "  n_iter_i = _check_optimize_result(\n"
     ]
    },
    {
     "name": "stdout",
     "output_type": "stream",
     "text": [
      "Cross-validated scores: [0.93964132 0.92478867 0.90790825 0.92441998 0.9419309  0.9141736 ]\n"
     ]
    },
    {
     "name": "stderr",
     "output_type": "stream",
     "text": [
      "/Users/catarinaneves/opt/anaconda3/lib/python3.8/site-packages/sklearn/linear_model/_logistic.py:762: ConvergenceWarning: lbfgs failed to converge (status=1):\n",
      "STOP: TOTAL NO. of ITERATIONS REACHED LIMIT.\n",
      "\n",
      "Increase the number of iterations (max_iter) or scale the data as shown in:\n",
      "    https://scikit-learn.org/stable/modules/preprocessing.html\n",
      "Please also refer to the documentation for alternative solver options:\n",
      "    https://scikit-learn.org/stable/modules/linear_model.html#logistic-regression\n",
      "  n_iter_i = _check_optimize_result(\n"
     ]
    }
   ],
   "source": [
    "scores = cross_val_score(logreg, df2, y, cv=6)\n",
    "print(\"Cross-validated scores:\", scores)"
   ]
  },
  {
   "cell_type": "code",
   "execution_count": 74,
   "metadata": {},
   "outputs": [
    {
     "name": "stderr",
     "output_type": "stream",
     "text": [
      "/Users/catarinaneves/opt/anaconda3/lib/python3.8/site-packages/sklearn/model_selection/_validation.py:548: FitFailedWarning: Estimator fit failed. The score on this train-test partition for these parameters will be set to nan. Details: \n",
      "Traceback (most recent call last):\n",
      "  File \"/Users/catarinaneves/opt/anaconda3/lib/python3.8/site-packages/sklearn/model_selection/_validation.py\", line 531, in _fit_and_score\n",
      "    estimator.fit(X_train, y_train, **fit_params)\n",
      "  File \"/Users/catarinaneves/opt/anaconda3/lib/python3.8/site-packages/sklearn/linear_model/_logistic.py\", line 1372, in fit\n",
      "    raise ValueError(\"This solver needs samples of at least 2 classes\"\n",
      "ValueError: This solver needs samples of at least 2 classes in the data, but the data contains only one class: 'RW'\n",
      "\n",
      "  warnings.warn(\"Estimator fit failed. The score on this train-test\"\n",
      "/Users/catarinaneves/opt/anaconda3/lib/python3.8/site-packages/sklearn/linear_model/_logistic.py:762: ConvergenceWarning: lbfgs failed to converge (status=1):\n",
      "STOP: TOTAL NO. of ITERATIONS REACHED LIMIT.\n",
      "\n",
      "Increase the number of iterations (max_iter) or scale the data as shown in:\n",
      "    https://scikit-learn.org/stable/modules/preprocessing.html\n",
      "Please also refer to the documentation for alternative solver options:\n",
      "    https://scikit-learn.org/stable/modules/linear_model.html#logistic-regression\n",
      "  n_iter_i = _check_optimize_result(\n",
      "/Users/catarinaneves/opt/anaconda3/lib/python3.8/site-packages/sklearn/linear_model/_logistic.py:762: ConvergenceWarning: lbfgs failed to converge (status=1):\n",
      "STOP: TOTAL NO. of ITERATIONS REACHED LIMIT.\n",
      "\n",
      "Increase the number of iterations (max_iter) or scale the data as shown in:\n",
      "    https://scikit-learn.org/stable/modules/preprocessing.html\n",
      "Please also refer to the documentation for alternative solver options:\n",
      "    https://scikit-learn.org/stable/modules/linear_model.html#logistic-regression\n",
      "  n_iter_i = _check_optimize_result(\n",
      "/Users/catarinaneves/opt/anaconda3/lib/python3.8/site-packages/sklearn/linear_model/_logistic.py:762: ConvergenceWarning: lbfgs failed to converge (status=1):\n",
      "STOP: TOTAL NO. of ITERATIONS REACHED LIMIT.\n",
      "\n",
      "Increase the number of iterations (max_iter) or scale the data as shown in:\n",
      "    https://scikit-learn.org/stable/modules/preprocessing.html\n",
      "Please also refer to the documentation for alternative solver options:\n",
      "    https://scikit-learn.org/stable/modules/linear_model.html#logistic-regression\n",
      "  n_iter_i = _check_optimize_result(\n",
      "/Users/catarinaneves/opt/anaconda3/lib/python3.8/site-packages/sklearn/linear_model/_logistic.py:762: ConvergenceWarning: lbfgs failed to converge (status=1):\n",
      "STOP: TOTAL NO. of ITERATIONS REACHED LIMIT.\n",
      "\n",
      "Increase the number of iterations (max_iter) or scale the data as shown in:\n",
      "    https://scikit-learn.org/stable/modules/preprocessing.html\n",
      "Please also refer to the documentation for alternative solver options:\n",
      "    https://scikit-learn.org/stable/modules/linear_model.html#logistic-regression\n",
      "  n_iter_i = _check_optimize_result(\n",
      "/Users/catarinaneves/opt/anaconda3/lib/python3.8/site-packages/sklearn/linear_model/_logistic.py:762: ConvergenceWarning: lbfgs failed to converge (status=1):\n",
      "STOP: TOTAL NO. of ITERATIONS REACHED LIMIT.\n",
      "\n",
      "Increase the number of iterations (max_iter) or scale the data as shown in:\n",
      "    https://scikit-learn.org/stable/modules/preprocessing.html\n",
      "Please also refer to the documentation for alternative solver options:\n",
      "    https://scikit-learn.org/stable/modules/linear_model.html#logistic-regression\n",
      "  n_iter_i = _check_optimize_result(\n",
      "/Users/catarinaneves/opt/anaconda3/lib/python3.8/site-packages/sklearn/linear_model/_logistic.py:762: ConvergenceWarning: lbfgs failed to converge (status=1):\n",
      "STOP: TOTAL NO. of ITERATIONS REACHED LIMIT.\n",
      "\n",
      "Increase the number of iterations (max_iter) or scale the data as shown in:\n",
      "    https://scikit-learn.org/stable/modules/preprocessing.html\n",
      "Please also refer to the documentation for alternative solver options:\n",
      "    https://scikit-learn.org/stable/modules/linear_model.html#logistic-regression\n",
      "  n_iter_i = _check_optimize_result(\n",
      "/Users/catarinaneves/opt/anaconda3/lib/python3.8/site-packages/sklearn/linear_model/_logistic.py:762: ConvergenceWarning: lbfgs failed to converge (status=1):\n",
      "STOP: TOTAL NO. of ITERATIONS REACHED LIMIT.\n",
      "\n",
      "Increase the number of iterations (max_iter) or scale the data as shown in:\n",
      "    https://scikit-learn.org/stable/modules/preprocessing.html\n",
      "Please also refer to the documentation for alternative solver options:\n",
      "    https://scikit-learn.org/stable/modules/linear_model.html#logistic-regression\n",
      "  n_iter_i = _check_optimize_result(\n",
      "/Users/catarinaneves/opt/anaconda3/lib/python3.8/site-packages/sklearn/linear_model/_logistic.py:762: ConvergenceWarning: lbfgs failed to converge (status=1):\n",
      "STOP: TOTAL NO. of ITERATIONS REACHED LIMIT.\n",
      "\n",
      "Increase the number of iterations (max_iter) or scale the data as shown in:\n",
      "    https://scikit-learn.org/stable/modules/preprocessing.html\n",
      "Please also refer to the documentation for alternative solver options:\n",
      "    https://scikit-learn.org/stable/modules/linear_model.html#logistic-regression\n",
      "  n_iter_i = _check_optimize_result(\n",
      "/Users/catarinaneves/opt/anaconda3/lib/python3.8/site-packages/sklearn/linear_model/_logistic.py:762: ConvergenceWarning: lbfgs failed to converge (status=1):\n",
      "STOP: TOTAL NO. of ITERATIONS REACHED LIMIT.\n",
      "\n",
      "Increase the number of iterations (max_iter) or scale the data as shown in:\n",
      "    https://scikit-learn.org/stable/modules/preprocessing.html\n",
      "Please also refer to the documentation for alternative solver options:\n",
      "    https://scikit-learn.org/stable/modules/linear_model.html#logistic-regression\n",
      "  n_iter_i = _check_optimize_result(\n",
      "/Users/catarinaneves/opt/anaconda3/lib/python3.8/site-packages/sklearn/linear_model/_logistic.py:762: ConvergenceWarning: lbfgs failed to converge (status=1):\n",
      "STOP: TOTAL NO. of ITERATIONS REACHED LIMIT.\n",
      "\n",
      "Increase the number of iterations (max_iter) or scale the data as shown in:\n",
      "    https://scikit-learn.org/stable/modules/preprocessing.html\n",
      "Please also refer to the documentation for alternative solver options:\n",
      "    https://scikit-learn.org/stable/modules/linear_model.html#logistic-regression\n",
      "  n_iter_i = _check_optimize_result(\n",
      "/Users/catarinaneves/opt/anaconda3/lib/python3.8/site-packages/sklearn/linear_model/_logistic.py:762: ConvergenceWarning: lbfgs failed to converge (status=1):\n",
      "STOP: TOTAL NO. of ITERATIONS REACHED LIMIT.\n",
      "\n",
      "Increase the number of iterations (max_iter) or scale the data as shown in:\n",
      "    https://scikit-learn.org/stable/modules/preprocessing.html\n",
      "Please also refer to the documentation for alternative solver options:\n",
      "    https://scikit-learn.org/stable/modules/linear_model.html#logistic-regression\n",
      "  n_iter_i = _check_optimize_result(\n",
      "/Users/catarinaneves/opt/anaconda3/lib/python3.8/site-packages/sklearn/linear_model/_logistic.py:762: ConvergenceWarning: lbfgs failed to converge (status=1):\n",
      "STOP: TOTAL NO. of ITERATIONS REACHED LIMIT.\n",
      "\n",
      "Increase the number of iterations (max_iter) or scale the data as shown in:\n",
      "    https://scikit-learn.org/stable/modules/preprocessing.html\n",
      "Please also refer to the documentation for alternative solver options:\n",
      "    https://scikit-learn.org/stable/modules/linear_model.html#logistic-regression\n",
      "  n_iter_i = _check_optimize_result(\n",
      "/Users/catarinaneves/opt/anaconda3/lib/python3.8/site-packages/sklearn/linear_model/_logistic.py:762: ConvergenceWarning: lbfgs failed to converge (status=1):\n",
      "STOP: TOTAL NO. of ITERATIONS REACHED LIMIT.\n",
      "\n",
      "Increase the number of iterations (max_iter) or scale the data as shown in:\n",
      "    https://scikit-learn.org/stable/modules/preprocessing.html\n",
      "Please also refer to the documentation for alternative solver options:\n",
      "    https://scikit-learn.org/stable/modules/linear_model.html#logistic-regression\n",
      "  n_iter_i = _check_optimize_result(\n",
      "/Users/catarinaneves/opt/anaconda3/lib/python3.8/site-packages/sklearn/linear_model/_logistic.py:762: ConvergenceWarning: lbfgs failed to converge (status=1):\n",
      "STOP: TOTAL NO. of ITERATIONS REACHED LIMIT.\n",
      "\n",
      "Increase the number of iterations (max_iter) or scale the data as shown in:\n",
      "    https://scikit-learn.org/stable/modules/preprocessing.html\n",
      "Please also refer to the documentation for alternative solver options:\n",
      "    https://scikit-learn.org/stable/modules/linear_model.html#logistic-regression\n",
      "  n_iter_i = _check_optimize_result(\n"
     ]
    },
    {
     "name": "stderr",
     "output_type": "stream",
     "text": [
      "/Users/catarinaneves/opt/anaconda3/lib/python3.8/site-packages/sklearn/linear_model/_logistic.py:762: ConvergenceWarning: lbfgs failed to converge (status=1):\n",
      "STOP: TOTAL NO. of ITERATIONS REACHED LIMIT.\n",
      "\n",
      "Increase the number of iterations (max_iter) or scale the data as shown in:\n",
      "    https://scikit-learn.org/stable/modules/preprocessing.html\n",
      "Please also refer to the documentation for alternative solver options:\n",
      "    https://scikit-learn.org/stable/modules/linear_model.html#logistic-regression\n",
      "  n_iter_i = _check_optimize_result(\n",
      "/Users/catarinaneves/opt/anaconda3/lib/python3.8/site-packages/sklearn/linear_model/_logistic.py:762: ConvergenceWarning: lbfgs failed to converge (status=1):\n",
      "STOP: TOTAL NO. of ITERATIONS REACHED LIMIT.\n",
      "\n",
      "Increase the number of iterations (max_iter) or scale the data as shown in:\n",
      "    https://scikit-learn.org/stable/modules/preprocessing.html\n",
      "Please also refer to the documentation for alternative solver options:\n",
      "    https://scikit-learn.org/stable/modules/linear_model.html#logistic-regression\n",
      "  n_iter_i = _check_optimize_result(\n",
      "/Users/catarinaneves/opt/anaconda3/lib/python3.8/site-packages/sklearn/linear_model/_logistic.py:762: ConvergenceWarning: lbfgs failed to converge (status=1):\n",
      "STOP: TOTAL NO. of ITERATIONS REACHED LIMIT.\n",
      "\n",
      "Increase the number of iterations (max_iter) or scale the data as shown in:\n",
      "    https://scikit-learn.org/stable/modules/preprocessing.html\n",
      "Please also refer to the documentation for alternative solver options:\n",
      "    https://scikit-learn.org/stable/modules/linear_model.html#logistic-regression\n",
      "  n_iter_i = _check_optimize_result(\n",
      "/Users/catarinaneves/opt/anaconda3/lib/python3.8/site-packages/sklearn/linear_model/_logistic.py:762: ConvergenceWarning: lbfgs failed to converge (status=1):\n",
      "STOP: TOTAL NO. of ITERATIONS REACHED LIMIT.\n",
      "\n",
      "Increase the number of iterations (max_iter) or scale the data as shown in:\n",
      "    https://scikit-learn.org/stable/modules/preprocessing.html\n",
      "Please also refer to the documentation for alternative solver options:\n",
      "    https://scikit-learn.org/stable/modules/linear_model.html#logistic-regression\n",
      "  n_iter_i = _check_optimize_result(\n",
      "/Users/catarinaneves/opt/anaconda3/lib/python3.8/site-packages/sklearn/linear_model/_logistic.py:762: ConvergenceWarning: lbfgs failed to converge (status=1):\n",
      "STOP: TOTAL NO. of ITERATIONS REACHED LIMIT.\n",
      "\n",
      "Increase the number of iterations (max_iter) or scale the data as shown in:\n",
      "    https://scikit-learn.org/stable/modules/preprocessing.html\n",
      "Please also refer to the documentation for alternative solver options:\n",
      "    https://scikit-learn.org/stable/modules/linear_model.html#logistic-regression\n",
      "  n_iter_i = _check_optimize_result(\n",
      "/Users/catarinaneves/opt/anaconda3/lib/python3.8/site-packages/sklearn/linear_model/_logistic.py:762: ConvergenceWarning: lbfgs failed to converge (status=1):\n",
      "STOP: TOTAL NO. of ITERATIONS REACHED LIMIT.\n",
      "\n",
      "Increase the number of iterations (max_iter) or scale the data as shown in:\n",
      "    https://scikit-learn.org/stable/modules/preprocessing.html\n",
      "Please also refer to the documentation for alternative solver options:\n",
      "    https://scikit-learn.org/stable/modules/linear_model.html#logistic-regression\n",
      "  n_iter_i = _check_optimize_result(\n",
      "/Users/catarinaneves/opt/anaconda3/lib/python3.8/site-packages/sklearn/linear_model/_logistic.py:762: ConvergenceWarning: lbfgs failed to converge (status=1):\n",
      "STOP: TOTAL NO. of ITERATIONS REACHED LIMIT.\n",
      "\n",
      "Increase the number of iterations (max_iter) or scale the data as shown in:\n",
      "    https://scikit-learn.org/stable/modules/preprocessing.html\n",
      "Please also refer to the documentation for alternative solver options:\n",
      "    https://scikit-learn.org/stable/modules/linear_model.html#logistic-regression\n",
      "  n_iter_i = _check_optimize_result(\n"
     ]
    },
    {
     "data": {
      "image/png": "[encoded data removed]",
      "text/plain": [
       "<Figure size 576x396 with 1 Axes>"
      ]
     },
     "metadata": {},
     "output_type": "display_data"
    },
    {
     "name": "stdout",
     "output_type": "stream",
     "text": [
      "LearningCurve(ax=<AxesSubplot:title={'center':'Learning Curve for LogisticRegression'}, xlabel='Training Instances', ylabel='Score'>,\n",
      "              cv=6,\n",
      "              estimator=LogisticRegression(multi_class='multinomial',\n",
      "                                           random_state=0),\n",
      "              scoring='accuracy')\n"
     ]
    }
   ],
   "source": [
    "X = df2\n",
    "\n",
    "reg = LogisticRegression(multi_class='multinomial',random_state=0)\n",
    "print(learning_curve(reg, X, y, cv=6, scoring='accuracy'))"
   ]
  },
  {
   "cell_type": "markdown",
   "metadata": {},
   "source": [
    "### 4. Árvore de decisão"
   ]
  },
  {
   "cell_type": "markdown",
   "metadata": {},
   "source": [
    "#### 4.1. Validação Cruzada"
   ]
  },
  {
   "cell_type": "code",
   "execution_count": 76,
   "metadata": {},
   "outputs": [],
   "source": [
    "from sklearn.model_selection import cross_val_score, cross_val_predict\n",
    "from sklearn import metrics"
   ]
  },
  {
   "cell_type": "code",
   "execution_count": 78,
   "metadata": {},
   "outputs": [
    {
     "name": "stdout",
     "output_type": "stream",
     "text": [
      "Cross-validated scores: [0.94501356 0.9301609  0.91030469 0.90885629 0.95283367 0.92059939]\n"
     ]
    }
   ],
   "source": [
    "from sklearn.tree import DecisionTreeClassifier\n",
    "model = DecisionTreeClassifier(max_depth=3, random_state=0)\n",
    "scores = cross_val_score(model, df2, y, cv=6)\n",
    "print(\"Cross-validated scores:\", scores)"
   ]
  },
  {
   "cell_type": "code",
   "execution_count": null,
   "metadata": {},
   "outputs": [],
   "source": [
    "! pip install yellowbrick"
   ]
  },
  {
   "cell_type": "code",
   "execution_count": 79,
   "metadata": {},
   "outputs": [
    {
     "name": "stderr",
     "output_type": "stream",
     "text": [
      "/Users/catarinaneves/opt/anaconda3/lib/python3.8/site-packages/sklearn/model_selection/_split.py:670: UserWarning: The least populated class in y has only 9 members, which is less than n_splits=67.\n",
      "  warnings.warn((\"The least populated class in y has only %d\"\n"
     ]
    },
    {
     "data": {
      "image/png": "[encoded data removed]",
      "text/plain": [
       "<Figure size 576x396 with 1 Axes>"
      ]
     },
     "metadata": {},
     "output_type": "display_data"
    },
    {
     "name": "stdout",
     "output_type": "stream",
     "text": [
      "LearningCurve(ax=<AxesSubplot:title={'center':'Learning Curve for DecisionTreeClassifier'}, xlabel='Training Instances', ylabel='Score'>,\n",
      "              cv=67,\n",
      "              estimator=DecisionTreeClassifier(max_depth=3, random_state=0),\n",
      "              scoring='accuracy')\n"
     ]
    }
   ],
   "source": [
    "from yellowbrick.model_selection import learning_curve\n",
    "\n",
    "X = df2\n",
    "\n",
    "dtc = DecisionTreeClassifier(max_depth=3, random_state=0)\n",
    "print(learning_curve(dtc, X, y, cv=67, scoring='accuracy'))"
   ]
  },
  {
   "cell_type": "markdown",
   "metadata": {},
   "source": [
    "#### 4.2. Modelação para treino e teste"
   ]
  },
  {
   "cell_type": "code",
   "execution_count": 63,
   "metadata": {},
   "outputs": [
    {
     "data": {
      "text/plain": [
       "DecisionTreeClassifier(max_depth=3, random_state=0)"
      ]
     },
     "execution_count": 63,
     "metadata": {},
     "output_type": "execute_result"
    }
   ],
   "source": [
    "from sklearn.tree import DecisionTreeClassifier\n",
    "\n",
    "model = DecisionTreeClassifier(max_depth=3, random_state=0)\n",
    "model.fit(X_train, y_train)"
   ]
  },
  {
   "cell_type": "code",
   "execution_count": 64,
   "metadata": {},
   "outputs": [],
   "source": [
    "from sklearn.metrics import confusion_matrix, classification_report\n",
    "\n",
    "y_pred2 = model.predict(X_test)\n"
   ]
  },
  {
   "cell_type": "code",
   "execution_count": 65,
   "metadata": {},
   "outputs": [
    {
     "data": {
      "text/html": [
       "<div>\n",
       "<style scoped>\n",
       "    .dataframe tbody tr th:only-of-type {\n",
       "        vertical-align: middle;\n",
       "    }\n",
       "\n",
       "    .dataframe tbody tr th {\n",
       "        vertical-align: top;\n",
       "    }\n",
       "\n",
       "    .dataframe thead th {\n",
       "        text-align: right;\n",
       "    }\n",
       "</style>\n",
       "<table border=\"1\" class=\"dataframe\">\n",
       "  <thead>\n",
       "    <tr style=\"text-align: right;\">\n",
       "      <th></th>\n",
       "      <th>pred_CW</th>\n",
       "      <th>pred_LW</th>\n",
       "      <th>pred_RW</th>\n",
       "      <th>pred_TW</th>\n",
       "    </tr>\n",
       "  </thead>\n",
       "  <tbody>\n",
       "    <tr>\n",
       "      <th>CW</th>\n",
       "      <td>0</td>\n",
       "      <td>0</td>\n",
       "      <td>2</td>\n",
       "      <td>0</td>\n",
       "    </tr>\n",
       "    <tr>\n",
       "      <th>LW</th>\n",
       "      <td>0</td>\n",
       "      <td>2192</td>\n",
       "      <td>4283</td>\n",
       "      <td>0</td>\n",
       "    </tr>\n",
       "    <tr>\n",
       "      <th>RW</th>\n",
       "      <td>0</td>\n",
       "      <td>119</td>\n",
       "      <td>61497</td>\n",
       "      <td>0</td>\n",
       "    </tr>\n",
       "    <tr>\n",
       "      <th>TW</th>\n",
       "      <td>0</td>\n",
       "      <td>1</td>\n",
       "      <td>257</td>\n",
       "      <td>0</td>\n",
       "    </tr>\n",
       "  </tbody>\n",
       "</table>\n",
       "</div>"
      ],
      "text/plain": [
       "    pred_CW  pred_LW  pred_RW  pred_TW\n",
       "CW        0        0        2        0\n",
       "LW        0     2192     4283        0\n",
       "RW        0      119    61497        0\n",
       "TW        0        1      257        0"
      ]
     },
     "execution_count": 65,
     "metadata": {},
     "output_type": "execute_result"
    }
   ],
   "source": [
    "cm = confusion_matrix(y_test, y_pred2)\n",
    "\n",
    "pd.DataFrame(cm,\n",
    "             index=[\"CW\", \"LW\",\"RW\",\"TW\"],\n",
    "             columns=['pred_CW', 'pred_LW','pred_RW','pred_TW'])"
   ]
  },
  {
   "cell_type": "markdown",
   "metadata": {},
   "source": [
    "#### 4.2.1. Avaliação do modelo"
   ]
  },
  {
   "cell_type": "code",
   "execution_count": 66,
   "metadata": {},
   "outputs": [
    {
     "name": "stderr",
     "output_type": "stream",
     "text": [
      "/Users/catarinaneves/opt/anaconda3/lib/python3.8/site-packages/sklearn/metrics/_classification.py:1221: UndefinedMetricWarning: Precision and F-score are ill-defined and being set to 0.0 in labels with no predicted samples. Use `zero_division` parameter to control this behavior.\n",
      "  _warn_prf(average, modifier, msg_start, len(result))\n"
     ]
    },
    {
     "name": "stdout",
     "output_type": "stream",
     "text": [
      "              precision    recall  f1-score   support\n",
      "\n",
      "          CW       0.00      0.00      0.00         2\n",
      "          LW       0.95      0.34      0.50      6475\n",
      "          RW       0.93      1.00      0.96     61616\n",
      "          TW       0.00      0.00      0.00       258\n",
      "\n",
      "    accuracy                           0.93     68351\n",
      "   macro avg       0.47      0.33      0.37     68351\n",
      "weighted avg       0.93      0.93      0.92     68351\n",
      "\n"
     ]
    }
   ],
   "source": [
    "print(classification_report(y_test, y_pred2))"
   ]
  },
  {
   "cell_type": "markdown",
   "metadata": {},
   "source": [
    "##### 4.2.1.1. Accuracy"
   ]
  },
  {
   "cell_type": "code",
   "execution_count": 70,
   "metadata": {},
   "outputs": [
    {
     "data": {
      "text/plain": [
       "0.9317932436979708"
      ]
     },
     "execution_count": 70,
     "metadata": {},
     "output_type": "execute_result"
    }
   ],
   "source": [
    "from sklearn.metrics import accuracy_score\n",
    "accuracy = accuracy_score(y_test, y_pred2)\n",
    "accuracy"
   ]
  },
  {
   "cell_type": "markdown",
   "metadata": {},
   "source": [
    "##### 4.2.1.2. Indice de Huberty"
   ]
  },
  {
   "cell_type": "code",
   "execution_count": 72,
   "metadata": {},
   "outputs": [
    {
     "data": {
      "text/plain": [
       "0.30779510022271744"
      ]
     },
     "execution_count": 72,
     "metadata": {},
     "output_type": "execute_result"
    }
   ],
   "source": [
    "#índice de Huberty\n",
    "classe_modal = 61616 / 68351 #RW é a classe modal\n",
    "IH = (accuracy-classe_modal) /(1-classe_modal)\n",
    "IH"
   ]
  },
  {
   "cell_type": "markdown",
   "metadata": {},
   "source": [
    "#### 4.2.2. Importância das features"
   ]
  },
  {
   "cell_type": "code",
   "execution_count": 107,
   "metadata": {},
   "outputs": [
    {
     "data": {
      "text/plain": [
       "<AxesSubplot:>"
      ]
     },
     "execution_count": 107,
     "metadata": {},
     "output_type": "execute_result"
    },
    {
     "data": {
      "image/png": "[encoded data removed]",
      "text/plain": [
       "<Figure size 432x288 with 1 Axes>"
      ]
     },
     "metadata": {
      "needs_background": "light"
     },
     "output_type": "display_data"
    }
   ],
   "source": [
    "importances = pd.Series(model.feature_importances_, index=df2.columns)\n",
    "importances.plot(kind='barh')"
   ]
  },
  {
   "cell_type": "code",
   "execution_count": null,
   "metadata": {},
   "outputs": [],
   "source": []
  }
 ],
 "metadata": {
  "kernelspec": {
   "display_name": "Python 3",
   "language": "python",
   "name": "python3"
  },
  "language_info": {
   "codemirror_mode": {
    "name": "ipython",
    "version": 3
   },
   "file_extension": ".py",
   "mimetype": "text/x-python",
   "name": "python",
   "nbconvert_exporter": "python",
   "pygments_lexer": "ipython3",
   "version": "3.8.5"
  }
 },
 "nbformat": 4,
 "nbformat_minor": 4
}
